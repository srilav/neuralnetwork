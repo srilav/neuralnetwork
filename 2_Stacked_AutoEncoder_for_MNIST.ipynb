{
  "cells": [
    {
      "cell_type": "markdown",
      "metadata": {
        "id": "view-in-github",
        "colab_type": "text"
      },
      "source": [
        "<a href=\"https://colab.research.google.com/github/srilav/neuralnetwork/blob/main/2_Stacked_AutoEncoder_for_MNIST.ipynb\" target=\"_parent\"><img src=\"https://colab.research.google.com/assets/colab-badge.svg\" alt=\"Open In Colab\"/></a>"
      ]
    },
    {
      "cell_type": "markdown",
      "metadata": {
        "id": "Wa9uEvimN8tV"
      },
      "source": [
        "Stacked AutoEncoder:\n",
        "    1. just like other neural networks\n",
        "    2. autoencoders can have multiple hidden layers\n",
        "    3. in this case stacked autoencoders(or deep autoencoders)"
      ]
    },
    {
      "cell_type": "markdown",
      "metadata": {
        "id": "0JefDifhN8tZ"
      },
      "source": [
        "Adding more layers:\n",
        "    1. helps the autoencoder learn more complex codings\n",
        "    \n",
        "One must be careful not to make the autoencoder too powerful:\n",
        "    1. imagine an encoder so powerful that is just learn to map each input to a single arbitrary number(and the decoder learns the reverse mapping)\n",
        "    2. Obviously such an autoencoder will reconstruct the training data perfectly\n",
        "    3. but it will not have learned any useful data reprenstation in the process\n",
        "    4. and it's unlikely to generalize well to new instances"
      ]
    },
    {
      "cell_type": "markdown",
      "metadata": {
        "id": "Lf1jgjUaN8tZ"
      },
      "source": [
        "**Implementing a Stacked AutoEncoder Using Keras**"
      ]
    },
    {
      "cell_type": "markdown",
      "metadata": {
        "id": "jUeVDgbEN8ta"
      },
      "source": [
        "you can implement a stacken autoencoder very much like a regular deep MLP\n",
        "    2. the following code builds a stacked AutoEncoder for Fashion MNIST(loaded and normalized)\n",
        "    3. Using the SELU activation function:"
      ]
    },
    {
      "cell_type": "code",
      "execution_count": null,
      "metadata": {
        "id": "3TxzSdJ4N8ta"
      },
      "outputs": [],
      "source": [
        "#the following code builds a stacked AutoEncoder for Fashion MNIST"
      ]
    },
    {
      "cell_type": "code",
      "execution_count": null,
      "metadata": {
        "id": "6HrHCzrCN8tc"
      },
      "outputs": [],
      "source": [
        "import numpy as np\n",
        "import matplotlib.pyplot as plt\n",
        "import tensorflow as tf\n",
        "from tensorflow import keras"
      ]
    },
    {
      "cell_type": "code",
      "execution_count": null,
      "metadata": {
        "colab": {
          "base_uri": "https://localhost:8080/"
        },
        "id": "fyxAOJxFN8tc",
        "outputId": "6e5ae723-7932-43ca-9ecd-e93ca43697c4"
      },
      "outputs": [
        {
          "output_type": "stream",
          "name": "stdout",
          "text": [
            "x_train shape: (55000, 28, 28)\n",
            "Number of images in x_train 55000\n",
            "Number of images in x_test 10000\n"
          ]
        }
      ],
      "source": [
        "(X_train_full, y_train_full), (X_test, y_test) = keras.datasets.fashion_mnist.load_data()\n",
        "# Normalizing the RGB codes by dividing it to the max RGB value.\n",
        "X_train_full = X_train_full.astype(np.float32) / 255\n",
        "X_test = X_test.astype(np.float32) / 255\n",
        "X_train, X_valid = X_train_full[:-5000], X_train_full[-5000:]\n",
        "y_train, y_valid = y_train_full[:-5000], y_train_full[-5000:]\n",
        "print('x_train shape:', X_train.shape)\n",
        "print('Number of images in x_train', X_train.shape[0])\n",
        "print('Number of images in x_test', X_test.shape[0])\n",
        "\n",
        "def rounded_accuracy(y_true, y_pred):\n",
        "    return keras.metrics.binary_accuracy(tf.round(y_true), tf.round(y_pred))"
      ]
    },
    {
      "cell_type": "code",
      "source": [
        "image_index = 2000 # You may select anything up to 55000\n",
        "print(y_train[image_index])\n",
        "plt.imshow(X_train[image_index], cmap='Greys')"
      ],
      "metadata": {
        "colab": {
          "base_uri": "https://localhost:8080/",
          "height": 300
        },
        "id": "gTcuHHVGRJ9Y",
        "outputId": "598fb665-22e9-439b-e34e-af070fdd9a5a"
      },
      "execution_count": null,
      "outputs": [
        {
          "output_type": "stream",
          "name": "stdout",
          "text": [
            "4\n"
          ]
        },
        {
          "output_type": "execute_result",
          "data": {
            "text/plain": [
              "<matplotlib.image.AxesImage at 0x7fddea203ed0>"
            ]
          },
          "metadata": {},
          "execution_count": 9
        },
        {
          "output_type": "display_data",
          "data": {
            "image/png": "[encoded data removed]",
            "text/plain": [
              "<Figure size 432x288 with 1 Axes>"
            ]
          },
          "metadata": {
            "needs_background": "light"
          }
        }
      ]
    },
    {
      "cell_type": "code",
      "source": [
        "#Set the encoding dimension to 32. \n",
        "# Use SeLu activation function for the hidden layers \n",
        "# and sigmoid function for the output layer with per-pixel binary cross entropy loss, \n",
        "# and the SGD optimizer with learning rate 1.5. \n",
        "# Show the training and validation loss for 20 epochs. "
      ],
      "metadata": {
        "id": "TCifjQDdPPbD"
      },
      "execution_count": null,
      "outputs": []
    },
    {
      "cell_type": "code",
      "execution_count": null,
      "metadata": {
        "colab": {
          "base_uri": "https://localhost:8080/"
        },
        "id": "I0CIlUciN8td",
        "outputId": "cad10fc8-55ba-43c2-a27c-169c0bb250d7"
      },
      "outputs": [
        {
          "output_type": "stream",
          "name": "stderr",
          "text": [
            "/usr/local/lib/python3.7/dist-packages/keras/optimizer_v2/gradient_descent.py:102: UserWarning: The `lr` argument is deprecated, use `learning_rate` instead.\n",
            "  super(SGD, self).__init__(name, **kwargs)\n"
          ]
        },
        {
          "output_type": "stream",
          "name": "stdout",
          "text": [
            "Epoch 1/20\n",
            "1719/1719 [==============================] - 9s 5ms/step - loss: 0.3381 - rounded_accuracy: 0.8870 - val_loss: 0.3165 - val_rounded_accuracy: 0.9004\n",
            "Epoch 2/20\n",
            "1719/1719 [==============================] - 8s 5ms/step - loss: 0.3056 - rounded_accuracy: 0.9152 - val_loss: 0.3021 - val_rounded_accuracy: 0.9201\n",
            "Epoch 3/20\n",
            "1719/1719 [==============================] - 8s 5ms/step - loss: 0.2986 - rounded_accuracy: 0.9215 - val_loss: 0.2985 - val_rounded_accuracy: 0.9199\n",
            "Epoch 4/20\n",
            "1719/1719 [==============================] - 8s 4ms/step - loss: 0.2948 - rounded_accuracy: 0.9249 - val_loss: 0.2937 - val_rounded_accuracy: 0.9285\n",
            "Epoch 5/20\n",
            "1719/1719 [==============================] - 8s 5ms/step - loss: 0.2923 - rounded_accuracy: 0.9272 - val_loss: 0.2919 - val_rounded_accuracy: 0.9284\n",
            "Epoch 6/20\n",
            "1719/1719 [==============================] - 8s 5ms/step - loss: 0.2904 - rounded_accuracy: 0.9289 - val_loss: 0.2915 - val_rounded_accuracy: 0.9305\n",
            "Epoch 7/20\n",
            "1719/1719 [==============================] - 8s 4ms/step - loss: 0.2890 - rounded_accuracy: 0.9301 - val_loss: 0.2907 - val_rounded_accuracy: 0.9280\n",
            "Epoch 8/20\n",
            "1719/1719 [==============================] - 8s 4ms/step - loss: 0.2877 - rounded_accuracy: 0.9314 - val_loss: 0.2943 - val_rounded_accuracy: 0.9299\n",
            "Epoch 9/20\n",
            "1719/1719 [==============================] - 8s 5ms/step - loss: 0.2869 - rounded_accuracy: 0.9321 - val_loss: 0.2907 - val_rounded_accuracy: 0.9256\n",
            "Epoch 10/20\n",
            "1719/1719 [==============================] - 8s 5ms/step - loss: 0.2859 - rounded_accuracy: 0.9330 - val_loss: 0.2878 - val_rounded_accuracy: 0.9309\n",
            "Epoch 11/20\n",
            "1719/1719 [==============================] - 8s 5ms/step - loss: 0.2851 - rounded_accuracy: 0.9336 - val_loss: 0.2866 - val_rounded_accuracy: 0.9348\n",
            "Epoch 12/20\n",
            "1719/1719 [==============================] - 8s 5ms/step - loss: 0.2845 - rounded_accuracy: 0.9341 - val_loss: 0.2856 - val_rounded_accuracy: 0.9355\n",
            "Epoch 13/20\n",
            "1719/1719 [==============================] - 8s 5ms/step - loss: 0.2840 - rounded_accuracy: 0.9346 - val_loss: 0.2847 - val_rounded_accuracy: 0.9354\n",
            "Epoch 14/20\n",
            "1719/1719 [==============================] - 8s 5ms/step - loss: 0.2835 - rounded_accuracy: 0.9349 - val_loss: 0.2844 - val_rounded_accuracy: 0.9365\n",
            "Epoch 15/20\n",
            "1719/1719 [==============================] - 8s 4ms/step - loss: 0.2830 - rounded_accuracy: 0.9355 - val_loss: 0.2841 - val_rounded_accuracy: 0.9353\n",
            "Epoch 16/20\n",
            "1719/1719 [==============================] - 8s 4ms/step - loss: 0.2826 - rounded_accuracy: 0.9358 - val_loss: 0.2845 - val_rounded_accuracy: 0.9356\n",
            "Epoch 17/20\n",
            "1719/1719 [==============================] - 8s 4ms/step - loss: 0.2823 - rounded_accuracy: 0.9360 - val_loss: 0.2835 - val_rounded_accuracy: 0.9363\n",
            "Epoch 18/20\n",
            "1719/1719 [==============================] - 8s 5ms/step - loss: 0.2819 - rounded_accuracy: 0.9363 - val_loss: 0.2831 - val_rounded_accuracy: 0.9363\n",
            "Epoch 19/20\n",
            "1719/1719 [==============================] - 8s 5ms/step - loss: 0.2816 - rounded_accuracy: 0.9365 - val_loss: 0.2827 - val_rounded_accuracy: 0.9375\n",
            "Epoch 20/20\n",
            "1719/1719 [==============================] - 8s 5ms/step - loss: 0.2813 - rounded_accuracy: 0.9368 - val_loss: 0.2840 - val_rounded_accuracy: 0.9368\n"
          ]
        }
      ],
      "source": [
        "tf.random.set_seed(42)\n",
        "np.random.seed(42)\n",
        "\n",
        "stacked_encoder = keras.models.Sequential([\n",
        "    keras.layers.Flatten(input_shape=[28, 28]),\n",
        "    keras.layers.Dense(100, activation=\"selu\"),\n",
        "    keras.layers.Dense(30, activation=\"selu\"),\n",
        "])\n",
        "stacked_decoder = keras.models.Sequential([\n",
        "    keras.layers.Dense(100, activation=\"selu\", input_shape=[30]),\n",
        "    keras.layers.Dense(28 * 28, activation=\"sigmoid\"),\n",
        "    keras.layers.Reshape([28, 28])\n",
        "])\n",
        "stacked_ae = keras.models.Sequential([stacked_encoder, stacked_decoder])\n",
        "stacked_ae.compile(loss=\"binary_crossentropy\",\n",
        "                   optimizer=keras.optimizers.SGD(lr=1.5), metrics=[rounded_accuracy])\n",
        "history = stacked_ae.fit(X_train, X_train, epochs=20,\n",
        "                         validation_data=(X_valid, X_valid))"
      ]
    },
    {
      "cell_type": "code",
      "execution_count": null,
      "metadata": {
        "id": "oW_uxUIRN8tf"
      },
      "outputs": [],
      "source": [
        "28 * 28"
      ]
    },
    {
      "cell_type": "code",
      "execution_count": null,
      "metadata": {
        "id": "mYtt68G0N8tf"
      },
      "outputs": [],
      "source": [
        "\n"
      ]
    }
  ],
  "metadata": {
    "kernelspec": {
      "display_name": "Python 3",
      "language": "python",
      "name": "python3"
    },
    "language_info": {
      "codemirror_mode": {
        "name": "ipython",
        "version": 3
      },
      "file_extension": ".py",
      "mimetype": "text/x-python",
      "name": "python",
      "nbconvert_exporter": "python",
      "pygments_lexer": "ipython3",
      "version": "3.7.3"
    },
    "colab": {
      "name": "2. Stacked AutoEncoder for MNIST.ipynb",
      "provenance": [],
      "include_colab_link": true
    }
  },
  "nbformat": 4,
  "nbformat_minor": 0
}