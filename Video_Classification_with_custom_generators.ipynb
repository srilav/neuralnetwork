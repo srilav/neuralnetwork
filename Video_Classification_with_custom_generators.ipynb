{
  "nbformat": 4,
  "nbformat_minor": 0,
  "metadata": {
    "accelerator": "GPU",
    "colab": {
      "name": "Video_Classification_with_custom_generators.ipynb",
      "provenance": [],
      "collapsed_sections": [],
      "include_colab_link": true
    },
    "kernelspec": {
      "display_name": "Python 3",
      "name": "python3"
    }
  },
  "cells": [
    {
      "cell_type": "markdown",
      "metadata": {
        "id": "view-in-github",
        "colab_type": "text"
      },
      "source": [
        "<a href=\"https://colab.research.google.com/github/srilav/neuralnetwork/blob/main/Video_Classification_with_custom_generators.ipynb\" target=\"_parent\"><img src=\"https://colab.research.google.com/assets/colab-badge.svg\" alt=\"Open In Colab\"/></a>"
      ]
    },
    {
      "cell_type": "markdown",
      "metadata": {
        "id": "LfEHQeFlVC5f"
      },
      "source": [
        "Video based Action Classification using LSTM"
      ]
    },
    {
      "cell_type": "markdown",
      "metadata": {
        "id": "maritime-miami"
      },
      "source": [
        "## Learning Objectives"
      ]
    },
    {
      "cell_type": "markdown",
      "metadata": {
        "id": "95F1ym6qB8VU"
      },
      "source": [
        "At the end of the experiment, you will be able to :\n",
        "\n",
        "* extract frames out of a video\n",
        "* build the CNN model to extract features from the video frames\n",
        "* train LSTM/GRU model to perform action classification "
      ]
    },
    {
      "cell_type": "markdown",
      "metadata": {
        "id": "P8aczZmzvXTc"
      },
      "source": [
        "## Information"
      ]
    },
    {
      "cell_type": "markdown",
      "metadata": {
        "id": "L0Ld7v8N6Z12"
      },
      "source": [
        "**Background:** The CNN LSTM architecture involves using Convolutional Neural Network (CNN) layers for feature extraction on input data combined with LSTMs to support sequence prediction.\n",
        "\n",
        "CNN LSTMs were developed for visual time series prediction problems and the application of generating textual descriptions from sequences of images (e.g. videos). Specifically, the problems of:\n",
        "\n",
        " \n",
        "\n",
        "*   Activity Recognition: Generating a textual description of an activity demonstrated in a sequence of images\n",
        "*   Image Description: Generating a textual description of a single image.\n",
        "*   Video Description: Generating a textual description of a sequence of images."
      ]
    },
    {
      "cell_type": "markdown",
      "metadata": {
        "id": "rwfDjPVOaTDV"
      },
      "source": [
        "**Applications:** Applications such as surveillance, video retrieval and\n",
        "human-computer interaction require methods for recognizing human actions in various scenarios. In the area of robotics, the tasks of\n",
        "autonomous navigation or social interaction could also take advantage of the knowledge extracted\n",
        "from live video recordings. Typical scenarios\n",
        "include scenes with cluttered, moving backgrounds, nonstationary camera, scale variations, individual variations in\n",
        "appearance and cloth of people, changes in light and view\n",
        "point and so forth. All of these conditions introduce challenging problems that can be addressed using deep learning (computer vision) models."
      ]
    },
    {
      "cell_type": "markdown",
      "metadata": {
        "id": "kgx1PkHfCDyJ"
      },
      "source": [
        "## Dataset\n",
        "\n"
      ]
    },
    {
      "cell_type": "markdown",
      "metadata": {
        "id": "adc87eHGA_NY"
      },
      "source": [
        "**Dataset:** This dataset consists of labelled videos of 6 human actions (walking, jogging, running, boxing, hand waving and hand clapping) performed several times by 25 subjects in four different scenarios: outdoors s1, outdoors with scale variation s2, outdoors with different clothes s3 and indoors s4 as illustrated below. \n",
        "\n",
        "![img](http://www.nada.kth.se/cvap/actions/actions.gif)\n",
        "\n",
        "All sequences were taken over homogeneous backgrounds with a static camera with 25fps frame rate. The sequences were downsampled to the spatial resolution of 160x120 pixels and have a length of four seconds in average. In summary, there are 25x6x4=600 video files for each combination of 25 subjects, 6 actions and 4 scenarios. For this mini-project we have randomly selected 20% of the data as test set.\n",
        "\n",
        "Dataset source: https://www.csc.kth.se/cvap/actions/"
      ]
    },
    {
      "cell_type": "markdown",
      "metadata": {
        "id": "WN7vlh6jB40i"
      },
      "source": [
        "**Methodology:** \n",
        "\n",
        "When performing image classification, we input an image to our CNN; Obtain the predictions from the CNN; \n",
        "Choose the label with the largest corresponding probability\n",
        "\n",
        "\n",
        "Since a video is just a series of image frames, in a video classification, we Loop over all frames in the video file; \n",
        "For each frame, pass the frame through the CNN; Classify each frame individually and independently of each other; Choose the label with the largest corresponding probability; \n",
        "Label the frame and write the output frame to disk"
      ]
    },
    {
      "cell_type": "markdown",
      "metadata": {
        "id": "LoLphNfQF_28"
      },
      "source": [
        "Refer this [Video Classification using Keras](https://medium.com/video-classification-using-keras-and-tensorflow/action-recognition-and-video-classification-using-keras-and-tensorflow-56badcbe5f77) for complete understanding and implementation example of video classification."
      ]
    },
    {
      "cell_type": "markdown",
      "metadata": {
        "id": "ih-oasWmdZul"
      },
      "source": [
        "## Problem Statement"
      ]
    },
    {
      "cell_type": "markdown",
      "metadata": {
        "id": "-18cjyCTCHE-"
      },
      "source": [
        "Train a CNN-LSTM based deep neural net to recognize the action being performed in a video"
      ]
    },
    {
      "cell_type": "markdown",
      "metadata": {
        "id": "operating-latter"
      },
      "source": [
        "## Grading = 10 Points"
      ]
    },
    {
      "cell_type": "code",
      "source": [
        "from google.colab import drive\n",
        "drive.mount('/content/gdrive')\n",
        "main_path = '/content/gdrive/MyDrive/ML-Projects/Video-Classification/Actions'"
      ],
      "metadata": {
        "colab": {
          "base_uri": "https://localhost:8080/"
        },
        "id": "6H31LsXiak9X",
        "outputId": "767c89d4-4c4f-452b-e5ed-9ab486d79598"
      },
      "execution_count": null,
      "outputs": [
        {
          "output_type": "stream",
          "name": "stdout",
          "text": [
            "Mounted at /content/gdrive\n"
          ]
        }
      ]
    },
    {
      "cell_type": "code",
      "metadata": {
        "id": "kX5ljpgMqkxh",
        "colab": {
          "base_uri": "https://localhost:8080/"
        },
        "outputId": "99e4ed28-2cc2-4b0a-c6b4-40a8ead6e6b1"
      },
      "source": [
        "#@title Download Dataset\n",
        "!wget -qq https://cdn.iisc.talentsprint.com/CDS/MiniProjects/Actions.zip\n",
        "!unzip -qq Actions.zip\n",
        "print(\"Dataset downloaded successfully!!\")"
      ],
      "execution_count": null,
      "outputs": [
        {
          "output_type": "stream",
          "name": "stdout",
          "text": [
            "Dataset downloaded successfully!!\n"
          ]
        }
      ]
    },
    {
      "cell_type": "markdown",
      "metadata": {
        "id": "abstract-stocks"
      },
      "source": [
        "### Import required packages"
      ]
    },
    {
      "cell_type": "code",
      "metadata": {
        "id": "2LgMamdMvHRv"
      },
      "source": [
        "import keras\n",
        "from keras.models import load_model\n",
        "from keras import applications\n",
        "from keras import optimizers\n",
        "from keras.models import Sequential, Model \n",
        "from keras.layers import *\n",
        "from keras.applications.vgg16 import VGG16\n",
        "from keras.models import Model\n",
        "from keras.layers import Dense, Input\n",
        "from keras.layers.pooling import GlobalAveragePooling2D\n",
        "from keras.layers.recurrent import LSTM\n",
        "from keras.layers import Conv2D, BatchNormalization, MaxPool2D, GlobalMaxPool2D\n",
        "from keras.layers import TimeDistributed, GRU, Dense, Dropout\n",
        "from keras.layers import Conv2D, BatchNormalization, MaxPool2D, GlobalMaxPool2D\n",
        "from tensorflow.keras.optimizers import Adam"
      ],
      "execution_count": null,
      "outputs": []
    },
    {
      "cell_type": "code",
      "metadata": {
        "id": "idn0s1Y8Molp"
      },
      "source": [
        "import cv2\n",
        "import math\n",
        "import matplotlib.pyplot as plt\n",
        "%matplotlib inline\n",
        "import pandas as pd\n",
        "import numpy as np\n",
        "from keras.preprocessing import image\n",
        "from keras.utils import np_utils\n",
        "from skimage.transform import resize\n",
        "from PIL import Image\n",
        "import re\n",
        "import os\n",
        "import random\n",
        "import shutil\n",
        "import keras\n",
        "# TensorFlow \n",
        "import tensorflow as tf\n",
        "# Some modules to display an animation using imageio.\n",
        "import imageio\n",
        "from IPython import display\n",
        "\n",
        "seed_constant = 23\n",
        "np.random.seed(seed_constant)\n",
        "random.seed(seed_constant)\n",
        "tf.random.set_seed(seed_constant)"
      ],
      "execution_count": null,
      "outputs": []
    },
    {
      "cell_type": "code",
      "metadata": {
        "id": "oNBRYaDwap0g"
      },
      "source": [
        "from sklearn.utils import shuffle\n",
        "from collections import deque\n",
        "import copy\n",
        "import matplotlib\n",
        "import matplotlib.pyplot as plt\n",
        "from keras.utils import np_utils\n",
        "%matplotlib inline"
      ],
      "execution_count": null,
      "outputs": []
    },
    {
      "cell_type": "markdown",
      "metadata": {
        "id": "hvyx4WmPdQGI"
      },
      "source": [
        "A video consists of an ordered sequence of frames. Each frame contains spatial information, and the sequence of those frames contains temporal information. To model both of these aspects, we use a hybrid architecture that consists of convolutions (for spatial processing) as well as recurrent layers (for temporal processing). Specifically, we'll use a Convolutional Neural Network (CNN) and a Recurrent Neural Network (RNN) consisting of GRU layers. This kind of hybrid architecture is popularly known as a CNN-RNN."
      ]
    },
    {
      "cell_type": "markdown",
      "metadata": {
        "id": "sQ_RWsv1vsFI"
      },
      "source": [
        "### Load the data and generate frames of video (2 points)\n",
        "\n",
        "Detecting an action is possible by analyzing a series of images (that we name “frames”) that are taken in time.\n",
        "\n",
        "Hint: Refer data preparation section in [keras_video_classification](https://keras.io/examples/vision/video_classification/)\n"
      ]
    },
    {
      "cell_type": "code",
      "metadata": {
        "id": "WH4gM5-pVlAY"
      },
      "source": [
        "root_dir = '/content/Actions'\n",
        "dest_dir = '/content/activity_data'\n",
        "if not os.path.exists(dest_dir):\n",
        "    os.mkdir(dest_dir)"
      ],
      "execution_count": null,
      "outputs": []
    },
    {
      "cell_type": "code",
      "source": [
        "data_dir_list = os.listdir(root_dir)\n",
        "data_dir_list"
      ],
      "metadata": {
        "colab": {
          "base_uri": "https://localhost:8080/"
        },
        "id": "ms-r57E6u7nD",
        "outputId": "d7eb6705-448d-40f6-b6f2-ddb232891518"
      },
      "execution_count": null,
      "outputs": [
        {
          "output_type": "execute_result",
          "data": {
            "text/plain": [
              "['test', 'train']"
            ]
          },
          "metadata": {},
          "execution_count": 27
        }
      ]
    },
    {
      "cell_type": "code",
      "metadata": {
        "id": "GaCNn3A0KMvE",
        "colab": {
          "base_uri": "https://localhost:8080/"
        },
        "outputId": "85ca28ae-f8f1-4989-e096-a5a2818fd0ab"
      },
      "source": [
        "train_data_path = \"/content/Actions/train/\"\n",
        "test_data_path = \"/content/Actions/test/\"\n",
        "classes_names = os.listdir(train_data_path)\n",
        "classes_names"
      ],
      "execution_count": null,
      "outputs": [
        {
          "output_type": "execute_result",
          "data": {
            "text/plain": [
              "['Handclapping', 'Walking', 'handwaving', 'boxing', 'running', 'jogging']"
            ]
          },
          "metadata": {},
          "execution_count": 7
        }
      ]
    },
    {
      "cell_type": "code",
      "source": [
        "num_classes=6\n",
        "labels_to_class = {0:'Walking', 1:'boxing', 2:'handwaving', 3:'Handclapping', 4:'running', 5:'jogging'}\n",
        "class_to_labels = {'Walking':0, 'boxing':1, 'handwaving':2, 'Handclapping':3, 'running':4, 'jogging':5}\n",
        "resize = 120\t\n",
        "num_epochs =10\n",
        "batch_size =10\n",
        "FRAMES_PER_VIDEO = 200"
      ],
      "metadata": {
        "id": "8VU3zykXufGs"
      },
      "execution_count": null,
      "outputs": []
    },
    {
      "cell_type": "code",
      "source": [
        "root_data_dir = '/content/activity_data'\n",
        "# Loop over every activity category in train and test \n",
        "train_data_path = os.path.join('/content/activity_data','train')\n",
        "test_data_path = os.path.join('/content/activity_data','test')"
      ],
      "metadata": {
        "id": "teDHvu-KtYnM"
      },
      "execution_count": null,
      "outputs": []
    },
    {
      "cell_type": "code",
      "metadata": {
        "id": "U0rn2fsYhBHp"
      },
      "source": [
        "  from google.colab.patches import cv2_imshow"
      ],
      "execution_count": null,
      "outputs": []
    },
    {
      "cell_type": "code",
      "metadata": {
        "id": "XSeHQNwnNHUb"
      },
      "source": [
        "#@title Path to write frame\n",
        "def vid_to_frames():\n",
        "    for data_dir in data_dir_list: # read the train and test directory one by one\n",
        "        data_path = os.path.join(root_dir,data_dir) # '/content/Actions/train'\n",
        "        dest_data_path = os.path.join(dest_dir,data_dir) # 'activity_data/train'\n",
        "        if not os.path.exists(dest_data_path):\n",
        "            os.mkdir(dest_data_path)\n",
        "        \n",
        "        activity_list = os.listdir(data_path) # thre activity directories ['Handclapping', 'handwaving', 'Walking', 'running', 'boxing', 'jogging'\n",
        "        \n",
        "        for activity in activity_list: # loop over every activity folder\n",
        "            activity_path = os.path.join(data_path,activity) # '/content/Actions/train/jogging'\n",
        "            dest_activity_path = os.path.join(dest_data_path,activity) # '/content/activity_data/train/walking'\n",
        "            if not os.path.exists(dest_activity_path):\n",
        "                os.mkdir(dest_activity_path)\n",
        "            write_frames(activity_path,dest_activity_path)"
      ],
      "execution_count": null,
      "outputs": []
    },
    {
      "cell_type": "code",
      "source": [
        "def write_frames(activity_path, dest_activity_path):\n",
        "    # read the list of video from '/content/Actions/train/jogging' -\n",
        "    # [person01_handclapping_d1_uncomp.avi,v_walking_g01_c01.avi,v_walking_g01_c01.avi, ......]\n",
        "\n",
        "    vid_list = os.listdir(activity_path)\n",
        "    for vid in vid_list:\n",
        "        dest_folder_name = vid[:-4]\n",
        "        # 'activity_data/train/Walking/person01_walking_d1_uncomp.avi'\n",
        "        dest_folder_path = os.path.join(dest_activity_path, dest_folder_name)\n",
        "        if not os.path.exists(dest_folder_path):\n",
        "            os.mkdir(dest_folder_path)\n",
        "\n",
        "        video_path = os.path.join(activity_path, vid)\n",
        "        print('video path: ', video_path)\n",
        "\n",
        "        frame_ids = []\n",
        "        vidObj = cv2.VideoCapture(video_path)\n",
        "        total_frames = vidObj.get(cv2.CAP_PROP_FRAME_COUNT)\n",
        "        start = 0\n",
        "        if total_frames > 2 * FRAMES_PER_VIDEO:\n",
        "            start = np.random.randint(0, total_frames - 2 * FRAMES_PER_VIDEO)\n",
        "            frame_ids = range(start, start + 2 * FRAMES_PER_VIDEO, 2)\n",
        "        else:\n",
        "            vidObj.release()\n",
        "            cv2.destroyAllWindows()\n",
        "            return None\n",
        "\n",
        "        out = []\n",
        "        for frame_id in frame_ids:\n",
        "            #vidObj.set(cv2.CAP_PROP_POS_FRAMES, frame_id)\n",
        "            success, video_image = vidObj.read()\n",
        "\n",
        "            if video_image is not None:\n",
        "                output_file_name = 'img_{:06d}'.format(frame_id) + '.png'  # img_000001.png\n",
        "                # output frame to write 'activity_data/train/walking/v_walking_g01_c01/img_000001.png'\n",
        "                output_file_path = os.path.join(dest_folder_path, output_file_name)\n",
        "\n",
        "                cv2.imwrite(output_file_path, video_image)  # writing frames to defined location\n",
        "\n",
        "        vidObj.release()\n",
        "        cv2.destroyAllWindows()"
      ],
      "metadata": {
        "id": "GEpgmlvnsq2S"
      },
      "execution_count": null,
      "outputs": []
    },
    {
      "cell_type": "code",
      "source": [
        "#@title Write frames\n",
        "\"\"\"\n",
        "def write_frames(activity_path,dest_activity_path):\n",
        "  # read the list of video from '/content/Actions/train/jogging' - [person01_handclapping_d1_uncomp.avi,v_walking_g01_c01.avi,v_walking_g01_c01.avi, ......]\n",
        "  vid_list = os.listdir(activity_path) \n",
        "  for vid in vid_list: # person01_handclapping_d1_uncomp.avi\n",
        "    dest_folder_name = vid[:-4] # person01_handclapping_d1_uncomp\n",
        "    dest_folder_path = os.path.join(dest_activity_path,dest_folder_name) # 'activity_data/train/Walking/person01_walking_d1_uncomp.avi'\n",
        "    if not os.path.exists(dest_folder_path):\n",
        "        os.mkdir(dest_folder_path)\n",
        "\n",
        "    vid_path = os.path.join(activity_path,vid)  # 'Actions/train/running/v_running_g01_c01.avi'\n",
        "    print ('video path: ', vid_path)\n",
        "    cap = cv2.VideoCapture(vid_path) # initialize a cap object for reading the video\n",
        "    #total_frames = cap.get(cv2.CAP_PROP_FRAME_COUNT)\n",
        "    ret=True\n",
        "    frame_num=0\n",
        "    while ret:\n",
        "        ret, img = cap.read()\n",
        "        output_file_name = 'img_{:06d}'.format(frame_num) + '.png' # img_000001.png\n",
        "        # output frame to write 'activity_data/train/walking/v_walking_g01_c01/img_000001.png'\n",
        "        output_file_path = os.path.join(dest_folder_path, output_file_name)\n",
        "        frame_num += 1\n",
        "        print(\"Frame no. \", frame_num)\n",
        "        try:\n",
        "            cv2_imshow('img',img)\n",
        "            cv2.waitKey(5)\n",
        "            cv2.imwrite(output_file_path, img) # writing frames to defined location\n",
        "        except Exception as e:\n",
        "            print(e)\n",
        "        if ret==False:\n",
        "          cap.release() \"\"\""
      ],
      "metadata": {
        "id": "WZbOPiiPeHcr"
      },
      "execution_count": null,
      "outputs": []
    },
    {
      "cell_type": "code",
      "metadata": {
        "colab": {
          "base_uri": "https://localhost:8080/"
        },
        "id": "QZHmUA_zWXyE",
        "outputId": "9352b5a9-76ad-464d-c116-c215d3f91014"
      },
      "source": [
        "vid_to_frames()"
      ],
      "execution_count": null,
      "outputs": [
        {
          "output_type": "stream",
          "name": "stdout",
          "text": [
            "video path:  /content/Actions/test/Handclapping/person08_handclapping_d3_uncomp.avi\n",
            "video path:  /content/Actions/test/Handclapping/person14_handclapping_d4_uncomp.avi\n",
            "video path:  /content/Actions/test/Handclapping/person08_handclapping_d2_uncomp.avi\n",
            "video path:  /content/Actions/test/Walking/person10_walking_d3_uncomp.avi\n",
            "video path:  /content/Actions/test/Walking/person04_walking_d4_uncomp.avi\n",
            "video path:  /content/Actions/test/Walking/person18_walking_d2_uncomp.avi\n",
            "video path:  /content/Actions/test/Walking/person18_walking_d4_uncomp.avi\n",
            "video path:  /content/Actions/test/Walking/person05_walking_d1_uncomp.avi\n",
            "video path:  /content/Actions/test/Walking/person10_walking_d1_uncomp.avi\n",
            "video path:  /content/Actions/test/Walking/person13_walking_d1_uncomp.avi\n",
            "video path:  /content/Actions/test/Walking/person21_walking_d3_uncomp.avi\n",
            "video path:  /content/Actions/test/Walking/person21_walking_d2_uncomp.avi\n",
            "video path:  /content/Actions/test/Walking/person13_walking_d2_uncomp.avi\n",
            "video path:  /content/Actions/test/Walking/person18_walking_d3_uncomp.avi\n",
            "video path:  /content/Actions/test/Walking/person07_walking_d3_uncomp.avi\n",
            "video path:  /content/Actions/test/Walking/person04_walking_d3_uncomp.avi\n",
            "video path:  /content/Actions/test/Walking/person15_walking_d3_uncomp.avi\n",
            "video path:  /content/Actions/test/Walking/person12_walking_d4_uncomp.avi\n",
            "video path:  /content/Actions/test/Walking/person07_walking_d2_uncomp.avi\n",
            "video path:  /content/Actions/test/Walking/person10_walking_d2_uncomp.avi\n",
            "video path:  /content/Actions/test/Walking/person15_walking_d4_uncomp.avi\n",
            "video path:  /content/Actions/test/Walking/person21_walking_d1_uncomp.avi\n",
            "video path:  /content/Actions/test/Walking/person07_walking_d4_uncomp.avi\n",
            "video path:  /content/Actions/test/handwaving/person07_handwaving_d3_uncomp.avi\n",
            "video path:  /content/Actions/test/handwaving/person18_handwaving_d4_uncomp.avi\n",
            "video path:  /content/Actions/test/handwaving/person10_handwaving_d2_uncomp.avi\n",
            "video path:  /content/Actions/test/handwaving/person10_handwaving_d4_uncomp.avi\n",
            "video path:  /content/Actions/test/handwaving/person05_handwaving_d1_uncomp.avi\n",
            "video path:  /content/Actions/test/handwaving/person02_handwaving_d2_uncomp.avi\n",
            "video path:  /content/Actions/test/handwaving/person08_handwaving_d1_uncomp.avi\n",
            "video path:  /content/Actions/test/handwaving/person13_handwaving_d2_uncomp.avi\n",
            "video path:  /content/Actions/test/handwaving/person19_handwaving_d1_uncomp.avi\n",
            "video path:  /content/Actions/test/handwaving/person16_handwaving_d2_uncomp.avi\n",
            "video path:  /content/Actions/test/handwaving/person05_handwaving_d2_uncomp.avi\n",
            "video path:  /content/Actions/test/handwaving/person15_handwaving_d4_uncomp.avi\n",
            "video path:  /content/Actions/test/handwaving/person13_handwaving_d3_uncomp.avi\n",
            "video path:  /content/Actions/test/boxing/person08_boxing_d2_uncomp.avi\n",
            "video path:  /content/Actions/test/boxing/person11_boxing_d1_uncomp.avi\n",
            "video path:  /content/Actions/test/running/person10_running_d3_uncomp.avi\n",
            "video path:  /content/Actions/test/jogging/person13_jogging_d2_uncomp.avi\n",
            "video path:  /content/Actions/test/jogging/person07_jogging_d4_uncomp.avi\n",
            "video path:  /content/Actions/test/jogging/person18_jogging_d2_uncomp.avi\n",
            "video path:  /content/Actions/test/jogging/person19_jogging_d1_uncomp.avi\n",
            "video path:  /content/Actions/train/Handclapping/person20_handclapping_d4_uncomp.avi\n",
            "video path:  /content/Actions/train/Handclapping/person23_handclapping_d2_uncomp.avi\n",
            "video path:  /content/Actions/train/Handclapping/person19_handclapping_d1_uncomp.avi\n",
            "video path:  /content/Actions/train/Handclapping/person17_handclapping_d4_uncomp.avi\n",
            "video path:  /content/Actions/train/Walking/person23_walking_d4_uncomp.avi\n",
            "video path:  /content/Actions/train/Walking/person23_walking_d1_uncomp.avi\n",
            "video path:  /content/Actions/train/Walking/person22_walking_d1_uncomp.avi\n",
            "video path:  /content/Actions/train/Walking/person02_walking_d2_uncomp.avi\n",
            "video path:  /content/Actions/train/Walking/person14_walking_d3_uncomp.avi\n",
            "video path:  /content/Actions/train/Walking/person08_walking_d1_uncomp.avi\n",
            "video path:  /content/Actions/train/Walking/person05_walking_d2_uncomp.avi\n",
            "video path:  /content/Actions/train/Walking/person24_walking_d2_uncomp.avi\n",
            "video path:  /content/Actions/train/Walking/person17_walking_d1_uncomp.avi\n",
            "video path:  /content/Actions/train/Walking/person24_walking_d1_uncomp.avi\n",
            "video path:  /content/Actions/train/Walking/person25_walking_d4_uncomp.avi\n",
            "video path:  /content/Actions/train/Walking/person06_walking_d4_uncomp.avi\n",
            "video path:  /content/Actions/train/Walking/person22_walking_d2_uncomp.avi\n",
            "video path:  /content/Actions/train/Walking/person04_walking_d1_uncomp.avi\n",
            "video path:  /content/Actions/train/Walking/person06_walking_d2_uncomp.avi\n",
            "video path:  /content/Actions/train/Walking/person16_walking_d3_uncomp.avi\n",
            "video path:  /content/Actions/train/Walking/person22_walking_d3_uncomp.avi\n",
            "video path:  /content/Actions/train/Walking/person12_walking_d1_uncomp.avi\n",
            "video path:  /content/Actions/train/Walking/person07_walking_d1_uncomp.avi\n",
            "video path:  /content/Actions/train/Walking/person05_walking_d4_uncomp.avi\n",
            "video path:  /content/Actions/train/Walking/person17_walking_d4_uncomp.avi\n",
            "video path:  /content/Actions/train/Walking/person25_walking_d2_uncomp.avi\n",
            "video path:  /content/Actions/train/Walking/person20_walking_d1_uncomp.avi\n",
            "video path:  /content/Actions/train/Walking/person11_walking_d1_uncomp.avi\n",
            "video path:  /content/Actions/train/Walking/person17_walking_d3_uncomp.avi\n",
            "video path:  /content/Actions/train/Walking/person10_walking_d4_uncomp.avi\n",
            "video path:  /content/Actions/train/Walking/person19_walking_d4_uncomp.avi\n",
            "video path:  /content/Actions/train/Walking/person13_walking_d4_uncomp.avi\n",
            "video path:  /content/Actions/train/Walking/person20_walking_d3_uncomp.avi\n",
            "video path:  /content/Actions/train/Walking/person02_walking_d1_uncomp.avi\n",
            "video path:  /content/Actions/train/Walking/person20_walking_d4_uncomp.avi\n",
            "video path:  /content/Actions/train/Walking/person11_walking_d3_uncomp.avi\n",
            "video path:  /content/Actions/train/Walking/person14_walking_d1_uncomp.avi\n",
            "video path:  /content/Actions/train/Walking/person23_walking_d2_uncomp.avi\n",
            "video path:  /content/Actions/train/Walking/person09_walking_d3_uncomp.avi\n",
            "video path:  /content/Actions/train/Walking/person14_walking_d2_uncomp.avi\n",
            "video path:  /content/Actions/train/Walking/person02_walking_d4_uncomp.avi\n",
            "video path:  /content/Actions/train/Walking/person11_walking_d2_uncomp.avi\n",
            "video path:  /content/Actions/train/Walking/person03_walking_d2_uncomp.avi\n",
            "video path:  /content/Actions/train/Walking/person15_walking_d1_uncomp.avi\n",
            "video path:  /content/Actions/train/Walking/person13_walking_d3_uncomp.avi\n",
            "video path:  /content/Actions/train/Walking/person01_walking_d2_uncomp.avi\n",
            "video path:  /content/Actions/train/Walking/person19_walking_d1_uncomp.avi\n",
            "video path:  /content/Actions/train/Walking/person18_walking_d1_uncomp.avi\n",
            "video path:  /content/Actions/train/Walking/person08_walking_d4_uncomp.avi\n",
            "video path:  /content/Actions/train/Walking/person08_walking_d3_uncomp.avi\n",
            "video path:  /content/Actions/train/Walking/person08_walking_d2_uncomp.avi\n",
            "video path:  /content/Actions/train/Walking/person16_walking_d2_uncomp.avi\n",
            "video path:  /content/Actions/train/Walking/person24_walking_d4_uncomp.avi\n",
            "video path:  /content/Actions/train/handwaving/person11_handwaving_d2_uncomp.avi\n",
            "video path:  /content/Actions/train/handwaving/person20_handwaving_d1_uncomp.avi\n",
            "video path:  /content/Actions/train/handwaving/person09_handwaving_d4_uncomp.avi\n",
            "video path:  /content/Actions/train/handwaving/person05_handwaving_d3_uncomp.avi\n",
            "video path:  /content/Actions/train/handwaving/person17_handwaving_d3_uncomp.avi\n",
            "video path:  /content/Actions/train/handwaving/person23_handwaving_d2_uncomp.avi\n",
            "video path:  /content/Actions/train/handwaving/person23_handwaving_d3_uncomp.avi\n",
            "video path:  /content/Actions/train/handwaving/person03_handwaving_d3_uncomp.avi\n",
            "video path:  /content/Actions/train/handwaving/person18_handwaving_d1_uncomp.avi\n",
            "video path:  /content/Actions/train/handwaving/person12_handwaving_d4_uncomp.avi\n",
            "video path:  /content/Actions/train/handwaving/person25_handwaving_d3_uncomp.avi\n",
            "video path:  /content/Actions/train/handwaving/person22_handwaving_d4_uncomp.avi\n",
            "video path:  /content/Actions/train/handwaving/person03_handwaving_d1_uncomp.avi\n",
            "video path:  /content/Actions/train/handwaving/person09_handwaving_d3_uncomp.avi\n",
            "video path:  /content/Actions/train/handwaving/person04_handwaving_d3_uncomp.avi\n",
            "video path:  /content/Actions/train/handwaving/person02_handwaving_d3_uncomp.avi\n",
            "video path:  /content/Actions/train/boxing/person23_boxing_d2_uncomp.avi\n",
            "video path:  /content/Actions/train/boxing/person10_boxing_d1_uncomp.avi\n",
            "video path:  /content/Actions/train/boxing/person16_boxing_d3_uncomp.avi\n",
            "video path:  /content/Actions/train/boxing/person25_boxing_d2_uncomp.avi\n",
            "video path:  /content/Actions/train/boxing/person15_boxing_d4_uncomp.avi\n",
            "video path:  /content/Actions/train/running/person15_running_d2_uncomp.avi\n",
            "video path:  /content/Actions/train/running/person23_running_d3_uncomp.avi\n",
            "video path:  /content/Actions/train/jogging/person24_jogging_d1_uncomp.avi\n",
            "video path:  /content/Actions/train/jogging/person14_jogging_d1_uncomp.avi\n",
            "video path:  /content/Actions/train/jogging/person09_jogging_d3_uncomp.avi\n",
            "video path:  /content/Actions/train/jogging/person14_jogging_d3_uncomp.avi\n",
            "video path:  /content/Actions/train/jogging/person06_jogging_d3_uncomp.avi\n"
          ]
        }
      ]
    },
    {
      "cell_type": "code",
      "source": [
        "root_data_dir = '/content/activity_data'\n",
        "# Loop over every activity category in train and test \n",
        "train_data_path = os.path.join('activity_data','train')\n",
        "test_data_path = os.path.join('activity_data','test')"
      ],
      "metadata": {
        "id": "ss8CS5hEvgZ5"
      },
      "execution_count": null,
      "outputs": []
    },
    {
      "cell_type": "code",
      "metadata": {
        "id": "GC7S97ELPDzr"
      },
      "source": [
        "# Assigning labels to each activity category\n",
        "num_classes = 6\n",
        "labels_name={'Walking':0, 'boxing':1, 'handwaving':2, 'Handclapping':3, 'running':4, 'jogging':5}"
      ],
      "execution_count": null,
      "outputs": []
    },
    {
      "cell_type": "code",
      "metadata": {
        "id": "AsCiz8pTXWmp"
      },
      "source": [
        "#root_data_dir = '/content/gdrive/MyDrive/Projects/Video_Classification/activity_data'\n",
        "# Loop over every activity category in train and test \n",
        "#train_data_path = os.path.join('/content/gdrive/MyDrive/Projects/Video_Classification/activity_data','train')\n",
        "#test_data_path = os.path.join('/content/gdrive/MyDrive/Projects/Video_Classification/activity_data','test')"
      ],
      "execution_count": null,
      "outputs": []
    },
    {
      "cell_type": "code",
      "metadata": {
        "colab": {
          "base_uri": "https://localhost:8080/"
        },
        "id": "n9WlU4mrXfmX",
        "outputId": "cb987610-9091-4d1c-8cd4-7beb082dfd8c"
      },
      "source": [
        "data_dir_list = os.listdir(train_data_path)\n",
        "data_dir_list"
      ],
      "execution_count": null,
      "outputs": [
        {
          "output_type": "execute_result",
          "data": {
            "text/plain": [
              "['Handclapping', 'Walking', 'handwaving', 'boxing', 'running', 'jogging']"
            ]
          },
          "metadata": {},
          "execution_count": 38
        }
      ]
    },
    {
      "cell_type": "code",
      "metadata": {
        "id": "wyr3Mlg0Tg2q"
      },
      "source": [
        "if not os.path.exists('data_files'):\n",
        "    os.mkdir('data_files')\n",
        "if not os.path.exists('data_files/train'):\n",
        "    os.mkdir('data_files/train') \n",
        "if not os.path.exists('data_files/test'):\n",
        "    os.mkdir('data_files/test')  "
      ],
      "execution_count": null,
      "outputs": []
    },
    {
      "cell_type": "markdown",
      "metadata": {
        "id": "LDL3XJhbTo0f"
      },
      "source": [
        "Create csv file for training data"
      ]
    },
    {
      "cell_type": "code",
      "metadata": {
        "id": "oLAN4d88XltF"
      },
      "source": [
        "data_dir_list = os.listdir(train_data_path)\n",
        "for data_dir in data_dir_list: # looping over every activity\n",
        "    label = labels_name[str(data_dir)]\n",
        "    video_list = os.listdir(os.path.join(train_data_path,data_dir))\n",
        "    for vid in video_list: # looping over every video within an activity\n",
        "        train_df = pd.DataFrame(columns=['FileName', 'Label', 'ClassName'])\n",
        "        img_list = os.listdir(os.path.join(train_data_path,data_dir,vid))\n",
        "        for img in img_list:# looping over every frame within the video\n",
        "            img_path = os.path.join(train_data_path,data_dir,vid,img)\n",
        "            train_df = train_df.append({'FileName': img_path, 'Label': label,'ClassName':data_dir },ignore_index=True)\n",
        "        file_name='{}_{}.csv'.format(data_dir,vid)\n",
        "        train_df.to_csv('data_files/train/{}'.format(file_name))"
      ],
      "execution_count": null,
      "outputs": []
    },
    {
      "cell_type": "code",
      "metadata": {
        "id": "53KidAz2T-ku"
      },
      "source": [
        "#os.remove(train_data_path + 'boxing/person01_boxing_d4_uncomp.avi')"
      ],
      "execution_count": null,
      "outputs": []
    },
    {
      "cell_type": "code",
      "metadata": {
        "id": "qelzbgxqT4i6"
      },
      "source": [
        "data_dir_list = os.listdir(test_data_path)\n",
        "for data_dir in data_dir_list: # looping over every activity\n",
        "    label = labels_name[str(data_dir)]\n",
        "    video_list = os.listdir(os.path.join(test_data_path,data_dir))\n",
        "    for vid in video_list: # looping over every video within an activity\n",
        "        test_df = pd.DataFrame(columns=['FileName', 'Label', 'ClassName'])\n",
        "        img_list = os.listdir(os.path.join(test_data_path,data_dir,vid))\n",
        "        for img in img_list: # looping over every frame within the video\n",
        "            img_path = os.path.join(test_data_path,data_dir,vid,img)\n",
        "            test_df = test_df.append({'FileName': img_path, 'Label': label,'ClassName':data_dir },ignore_index=True)\n",
        "        file_name='{}_{}.csv'.format(data_dir,vid)\n",
        "        test_df.to_csv('data_files/test/{}'.format(file_name))"
      ],
      "execution_count": null,
      "outputs": []
    },
    {
      "cell_type": "markdown",
      "metadata": {
        "id": "PKJpLS29ZY2f"
      },
      "source": [
        "We are going to use data_files to read the path and activity_data to read the data from"
      ]
    },
    {
      "cell_type": "markdown",
      "source": [
        "#Writing the Data Generator \n"
      ],
      "metadata": {
        "id": "uYELsgA9ps-X"
      }
    },
    {
      "cell_type": "markdown",
      "source": [
        "spatial dimension i.e its spatial size(say 160 x 120).Need to incorporate the temporal dimension i.e. the number of frames you wish to feed once.\n",
        "Temporal stride.... Let’s understand this with an example- say we have video with 50 frames.say you chose a temporal dimension of 16 and temporal stride of 4The how many data samples can be prepared from this video.If you choose a temporal stride of 4 then the number of data samples that we can get is 9. The first sample will be frame 1 to frame 16, the next will be from frame 5 to frame 21, the nest from frame 9 to 25 and so on.\n",
        "\n",
        "\n",
        "total_images = 50 ; temporal_length = 16 ; temporal_stride = 1\n",
        "num_samples = int((total_images-temporal_length)/temporal_stride)+1\n",
        "num_samples = int((50-16)/1) + 1 = int(34)+1 = 35"
      ],
      "metadata": {
        "id": "SqQZy8ABp2fp"
      }
    },
    {
      "cell_type": "markdown",
      "source": [
        "total_images = 50 ; temporal_length = 30 ; temporal_stride = 4 num_samples = int((total_images-temporal_length)/temporal_stride)+1 num_samples = int((50-30)/4) + 1 = int(5)+1 = 6"
      ],
      "metadata": {
        "id": "WHunaqBgzCsm"
      }
    },
    {
      "cell_type": "markdown",
      "source": [
        "For now we will not consider temporal padding i.e if number of frames in a video is less than the temporal_length we will drop that video from our data-set. For instance if temporal_length was 16 and number of frames in video is less than 16 (say even 15) , we will drop this video."
      ],
      "metadata": {
        "id": "AUvFAEntrjCk"
      }
    },
    {
      "cell_type": "markdown",
      "source": [
        "![image.png](data:image/png;base64,iVBORw0KGgoAAAANSUhEUgAAArwAAADtCAIAAADSlTFvAAAgAElEQVR4nOzdZWDUyNsA8GeS9d1ud+tuFAoUisOhxfVwOOxwO+Bw13L4cbgdcri72+FOcW+xFlrq3u16knk/bGVrdMvBHf2/8/vCdpORTLLJk5lJQBhjIAiCIAiCKAr1X1eAIAiCIIiSgQQN//tIXxJR8mFMDmSC+A7wvl5W+vcPH0QLXOpX9C5eOtYQGxH+KSGV4TDQfFtnH19XJUJfr17fK9PAEPqmm8oanp1cte6ucv7cgbb8b1iO5dI+vHgVk4EQAGCKlvtX9ZfS/3WdTDgmIvRFTAbPv2oF2T/6WWCMi71XMcYfXt2LNTpVr+z5DXcUZ3h6af+Ry+ENev3SpILDtyunQOYjoQU2UM4K+RYz8c+Dlh9qP2x8TQ/rb1dDgiCK9BWDhtQza+ceU3a8tHRosZJd2z5n2+WwDL0BYwBEl28x4reBDb5erb5TLBNxcO1fhppBfWp/w2vmu0ubF2+/6d9nrvVX3M//TPTtIxsvRfAQzkhPwfxy8zfNLyX5r+tkwumv79944o31/L8Wlv7i5tLGntx/MFpcvX+32oLipcR/71pyOr3NjrX9FF9aeNG0KcePX3oRo1Jde/2vBg3YGPH01onzF8Oi0xgsdPGr1rnPT6WtzI98LvHN7V0HTofHqiiJomrTn7o1CRCYLackTq4QvWzm1EHTf29axurfqzlBELl9xeEJRFE0TRUzww+HNu57hso0Xbrl0KFDhw7t3zqqS5WvV6XvF8e8uHD0ZrzmGxahjzq9ZNUpedORUztW5MH30bOLcbmes7Zu/mvTX+tqeisoivquepQQRVE09Y+6fpIjdp6++iFB8wXNjSj6m7eH1LZ7+0C/clU7tqnwbx4RmuSY5WvXhUbrhVK5VIzf3j48uu+vl94bspbjVwcXD5u0PDTeKFNY83QJx1ZPm7LpNmeWAyVzGDxyiCOVtG/LviQDV0AZBEH8K/7xHWhml2Kh/bFmfZIFrPP85o1kmeOvvTt5WAHGGFESOwUAYACLzp4FPvphXkxhHZ4YY9NXn+kRzZN9/mxN32SvlDeDQnpjTUVjTPN4FAJcWB1zb1quvM2avPDqa6NWL9yX7v7Dwr4NC+wv/0z+RVUeEECeGmSvYvZnVhbmeWd/1GoY7jNXrc/ulnz7/VsM8RRU+88Vnb3hfB6Ncq+Zv3qf/1EUWnZx6p0/d4wxAF2mWf8FzUx/Qr5fRH6Fb35xKieUO47/bYWtnbNYgACYD7ePTV+19+TBU7UndZJQAMByFL/FgCldm1e1FtGcNvXAsqn7zqw8GlizczleVrnAd6k5d2TzYTNPrjxbb077cp/Z+m875EcQ/7/9k6CB06YnXt6/cd/f95I1WGytEDIi2iZ7KeY4Nv7pmeVr9oUmqkCgrNO275CuDZRiPkDORdvAGBBF8enMSU5ZXxf9m8ccmxRyceWqnc9i0zCHMy9ArMG929I/+1UEAI7Vvrl2aNX2E1HJWlpm3+SnYX1aVbMS0QAA+phFw0e9krRd+nuDc8uXHLsbbhBYB3YaMbxbHSkv6xrAGD48PLl648F3CRpKpKzbaejQTrWsBJnXg6i9U3qszVh4a7nDjcNrNh59n6y1cq82evLEH7ylphViXl3Yt+/Uw9CPKWqjUKas2uznod2a2FvxARLW9OtxOlHEQzyxjc2t1R2uLDe1JZPh3/PqH31MjcNo4m4e273t+I1EjVFg7dqwQ/9+7WpYCTMrd35Bqzlval1cO/719f3rdp+LTjM6lG8xcdqQ8oqc0fDIF7cex2cE9OzqLqMhTwjGsYlvg7dv23rrZayBw0KZzKFUs99mD3TITM2G3jy2/+jZV+HxGXpWaufWqOOQvq2rSAQUAKyf8GNE7S3DbA9PWn5C4t99ydyOlxaN23wrsXqvmfN+rg4AN1cOm/Ww/O5tvZ9sWrX9wsN0PSpXp+fYsV3dRJbewbPa5FvHt2w9cjtBY5TalOo0dFi7WmXEWfsFOGPMuxtb1u99+CZGj7FQbutbvd1vo7uIv974C6tOPLHnz/0ng1OxIKBxn3FD2tpLaAAAzKWFP9535PDd4NeJWj3Fsypbv3X/Ad38lALEavfOGbf7YSQgWiISvL68uvM5034FobXzotWbSmf9LgyqqCvHdu07EZyg0QsVLnV/7Du8Rz1RVtEIkEETufmPP07ef8fyHRr1Gjq0c22ppVdALiU65PCmvy48fZ+hZymBzLZU3QVLRrmYFia9HjRyaly6AQAwR1XrMWtO7+rmiZ9sHDv1+Fte7q6Oiu0mzh0SaGpazGrf3Tq+cuuRyAQNJbVt2HlIv7a1rC1rd5ovdHPJrAgGnpdvGT6Px2rUHAdAAcZ0hc7jK2TN2EUiRbXAiifvn3v++m3ncpnBAUIAGORVB7aoeeXwjl1PW86vJMxdBsZJry9NmrESlem4OKi/jZDEDQTxTXzxuRanhl2bP+/PSNqrfb9RHlY8VVLY2YPHk7LuQzCGW3sWLT/wvG73gZ1L2xhSPx7c8efIJw/mB030tEbh90+dvhsOFJ30TiVEcHXPltdSAQBgoCo27dKwnGORv/jwy1unrj7p3qjH5IG+lD758pEDj6MzAjsNaFDbEwAADOfWTdpwVde2/+gBziJNwuu92+eNf/DT3N9+duQBACUQSbn0RzOGnpdXaTFqcvfYB8f27l5qdHCd1swLAMCYcXr9wq1Xw5v0GNTDU65NfL13y+LRIa1XTh8oF9AAgPgiuU3a1WVTX79ALbsP6cZPPbbnwNKFvy9dMsNTLgBIOLvpgN4vsGdgF2sBlxh2e//B1WNfp6z+o4cSrFoMnxGg53PMk+1LTzv/OLl9ADKwAIAZuanmYNS8XDZhwZ10+/bdfyllL44PuX1036LHjxvNm/qrqxUPAHhCiZJK2TBn/IN0+869RyrY2MP7Ds6bnrZ48TQ3aWb7PLh2ScOVbdOmLJWn2wbjsOs7Z6w8al/txyHjykgp0GTER0cBZgEyg4bwU4ev2FdqOaitk5gyhj/++/hfs0LeTvh9YiMxgEiqSHi4brWaHdiz5eYjF/6ceueduHa3pqGnjq0LbrqllhPQQomCC187ZUIsKtN7+Hh+/OMdB/bNWWZcO7WXwJKogQn/a9qc82lOfUdOcROj5Pc3t/8++WHHyfP71+YDADChx1fO3Hq7dGC7Ye1KiXmcKikhUS9HX62nHXFM8qZ5kxNFlX4eN4mLDN67f/NUVrxhfAsaADjj5VNnkmmfDkOaKEUCdfSL/UePzn77/vdF0z3l/LpdB7o10QpTw1bsOW1XrmWn5v40hwGA5oudsnYKGx08d+ayp2rbVp37lXe1MabHBJ+7/ahHvTqZhdN0xvM/Jl3jlQocM7lz5O1jB3ctE0nnDm9V1pKqM2/PTpy+AZVp1HtYe2sxz6hKfPeJYbMXy5yHjhyvY7Ho0715++4I+Xln0ng16Tu1nMq0hxBmH50/cOtdip+fV9ZwI3Np07Q1F9Jb9RnZz02sS3q3f/vv4x50nDu/vwsfCu2nKOimHwHWpiWzLCu2d+Txcq1j+hchYI0sBpBLZblTYgyobsPG554dvXjpQ6XWXnlyfnnzqgqJ9KF376Z2ae0ot6TRCIIori8NGljm/L5DH1TWY1Ysrutqui75h50+HJK1HOuuH9h7w7HD3PE9awLGgKr7CuKGrrhx8uHbXxuXTol6ff/+Uw6ANRp4AB9ePI40dfUjnqxKq4YWlH/j2lm1dcMxY7q7AQZApYUJgxef0AodKnjIAQAe7Vl/Jjpw5LJBrT0xxghVVepj5u46duZuw/713AAAgNKqo71/HDOvXx3AAPUCwl91Cb54V9/MSwiQHBV84sZj15a/De9SA2NAqGYVcXy3hZcPvuo+sHLmyYjHiwt5WWba4kX+dggAHNLuj9z66Z5K7SnnY2w/YPkmUzNgjFD9QHHayHUXTt/72KOFp6hMrYZlAIy6jH0LDHZl6v1QN+/p+8nuNVciBUNWLO/kS2EMqH5gGdnUafvun3j2aVjdzBMlnfLpvrjRwjUjPXkAoOde31398H1kbIpbKSUAAKS9eR3GVv6xIh8AozxDPa8ePNRhj94jB1e3Ng8oTB8xxr4Tlq/JrDygerWqxUaOevT0+IeURuWUgCgqNfRZlTHrmgVGXdhx6U647++HBimubzoTfDEpWQVOVgAUpQ+PhwaL54y2FQFAoCzp0Zxzwbe0PRpZ8JjE84PrT0SggfPHtS9rhzGg6jVQYuz6E6uuNard1AvAmH715hu+nfOAAf18leaDLpaOZxUFcWyS2qH95um9aACABsLkdyvPHrnWv0VjG8C0sOOomVmthQHVt894HXQ6Ijgu2VPh6FmhuicARIupvaetHErXqVdfmDfz9H1//PEwzWH0ipUt3PiAMSDUtE3mMWIqHWV8gIA+s0e3FVIA9W1D2057+DQELAsaHl079gm7Txs1uIGDzNQ0jcHsSQ6hvGbtugAAr+LZPbfzJ1f6Vgn0zfysCTu+I+Sj0H9Q50DPzKDz2YE1JyJqDV4wtL0fxhih6vYoMWjDiaPXG41o4qWKDpk4cVKcJs9jH6xBW23puaCs2mPGaGA5Chs+bdm6S498evRuLoKCvX8YosEO1QPcc+9ZhAC7eJYXiM9EPXupae2VawYtgrI//KC48QE7+9eVS77WAUEQRB5fGDQwbNSz0LdW9YLqugJknpdy3Wy8O3wklC4zu0fVzJsQDE7165T94++3Lz9BY7+qHSds7wgA8GLX8InHuMnLVjR0MDuBYAxF3ZXqdWqsVNhB5kXRWiIDjDnONENKd/LkdXD26vCDY2bhmKpYsRqg4A9vwo313EwDJBL7CsO71QGMMQLgrGztbVC6XgsgBIi4fj46zXPSzzVMY/cYI6uGzSqvOPfw/ruBlauaKmDQCtpO/t3fDgADRlC6Xs8+zEd/K5H5zVVm4YAcnVx46F1GhiVNG3rm7xiHWj06+VKmEz4GCOjSqfS+oAfBbyAraNDT3rOWj/TkYYwBIWGVNh17eWe4K7Pb8FVsFCrftAIUEDOAvasjn/f83N5jgpa1y3k68sF0fs26buWuPNCUi0z+ACfr9aZvWaM8sGOgM0CCkKMCOrbzB/iYNXYPAACcUevaf64pYsAYUO1GzaxP7H12HzcqMhg0xJy5Hmvn5FvHwz5rx2G/agH8q29C3oY19fIBvsTbTfZ3VPzx4ydbNvrBz92ezrw9/VoXCEwLnIYP70VnTtoAv9q15BcOvHye3jhQnn9ih7unK6dPVBsZS7Lm3t0/+YkqW7tZU1c+xmYNbfrxAABmGVnN0WPbCk2HFHLxdsPhBq2FVff28ZPo7p/dfUTQPLCSn7uIZ2qYYg/v62If/r5op9qz5dLfOlllBh36c2euY3vntnXcc/aLX3Wafy0y5K2+iZdQ7tCxez+1Mc8kaMwxjvY5f6ZsHzvwTLwA6zSswKbBT+08C368xBhyYsXua7H+3Wc2cMx/+CKxja0tLUhPeq/XgSTXOQM5VPhx49YWQH0fzxYTxP+oLwwaMPc6KRZZ29sAQIEPpUclRIv4/J2Tx+zNPjdSTIqQplJjzVfTMxgBNui0AGYnAAtOdFUq1rxw5OTqU7XH/lgWGVL3HLlI8+kAPx8KAECdGMPxNLFLZkygs85jFKsHAHVSMpfZY4v5PCselVl5DJxpOoVpWXxyEl+i3T155EEuezIbl8qTpMV9AqiaVQWBWAgAGBBCGGPnSj17VILsG3ZG/eDiqevB997H6ymEDJpUDlk2qJ+SFm/kebq6m3IGAIQBBG5ednAmLipnNb5ARLGAadNURFu/wJ/8zHMxMAZsJ7GB/JdTBLU6D2r5eMqJi3ueX9nLlzk169a/R/PK5idwVhV38ezJ+09exKQzFGBVajICAWTN7gOpXJT5kZLLZJAXxtjGWpQZ+SEA1tfRBjPxSTEA7kVsu0Yfy3L61LdzJo2ksib3cwY1C1RKYgoDwANRizFjIydNO3Nqx72zu3kK97bd+3Vp5P/15jNghORiIYCp3TAI5bZCAR2XHAsgBwDAxpDgUxcuPnobl4IBYW2qOGuaS5GiE2I4hJ18SkG+MC67dCxzkEH23TXHccWIhuwbjxsVHrT+7Mlld09TfHnV1j2HdGyoEBczZjCqDq7fFpJhNWJyf2c663YAtEmxLK1PW/PbJF72D4ozGFnQpiSxDEhkdi3adilsm7LOD8r+Kw/2A8qQFnP1+LYdh1e9fvho8W8jFaJcY2dR9w/N3XNPFtB8cpdK2bcjufD5VohKYjO43I9QIAQYA6L4ucokCOJr+/Lzbc6dUiErcEjkUb68LU3lzLf2B6ln+S8u0Zzc3V1omxhx9LfuOzhkNMhc/Vr3+aWZvyJnUjhf6FvWXyrIuZ+rgJCdry+d+3aowMpjwBwrdg8IcGDY7FMT8q9Al/LNt27mMCwy+1sXd3/RzAXP9a41q5Sr5MTDAEnvHyclJVu8cdhgMOQ0MAIAo1EPYlG+3ty8hWfj0TyUnBYDkPdNOBgDCJz6L97W7Om1G49C3719dWbt1NOnGs8LGl3GVgAAKa9PzZy9IdXGv1o5vwBPBBzz9vH9T2qL655Tt6yRA5XWAKC0drQsGaYF1mXKVxRRXFY2CAH2KOdEg+ke333QHzubPLx6/cmLD6EhB5dPPnf2x3lzB7sJv8HrLhCwrJ5lsb3CFgBY3afNs2eeeAc1alXx93dFFK2JfPwpwaLuIwCgKAoAWMaCbokvueBhjKmGA+f6Bz68cffR+7C3Tw8tH3Dx7Pi58+u6FuPO++mpFcefJNbqH1S/lFWeiiBa4FOmvFyU9ftBqAICpUdZHg1GTUpw8D0tk6+ngbWv1bJK1msnEEXzMMZiG9dW/ae7sRMmnHj0d2TqT6WVWeszH+4dX7Ryn9K35cQpv8izQ7c8jIwGcwK+ks536srdd0MQxDfxhUEDQi5WSvgUFwuQ9ezTpyePE2gqa5a4i6OHUaOu3ntQc3neXsivcR8QeWzbYfdmaxZ0dUzXsRgQXyCWigVg6q0HqYMbbXgra9ejX2l7cb60Rc+a87R1YoxxNdsNbp7v/TcWVF53a++Bpyr5kKkzWlR0Ms1Gf7p//uPQiDzrIYqKS/wAUCrXt0pHbzEXHPEWoFHOl1Ehz1N5FUpXKLLmWbztnODBm1cAeYfDsx6GRG6VAntUCmQZXeiplVO3P7748kOZBmUAkk+u3PNRVmH1nBmetlIEAKx615zXke/SLS46r7Tg51HItV0FuuiZB2KRK4+fSFt37T3ENf/7ezK7LjAA8q7W0LtaQ4Y1fjy6YPjmaxde9upf1TwBVqcmqilrh3zHXnGlvnqjMip9vW0BQHvv6Jknic0m7RrdODMUi72w+MKj5/lTaVWpHAuQO4xxsXNGgOLehzFsVfrrRzimx1/B3rdaJ99qLMMkfzw7a8LaP4/drzuijoVZxN/+a8HOJ57NRkxoXxbl2llieze+MYnXomufSq4F9C2p0mL3blsfr8lzMmGNuqpeOUFDVi0BAMDNwx4MCWxOCi7s8taZGy/I/TsvmvizlajQH5ohJTmBNSqVHoIC9i2nSohlZY4K8XfyklGC+B/0ZS93whRdrpSvoyH4wu14PcZs0vv7s+ftY21lpisyBvBr0bGsOHLfqqOfklRGDgPmjNqM6E9hqRmGr3EfEJMYD7r0RC0SCAViK2triYhvChgQAgBR47YNpCmRW47ciEtVsxzGGOvUqVHvQ1O0UPT4NwbHwMYe8vjDmw9EpKgZDgPm9Jr0yI8RaQxrQeWxwcBSCBCmALBRmx7+/Oqp2yFs7oSI8nVwFYQ9uBqrNeIsABjAq0lbT/2jG3/efK/WMxiwLj1q79YDadaezRp5WPZCHgzgUq68J3p8+54+3zKMk+Nj09VaI4tNnTISgQQQiEwT2YHR6bCAphgWIcBaVeLLO+fvRSYWt4/bkFkUp016uuHwA/sadZo7UoCR6VvzqfbY/BuhY6sG7unxH49cvZeSoeUwYMxo0hLDQiPUkDmrPi42Pk2tN+1ThLFIJBFQPJEoVwUN6femDOrdv1efY09Siv1cBWaNRsAYA+bUic8OnLsnqdKpoRcAANbrGRDz+EYAYI3q6DcPDl4IEfBz/4Ls7PyFVFzUy8g4FYdzNg0DQKmAtq6Stw/PH3nwRqU1YAycURvzPjK1uDUsGJcaE52UrjawHGCMEGbBiicAiThrsmCeds/5KvM7Q/zzlRsvCdyrju3XEDDG2HyxsGGr+tL0+N1HrsakZDAcxhjrNWnRYaFJagBAVs7l1m4/ejCvI8dOzvAzHdZmhzhrUCdGPdtx8pHcp1R9O9ODJWzEo6ML1p+Re9ed+GsvPhh0Op1er9fq9Fy+l3l8iggx6IzuVSvmfY8oxu+ubO47YPCgEb+Fq4xfp1EJgsjny3oaEEXT7du3u/7H/vXTxh1RCFMT4uwbjOyt37LgPQYAhAHb1hk8uNXCzQenTrpmpxDTCFiDPlVr6Dd+QWBZu39c7aqBzcpsu7p6fIg9H2GegI8wJbf1aNGjZy0vG0AgrtRzYvfoJYc3Tnl8UikVUgiMenV6imrAgl31PYrMHCvdG/TvGLz4wIFZYdeUcjGNMKPXJWik45bPqSYv8iZGXLdpzV13Du1eFXRBKeUM6oSYJDtfPyGdYl4EzfNqWK9K6Nnz08c9VUgFiGM1Ps3X/doKA1TqNKNNyPQLq2Y9d3KUCJBelRydZGw9dEp9V2vL5oQjDFCldp0j94/9feJl9a7+eQLDk5vm3I3hiwQCmgLM6JPiYuzKtGhZxQcAABxad63y95/3FgRNtZHyDdq0pBSDt4siLtryV1dSfHHYhjGTnG3kFNbGfgxPZMtN+KW3BBBGgCBuR9Dcp2oRhdmEOC3DfFg5Y6KAws4V24zq3YhPIf+uk3p/mrx32/IX5+1lIgECTq9JS0ouN2/fBB8A0CZtWjYvWkOLhDwKIczoEmPjvOt1aVVamnuWPebzRRLE3rl2p01Aa34xAmOKNUasnjnR3sGaMqjjP31USarPHN1WChgDEtZoVcH1zvWNU98dV1CsNjE+xbFCGTvuba4ISODV+6eqYzcEL5g9xVYuRgB8qd3w8VPcrTAg259+mxI147dDy+becLSVCHiY1cd/lI84Mv8HyytYKP2tLfMORVLWEiGPQphjVMnxGY6N5narZFoc/+bvVZvP6ziK0qeJBej1xb8mPBAzen7zsfNa+9AAcGb7H69VBgGKWj57MsqKJHguFWeP7C3kUwL/n6b1jlq4d+vUF+dsZCLTDyotKeXnefua+ny2XgghgKSH+xfvCmZ5NABwjD4tKTGd9vxl8hhXKwEGQGlPVi7clcwJFGlhq2aPy55HxEjsJ00Y72WXKzy4feWimqrSslkBP+O4j1F8kUSvSnyn1XlbkemQBPFNfOlESEBONbqsnEqt3Xs7HYS1O48d2K76g73nfJxtAEynb6piy1/XelU6dPrq29g0jGjn0jV6tm1Ww8vWPB+xwtXbE1vle2q8CIyeQXyBWGrv6CSmsVGTmq4xRr+5OXv8q+kbV9e3ozHmVe85dXG5C8fO3fyUnIFB7Fm1VuuWncs6mzq5efau7m7InpdzmQFbJ09PuYIGAIQwFtTsPn1D5Sv7j98IS0hHPKGbb61BbVtWkItM1ya+taO3N1Ng5zfGWF61+8rflFuPXI7LYGWOFTqP6R1A31u4Ilme8xAeAopuPDBI6bj1+J33GXome3IcAkBi+6HzVlY6vuPMnfcahrUvXa9v0M/VXYTZHbYyO09vDydR4eEDAuxTtamf/ZVXF/d9bDLL2ybXCdS/Uq0YOiI1IY0B4Fk7t2gxoFOrKkIwvacSu7WaNE+098CFR2lG5FCqwS/9uvLub9t45ZOIBwCgdPTwEippAACRo4+XVC4EAL7UxtPTM3u0G2OxlTWVnpaMaGnF5gO6dm9qCxjjnHnwCAEg2t7Z9OwrztpuAMCYknaZsLbslQOnrz9LTNeCyLpSjZYtOzd3M+03vrT+D9Wuv4zISFexGAkV7m3aDO7QrJIgVw8MFshqdmhSafX5kOK9KZkn7Tlusv3fZx8+DktMSaH5knKthvTp3FCe+dAhFij8pwZN2rnj9IfkDL6VR+dek9uVipkZoVGKsn5ECDDG7q0nrXY4ueP0nXiVAbIH2hECwHyrspOXrrt88MCVl2EaHSO19+nRu1N2xGDj6OFlpTT7JfBs3LzcHSz8nyh4nrUbVaZeRadksBzmieXVm7fv+lMjJW02v9c0u1Jo7eWVPdMlOzwAzJN6eDlQuZ+CQlnP1WBMVewy4Q+/K0fPXI9MTGdB5FGpRqtWncu7WvKoU07pgJHMzrlGy/5dWlblm44KhABTSmcvyDellOLz8+Ssfrv779vpNUf3LYfylYtQtdZdq71VY++mDWxk5JFLgvhGUKGvZSkCzvXYGOQ8J4mzn8DEBc1IMvutf/GD9gmXFvVd9LTd4qW/VHHJ/jLl5trBc4/XHH96UnN+7nLyVhryvpwg9xpZL0cu8AW/pitDVtYFDrwWljb3+gWtlfmMZUHps1Na3miad8fGT9qKGg5fOapFUbddBWZf+Hbl/mhenzt/jl1wQrH0bJBfroRFZl7E1mQ/fVrAGgW0F/tg/++/H34S2H/O8FZlLexoKOTil5N7/hWy62NesYI2ssAVC0mQcwQW0MLFrHx2eZ9vWyjkEaiCtyFP3Yuedlhoy0LWBBuLog7tp3uzgpakurT8Pai/DQ158rQ4diEI4h/54qcn8v3Qc17rhgpeIfdqedYo1u+djwQ8kf79vedJPlZ8hAEAZ0Ru33fZYB1QuyaVr5zPVbqQNQo7jaHcWRe42mdOgejzSVHhj9ajvM2bXZtCYCz27TDxl6iZ69ZMt5Iv6F/7s3u6wOwtqnz++iCEcz8hYEnm8PmtQZ95G0Ou/xqD02h0ae8u7zjzUCiv1J2oLEgAACAASURBVLJhvhdifq6IInLPvwLK9wEK2bEFrVhIgoKOQE1GmoEpLLjHQIvlVgV3PKE8/xa4TuFNW1BWedJa0LaFtqzlWQCnS9++bn2kznH8iAE2BR3KJGIgiH/Hd/NfJlsMAygaDZ6htT9z8fCwgRsxxUOAabG8bOW2U35tXUdBk3sOADA9t+7TdPDIJNWekJcp+tr2+d5Q+L+HzUhcNGX0+3RF9ab9xnRo4yMu8En/EgZzzIZZAy+/zTep1YQzgnev3Wt6/2+/NplNfhbBuo+aN7GGE3kNA0H8l754eOI/VWhcQM4nuZj3cf8bkVR2Kd/Bfvj/FTt+Bw3+LeV0F5HJCgTx3yqZQQNBEARBEP+6L3tPA0EQBEEQ/++QoIEgCIIgCIuQoIEgCIIgCIuQoIEgCIIgCIuQoIEgCIIgCIuQoIEgCIIgCIuQoIEgCIIgCIuQoIEgCIIgCIuQoIEgCIIgCIuQoIEgCIIgCIuQoIEgCIIgCIuQoIEgCIIgCIuQoIEgCIIgCIuQoIEgCIIgCIuQoIEgCIIgCIvw/usKfDmMMQAAQijnU76lgBDK/pxrDdOXCKHc6xIEQRAEUbAS29OQ+n5k764tuw188UmrSjrat3mTjp2XRZktDzu3uGOLZv3nncWg2fpLy8aNu+4KMU+fvHJA4yaNehyLAP3zw21+bNt57BKDkfuXN4IgCIIgSpASGzSIJR4ymZWVTCSgeTw3WzuR2M1Bmr0Ug8jTyVokkjkqEUhcfEQioZ2tq9lisHF2F4lFjjbOILR2EIvFtta2pKOBIAiCID6jxAYNQr6CphBF0xSFKBnNw0gq4WcvRcDjyWgepiUiABCLZRgLxFZmiwGsrGw4TijiA/D5MgA+XwgkaCAIgiCIwpXcOQ20mKZ4NJ/H41GUk0DAISdbqfliWkxRWGFlBQBKa1vOWmqfOyQQi8VgLZUDgExqBwBSBYkZCIIgCOIzUPYkwZIGcwzLAaJpGgBzLIsRxaNzOk4w5liWQxRNUwizDIsRTVPmAxAcy3AY0TwaYcyyLCCKoigSNxAEQRBEYUpu0EAQBEEQxL+qxM5pIAiCIAji30WCBoIgCIIgLEKCBoIgCIIgLEKCBoIgCIIgLEKCBoIgCIIgLEKCBoIgCIIgLEKCBoIgCIIgLEKCBoIgCIIgLEKCBoIgCIIgLEKCBoIgCIIgLEKCBoIgCIIgLEKCBoIgCIIgLEKCBoIgCIIgLEKCBoIgCIIgLEKCBoIgCIIgLEKCBoIgCIIgLEKCBoIgCIIgLEKCBoIgCIIgLEKCBoIgCIIgLEKCBoIgCIIgLEKCBoIgCIIgLEKCBoIgCIIgLEKCBoIgCIIgLEKCBoIgCIIgLEKCBoIgCIIgLEKCBoIgCIIgLEKCBoIgCIIgLML7ryvwbWHMsSymaJpCxU2Izf9EqIj0pvWLXO2r+DfL+v+J41gOI5pCX9bIHMtygIp/0P0j/+1RgTEmhyRB/H9Az549+7+uQ3FlXtDznaIK+P7x8SWL1x+PlflW9lQW44RmyLh8/vT9x89fvnz58sXLWK3E20X5uRNiRtyxk2fexxo9vZx5X+u8WdhFQBdz9tDpD2qxt6tNyT1H/8NrDMb4G16g0j9uWPHH3jPPHCtVd5bSxU5uCN++YOHOSy+cy9dykv1bPXnGlCvHTr2MNnj9syPwCyMPverSuZPP3hq8yjjxv7xwgiBKgBI3PIFTQy/179NryJTlqdrcC1hm8+yBPboPvhWd/V3yvfPXIz+9uXLhuTZvPp9l1DwNvnnt2rXrl84fOnz4ysNw/Pn1NXEnjh0+d/WZgStWMZ/BPj65Zfri9Xpjvhz1cX8fOnTpQRguok7fL0PY7eVzZp8Mjfmy5Nrom4vHTTkW/nUrlUMTFXrl8bsPIQ8eRRi+JH3Mk2v330S8vHb3XerXrlrhjKnXThw9c/XpPzoCDWG7l89Zd+p18RNmXD139OTZp8X7lREEUQKVsOEJDEhRtk5n30N/Pn58+GXMwOrO2YuSQ3dcuxfv3HlOXRcAjAEBgE3XkaPhSkT1jq0lABjAwhsoLHUYN2cZAEDM9Q4jVluW6Ove+KpfXTr5mq5fQGRQYnsXsqV8uHvuUdjQzl+YXBv+7M6ziDJftUrZMICkXN1xP0U9MTh3qSouxkGTnd6zzeDByc8yvLvWtS3OQfcdSAm/eO5RGc8uX5i85HZ8EQRhsRIWNCCMAUnaTul3o+ecU2v2N902xjNzSeTuZefSPGsu+rkyAMYIAcYA2KZc01/KAwbTd/lOajkzF3ItzPmoNXzmRJidGhVy01/ciRHZiRACmsenADBgs0zyZlBI9S1Y+NkKcBgQQugzBReee/7+bYyx6dJpyhIhBBSPz6NwrlwsqmRm0yCaR1OQO31mcowxxoiizJcVNoxV0EIMGDBIa3YeUMv0F4JcW/LZzDO/xPza7QfWKeCgyxmTKbxueY+Zglf6LIsOmDzLzHYMyrNiQfv3MzX74sOOIIgSoYQFDWCKBoQ/dOlc/Y8DFw8cazehgw8C/PHC6UtpVMPu7VyEFAZAEDm/28/XVRIKAIw66Y9zDo2pnyenpLBHB7dvv/A0zMAimUv5br37tazjJ7Js7hrmmNj39w/v3n3tYXgGwwmlVgKKk5qtYEyNuHzm0KETt6NT1RwCoVTZcPDqMS1si8w59NicX/+8y6eQQCITwM0uHS6aTsIsrRi2dGVHPwfTahQyRj0/v2XjjvthybSVU4ueo/q1ryLNqrs+OfLy8T27zwWnaxhKatuwQ7+e7eo4SCwabr6ypP3CkEqbZ/S8fXL34YuPMhi+R42WY0b2L2snytp4zeu7l7fu3Bcamc4i2rNy8759f6pRyrRprxf1m3gpynr4uk2dypjWN15dPvy3s/Etxy6ZUofpPWhyktpI8UVSEW/nlEGb2czOdO+6A5dP7SIsYv7AvbH1J4daiWieSKrkbRvVaiMLAIAZvWOH+dtH1AaApMjdQ7qvabDoZhveiU3bDryITOVLnVsOGNm/RRUhjQAg+fX1nfuO33kVnp6mwQKpl3+dXv161vVzNrVcyt1tP83az6MRABi0tiOObeikyNmrWtWxfk03/7hlZ4XII39tP/UuVS+xL9N7+Lh2P3iYrrTM861dR+3Ri/kAwBo0g1Ze+6lCTu0jrm/+ZeGhXjPXe8ee23bwdGQKa+1avu/osa0CXDPb1aAOuXtmx84jr+I1wBqNLAZAPMSKmk87OCbQkn2HgE14c2vz3j1XHoYxPKuabfsN69XaQWLKXffywokDFy6HvPmkMnB8oaJCYKtePTuVd5AiFL/u5+FHk9U8ii+Viu7vmNzqL9aUocCn3t7lUyQCGgCAY+I/Pv37yOHTN5+n6li+3LF2k24jBreUZx11CLPx729tXrfl6qtIJHKo37n/0O6NFLwSNwBKEMTnlLSgAQAQwhiqNunqduHd4/ObIxv95irUHL5wUywu/2Obyll3N46Dl2ztyfK0qQ9Xzd+oFeXdTOPLYxPm7hIHdPhj7SQRxb05v2Hl4hnvRiyd0MIzX3kFSHx4cObi/Qb3BmMXjXWR4sSQWyt2njZbnnxo/tS9kcpeQ6ZV97GlQRf9LjRNIbAkZ+/Gv2yq1JcvUp9aMPsSqrp8VC8hjwIADJSNs032ap8eHZt5Nb1Kj9FrJjvd2798719zwWHTiDq2AADpb5ZMX/CcdR4etNTXmp/6/vLSpcumRiVvHt/RkgrwRVZSTeT82UHg2XzGsiFs2JV1Ww4unCdfsaKXEgAAHu2Zt+DIh7o/jx5dyw2Y5ONrFs6b9nbcqmWBjhiD3/CZEz78tvro2j9qzZnqak2FXdq04VZave5jJ7QuDYxu4bLVHFDJ93bO2hvSfszkZr52pttSvkTJL/riUmHS9s16vlD1ZO+cPx+1n7GxuRvLYMCY48mdTGtQlEBu6/ju5KxZ8Wk/9p4yvAz/6l/LD25a5+y3pH0pBQCE3T2tdq4zvsMQR6VIHfNi67oNS2a+RavW13UCAJAHdNi4oSHNF308+/v8w2p+nltlJFDYi25tmvq3Rt5r8qIygvhtKzbs2rCsrM+C8o4SAOCV7rBySyNMUSFnN24++0SQOwai+EKZldWVrfOOci6/TFpVivdhx8qV6+Zu8jg42x8AMH51Yeu8LZd8Ww5d0aqiwJB6ctOqC2GatoPHNq/qZ8mOA4D0qPvz5p5zqN/vjz/LR93et3H3n7MZ5bphtQEAdIlnrr32+aFz5yE+ch5EPzyxfM+xBUnaHXMG08im26KlrTgkTgqeGrTPvcPYwU1LsaY5xXyJKOuqn/Lm3Ny5W+Npj5/Gz6vmJtclf7h68nZocsuamZEwT5N8e0HQJb/Wg9aOdn95bO2f+9aIXKuMbmRTcF0JgiiZSmDQAIAQ8Bwr9G/kMf3wxzOhcT2kFx+/TCs3akAZMZg6sAEEDh4+AJCREMFHON/8rOQdm4+rZd4zR3T3kdMYkEu/eWFhvY5v2tGuxUwLBstjd2/YmezYdtOyYbYAGIOXTMffczZneWrojRC1V7P+3RpXNfX8enn5AWTX7XOEckdvOQCoFAIAkHp4eIkFBVxO1Spjk+GLRzTyBAyOfYfceDr16d0nTJ0mPOCeXD7+JFH74/gxDco7YoxdXPtMS3k/ZvWhw107dvYoetsAgNGqDX7dVs7uYgUYfLoF3n5w6u3VTwm9lPYAMY/+PPXeuXL7Ye1rCREG5Drkt8nv+k/euONS4MQmCLC1b4Ox7S9N3/ls45mXM9ootx68xrcr269LQx4A8ETuHp4AIA6TcUApnVw9vZyLqos5iUspHwBIjrICFild3N0KCvAohBKTtcPn/F7fU4YB+g5p+/eg9Y8eqtuXUmCMq/f9vToAmPaKh+cv2ogZK8/cfBRWt7UPANASpbe3EgAMCgHG6vyZI2RITeP9OndePXcBgN+vP93uu+rlw6RUU9CAxDaePjYAkGQtLmwbMij3uauDyokAwHtEn5dDF5y9/wj8qwIG/OjBAx1Vvf/glj6AAVyH9W91fsLumFTK1UZaWG55aqdRZ1ToMXNKxwDAUMZ9QsiLwVcvHXrRu3YFGWCx28T5M03rYQAv77Ha9/cW3w65y3F1KZ6tu6ctAIjf0xwWK53cPb3yZZ6+f92GD0bfGWuW11ICxoC8vMtWbZQ5sAEAACynrf7TxPEdK2EMXqNGPrg99Nq94NGNWllWeYIgSoaS2nmIAQX0GFHPMe3y7q0b/zrHVegwroU7ALZkHFUbHf0gKdWhVGNna55pFBpjrmIFfyH79P1bC8p+c/tatKxBxya2WYPswHFgPtSrKFvFG0U9OLxs+4l3sSqz0eHibmWh3Gt1HN7IE2OMEebRMoFIiAwMA4AZ5tHjEIwr1P3B0TS6jDHY1azrIkt48vCjhZnrrbxmjG1vBRhjBBQ4yMUcGFgWAODd24cZBl35wCYi04GDMaLL+JRyMj59Eglgmt1Rtsu0IYHOT4+snbN40Ys0lwG/zfS1Lmio/tvgjDqvVr/W95RhDAgDuAXOmD27Zz1bMBtkz24ZgbWST6MMnc7CzFmDtkKX+fXcBaYsHBzcOJZluWJsWv1OPcuJTPNtAHnbS8FgNGYuYjgWeHwEkDWpBvGLNzEA2/jUHdE2AGOMEQAFFb09MR0ZHaXLzhEyp5hgAHBydQCN3tLnHULPnX/Lq9Sxby2lWZgAYFZBVmpTp2/HShhjhDCAt8KBMxgZiytPEETJUCJ7GgAAAcZ89z4///hsxflgnrTt+GZWFs9U1xv0LIdSnu8d3v9A9pesUY8pNiUtFUDx+eRxUREGmi+x4kPBLwvAGGwGzA+Kmr7i4dld1w9tFntVHdCvT/1KXqKv9g4HEAnFHAdZbw/C2SELxjhdp0fo1bwBA1DWdRpjTksJmcRYAIsGX4DPt6Zz3qOQeU1EAAA6jQoQ/+ZfU+9tzblS6nVqxMWpMgBkgAAwFjYeOO7C66khoajRkNmNnHgY/6uz4vgCPuSEaIpyP9TKXsTo0l/dPn/m5r237xM4CmGW0XLFuSxjLJNZA2S1TfEjIaFYkFM3U8tmhgmocsWA8y9v7dh+Y2SnKnxD6v5tpzm58ocAd8ufwODzxJBzGaesbSQYo3R1OoAIMDZkJN64cOTa9ccRaXqEEDZohHw7C6sdE/lBT8tKVbCDQnclRrSMMo9ySuwjwQRBfEZJDRpMUxucqrT1dLoWoXcP9PewpPM/B2al7tU7NS3LM79NxLi0t7zIpDSiwXRKLLg4hDCm5ZVnr1jz7tmr1x/ePrl5aXXQuJMNh86f0NLK4gp+MQQcYPcWfVrY6M3u8zAr9fH9Stmzpeu0reMjMbtiYoTsXCVZayCIeHwxIY3l8dCbB48SmpWx/06m0ae/XTVr7rV4WYvWTbr+IEMYUiMfnDh777+uFgAABqB4Qizx0TzdOvT0auCwbenqg0Z2rVfa5kuf2sRatR4hZC2VA0BK+JV5QWuiRH5tWratK+MhWhB1e/fB25Ze2EV8IQCrUzEl6AFSgiC+hZIbNAAghBAt4PEog5TmFSNikIilAoHACPb1mjW3NvvekrMzBrBzcKGwPjlSDTUzv/sUEWpkzK7QpqrQslKVa/pWqdmmY6+TS4b9dfXo434tG1h6awcAoFJncJgr1hASRSEHuRLAWL5Kk0pm2/a1XhcgU9hSNBa5lW/e3Hx2Xu7sI84tXHpcX7XPnDrh01fvmLXZ989B1c0zQQBgZJI0lg4K5IeopLhYAO/ipQq/fexqBNNq1NhhDUubJph8epR8+lzwF1fja8L6s+dO2jVa/Hv/KubfFi8UNscY33+IR8jJ2VEEAG8uXwhLpQcsX9jWN3NuzfPoo/tusnkSIWBSkvIOWWAApaePEl8MeRoFdfJPd7AY5mKfXzpwJ/HHrt18bErqwChB/D/3P/vTxZkvOMC5vgEAAIGjR0s/1/iIc4dO30tK13EA2KiJDX955dEH88Q4b26Zg8VQvnZTR+bB5RMhsRpg1CG3Dy/bdkaOqZx38aVFPQkNT0rXAWDArCb5U1oGAxI7ZdG9GNmsAio7UdHhu+6/0zJcVuEWpKP5tevW4FERe7cfeB+bzmAAzpgWHxl851ma5YUXCnuVr+OjlLw4vuPS048ZBhYA9OrU909vmWY0AIAh7e0ff2xPtSk9emCbMs1Hd2pQKuHMsh1Xw80rb+9Xzh7Uj8/fjUrR4QIauwjCMv6OMvrBpT2xKgMuRtMATVEIsCop0cBiVp8eEnxu9/5rOi736wrMDxqc840l8lQla7qMhcljdRo6I+JNXKo6PV1l4LJKLk7EwDI6A4sxxoAN7x4cv/Tsk2/rweUVAACIphASpCQncQB6VfTds3t2XokW5BkvcyhbwQ7ePj73IiqFxTmbgzCAd5OuNe3Dz21ae/pRYoYeY8xoUkLv34spzjsg9ZrHC+auuHJu//wV2/UMGb0giBKpJPc0fMajnZ0WnZEJeYA5A1jha2v63F6HMTQbtqBPHXcAyY+TxkSOnXZm27LLe/kUAgDMGbTGGkMbV/UCgJTIy0GzNqewNMIsj4Z31zb3u72NMfBbTFrZr5oVgEuv0d2ezj04Z/wQHgWMwVBn4GDe3m1PskuPfTR7xi6pSGCacoA5Vmvkt/t1ZEWBhbf8GACV6zKk6sWZl9bMubGBRgAsLe8z67eWPkX2VCCvhr2GhTxd/vfBmcEn6MxtY1TiqutqB1gXlbjIzEHuGzTh59GzNm5cOHUrnzaN6+s1qgZj61V2BwC4tnNtcKS6Sv+htT0kANCjf5/gB4sObdrgX2t+NXHmsA5ybtan2ZE1V49OHHmGRgAAHtW7B41sU9BjIvlgkMqr1Knkc/TZ8XHDztIIMGOwazl5Rd+qRSb1aNCy6o4b9w6sGnhsHQBmDHpnL3+RMD5ruf7Sunlb7n6gEMJGvVyO944cehA4nbrsrCMzK3wu40xXVvXaEEwLaOAYIxJKDs7rc4TCQrnjtPlLfIqYJwOAPALrVQu5eGTsiJMUAoQQYEru5NNh0PBmZe0tKBwAUHL41VED79k4yI1pqWlqrdMPfWf97E8BYIBSdQIVF9+cXj7qAo8CzGr1/EoNa1id+JCTGgMg5059mgavvTZv4kjTvuV71Fgb9KtYgAAkLUfNfDpj1tXti2+bfjKYNejsJ/1V07nQJ0Xy09MUj8cTUJC3h4MgiJKihAcNPFHFarUd9M6SPNcbhfsPNWuI+HnfFuRhIwYwdfp6DVuxvdal0w/fRKr1rFCm8A2o27RmadOb8fgS+4BqNdRcrkxZhvZQ8EzJ7QJ6zJ6sPHU71Ihk5eq3al7Z5lL4G4HSO/POzb7C0J87fopN1uiNGGgrW+cagU0D3K0t/m+WEGCMxBWDVi07feJKZJKKQ4ijJA4SAQAAT1G1Xj1+aafsnCiBrEqtenonZzpz2wQNhq3wrX/9UvCrJJWOEkhcfSo2aPSDvWXF25Wu3YhvL8h5Jw/tXLZyPVGaQpiZO12m9ZrNFc6fvR4WnWjgaLmtW5V6jap4YwwIom+FqpxrtWs/sr1f5vsP7WtMm9B557XIm6efVu5SlTZtG4bGI9fZ+B8NDonUMQAAdqWcLO3yQoD50p4zF/mdPXX3fRzDYswyco/McIgv8ajVsGHO9ApzGGORf9C6ZceOX/yYrKWF8gp1WtUrDdu27LF2MyWn7H3K12Ds8rxE0ah3Mc1EoXkuNRs1dncwW6jwbNSwtnfWA5b2pWrU5Kg8bzPiiRVSPgCA2Na7Xt16pexznp8USD1/aNiolOlFBob42HgVrfSsV8tfQmFGr9Zo9XHhz5aOGZO44q8eZYu6Mku8g1YuvH4r+N3HWJWe5Ze28qkW2KqmL8oc38C2fs0XB0nOXH6aojOIFO71WnXw54JXpNrmHEYIMMbuTUb9YeN/7l6oSscgAJ5dKZoCAASARUrvoBUrbl++/PxdrI7hxEqXyrUbV1MAYAC+KKBaHXfwMn8VSZlqjQ3WLuYtKZTUGTq8z/nnifU7dM/byUEQRAmBLO99/Q6Z3bebf/zc1TFrYcG3/BgDQp/rDcg8B+dZI+dvDLiQhyqKOa+gwLVxrucQ8q2SOQBe8PZbMjqeP6VZquyWKyijnFck56porgxz/ih44yxsn9yNYJ435OyGgprgM8dFnuoXsBhB1hulc9ohO7tC31NeUJXzHYEYA8I3V7eZe61t0ObhdXL6g1I+7B37yzanwX8u6uxTSM7ZBRS4c82Oy8L3vnm7f2YfFHZU5Wl3yHysBKPcH/Jm/uWTNQiC+C+V7J4GVPDHz52NshYW9uRDoYvMVsi3htlj64AKS1+8U2SBa+fesnyrZG1agdtvySk6f8oCnsgvJHdU0J+5/0sPs7vagrIoun6FVLLw8otOWOSifIsL2DYEn2/fgtPnfAGAFQ52EsPTy8cf2tSx5gFgYA2xp/48orKtOKi+T5ERVSGFo6JWyL3SZ8so7KjK0+55vjZfXuCaBEGULCW7p4Eg/hdgwMjw4cmN04dP33kfzTAYIySwdqheq3HLNo3LOsnJbTlBEN8JEjQQxH+v8LCgRP3n2gRB/K8jQQNBEARBEBb5n31PA0EQBEEQXxcJGgiCIAiCsAgJGgiCIAiCsAgJGgiCIAiCsAgJGgiCIAiCsAgJGgiCIAiCsAgJGgiCIAiCsAgJGgiCIAiCsAgJGgiCIAiCsAgJGgiCIAiCsAgJGgiCIAiCsAgJGgiCIAiCsAgJGgiCIAiCsAgJGgiCIAiCsAjvv64AUWzZ/5s5Qui/rUlB8vxf61+9jpn5/5N8Mav+GBYldvZxlJHj/98T+fTC60SaQgCAMScJqF/bXpiz1JAUfuNJuGmvYo61LV2/sqcoTw5Meuz7OK2Xj5eQ/g6P/K8g148n1yHOqROjIpKxdykPEV14ku/zlPAPmG9dcbfNlPYftEjhe8Mixo+PH75L0ZiSMWLbJrUCTEf/V2J4d/fGBzUy/aA4xrZ688qKvOswUe/fczbe7krB1yu3hAcN/9s/mMLEPDyw5M8z6VZVps4fU0r6X9cmt9QPD+csWZ9hoAAAU6I2I6Z2qOj89bI3PjuxdvXxl1Zlm82a+FO+X4ilXh6cPedohNC+1dI1/Ry+XuWIz3t6auWGx9YutjIAjjXaK6rnChq0EffXrD0gtbKWingcoy/bqVq+oOHThkkzr6VoK3WfP71jqX+37pbIOht96XnIkB52YOuOOy+jDRhJlYomPce3rZx5eBpVicsXznwVRzX9ZfqAerm2/eaWCdvupNMUAmBpXt2gdQOc/tlmfEdub+q98a5EQANgo14xaOkfde2KkXrzzO7X7QbuGNP8ywqPvbJ60o5nIj4FAHq168jdQdULXrGw2xjDyyunj7yOpxHSpyfEKao2rFHxqwYN2jt71hyOkzoqpACcUVfOI1/QoLq2fvza67S40vSN08sLC87lC5TUoIE1ZIQGXzt55sSD55/ULOaLxDJH7yGjJjUs/799FcAYg0v1bjOn2K9ev2fBtCWTpg33c5T817XKwRNZl68QoGPptI9PHn5I1RrZr5g5xvyAdmMWuh1dsm7/qCDdvAnd3WWCLzhD63RajmEohuG+YuWIoiCENC61NqwalfUFxtj8TIsoiq43YNYvgZ5ZiyHXztUzWsQxDGcAw79VZQtxGYnRzx/8vXnzsRhQLFy5McAlbx9JkZjoS+OHLY1Tevr5eIgorNdq9QZ99lKMOc6oZ4wCzOU9ZpUu5QICtBRmXj6+mZKh/p86pK3dKlcKEAn4SW/uPYpONRRz29TpScki3RcXLlB4Va6EhAJ+wusbDyLSCzrmmKTIdzfO7tt59A5bseOxxb+YL8NY2nrc3NYAAHB9ecc5od/gjhYhoW+DDfOHZBeJc0cu6QYtZhmOMmIjAAka7u5dvOLYC/faHSf/XtteQus1qo9vH4v/92doIIQAAyhLN54+1H+DwgAAIABJREFUt1JkTKpQ+H1ts8yp9KBfSgPA6+NBwWHhXzdzhDDGYFe14+yldWMSVWL8JWdIDFCt+/xlgckCG2cnAAzw/6N/6ruAOMb8r/wBH6PXcVkzrXItxQBCr+HzF3RKww5urt/RfmOTLu7defL6QxVtr5TbpHNi+ks6GrQXdpz4JHMaNm5W0wBnCgBzHGsWHwisHEbPWJKsxU4uLuZbjjGu0GpQhVYARvXCyXdSY7/KJn0fMMb+rSb4twKAR3+FP3iX8i8XblOl3bgqAAB3Nzy++wrnWUGX/Hr3xh13Qj7alS3tIJapxHmvyeZHgZ5B3+poZRmGxTzTaB3K+4txbTxieenOnMzBTfY1fzElNGh4evr4XTZg+LJJHSDrjsTPPwCygi1jRkJ0stHW2VHGNw0AYr0qOT5VY23vIhfRwDGJcbEGZOXkJFMnJ6SpjRhRErmtjZXQ1OyMPjU2JkPh6iZiVYlJaUYWUwKJnZ2t0Ky1MKNPS03J0BoxIJ5QrLS1EZmPs2Js0KmSU1RGlgMARPFkSgeFhDZbzqYnJ6o0BgzAF1vZKBWC3EOVn2EqhpbYepWyLWQVrM9IS07PYFgMgCgeT25jZ5VZe4w5Vq1Kz1BrjSwHgHhima3CWsBDAGDUpsUmauydHDTJcRlGZOPgIKH08XFJDBLaO9gLeYgzaGLiEgVKJ3sRm5iYojUyiBYobO1kwrwHUr47IjOsPjU5WaVjAJBQKrdTWlHmRzvmtBmpqekahsMAiKL51vYOMr5phcyfhcjawdv6S7qUVAkfU7QUQoB4tEGjY63zDBADxpwmLSVNrWU5DIBovsDG3k5EWxSZYcwZNBlpqgyDkcUANF9orbSRZrWMUZMam6SydnCVYE1ScqqBxTRfbGdvI7AscwBgjTpVerpaZ+A4DBQtkVkrraXZibUpUXEa2tXJETHqpOQ0A8PRAqmdvY2AAgDgjLrYuHhKYudoI1AlJaZrjBjRMoWtQiowtSnGnF6tSs/IMBg5DEALxNYKG6mQykwbnwCU1MHJhpezo4xJn+LUtMDV0f6rdroWuOXamKgEBiEA4NGcTsdl/a4BAFQJERqevYPEGBOfyvHlzk7WupT4ZJVBZG1nby0GAIwxa9Ckpam0BiPGgGi+zFppLRWaV9qoUyUnpxnYXMOdVraOCgnf9Ic+IyUpLYPlAPGEChtbmTCrAgn3Dx25o2jYc87Qpjsnj45M+6INNGjex2vFIomPu3PmgU5RPIoCANaoi4uLZzECAB6FdEZGzM8Zn86+TLAMi/Ne17JgTqtKSU7XcBgonlBpaysWZJ6qWEYdF50gtveypjWJSSl6I0fxRTZ2tmJ+5mGFMTZoM9LTVXqGxRgovlCusLUS0QCAOSY+Noqv8JAwSYlpWqGVrZ1ClJYQk64Dua1DdrthzGnSklMztBwGmi+xsbMR8Sw7WswugVwh28YZdWnp6VqtnsWAEC2ysraRS/MfjOlJcekaAwZaZmOrlOa6uhu16Ukp6UYWI5pnpbC1lgjyFV5w6VEPL1x/GVe10/jRjfGIPk8s2qJ/kS41Jj6dQQiA5mGNzgAywdf7jZbMoMGQrFLzxCLaFDyZX3FMOzvu6pp+6z9OWbe8hYcSAADw2ytbpm++0XfOrk6V5GBM3Bw0IZTfuEsT5tzpW1HJag5opUuFvhNnNPTiA0BC+NExwy52Wzol+sj64NexGgNDS21qNO05tk9TIQ8BAKNNPLBpzY1Hb2LTNBgjoczGq+wPg34dXDprTCnjzYXlm46FfoxXGxhAgCiqZr8NU9vZZ1Uz7cqWtQduvUo3UIjVcwKbgLrNR/TtIBd+nR376dbuNftufIhL1OpZAIovsPpx+rx+ld1NS8PuHly362J0YprWwACixNZ25Sq3GDGss60Q4p+dGTX/SNfBA27u3xypgh8GzmyStm/5kVcGnqLz2Dm9anvqPj2aOHFRqQ7jysRfvvzg/9i76/AojjYA4O/s7vld3D2EEBwSghR3K1KsuLS4U7xocWjx4i7BLcHd3UOAEIi7X+z8duf74+IEcsFa+s3vefo0rMzOztq7M7NzIXKVFjESl5ptp80a4GBc3jhlyuEdm649ep3N8iidCqTW1Zv0Hj2gUX7fjIib+zcfvR6RKNfoWAAEyLTnoi29K3+ZjjyX1w3b+lTEpwGzWr3Tz/s2DiraCsg+O7F2z8Wg+FS5RocRRdMS+/HLFze2MzFq19jna6ZteZkuz1GpOY7iiaX2rrV+nTKhpiUAQOJT/7F/He80dFLaA//nbyMVaswTm3l3Hj6j1w9GZv6q39Jjt8JSsxR6PQu0wMLKoW63kcNaexlOmucHps24bbVuXJuT/udeRsTlaFie2LxaqyFTf2kgAtAmBc+YNFvmO7yNXej564/i05Uc4lm61Bk7d1JNcwQAWfEP1qzc8y4+NUetwxj4YjNnT59hY8d4WVGUIn7NzOnhlPtfKxe7meU9LFNf/j5hvt6z3Zr5Q2Vfu7YrK2jeyAXxPJoCrNeoao84MrezaUGxrB961eyXpjl3/B5HsUK7IRNHPtqz8nl0lti5zV/rRzkBYE5/YM20ay/TM3NULIcpnsja3rX94Cmda+TG3Gzs7ZVrDwRGJINQqFNka1mMaYGpiUnb0bP71nYFgNj7B9ftuxKVpmIorNYj5wo+A0YOrWkvAwxg13rumip2zs5Im8J+6LH9Ybmd9QAoBIAx5op3jchJCJ49bXaaisEYY4rfceLSoY3K1p8j6s6hjQcuhadphDSnZBmXyg1GTBpcQcIDAEXKg5kj5/lM8pPeX3X1RVS2iqWFsupNuk0e+pOEBwCgVYasX7A2MCY1W6nlMPCEUjvXagPGTqrtxLBK+cqZI/kdFtk/XH3pTYa0WvsF7YWL1gUkKXD5HwbMm9pFRgGA/vmpDbtOP0lWcDTodVjk6dN49PC+9jJemUuqBPLTy1aeCo/MzMzRsJiieWa27q16jujTpFz+EoimX51eu/H4w/j0bA7xbTyqDxs/3tc593KWR9zevOXgi4hUmk9rlKyFs1enIVPaV5GWvmUMLo0GLKgxwMXGBOT3v8S+fGGvj82bcTxeyKMA67XqOqsuzPH6con/uyq3jYIB+A2q1RSp72+bd+BRtkb3foyNKJ5AwC8cciKaEfAFea9EiOGJs5Iv7zxww67VpCMn/DfP7s7EP16z6bgmd3VGaqY8vHj+U43njI2H/I9tbGmtv3Xm2PVUpSG1e9tnHbzyyrbVmP0n/P2P+/Vv6BDz4tya9UfzWhRjty5Y8zjNfMxfO/0D/P39T2xePq+lV/65yAUeXbfmbJBHu0n7/fbsO3Dwt2Zm908d2nkn5suUT9qzhSsDYimXmX/vCQjwDwg4uGbJZF9HWf58lZb1bjd4xbYD/v7+/ntWeltwgfdPXH0dZ9hxgQhOHT7T+o9DCzo5Pzm9bs9VzV/bF9XQZz99/BYAEEXzhZI3JzecepL106yN/v7HJrV3jr53YMtJYytGA4+tOXwpsFr/Zfv99vgdOtizusnjkysP38zbd83d1UsPxIi852864O/v7+9/cPWiMVXMja6E+SiMcZd5F86e8vf392/gohPwinfB516dnL/njt6p0YpdxwIC/P2P7F4+9VcXqfHxisLMo9G0ZZuOnwjwDzgyqq1bcsiVzXuvGGrkEU3zBYKzu9a+UHos2H7C/9CaprY5t3cdvm30k0ZHmXYcPnPvweP+/gE7Fg4z0cRe27n6ZWruXIrhS3VJS5fvjETlF2w5FnB0Z2NX6tXZvx+EG7ppUXyhJOXFEb+zwd795x0/4b9hYiv1uyvrDj/OTVyrtfVpNXv5zhMn/P1P+PWubRfz+tah8w/0AGDm+lM9e1Vm8v3Y5PyyfPfycTaiKjdonFcJ9NVgjM3rbDpz6qS/v/+agaYsYooeN5ovSLrvfzDWY93axaZU5sFN65S1J+5d1h3Crt57k7sMZ+YxbNqyQ8dP+Pv7/zmyrS455Phmv8TcppLUHQtW3okXDF+9f//evUcO/t3KjcdyHpN3betb2xUD1oXfnLrymFzmvdHPb6/fvl1ze2S+ur1665ncpz1Q9s7On1wE++b17tipc6fuv16Jkuuyk6f82qlz586dO3fu1LHDlQgAAFMX7+0HTvv7+68d3ZCi+TRVxjv2u4DfFx/MdG6z4+C+PfsObJvdSfH01KzVF3LnIkpsYnFr429XU+wmrzvqf2JLGyfq4fWLD9Ozc8uNVcs86k1euPn4CX9//6NjfqycFn5/797zSgAAJJCYRp1aG19h6InF3bVvbyxdddpn5NJRDRxj311PzgAAiL/tN2/XLXH1n/ft2+u378Cfg2q+ueW/5virTy2tYjTZOtMuI+fuPHoiwN9/x7zedHKo395DCfnzKZ7g7eEle194955x3D/gr2EN5BEv9h+/l3fBpW5dsvBhou2MrQf37tl3eNdcG3XwjgWLgxVGbBkBT2jiYmOS+49/GYyxz+BN58+c9Pf37+pjwhcwX/Yx/x0GDQhj4PefMKdpVfvAg4tGj/99zdZ9t4KiytrjjhKY9pz058xePjTGtj69u7WsSAefup3/4GZZq5qd/lw0oaoVA4zDyHn9HVWRZ86FAgBEndp8PrFChzF/9K0vAowpSYcRMzt5mUS9uv46TQEAkB0XkcGzrehbz01maDCxKVettpfIENvocxJOXHoq9Wwzsoc3AGBAdQb90aWi7sKhU1+k1U6dkpLOgFM5n4q2EsAYA9+xfLWq1maGSwVjVLVpv34d6zuY8ABjkLlNHdBco9S+C819HiDA9rVa/lieltk40HEpFfrOcLFwLefMKVWqvC1gia33rJWrOlexwsA0HDi1trvk5cljScZkTn5/x/Gnzj9OHdPSBTAGoDuOGliO4t2/dlVtuIO/iw2nBBV86ntZ8gFjAIFbZd/q9vQHq17LIr/KkWP1HC7hUo9OjEMM41mzjrOUwhgDI3Wv7uMmFRq3cUwzjYb91reKszkAxsA06zrCxVaqCg5MLdSOb1u988q/xpSTAghdew/+0RRehzw2LnWM2w/87ce6FUUMYAwWlZp1q++lxVkxCSn5y3BaqkKnsSuWjCtnCsCYt2taEyMclxyXvwBP6DJh6drBTT0Bg32DAbU8hfLgt5kAANjKvcnwvl0rOEoBMCBpl0E9LRFKCAtl9QBA/9Crs5Mm9cK53GpYzHHPHzzVUuVbt6j41W+ZhWuKtfqSjhvO1Jj2+X2kvbXQgaKwpPzEXt6c1F4iysjOAQCgaN7AYb/Vq+LMAGAM5Zt3bexsq1K9TjMcmPjQG+lMlR/aNXLkYYwx37nP4PYm6qePHxnSxlfOB2h1tv0mjjKjAGOQVOo8a2CNtDvnTsZ/gZ2r22HomNGjx44YWNFSTAtl3QaOH20wZmzFom2P2k/otstm7dl7Rm/jOWboz1LAGGOzKj1+6eXL3fM7G5m3DNYLnBrMXTC5hhUCymbYkNbCjJSQCMPbExaZ1Bw6dEA199xTukm3fm4ySVZiYI4CAAAhrGVte3dvCF5ONhlyvffQ4Y0qOLkIdHpWp9NwWoX/6at88xrDRvxIAWAMrq3HjWtq/dT/8JeIGjDGdn3nTW5fu7wEAcZgXrXr9C7luKiQRwXvL5hVmXafuXRwq8oA4NluXK8K8OrJvWgAAAg9uPxKqvOomb9VlQHGGKSVhvVsjdl31++9/RI3m39S4SuG/Qo9Y7/DoAEQAhDa1xi7aNOWhaPtIfn+5ZNr5o4btehoqs74RDipeZUmPq44Nz3s6O5EM4rEpAzDbL1OXa99f1t+3vljVrOcPRceGwkA754/yRCa1a/vBXkrAwjbNKqsTc8OzdEAAMhqNa5JJ9/3+3XaqkdhqSyHMcb5XcFVqsD4uBzXOo2lgFmW5ViWBUGNih4oKuztZ39qgAGEXhVq8ag3t3ZMXrQjKFZh2DjkxcO57dcYG3pasRiAL8LAsbq8kwtjj+o1eABAg15XuWlLKwCW4wqF05h1rNWysh2dmyYWO9nYUNmRaTmlZy/j6Z23aqs6zV2AZVmOY1kWeI7eLpCUGs+yLABA1dqNrfTPDy3+bcnet6kKls3N/bf5mNatqo8tp7++a/HsTQFxGVq2aNGVBuUWLMYcy3EsCxymKQaQrnDnP++mTa3zrjlsIuIBxxl3i0IIFTlumOULacCIK9R5hOObNW5TU4oBADDGnm3GHjl8qG89p7wKb9bU1ruK4TtGBAgJJ672P7a6nynGGPJOC47jWI5lOaAYMQCHWQwAGMCsecs6/KRr1x8aco4jXwSFihp1qC6CLxLPfRYMOqeKnV0FgBEN2N7dx1wAuRdc3pHDhYoOgBPTFIcRh1kAAJrhI1BkpGv1gBBCAMroFDUSCYW5awa/DWGdale1Ai7vnLWoW90a4t8a9U5aCk/fFm3btmnVsqmjVEDxRPWatmjTpk2bNm3atm3raFSb2MdwWfKgpEyZtLqdJWJZjuM4luVsXcsJhKqIiNxQktVpPZp3Ly/NOylFEhFwOPeMRUVLjgXAYkRxWJd7zDkdz+0Hd1MAhuJYcf22DSgALndwBEqni42MSaSqN3Jn8i53DC6VK8vUYSHvPnfX8p6MGGOM2dzMSUUyoPRs/tsNp9dVbfVTdau8U5SqUd0dJ6SGAwCk37kVZ2JvV9Waz7Isx3Esxzm5lMMcJMcmG3lJ/t/6Pvs05J3O1tVaLdvUKvnt3dMBJ8/d85u7llr7Wxeju2VhwAXPA5FYQiFQqQs+0Sn0vMAANhIZRgoVAKjVKuDxXMRCjApmm5uaY6RIi9KBO8aY6f7Hev6+g3fuv1g4fhBl4dqwUbN2nTpUtjV0y1JzlDj00IyehwqfmxyPZ6mUA5TlQ+QSigVjjNymrVtw8MCJu88uzxxxXGJfoUGTFh06tnAzExr2Sh71/PS5S4GvQuNSMzkMAFhcrBNmQb4+9EQoPOQKJRMKAXK0GoDSWgNz1EoeX3Fy5viThbIMGDgrLcYYMMbIffzKP+33H3/w/NykQYdkDpUbtWzR6cdWjtKvHt1ijJFt/VWrqb2Hzz+54zfi9HbL8jVbNG3xY7sGlu918ywRp0i4fPrU7cdvohNiVToKADDWiy2Kb+dTM8i9e3TuwqV7LyNj5JlqwwVAUyU1nbzXk7qUgQMQQgDqzKirJ8/deR4UnZCmZTEgwAC577oIY0DNOvU8+XTHyQNhdXp7pN058SLTbXyXhgD43z86CuZynlw6c+XO49DohCyVDgAwxozhwGAA2xqDf7BadPPUyp2Ur7uZLj3ynP892wYDO1bLPVZalmOSzo7sebbwkWNFguycdIB/2TApRek5Vs+h7OTTo3qeKTwdYyqnoOIQPnJO6tUpt06duv44MCouWaXDAIAxlhTe6Q/GjAhwNotF3J0NPe9uKDKZp1R8gXALgFO/uXfx/I1HoWFhydksQgDACXjFvj8veLHDAPZmFgDpynQAC51KgfXKkPHD+hdemqEpjfLTv9L8P/G9Bg2Q/+6FkE2F+r9O8cRjhh95GRjPdXamPqUJXJGdxWGQikoc8wABRGWkI6qiBAynoE4fo1T7FpqdkSlHWGLtwQNACDAwdh0HjGvXW5edEn5m76aTZ/ffeZS2YcsIw7grWKvy6LdkcVd3ta5w5RHil/nr7vdzigBjMKvQc/jkrno2Kz7wwObtV/13PIrX7J7WFQAwpG79a96DZLs+02e2rWRD0bToTUCHOYc+fYscJ1coAMwFxmQeAauT/Lh0UW83K32R6ZRQQBsyz7es2Hf0tJ912pSowMNbNl4+uPFWOLf/93afnkPjGM4mkUu9IRN9B+n0iW+vb1u3/8SetW+V1gv7VDYiAe7CmqkbHnCNf52wqlk1IQ94OQmz5s5J/ELVg9yrQ/MXHoBK7af+MdHDUkwh/ZP9S1ecjyx9TeOc3Th3711tk6GTpzSrKKApUc7riaOX5t3bEcJg6t7A0eF41NUTKb3HXgm4L63asoEdAP5q35J9OUnn1y7c+MChyeDZq5pZCxmal3Ns5pxjSYauHgA4/u7z9HIVqygDL2y/mEmLLOt0mTa46w8ywBghwIA4vd6mzbp1A01V2sJPSJr3+ZfrV4cQK7Vut+jvAWaaItWwNM+oz/bv7Ji96py8Tt9xy2f6SHiIr4lbNGlemNEbB1aDfhh7aHwTlabI5c58gW7NOO5JwKJ1R4Uu9X/7Y6KHtZBjhKnH/xi6/YO5QwDhyQkgMLG0yP0nY11h+bzpVpIizwuK4X2P1e/f0ndePgWvOTxEA01RhvcssUAIGlVS3oAcXE7crdtvPvKKhzl18LO3OmGl6pVKrhPMCbn+JlHSrH49AKhSrbZYnf0sqND9Gmefvf1S5GjvI5MYcgUACFEMT2DhWKn/9DWjW7qycY/fJAMACASVrez4McFBGkYgKiAUib7M2LiGIkEUzefxrNxqj12yqWdFTWJQiCG7OPLKixBVpX7zutVylYhFIgFfpVR8zo1fmxMXEh0nqdrUXVLKWzQGcKrqbUFlvX2SwhMVIRTmfuyan3meQORYod5vy3e3riRU33n2BaozS2eonAaKYnh8gUu1tvM3L60rUTx4+dSotZUvLj9QWddqO6VzHXMTkUgkQqD5gsNH3b9xNplyGTZnSDVHC7FAKOTTCqXuyz2wnzy6kchv2H9CRx8zqVgkEnBalabwfASMqXXbKu4KxYtXF06fjaDq1G/Io7+DiAFAeeXyfaW178LJnVzMZSKRiI9wjp7Nz3jq04f3laxPxyEL1207dOTI/j2bJvT4QUbh/MvYzcWDiguOzKGERS9XvpGfDv5z+FITVxNTtSo0I4MSFc+8MXf+kNvn45ma7Wf1amhlIhaKRBSnVRtbd88yvEp29lJ4+zqG4xXduJBX9LUuOuhOwMnzrxOyy1ALh/G7Z0Fqje6nIb9VdjbnC0UiBsuzFR+r98KpNx6Gm1bx8gYAsK5e2zQnPT02my12KxLwmG9Yd6YOvXvB/8y16MwvOQje1/Z9Bg3Pz+44fzcmIYMFjAFU6bH+G1ddjmeq+zZwpBEGMK9R3YXLuOB3JkaPFXHPVs6edS2sWC9DpNdlZ6v1GGMA1f39i48+Tqnbb0Jlce6TDyFanp4IABhzGeG35y+9AJXr9q1jAQCoUtfuvvSLo38vPfgwW4+xKv3U1uWnXyuq1m/vaibAABD37MCZm+EJWQAYsD497P7NwBhsWdndBgCwQObWxNtL/erE4nXHItKUAKDJTH10ad+uS0Z1JSxVaujT01efxmZksRgwq49/cep2GGNe3tXNsNs2lqZ8OvLBxXglcOqUm0fW/rbpgqBssTVSZ8p1LMYYcE7EniULXmeWHzi+lRAA5za75/a5BEMLEM7r0oEBXDp0/8HsdcDyhbsuJ2bpMOaU8rjbp/ceu/HG8HTNDLoUcC0wLl2JMAZWE/745OtIBVWzovsXKZr8Tgd5dao4d4rhX2zYg6sXHwenZKswAKdTvr5yOjibV9XDmGoGALHMmg/y6JAH0TnAqcPuH/t95pKYDE3pKxrHytKW0qfcvhzEAigTgnf/OWPvrcgv9wsMVmZWlOb1g6dJOuDUQTcPTZ+/OaX43YHfpHV9RqnyO3JSzZP+4Fv1G9478o5S0eNm3LpiS2sBI4+68DAagEsKu7/q95lXYzPyH1uIpmkEQbcuR8clJKWm6zlcOGkEqEGzpgJ+5JY/ltwPTtQBgC4n6sXd1bsC8hbRpyfGJyQkpCSnajkMmEtPS05ISEhMyzI6h6XuOX5vQsG0vH+VdEoLrLq1rq6Sv1254u+nYek6DFiXHfr0ypq/T6YbtXFzCxukC391M0IBoAt7fHLu7D/DFFojjzst4Ddr4Mul3lm1ZNurhAwOgFVmvLp3et3RB0UXVJ3YtnTP7q1r1u4ufrnk7WjBvhU67lJzCUXRzx8+0rKgSHy5ef7Uvy5HFQmGEKIy0+UcYIw5Xda59atupJh07txGAABA/dDn54q62LXzFgY8idLoOY5lE8KfHNvwV2BCka1D0dbagpuFVpGUmJCQmJiRnoURAKtJTExIiI9PLnHoyA9Jf7Fq+abdW9fM2nhZX/rSZYCLniZFS+5zfZ/NE1zK2S3bT3E6jUaHAWie0MzKxrVm+7GDWho+dwar1j27Xdx7+eyIjkdAIHX1rPlLb+sdBy4VSgIp0wLH9+tuYiLWqTSMuW3dHuMmt7PBeQNx0gLx7Q3Dbm4WifhIq0N2LhXGjJ9gLaYBMMZU1ynz4pZseu6/pNceNUaMqaWte9Nfpw5uzDcMu6VMOL5r+8HNGq2OA4T4QqmNS5VxU0a6AsaAgBK2Hz4+IXvlnQdHJ5zfrmWB4QlNrKwb9W7xRcpGKw89uOXgFoVWz7IAFF9i5uTuO2lE59zWR3HLtp2uHb91clj3/RzFM7NyrvVTO4ddASW9ERduFC/0L0RH3dzc88ZOUxGdo9FbO3gM+n1MUxPK0NPz6b45c/wesQjRfLFYQB2eO2KvnlMLKq49urwaQ2MMHcbNiVy+LujiliFHVnIYaIHEytq2xYCGhrQ1qW92/71hu1arYzlAlFBqZl+u+bxpXZn3xhT+FKk3Bv28MEnIowCEYnMGjvVtt5/DOve2M1dPaMYHnBX9YNvBhyqNluUwICQ2sXH1bTexb/XSN44xII/eI5uG7763ZNTPGg6JTa09vWv+EB38pNDN4JPzjwEqdB7c6t5fD/f80WGTlhaI7VwqtmnmffxK0KcmWSx51069f4w4fHve4M5aDknNbL3qNW0Wff4JV3Qpz6bdyu3dHy639B5d3R6+2aiMb08vGfP3bYbCmBZIzcyebO3Tbj3Wa7L7rbg10LvooiXlp1Wfkdcjdh9bPGqPhuOJTV0qeLf/Idr/id6wT5Y167ewPnr2wYlx944BYJ1WhxGycPXt9cvgNrVcGIQc63Sd0jV2y6Wg5b8PVWj0iGY1Gn6ZAAAgAElEQVSkJlZWvu3zko9YMWbYc5UYECUQChmE//p9JMthYZUOR5eNKCE3ZRRyfOHkzXdYGtF8kVhAn1o27qieU/PK/Xlgpa+YD/BkcuMpr2RCCpBQLGHQ1WHtzmKEPZuN/3NKOz4Gp9bjZqbl7Lj8ZOHESyoti2ieiam5dY3u+Y0TJRQYKujI1WVw15ebL60a12MJi0Qyq/Levi3Mn9zMKFTcH3mxB8a3x6gBcUtPBl6fNeyEWs9RjMDE3LJim6FFlgKRp1eFuwnRmfKoHKXWXJDfdJG1d3SvXWEgoDAtFIsk1Kpf2/3JcUKZz8pdS9zFVLVG7b3uRgWdWPiTn5YWSGwdytf/uc3Dzdfyk7Z2KGfz6vzAn46LJTKsU/JMbH07j+9Z3w0b+n6ZN5k6JXmV38X9i8ZtVmsBaJGJmb2jR5Xc7aduHjTqaEoOgzFPKDW1SF/arp0O6THbdOOFme4AqWHnf5u2LZOlADEisQAFXxg8+BTWqR16/LVtqI+xR9fCtUF506NhmaoHQbHQxs3Y1UoV8keLMfeEPAZjvljKFz6e2K4di/RW7v3/Xj/gk3+yJx/6YuHHt6TNTkiWq7VarZYFhBEjkJlY2FibGh7pCAHGCLAmMTo2U62n+EJbBxcJmxYWm2btVN5CQoMmacXEaYGsx+ixfUxpHaL4UgtLBytTlHcbTHy7d8qE/b6jtnTwUuhYxBfLrO0cZPy8sb0xBoSwVpGQkJCt1gNixKYWTrYWKH/sb01OfEqaUqVhOYwB8fgiS1s7MzHPMDuvW7c2JT4xM0el5wxBg5WNqeRLPBhBp8pJTklWafSGMQ15QomVrZ2JkDbkGgBhvTo+Li5HpQOKkVnYOVgxMa8jsbWTi7VUm50aEZ9qYutmbyZUy+Mi4/VOVVyloE8OD80W2JRzsFBH3Rs5Y4VlnX6Df6xMsZgWCC2t7C1k/PxgS5EaG5uqKHYr4ZDQ1dNFjPIKWK9ISkjJVGkwBpovtrC0MjcRIYwBIb0iIzFNrlLrOIwxIL5IamtnJ+FTX6RkQJcVFhqvo4qmhLHAzMHFzoQCrM6Wp6TK1TrDWJRIKDKzcbAR0cY8HHOPqjwpOjVDxQESSM0dHKxzYsJSdUI3d0c+BZqs5MgEuZmdm61p7h1bp0mNDEsyca5iK/t44rmntV6RHpuYptFxNE9gaedkijLexqTbOrlZSPgAkJ0YGpNJObq7mpY0tiinUURExyCBtauL5fuzMcYIuNSE2PRsFQeUSGrh5Gghj3yXQZmXc7Yp3LH47sZh88/zJ+9c3dKCKWvMcGZxx1XxzS6vm1ji3MxnR35ddLTZsPmjWnsVe5dVy+Mjk7KLnQCYYy1dKltLID0mOEFnWqWcA7Cq6LBoTmrj4mDOaTIiI+JkTlVspRgAqeRJ8akZOg4YgdTewYHKiYlK1Tm7uUv4EHln3+KNp2wbDxrQsiINmNWzOkWS/84dj1PoiQtXNiwnM1yuivTEZHmWRocpmhZLLWxtzRmU24U05l2Ekiv++o1EZp7ONsb2EuV0CVHR2Sxydi0nKjrukSo9Ljo5u9jZzyGBS3kXCUUBKKJeR6uK9/3GQhM7Z3szKu+OlJ2akJyRrdNzFM2TmFjY2JobbkasNjMqPJZnU97FIi+KUKe9DUsxcfawM8m9X2Ukx6RkKFmMBGIzRydrZVxYslbg5urMA11MVJiasfZwsaQhM/xlgsTN01ZKK1IiYjKwq6ubiIcwQghYeVJielaOjgWa4UnNrGytTFChH0nAGJRRd8fOWsOaey1bPN+u4FpgUyNDU9RQdN8woiSuHs58BAiBPic1JjFdy3IUT2Rl52IukL97k2rhUcFSCBgAa5UpKSnZSo2e5RDNN7W0tbOQ5L8AGPZOlZWanJqh1ukBaKHMxNrKVpx7M9Mlh0Wm67liBYuxzK2ioxBAp0qPik5modi9hONbuJSzKd499tJfXZeF+Z5dN71IRYjhok4LGDVgi9y1++YNv3xofN8PyNw7/pfTopb7Fo1kilc5qmKDo3Ko4lcMI7BydbP6/HqC77OmgS+zdyr5RpvXNA6ABPZuHoV+YNHKy6vIlwk0T+pe3sOmaH+g/FLGmDW1d/bwLCHx3LZOvsTBtXxJGwcQSB2cSviQoHCzPQDf2sHFuvgCJe5T2fBEUkeXErcOhv1DjNDRtcigcs6VKxr+4MsKSklo7ljRMJwmMDblKhYatBkLTe08PSsUvrnl3wIkVk5eH/sABAEAMBJbZ4ltSfljJGZOkhJC4S/Tysgz8fhAnxXDRoQyC2dZ8a8dwKhHY24BmNu6mBfaMQsXj/zkBCY2XiZFhr7mCaw8Kxv3tQxCCIAnsXD3KJw9q0qFylpmV77yh3/fkBJIPDwrfjR52srBtXBurNzyUjc0LnG61EcHVp1N8/lpTEsL5nPCOFzabxYXW0Bo7pB3KpbAwrlSbqHQIpcKuQPfUQKz8hUNJxICAJG5rUfRA1PRsA6nC7r/Qq7BvVq29yyXv1mnhPsnH6WkaHX6/ExILOzcLUosX6GzZ6WP78hH5CZP8ezdPUr8NViRhaNXCadkPolr5Q9uPT95mZW9zMr+/TkM39SjommR6ULLClUsC69sZuNsVui05TuVz7s+eS7l8s8o03JVc9ORWLtXzLuvIQAA2tzW0bzY1V7wLSwgYOXp6Syrs3apZ1Lkpk4XnIEfwEit3MsXXsTCs4pF/qYRX2zr6FrifSZ/70QmVq4mVsWXQADAs/Hw/MhI9TyRRfmPHhiA3MP/ofMcI0AY5KFJCkx5tGxg+Rk1d+9dUCKnSh+82D/f9xk0EATxrWTEPjxw/E52TtrLwDfW9TqP7tMEiv+cnpGQIDNy+/ZtGGPMmrbs97N78VcyHHb39I7oW5jVO9Tt92NNIwb0/UyIrlSzIvMg8vDGuS/cHGVCGlhNekp8YGBExWaD65Qv7alQite7l56WC0seMpnTazxbT+pU44sMqPx9wlzwzVPXn78Oevpc6NlmxIi2/6Kf6/0CNM/PBTyKz6IZXkwU9X7H02enN9x6nfriaZB9s0FTO1f4hC+REIA+5d3OHdsRwqzOsdPI9iXGnV/c/2fQgARCkYgSfOi+hyieSCzmfZnBi/9bEC0Uid8fgJn4D9MokoKeP9WI7ZsPWTiodaVP7l7C8MUmOPPGjZsAmNXZ+vT8uXD/VkTzRCJhenjgzXDgdJqqjj2+QdCAgSrfYvBO9yrbDwW8eHRHxWFMCRw8qg39Y3yTytaGF8XPSD7t9ZOnSZKSP25ktUra5z/1Q9ZlhnF88JOnb7Pr9pgxuEMN9NnF/S+jjw18fD04kQYAJJFZFT8NooOuv4gr32rksh5NPGiAsu86YoRiQXr6rVs3ATidqlqzbxU0fJ99Gj5PoVOzxLM0fyL+xBeq/wdfppcB8e9X9Br51GuipPUKppWY6jc5xfK6GJU04/MufqMS+H++jP5bIUJxHz+yRU6OD56DH03+Y9fT1/X/GDQQBEEQBPEJvs9xGgiCIAiC+OZI0EAQBEEQhFFI0EAQBEEQhFFI0EAQBEEQhFFI0EAQBEEQhFFI0EAQBEEQhFFI0EAQBEEQhFFI0EAQBEEQhFFI0EAQBEEQhFFI0EAQBEEQhFFI0EAQBEEQhFFI0EAQBEEQhFFI0EAQBEEQhFFI0EAQBEEQhFGYfzoDBPFlFfux92/yC/NGK5q5f1feCIIgSvV9Bw2FbsGfeP/FmFNkpGcp1SyHEUULJWaWZuLclDCX8PrageNPa//8S8MKVoXT1yvliWk5kDfJwtZJzPv0vfiXUSZFp+ooCgAw5kQWDlaSMpwkSnlSajZl62It+LSN6xXx8ekshRAA5jiJlYuF+L1lijx4ix/3kFOLJmx6yKMBMKfMthx7enNnqfDT8vIVhMzsOTpILUYYs3q1XePJG35v84kFRRAE8U/4joOG7MRXl85cD03NBp7U06dpp6ZV6TKnoX90dLXfxZfxaRk6FlMMr2KT4X+Ma5V7H9cpTuw9ePtdehhTrv60bnShh5P86eHZ62+yDKVRKdQ6dtLagMauX2iv/nnPVk5YEy8Vcnp1tlxed/zumW0djF/5qd+C+f6mK68sqvppG0+9v2jS1iwRH/Tq9LTUFr9fndi0+CLxb25fuPIoWaFjJDa+Tds2qWpfeK5TvX7LXDsjhgdPD07eG8/7d73LOw2es1yJaZ08ZtPWbXzBfyfSJAji/8T3GjREP9w7809/vUgq4jNYr3l44/yZp+M3TGzFL1MqIWeX7bkrrtx40ZLxXlYIK9OTMtmCyIMvatHc91nK80Yt61CF+35gbN1w+M6GwwHg3KqpO+5GUP+qB9NnwRg3WHa8AQCkvN078bf9TBn3jWJ4AgHvE8sDY2zXYv2RFgCgeb6z/7T9TLEuN1h5dcv8NWdDTcxlfBrpNc/uXD71YtSS0a298heUWLtVtwYAwEmmLBf3aRn5aiQeVWsCgCaJxy97hEsQBPGP+8SgIbeGGCHAGPLqiHGhv4staPB+E0Kx9uf3FiuYX2zd6Ii4Sm1+6dejtYsZHxQxO5YvPXt3x+nmPl1qWhr9xMJPHj/SiyTd+/T2skIYYyS2sBMDYAwIYYwBaK/Ww7e2zl0YIC/h/JxwWj1XQv5L2LsiuccYFy2y0kumYD7GGBBCBUcAFfxlzMZLUbCsVscW7PLHMveh5D+8b0UTKJhfaEmtjns/RVatCInn2g75vXe7WmYMqGLvzJ+x9vqxg10azvgvtQ8RBEH8a31i0KC5sKzXJZPjS5r9OX7eY7nD5PUrXd7s+H3VKbpKl9XzBpgAAMY5KW9OHjhy/elbuUJNCc29m3cfPLCNdaEXLEXiq/Vr1z0JSWEpgNyHCFWx9agFQ5sanh6podfWrt7zMiFHILJu1Gf44PY1cxsOMG7Yc3rD/GePxLlZw0pngm69DYvERgQNecGNXqvWIwqJGcowJfd5jBDkJM6ZPi04UQEAAKhC8xELR7Yo2ys3ZmOen1m34VhYejZf5thqwKh+zSoZXsD1CvmiyYPfVZvs96vz9mUrLr6IpiR27YZO6dOoXO7BwFzyuwcnjgTcCY5SqXW0iUOzzgMGd/ZlAIBVHV048Zjpz5vbqSbO30mVa7Vq7rC3RxcuO/Tco82YWSOaifN2MPzmgdV7zsRnaEWWzl2GTO5ax+FL1YawiphLR46eu/c8NlVBC0Tu1VqPGNnD3axYvwH8yH/9tiM3k7WoSqNBE8e1syg8LyNkx5oNF1/FcSD2atpt+vBOUtqo3FFC65Hz/gTAGGPAIHJq0L72uufnEp5rdSRoIAiC+AY+tXkCIWVm2N+T7yg86zs9vrnrr2X6tGSftk0fnzqw8XKHaS0tAODa3p3Pss19GreUCnjKtPCbZ9aOe/5q+bKJjiIAgPTXhybP2COs1rJbv7aMLiPoztXnkcrq7fq2qlsOAABUj/1WLz3yrGabjgNbSVVpEZe3z3n5atCyKV1lUPCun/9qanjq83hG7U566KO7rxIwzUVFZNBYH3j3sipMAgCAOYcaTX3dzIAnadiyfYUcHT8j8vD1F2VvFlfe2bN05cnIOq3a1ncQ5yS+u7Ru6osXExZMaCE1ZJvmsdEPp4zdCG71Onb1jn5y/dCqPywsV3eobAEArFblt9svXVKuaYvKfB6kR768vH3ui5Bfl03qJgUAhse9vbckIbV263qPAu7u9ot/dktTz9vp5vU9gW19f3CTgTbNf83C3Y8zm7Xr1MqMlxYdeGThqJf9ps/9uV5Zd6NED/bMOxLm4u3TpLaEz+Yk3rl65LeJEX+tm+OZ22MRUXzl+b8nB75i6rfsyMsMu3R101y9euWEn3gUAoCU52dmLNpKVWzWrXdzWiN/dPVA3yGP5yybWcum9O6K7x124DjADC387zQPEQRB/Kt9ep8GXtLbe9X6757YMWDaU783Qa1/WzLalzfr4fW3Ee8A6gJAu7EL21I0Q9MIAYDCFc/edD8wMCzZsaoNQMb5bQHpdj7rp4x2NOEDQPOGNtNHr0mTuDes4QIA8pB76888cm81atKoliIAAGjmSo9cvudgk05D67yXZ6wJDY6nGKqSh6sx404kv7y2z+8RR1MYgMb44aUTDw0zOH19UTVfNzMskLX5qScAQMTlg1cDy1oyiicnlvu/qdtv+pSuPhQCwLiaHVq0fe2R+nV/qSMFAKAZffh9007jp/aqx2co+Ml1TNe/Lt0NMwQNFF88Zu4qimZomkIAoE/iT/z90psb8antK1gBIBqnvjBrNmV4Dy/lg5+v+CsHLDv8k/7IxWcBsVnZANLQW0cOPoxp9uuCMe0q0QAAXatJJ87dtfNy83otrcq6KyWoO2SdL/AYxpA5aOvJjP7r/Im72VNbygAAgGKY8JehvguXTHQ25yMAF7bvihs3Hozs1FBEA6Qd2rwh0bHzvgXDTAAAoKOP46BZW44eulFtdBt+mQcNiXnylJO42fnyy9aVhSAIgvg0nz64k05j2n3EzwIAiQTx7Fy7+zjoWZTXyQEAIYbP5zF0bmUySNw9zFg9l65SAwCAOjMFy0zMZXy+YXGByFMiwQqVypD428c3s5W8lh1bigBjjDEG84btPS2Udx89eD8nia8vHb370qJ85x8qm+W3c3wQxpW6TDt47Ojhw4dndKigpcVjlu06bHD0+ITWHhjjghfX0hIrifLa5YeMVNamXnVkyDyAW/VGMil6FfiCzU1Wz7OsP6xffT5DAQaQeLnZs9nKLMgtOcTn8xk6b23GzNNVoNbqNDqdYWVEmbRpWguBlM/X8n0GdPYCQ+cDjAFY3cN7gRwu16p5JRrnFl35Ns3sqPAHD9M+YWfeR/OEfB5NodzETepWsMA4OS0hbz6nU1sO/GO6iznfcC60bNlSogp99ggDADw/dSlc0r5HZ5Pcw4r5FWo0FaPI6Nd6fQmdGD4CY/29Q/vuKHH9+j9Khd9rf16CIIjvy6ffbTnOxNyJAwCMQSQQMzSN2KJLYFXIgxu3Hr+MScrECKnSonl0fs2yXe3GNqfOPjtwO3R4y/IAivtHN4elm3apV9uwamZKBmaYC1v/uEOxuVEI5pJYgTI6QQEgKbQR1buL8xbskts0WT67pzkCjEvr9lcwW6fWsQBYo1QAiAvN/7zKbp0uUa4FnXLf+oXH6bwS0SmVLC2KTVIBCAGA45CFixRyO10CcBwHRXod6tOfXbl+K+hNaqYKKMiIyeRRpnnzMEIWYjEAAMbY1M6qWL/TlOwsQNo9S+fyc3tpIk6XreYLIuPDASw/a9fyJL6+e+PewxcRaRRCHCvPEjBmhfuucg425rm7hgD0FeytsDY5LRnAIT4+Vi+AoIDVc84zhqNK0TiVg+ycTI7jyhTCxt3Ytu7APfN6g4b38iEhA0EQxLfxOfdb/JEXcayT7104/WhQjpu7s0xIA0Js0Q8NKjf9wenciTvbplzYIqJ1CiS1q9133MDqVO5jFGMEWK9jOaZgNadyVajydoWbvjMiHs5fuD3bqsLMWWNc+YALhwT/NE7Pcijv7ZkWlStfwaq8bUFxGwqvpOzq0sOWzZrxRC51d7ERMRTC+L1PNAp9fFBsFjb8h/UsR3P5Wxe7e1W2craAz8dlX9g4d/XZKFdPd0upgOMQx7HvnQW48K5hHcsCmMksAYADDAAsx3IcZViL48DcxcvUwo02uqMp5vRRt/0mL79o9UO3VdO7iHDpgSJBEATxRXytl7S0m1sO389oPX3Z6GZuhg8m3p1aMGn329zZmug1S4+L6v48q6+vKkfFIVpiYuVsb5H35g0SUxnWJ3Yas6Cl83tJ5z0kMl+f/mPJngTLevP/GO1lJsAf/EDw2+IxlhI+8MQDJi6oaffeXIz1pSXw9OiSO9Hmw9ct7uxmgQAA2KvLx6x8btTGEULmYglg66FzF3i9NxJAkccrp0tLyxRbWInKMmBActCVPdcjqv44YvawNiYMAIBOcXZ01zUfWSX7flA8Zd++IgMATha2nO6lT/fJw+vZlGGrRb29vHnx5stWjfstmthVBPAJEQPG2vQ0hbmlGVXyquqwe9ff6J3b1K/MlPBZB1amhl+9EeLZuKmX9fvDVQIAG3zvchTyaF2v/Kc0/umUz25dSpVWaVK7PP9fcUITBEEU+Fo/WJWRlqYDqUNFcxqAY3U5KRHX78Uy+c+n9ORXSuDRAnM7Z4/ynhUreDrbmedXaAMGj1o+UqHu/IlzcrWOwwCAWZ0mW56lhtz2g8yIezMW7k418ZozZ6SnlNbr9axer9fruZIGfiiz3Pb6QhPy2uA/MB/yum4AgKROY09WoThz7Z5CreUwxhjrdZpseYaaNaomRC5P4yTmLrYyBMDqNKlRz2+G5BQf5uhDGKZmjUoUCjl7NlCh1WMMgDmdVp2Rka0v2vLyyn/F0F/6jZ61O714FFPCzuVPUKmyEGATG1sZA5hj1cr0m/tupPKKxR2GKg6MMQZdlN+x++KqtVo6IMAA9Zo1NlNePHwsTq1hOYwx5li9SpGVrdTiQpv6wMYBgIu6tmnmmsvCWj1XTu1mBmzecX+/tuNjbv09rFfPXqPX3y5pJo68uW/Sn5s3LZ274Z68hNlYt2Pp9O37ti6Y/3e6qoR+GOmXV0ydt27jgnFrL8eXJVO5Qq5uXrx259/L5p0OSf6E1QmCIL6qr1XT4NGwrefx1f7zFkdUcqSUGWEhwTIbe+AUubPtPDtWMj306OjSxYEShhYKhRRF8WS2P7Ro5+NmCgjbVW3bt+WzrWe2z4q962ZnxadZZZY8PFjXd//SpgAAKXtXrkjUYGsx7+TmVf551fd6jVmnOSO8mc8dbC8nLejA/ksKjmYUSTQFCa8ur10TxOlp7y5DmnuIAODBsT/vRAtoxMWHpgDAeb91j8V6kVW5vj93kvDBsdGg4S9jtxxaNf1FZTdrM5rilJmpESHZfdf83dS69K3Xat7B9v6pDbMWV3U108qTgt9FOzqa4ji29DUBAKjqbXv/GPT2+K6lcQ+q2FvJGKzLlqe8SbFZvHGSS6HllDlKRijLiLr9IrZTUzfz/OlJDw/uvpnIZyhVZrhOIAi/unttsAhTTOufh1SyFTiW83aQnnt9avPSqApCrI56/TyRV8nKrEgGeIKIA0tW37WS0lgTG/zkpaLcqN8GmlAUxhiBZ5/f+oavOjRl7Luqnk5iPqXX5CTHRTu0HD22Uw0aIOrO3sP303kMpU8LBbEk5MKatc8wy7It+06qZgtZ8ff+3HqJkoksdOGrFy3KCxQ4Vlv+13m9nYwrIAC1PF0vNpMlXdp0s1ujxvbF5nLpySl8HsOCNiY6BeD9Np1UeYaKocUqbYZOpwNR8d+OiIwJA5GQT+mS4+M5cChrVJ4VnwoMj8dxCckqqFjGlQmCIL6yTw0aaL5YLDQ8nBmBUCgw1KQigVAs5FEAgByaz56j27DleODjBJHUsfnQ+b1tw7rPPZJb34tETvYy/DxRnp6mppEmOyNLrddr1dfOnxq+cGNLLxOgRK2HLqjmHbD96JVXzyJZRuRQofrghb3r5Q7NqNLokFgiViaFBicVZEqrtG5UlldOmicQiUTvt6brVCkvnz2VszQAiMUifVbcs6dxei3PslnuW3lCyKMnwWLD279IJIp+8zAaQOYMP7OAADCStBm91N37yP4j14OehXGMxK2K77DFvWpbg2EsSL5QJBIWrvhGfJFYZHhfx9ja99eZo/kbj117/DBc5uDRf/b6Kgm7R+4OoxACQDy+QCQUGrLME4iFhrUoRiwSMjQCwFhgP2D2pprnd+07d/95lIIWyspXbzRr3E8u+W0/AICxT/t+9tf/iFGBiisSjigTQh49CRXxKADgS2Wq+NeP4wExAt8fWQBgbKotWzJhxSq/ly+egtCyXqfJyztVWTK6pzavJqRW3wm/CI5dexJ897USKIlH7XZrVvRwpHBeywh2rdNr9QrPAzuO3Q0O1HNgYlehRbdxbZtUpQEDoKy44MdP4wQ0AIBQZpId8+RxDGBWV6MLAACrV9ECoZCl48LeFMoyp1MLlMYec4xB2Gnm+Ft9FkQynE5dwknh06Zn/YfhL6DShO4ehcvMsDoCh159foredde7Uz9Lk+IRAwbw+WV665cLn6Faw/r4UlDGRjMM1ToOrP58SZJpvZ6+LsU3ThAE8U9D71WzG6HI06fgz/z7I85vaCi8UsHtE8ff2zfmr+PeXafO7lcw4lD4+b8nbb1dt/+0aT/5oGIN8AVbxqi0TySMvE9/+I78sQQMQ0d+ePO565aYRPE9yv13wWTDXx/ZfOEyLGjMKVTaGACVXHLv7a8idt7Ema9Yy8VLlpa35pecw/fyDx8dNRpBie0vRVL9wCYMa3+sYEs6pz60EQAAfG1Vq8WvJ/qvay8p+mjHwHHyxSN7P1U1Xb57ejmqeDJFhjF/71gUmfL+OWTMvgJokt5MmjYDqo9ZMbF58cz9O3rmEARBlOiT+jQUuhEW/rPQxBJulYWnqHUaPkNlJSdn6wyN/livTr565w3NYzxdHfITKWnLqPSPInFumiXguPxODx9O5GOpI/TxzaMi/ysh8+//u/hvL5Seeu6yqPhfuQuUnEFU5FnH3g3we5uW4eLd2cWab+TviyNU4oEttG7Jc4us9IEUUKkFW8pRL/SoNhzjEmNhjAFQxsV1cx7GSRoM+LUcVXy5Ypv5+Glcwv6Wtq8Yc/iDuStxgwRBEP8i/8gn7qhc3c793mVde3JiQI+dfKEAAavXMY4VKnX+dUxnbzv0edWyK0Y2uRItK3l9VquuO/rq/C6fnPj3D4fe3D7n77O0hXu9HpN+6dmY/996u317dvnvOx8zFADCUkHxcSkyTi7ov+2Zdbkq3cf8OqCVzTf/WvPtvEGTg9UiBMCxnO1/p9QJgvh/8UnNE58n707NalQanT53BCKKohm+QMhnSq2HLpUqJ1PHfXh9Rmgi/lzru5oAABhgSURBVH8edRizOo1CrWMYvkgk+FBbxveL1SoV6vwPQiihTMIvtHucRpmjYRm+QCTko3+gMYBVZOeweSOOUjyhREQ+qyQI4nvyDwQNBEEQBEF8j77WOA0EQRAEQfzHkKCBIAiCIAijkKCBIAiCIAijkKCBIAiCIAijkKCBIAiCIAijkKCBIAiCIAijkKCBIAiCIAijkKCBIAiCIAijkKCBIAiCIAijkKCBIAiCIAijkKCBIAiCIAijkKCBIAiCIAijkKCBIAiCIAijkKCBIAiCIAijkKCBIAiCIAijMP90Bj4dxhgAACFU8Nd7cwEhlP93kSUMExFCRZclCIIgCKJk321Ngzx84pD+XQaOfh2nykkLGNapY+++6+ILzY84v7L3T51G/nkJQ/busV1+/LH/wZDC66esH9Gh44+/nI4FVdCJ7j169Ju+VqvnvvFOEARBEMR35LsNGsQiBx5DMTTDUDTjIJVxyEQqyJ+LQeBqJcCYlooQyOxdMOaEEotCs8Ha2o7DnERsBiIzKwAk4IsQkIoGgiAIgvig7zZoEDAmNEXTDI+mERJTFEbmMmH+XAQMI6YZTJtKAYDPF2NOJLMGyGumAACJxIzjJFIpAM2TAAj4EiCtEwRBEATxYd9vnwZGQlMUxdA0RdEOAgGLbCwlhWbTtISisEwkAgBLC2vOVGwJULgqQSKWgEQoBgCZxBoAS0xJzEAQBEEQH4HyOwl+b9jslDQl0JaWljSw6alJeoG5rakI5wUGrE6RlpbJN7ExEzOarJQ0FWVlY8EvFBeoMpLlWr6NjRnDaVKT5UhoYmEqJnEDQRAEQXzI9xs0EARBEATxTX23fRoIgiAIgvi2SNBAEARBEIRRSNBAEARBEIRRSNBAEARBEIRRSNBAEARBEIRRSNBAEARBEIRRSNBAEARBEIRRSNBAEARBEIRRSNBAEARBEIRRSNBAEARBEIRRSNBAEARBEIRRSNBAEARBEIRRSNBAEARBEIRRSNBAEARBEIRRSNBAEARBEIRRSNBAEARBEIRRSNBAEARBEIRRSNBAEARBEIRRSNBAEARBEIRRSNBAEARBEIRRSNBAEARBEIRRSNBAEARBEIRRSNBAEARBEIRRSNBAEARBEIRRSNBAEARBEIRRSNBAEARBEIRRSNBA/IdhAPxP5+Ebwhjw/9P+EgTxzZGg4fuDMeY4nO+fzk7Z4KK+6pYi7x3acCXuK26irDDOP27cV9j3+MCzfreiv3iyBEEQ+Zh/OgNEmb3aM2bS4RgRj2J1KkWOz9obS6r+01kyXtC2yTNOhjI06LRqWlhtxd7lnpKvsqHkNyeWrTnKVEGJLXrafZUtlFX08q7jr2PMAKdRKM3aTDswudWX3cDLR1eP+vup9IsHNXXnkdcBgiC+AhI0fH8qdFuwt50e0czJNWMDnojofzo/ZVKx16wdnXW0NmvTigWvUkU0+ipbUYRenb3ooKBa94VTe5oAxhihr7OhsnAYumXLAKB5gifze6zKFvK+bOoYQ+shc1Vp03dsWersvLitp+WXTZ8gCAK+3+aJgsrtkiu635tWaELenwUrflpteSk17R+YlzuhyJwiS70/vVjifKmFjY2NtaWFmP+RJ2EpTQDfrJWgGL7M3MbGxtLSks985Nz7UM5KKJoSVtbnHPc7JEfW/Yf0MuEBQPGI4aMH7oOzih63wudekTXhg0eeMbW2trG2MDcxZT5c4qUelQ/lDyHAyKTz9Mk/8FI2rz+YyX1oCwRBEJ/ue61pCFg38a3zr1M7ul455nc7KBH4Jt4/9unk42CYm3J/77LTSb3GjfC1kQEAABd5/+jOcy9bDZresJw4+qbfxhD7xQO9dqzbEc/aDho5QhZxasPhhwKPFkN/aWZqZA6UqTcvHL8blKBmOZrHF5pX6DOkh5Mgd6YiNeT6pZvBEfGZKj1fYlqpbrtOjSvzaQQAr04uv6RrM6E5u2HD0XSxz/CJ3bKu7NlzLdy+3k8jO3gDgOr+vpkX1BP/GEI/u3T44oNUhd7avX6vQW1sy/KuHB945ciFe6nZeoGpTeMOvRpXLPLeycqjzp4OCAxL03LAF4vMHWv1693K9N9yLujDHpw9eeV5ukovMXNu3q1bbVcLw1NflRazcf1am7bTe5WTHz5y9E2cSmjq0LZ3P28naeGyUQefPf843nfUttq2ABhDkZABZ8W/OXvy7NvETJYDRiC18mk7sl31vJn62Df3rt14GpWQrgVKYm7XqF3Xul7WNABAjN/MbRb9R1dJvbD7/BubRgNHtrY9tWPrg1iuWe8hLbwsABSX/l4SaNZiUv8Gj87sv/I4QoOElZt279nEsyz7rnt8bv/lR+EqjCycvTv36ORuUiTzyW/unT5/PVqu5oASCyXOTXr2re+SPxthDKjcwMldg+ccWn6i5YJuXmUqd4IgiFL9Wx4UZZUQ/jKMjt45c/75OFNLE74m+13gwgfojy0dqpsjAG169MvgaLlGn7+8Ij0uODjYR8ECgDIt9u1j+X7VkdvBrD4r+GQAL/jEJZWFJOvlGodqPn18Sw8b2Oz4pdMnP0ljrM2lDIU4TqsMTk/okx80pO79ffJ1jY2pRMBQSB8f9fTOzUfR85YN9AaArIR3z1LFW65ee6QxU2f67ZEpgm5dEwpx4MYN5etsbWUDbHr0yxDlmzN/btv8wMTBhgf60Nfrg94m/blwgIVRTRHcm+PLpu98ZOXu4WjKS3z7aPWMW+HTlg6q6wYAgLE66t6YqX9m8c0tTEQ0AjZZExdLZXc3Lmj4YK3El6r/5wIPLltwKNDKxd1WhiLf3Fo47m7fZat7VjIFAFarCg15leb6ePrGbSmMtZSHs8NePw1L3LBylo24IPeXThxOs20wsL3texEDZEZfnDLx7xypnZlYgBCwmuggumJB0BB6cfiM3TaWJiIBH2EuJuzV7Vv3hixe3tnLCkAVE/Q67sLug3eDhKbwfP1GsbLC9btvGa187Q7rZst+oUCfHPY61MrGb8bOo2HgYCXDmuwXf054J18z66fyRuw4Bn3S7hkTjkbwy3u4SJD65bV9t65emrVshXfeWRVybdPMtZfEFlZSAQ8As6rMSJvGhYMGQAgwtvVo6+F2LiTgSFTHWa78zzsaBEEQRX2vQQOimbTLW25X6bRwdX9PS77yhf/Ieftu3nrYvlqb0pvJEcWX37gR03L1tiFnJnY/duxMtR5L5rVQ9J+wODQsnPX1LvXRnHJ/36MwfbvZa4Y3sAYAADYrNZ2W5s+Xth27qJOzh4O5BAD0OXE7Fs08dWzb3Z/W1zcFQCj7ycWHvoN3/V5jbp+pdy7eaDN5QX/nuPHj5756JW9lYw6ABMqXG3dZdp+4qGvTikJQn1kzbfPta3dD23Xwsi4tazj58eH5ex/V7D7294HNBACgTz+2dPr2lRt9ti+rLgUAuHXmuFxn+cu8vztUEgMAgCYjNUds3NMlJfTWkfPP9LhoEXN6ZNNgaJ+6QqPS+JjEuxsW+gXWGz5tYsdaFACoErYvnH1g4YJK65dXNwMAoHjCkNM7vTuNmvlzc3MBxJxaNnbdo2OvlCNrm+QmkfXg4mOucmsfW4D3ejJoz63fGGlaa/Nfv7tbCAEAdMrkrILIEuy85y+sXN7DyVTIAEBG2Om50zfu3X+z87yuAABIf+96YOvJK/vbBf6vvTsPi+I8AwD+fjOzBze73DcCQhBcUC6PeKeNxbNPrOZAQ2PTRJM2iZq2abxiEsXUI5pT431EMYoErWJQEy8MRRNQVA5FRRBUQM5ddnd23v6xsLAHsKixJc/3+2ufnW++Ywb2e/ebd2ZnL1if9Z347eXrZTkfvvZZcT7AAAAgpOr88cN+T77z0UuDA+VCbeHy+UsvZHx1dWRKiHM3f5SIcGbnl9+WSJLeWTkt3hUAWqpOvTd35cfbM7a+8wcAAKjJ2JWh7jNx/bJZcgkAgK6loUZldomHEMbefnCQd35OcVlZU0CIvWkBiqKoh9BbcxoAdWqbuL8vntnXRQQItoqo/oLQ2NBg5eV5nUo77IWXnUHk6KJTuSS8+nwYIAEgyOusqkAjAKNRq7UCCogIyDq6utm1Z7ZJAxUKb5md/roza+8THx0qgeuVbXf/qdR+M96YCAznCmAXpJgR7cPrbBiW4XVq/dh4NTv6rZXPj3xCgoggHZc4UtRc91N+TfcdE/js73O0rOfECaMk+svfnHxU0hi3hp+O5apai+iAEBXP8zpBQARAibOri9i6dEplbdn5c+dyTf3n3OUKvvu9u1VzcE8e5+M/dVgM0V+yt/Ec/ps4qfpabkFlaxHUOoVMfH36aGcxAILfhCEBuvqaSl17HWXlZazIN9gLEMwmahQQGbWunmP1N62CyNbdxbF9u4NXTESgk5TTnzjn4PFRQVpleUVV694ojRgx60l3jkgIoP+AceFuQCR2HK9rax55h8iFK+cODpQhAiMPHRPn0aS8d72quvuhY+2JU2cxesq0eFf9eZN6Dps8wqMy9+f81hICApBmbSMLgoAAyEod3WUWYwJpYLCM1wil1Va0S1EU1RO9daUBUODDIkJZMCTG9ySZD3WCh78vp9/N2dfbq2dNg3zklN+evpa19vWirJiYyLC+4dFxUcHSDkscKGgqSgqvl5VVN/OEMJXFd9sXyhEFuVegfWufXeT+DMeYTG863jtqiHP72Pr6Bgma6tq6brsmCEJZzV0An4Lcg7dUPAIAMJrmO4ytuOTmFYCBQCBhwqTsy19sWfTK2Zj4/qEh4VEx0aHe1sUMGJCQtDEhqZOND32PQn1jobKF07Gnjx+wZVon4ubKWmCYqqq7AngBAPA6ab8IJwAwHE3jOmqbGwnDOjvamYUMCCBJTJ6Vu2Lz4j/OjBwUH9knOCI+rp+fC9uh14K6tuhKcdnNOypEhhVdrxMT0l6Th1sAA60pkK59fE1XZxDsfb3D2v8mGR8/T1RXVSlbuh06wsU7FayLX9WhgxkaXgAAYEUttVKRsqqsCqI8EcBtwrRpxV9lzJtxacCQ2PCAEMXguGBXywsJrq6eyF+436Tstl2Koqge6bVBAxAQBAB40GkKBUPSu9DTRHMU2wbPXvbF8MwdW9KPZX6bn5m+iwsc+68PX/ZpnUbq9y19a3deE8saZjY0WtFHFCy8NGpCB21jQwAiEiOiSGKppMl+gAhAbhzcdNO4QdaB1Z9r4hw4bPGXsad2rfs6M+fbvLMZqZvdEpKXzZno2H3gQDrJaUAAhjx8VgOCDoi68Xp66g3jzhOGbVsSIwBdni8CBADVWvOFD4IIzv3Grl6jSP9m47+PnirKPbl39zbF1L8vnBqtL6GtzJk/b0WpljEEcaiTEOf2KgRBaI9WLHUDBdQBitqOhFgkQUK6vE+kvW4kXP2lo1svG9Un4mQM29r58DHJ6xSDtm/ddPR0Vt7JrB1bNjz1l3/NGultoRuIQIiY673/3RRF/Z/69X6sCIKmPS7AxvpH962LEABEZCPHvrhi7Iv1ty9n7kvdfyLj020R7/9pCAdC/s7Vm84rn3r2L69MG6Z/cFFhWsr8LScftDmAkmvXWKnCxU4fQXTdNRsRixjxceo/fcy2tq4FEAS0Gf7cm8Ofg8riHzN27zz849cHzke9EB/QbV+unV4/d3m6RjDJadAwIcm7Pk1y6OnQTHCsPQN2HnFrPnnb0XyrdVeeZI4yTsdXV94330T0MY+D9+SXFkx+SbiR90PaN3tObnpvT2Ta1H4EtI1bP/nqms416W8LJse2zsTb/vGb3fceeDxYWlrGiTm51IpoD+xEXIvT00s2zIw2r0d/3hCRdXsied5HydhccPq73TvTjn22MCF8w0AP0x3Ky8sZEeflTBMaKIp6xH6dQYOP3B3VBWXlKggAANBU/LDrwE/4KBM4SGvkAMTJu98zkxIP/XhZU1OnBeCg5eb1Ols7m6EJMa2TvK46t6BU1+Vk3yX18YM/KGXuIwd6dB0xAABhOUV46NGi/Kwz5S8O9TWU1scabWsBbZ0nxCt00PSxRQfPH65VqqzpSuCgGdt2Pmth9mYlj+C5jvYeI8Mc1+YUnyqqGRfW4R7Rtt53WwECkPCwaIYvKioESDAvoD8CiEgIExg9epLy6rlLGTU1NQCuvEZT0dQgFj0Z3xYx8LezC26KyYMODJsqvztf5eT0RLifazexHgAhA/spPA4d/Tr/meio9rUN7NDrjp23ixw2bnReTuHZiuYmJXjYGlfWXHKlViwR93H37rZdiqKoHvkVBg0IQAYOSXA6eOSrz/3Ez8jvFWzbnMZ4eJE7jywvLG/PRz9qQ0MDfGR2HLbUZR9JaxEcokYOsAEAkPSN8IKfK/ft3c+MDlfdKdy//ZtKTsb2JGJhxXV5+0/J+8oYwNsXj2zIro4ZNTPazwkBCChLz1+5TwjDsFWNAsM2llwpaFGpWYlneISPiLAxY8aHnClOX7ug+cbU2HAvsaC6XXrlu5zGt1a+EQiAiAc3rWpw6efv6W4nYfj6ikPfHLVz80sINl+YsNQxkY2jk80DHTO9ltL8i/d1LKtprlfpUGguzC+ok2hsnH3C+ngwRDxmWtKRgjWfvzv/9guTovw9OaK8XZh/NKtp9ua3Q62onSAACRs9Wn4m6z/H708fLTM56Fc3zE9ziFX4+7tLCSjv3zy8+xi4xQ6PcgVATiwN8vAsuJO9NzXyyb4OFXnHt2b85OQi78GkSwhfU3bkbF6gswRQlXtg64VaUeIbf/K1AQDgm+5eKC4HYDhxqYrj+Nqbly7ktWi0Dv6Roe42BLinxyXmfrYvZe7fJk+dEOZur1U2lFw6UwIjFv15KAAAnPtsSXZAbIS7t1yEQm3ZhT0511z9RvX1tTVZf1LXlJ+5ccvB99lgbxoxUBT1iPXioMH0A5G0pqwRRBBHvrbkzfVrd2xa9qFI5jfhzx8Mss17d02GYU9CDJmThkQ3JB1z3rrEcuyF7zN+SKvXAoLYIbj/oLc+mBIX7AaAAGz4xNfn6rZsP5CRcjZNKgt4avo/ZzoVp6z4ur1xQyuEGMbRISeAcCL1+bRPT7cgSziXIMXMd5eO6N9HSvRzw529739whmU4AIZhxTY3ts1fhMA7evx+5efJMgSRZ/TCD5ce/zb1wLEdx/apGIldQGhsYtIk37Y2OV3DiUOpddUNOgKsrVwRP37h1HHhHvaP5Vtp9d5VC8822jIEGJYlUL5pxSIECEiYkTJ3kohB4j14cYrnkf27MtO3ZzaqQOLQNyJu/JzngwwHDIjpOkeHY6h/vFHc86+GZy/atvZwwqJxxssEIjFTfXz/9uqmFkSwcXKPGjZ9+eQxfo6ASIjI9rnX/0rWrctM+/wEz7gHx8xK+dju5KolOWhoiFg4V8YrIE23dq5eynMsy0lCB/x24fLE/n5y/eMiVDdzly7dhAgAhHWwhYsHFuZnCBql4uV17030R0L8Bk1d5h20Z+f+w1vWpqpRausaPmz4lESFofN83dX03dm1TVoA4ujuP/iZOX94Ok4uAZME1JLvd16765y8YMrDXi2iKIoyQzp9Ws//MUOeftuLjon7+rmv0xmwQ1F9uhgxegXmzxDsogaT98G8MrNd2zYZN9meXgfQ9O+lv19VueTYJ0MsV955wmFrIctluhzWw9/5YI2uW+kqaDHZ0/y8dxgdgiB8v/GDL45cnPDmx0lDfdvPa9djtHDe2rpkfN6IeY2IQBp2vPHHA7ZPpy57xbyKbkZuyFmwVAhbE1AtnlPTdzXlR+a89ik7fs6al0d194dMURTVY73yOQ0dv/EZvwFtE0+nH5ZGX/MtfHOE9h+l6ERnn/6WKjNvnJi/7NjbtvGgptPKOxuZoZDlMl3OH4/n95y6bqUH/TM/70YHk2FHJc+aEGGfvm511lVlJ3VYasNs8cp8k9FpM2seBV6rM7qroqtTYlJPJ4W62GbyrvJu/pL3NzaG/G7uCyMALTyngqIo6iH14ssTv4iW8vdfmZdT29xJMIWuIYmrPpote8S/UEg9Woic+/T3Ft9+dc6XKdsUG199TD+N/b/+Kc3MzauLGgLmLZvtb4sPfjMyRVFU53rl5YlfkK45Lzv3nprv7ANX6ugbF/uE5JdcoNGW/Zx1URk9bqiFG/ApKyECIcp712+hV5i79LGka2hKzp4oY71HxfZjTB/W9TgggKr6VhXxDHLhOr9ARlEU9VBo0EBRFEVRlFV6ZU4DRVEURVGPHw0aKIqiKIqyCg0aKIqiKIqyCg0aKIqiKIqyCg0aKIqiKIqyCg0aKIqiKIqyCg0aKIqiKIqyCg0aKIqiKIqyCg0aKIqiKIqyCg0aKIqiKIqyyn8BDOW6cJ5WKt4AAAAASUVORK5CYII=)"
      ],
      "metadata": {
        "id": "dJQxSjcisFOz"
      }
    },
    {
      "cell_type": "markdown",
      "source": [
        "create the samples which consist of the sequence of filenames along with the label of that sequence. For a temporal dimension of 16 our samples list should be of format as\n",
        "\n",
        "samples — [[[frame1_filename,frame2_filename,…frame16_filename],label1], [[frame1_filename,frame2_filename,…frame16_filename],label2],……….]."
      ],
      "metadata": {
        "id": "dCmTQBiqxRVf"
      }
    },
    {
      "cell_type": "markdown",
      "metadata": {
        "id": "qeWIf_GVjpVs"
      },
      "source": [
        "# Custom data generator for loading video data for action recognition\n",
        "A helper function for loading the samples in the format of\n",
        "[[[frame1_filename,frame2_filename,…],label1], [[frame1_filename,frame2_filename,…],label2],……….]\n",
        "[link text](http://www.jessicayung.com/using-generators-in-python-to-train-machine-learning-models/)"
      ]
    },
    {
      "cell_type": "code",
      "metadata": {
        "id": "YVGy22GIZTLv"
      },
      "source": [
        "# Load the samples and their corresponding label for each video\n",
        "def load_samples(data_cat='train',temporal_stride=4,temporal_length=16):\n",
        "    data_path = os.path.join('data_files',data_cat)\n",
        "    data_files = os.listdir(data_path)\n",
        "    # define a generator to read the samples\n",
        "    file_gen = file_generator(data_path,data_files,temporal_stride,temporal_length)\n",
        "    iterator = True\n",
        "    data_list = []\n",
        "    while iterator:\n",
        "        try:\n",
        "            x,y = next(file_gen)\n",
        "            x=list(x)\n",
        "            data_list.append([x,y])\n",
        "        except Exception as e:\n",
        "            print ('the exception: ',e)\n",
        "            iterator = False\n",
        "            print ('end of data generator')\n",
        "    return data_list"
      ],
      "execution_count": null,
      "outputs": []
    },
    {
      "cell_type": "code",
      "metadata": {
        "id": "NnbN0XLEZWGd"
      },
      "source": [
        "# reading the video files from the csv file\n",
        "def file_generator(data_path,data_files,temporal_stride=4,temporal_length=16):\n",
        "    '''\n",
        "    data_files - list of csv files to be read.\n",
        "    '''\n",
        "    for f in data_files: # read all the csv files (one csv file corresponds to one vdieo) in data_files one by one\n",
        "        tmp_df = pd.read_csv(os.path.join(data_path,f))\n",
        "        label_list = list(tmp_df['Label'])  # Load all the labels in the label_list\n",
        "        total_images = len(label_list) \n",
        "        if total_images>=temporal_length: # only if the number of frames in the video is greater tha temporal length, use that video\n",
        "            num_samples = int((total_images-temporal_length)/temporal_stride)+1\n",
        "            print ('num of samples from vid seq-{}: {}'.format(f,num_samples))\n",
        "            img_list = list(tmp_df['FileName'])\n",
        "        else: # if the number of frames are less than temporal length , discard it\n",
        "            print ('num of frames is less than temporal length; hence discarding this file-{}'.format(f))\n",
        "            continue\n",
        "\n",
        "        start_frame = 0\n",
        "        samples = deque() # initliaze a queue to store the frames \n",
        "        samp_count=0 # a counter to count the number of smaple. one smaple has as many frames as defined by temporal length\n",
        "        for img in img_list:\n",
        "            samples.append(img)\n",
        "            if len(samples)==temporal_length: #if the queue has as many frames as temporal length, return it as one sample\n",
        "                samples_c=copy.deepcopy(samples) # copy the queue as in the next stage frames would be popped\n",
        "                samp_count+=1\n",
        "                for t in range(temporal_stride): # pop out as many frames as described by the stride from the left to accomodate new frames\n",
        "                    samples.popleft()\n",
        "                yield samples_c,label_list[0] # return a sample(consisting of as many frames as defined by temporal length) \n",
        "                                                # and its corsponding label"
      ],
      "execution_count": null,
      "outputs": []
    },
    {
      "cell_type": "markdown",
      "metadata": {
        "id": "eyMKf3_6ZTiK"
      },
      "source": [
        "A load function for loading the samples in the format of\n",
        "[[[frame1_filename,frame2_filename,…],label1], [[frame1_filename,frame2_filename,…],label2],……….]"
      ]
    },
    {
      "cell_type": "markdown",
      "metadata": {
        "id": "RgzSDNRhkPSz"
      },
      "source": [
        "# load the train data\n"
      ]
    },
    {
      "cell_type": "code",
      "metadata": {
        "colab": {
          "base_uri": "https://localhost:8080/"
        },
        "id": "k_GvSpKzkQzC",
        "outputId": "298ee702-553f-46d1-8517-a550d3c295ce"
      },
      "source": [
        "train_data = load_samples(data_cat='train',temporal_stride=4,temporal_length=16)"
      ],
      "execution_count": null,
      "outputs": [
        {
          "output_type": "stream",
          "name": "stdout",
          "text": [
            "num of samples from vid seq-Walking_person14_walking_d2_uncomp.csv: 47\n",
            "num of samples from vid seq-Walking_person22_walking_d2_uncomp.csv: 47\n",
            "num of samples from vid seq-Walking_person22_walking_d1_uncomp.csv: 47\n",
            "num of samples from vid seq-handwaving_person05_handwaving_d3_uncomp.csv: 47\n",
            "num of frames is less than temporal length; hence discarding this file-running_person23_running_d3_uncomp.csv\n",
            "num of samples from vid seq-handwaving_person22_handwaving_d4_uncomp.csv: 47\n",
            "num of samples from vid seq-boxing_person23_boxing_d2_uncomp.csv: 47\n",
            "num of samples from vid seq-handwaving_person11_handwaving_d2_uncomp.csv: 47\n",
            "num of samples from vid seq-Walking_person08_walking_d3_uncomp.csv: 47\n",
            "num of samples from vid seq-Walking_person14_walking_d1_uncomp.csv: 47\n",
            "num of samples from vid seq-handwaving_person23_handwaving_d2_uncomp.csv: 47\n",
            "num of samples from vid seq-Walking_person25_walking_d4_uncomp.csv: 47\n",
            "num of samples from vid seq-Walking_person25_walking_d2_uncomp.csv: 47\n",
            "num of samples from vid seq-running_person15_running_d2_uncomp.csv: 47\n",
            "num of frames is less than temporal length; hence discarding this file-Handclapping_person17_handclapping_d4_uncomp.csv\n",
            "num of samples from vid seq-handwaving_person04_handwaving_d3_uncomp.csv: 47\n",
            "num of samples from vid seq-Walking_person24_walking_d2_uncomp.csv: 47\n",
            "num of samples from vid seq-Walking_person17_walking_d3_uncomp.csv: 47\n",
            "num of samples from vid seq-Walking_person23_walking_d2_uncomp.csv: 47\n",
            "num of samples from vid seq-jogging_person24_jogging_d1_uncomp.csv: 47\n",
            "num of samples from vid seq-Walking_person08_walking_d1_uncomp.csv: 47\n",
            "num of samples from vid seq-jogging_person09_jogging_d3_uncomp.csv: 47\n",
            "num of samples from vid seq-Walking_person14_walking_d3_uncomp.csv: 47\n",
            "num of samples from vid seq-handwaving_person18_handwaving_d1_uncomp.csv: 47\n",
            "num of samples from vid seq-Handclapping_person20_handclapping_d4_uncomp.csv: 47\n",
            "num of samples from vid seq-Walking_person02_walking_d1_uncomp.csv: 47\n",
            "num of samples from vid seq-Walking_person19_walking_d1_uncomp.csv: 47\n",
            "num of samples from vid seq-Walking_person09_walking_d3_uncomp.csv: 47\n",
            "num of samples from vid seq-handwaving_person20_handwaving_d1_uncomp.csv: 47\n",
            "num of samples from vid seq-Walking_person01_walking_d2_uncomp.csv: 47\n",
            "num of samples from vid seq-Walking_person07_walking_d1_uncomp.csv: 47\n",
            "num of samples from vid seq-Walking_person20_walking_d1_uncomp.csv: 47\n",
            "num of samples from vid seq-jogging_person14_jogging_d3_uncomp.csv: 47\n",
            "num of frames is less than temporal length; hence discarding this file-boxing_person15_boxing_d4_uncomp.csv\n",
            "num of samples from vid seq-Walking_person02_walking_d4_uncomp.csv: 47\n",
            "num of samples from vid seq-Handclapping_person19_handclapping_d1_uncomp.csv: 47\n",
            "num of samples from vid seq-Walking_person15_walking_d1_uncomp.csv: 47\n",
            "num of frames is less than temporal length; hence discarding this file-handwaving_person02_handwaving_d3_uncomp.csv\n",
            "num of samples from vid seq-boxing_person16_boxing_d3_uncomp.csv: 47\n",
            "num of samples from vid seq-Walking_person13_walking_d3_uncomp.csv: 47\n",
            "num of samples from vid seq-Walking_person18_walking_d1_uncomp.csv: 47\n",
            "num of samples from vid seq-handwaving_person25_handwaving_d3_uncomp.csv: 47\n",
            "num of samples from vid seq-Walking_person04_walking_d1_uncomp.csv: 47\n",
            "num of samples from vid seq-Walking_person08_walking_d4_uncomp.csv: 47\n",
            "num of samples from vid seq-handwaving_person12_handwaving_d4_uncomp.csv: 47\n",
            "num of samples from vid seq-handwaving_person09_handwaving_d4_uncomp.csv: 47\n",
            "num of samples from vid seq-Walking_person19_walking_d4_uncomp.csv: 47\n",
            "num of samples from vid seq-boxing_person25_boxing_d2_uncomp.csv: 47\n",
            "num of samples from vid seq-Walking_person03_walking_d2_uncomp.csv: 47\n",
            "num of samples from vid seq-Walking_person23_walking_d1_uncomp.csv: 47\n",
            "num of samples from vid seq-Handclapping_person23_handclapping_d2_uncomp.csv: 47\n",
            "num of samples from vid seq-Walking_person06_walking_d2_uncomp.csv: 47\n",
            "num of samples from vid seq-Walking_person17_walking_d4_uncomp.csv: 47\n",
            "num of samples from vid seq-Walking_person11_walking_d1_uncomp.csv: 47\n",
            "num of samples from vid seq-handwaving_person17_handwaving_d3_uncomp.csv: 47\n",
            "num of samples from vid seq-Walking_person13_walking_d4_uncomp.csv: 47\n",
            "num of samples from vid seq-Walking_person17_walking_d1_uncomp.csv: 47\n",
            "num of samples from vid seq-handwaving_person03_handwaving_d1_uncomp.csv: 47\n",
            "num of samples from vid seq-Walking_person16_walking_d3_uncomp.csv: 47\n",
            "num of samples from vid seq-Walking_person11_walking_d2_uncomp.csv: 47\n",
            "num of samples from vid seq-Walking_person08_walking_d2_uncomp.csv: 47\n",
            "num of samples from vid seq-jogging_person14_jogging_d1_uncomp.csv: 47\n",
            "num of frames is less than temporal length; hence discarding this file-jogging_person06_jogging_d3_uncomp.csv\n",
            "num of samples from vid seq-Walking_person23_walking_d4_uncomp.csv: 47\n",
            "num of samples from vid seq-handwaving_person03_handwaving_d3_uncomp.csv: 47\n",
            "num of samples from vid seq-Walking_person02_walking_d2_uncomp.csv: 47\n",
            "num of samples from vid seq-handwaving_person23_handwaving_d3_uncomp.csv: 47\n",
            "num of samples from vid seq-boxing_person10_boxing_d1_uncomp.csv: 47\n",
            "num of samples from vid seq-Walking_person22_walking_d3_uncomp.csv: 47\n",
            "num of samples from vid seq-Walking_person06_walking_d4_uncomp.csv: 47\n",
            "num of frames is less than temporal length; hence discarding this file-Walking_person24_walking_d4_uncomp.csv\n",
            "num of samples from vid seq-Walking_person10_walking_d4_uncomp.csv: 47\n",
            "num of samples from vid seq-Walking_person24_walking_d1_uncomp.csv: 47\n",
            "num of samples from vid seq-Walking_person05_walking_d4_uncomp.csv: 47\n",
            "num of samples from vid seq-Walking_person12_walking_d1_uncomp.csv: 47\n",
            "num of samples from vid seq-handwaving_person09_handwaving_d3_uncomp.csv: 47\n",
            "num of samples from vid seq-Walking_person20_walking_d4_uncomp.csv: 47\n",
            "num of samples from vid seq-Walking_person16_walking_d2_uncomp.csv: 47\n",
            "num of samples from vid seq-Walking_person11_walking_d3_uncomp.csv: 47\n",
            "num of samples from vid seq-Walking_person20_walking_d3_uncomp.csv: 47\n",
            "num of samples from vid seq-Walking_person05_walking_d2_uncomp.csv: 47\n",
            "the exception:  \n",
            "end of data generator\n"
          ]
        }
      ]
    },
    {
      "cell_type": "code",
      "source": [
        "print ('Total number of train samples:',len(train_data))\n",
        "train_data[123]"
      ],
      "metadata": {
        "id": "3JpyA2CUtJDH",
        "colab": {
          "base_uri": "https://localhost:8080/"
        },
        "outputId": "53ea2c84-b822-4a33-bc6e-0102bfa2060b"
      },
      "execution_count": null,
      "outputs": [
        {
          "output_type": "stream",
          "name": "stdout",
          "text": [
            "Total number of train samples: 3525\n"
          ]
        },
        {
          "output_type": "execute_result",
          "data": {
            "text/plain": [
              "[['activity_data/train/Walking/person22_walking_d1_uncomp/img_000084.png',\n",
              "  'activity_data/train/Walking/person22_walking_d1_uncomp/img_000376.png',\n",
              "  'activity_data/train/Walking/person22_walking_d1_uncomp/img_000102.png',\n",
              "  'activity_data/train/Walking/person22_walking_d1_uncomp/img_000390.png',\n",
              "  'activity_data/train/Walking/person22_walking_d1_uncomp/img_000048.png',\n",
              "  'activity_data/train/Walking/person22_walking_d1_uncomp/img_000346.png',\n",
              "  'activity_data/train/Walking/person22_walking_d1_uncomp/img_000406.png',\n",
              "  'activity_data/train/Walking/person22_walking_d1_uncomp/img_000212.png',\n",
              "  'activity_data/train/Walking/person22_walking_d1_uncomp/img_000284.png',\n",
              "  'activity_data/train/Walking/person22_walking_d1_uncomp/img_000384.png',\n",
              "  'activity_data/train/Walking/person22_walking_d1_uncomp/img_000326.png',\n",
              "  'activity_data/train/Walking/person22_walking_d1_uncomp/img_000114.png',\n",
              "  'activity_data/train/Walking/person22_walking_d1_uncomp/img_000320.png',\n",
              "  'activity_data/train/Walking/person22_walking_d1_uncomp/img_000362.png',\n",
              "  'activity_data/train/Walking/person22_walking_d1_uncomp/img_000372.png',\n",
              "  'activity_data/train/Walking/person22_walking_d1_uncomp/img_000046.png'],\n",
              " 0]"
            ]
          },
          "metadata": {},
          "execution_count": 62
        }
      ]
    },
    {
      "cell_type": "code",
      "source": [
        "train_data[123].shape"
      ],
      "metadata": {
        "id": "b6CpvYmN2Fa8"
      },
      "execution_count": null,
      "outputs": []
    },
    {
      "cell_type": "markdown",
      "source": [
        ""
      ],
      "metadata": {
        "id": "X3qtlqN_tP7W"
      }
    },
    {
      "cell_type": "code",
      "source": [
        "#Load the test data\n",
        "test_data = load_samples(data_cat='test',temporal_stride=4)\n",
        "print ('Total number of test samples:',len(test_data))"
      ],
      "metadata": {
        "id": "_45ElzPQs1hc",
        "colab": {
          "base_uri": "https://localhost:8080/"
        },
        "outputId": "6ab61613-f510-40b6-858d-ef247e749cf9"
      },
      "execution_count": null,
      "outputs": [
        {
          "output_type": "stream",
          "name": "stdout",
          "text": [
            "num of samples from vid seq-Walking_person12_walking_d4_uncomp.csv: 47\n",
            "num of samples from vid seq-Walking_person13_walking_d1_uncomp.csv: 47\n",
            "num of samples from vid seq-Walking_person13_walking_d2_uncomp.csv: 47\n",
            "num of samples from vid seq-Walking_person18_walking_d2_uncomp.csv: 47\n",
            "num of samples from vid seq-handwaving_person16_handwaving_d2_uncomp.csv: 47\n",
            "num of samples from vid seq-handwaving_person10_handwaving_d4_uncomp.csv: 47\n",
            "num of samples from vid seq-handwaving_person19_handwaving_d1_uncomp.csv: 47\n",
            "num of samples from vid seq-handwaving_person18_handwaving_d4_uncomp.csv: 47\n",
            "num of samples from vid seq-Walking_person07_walking_d4_uncomp.csv: 47\n",
            "num of samples from vid seq-jogging_person07_jogging_d4_uncomp.csv: 47\n",
            "num of frames is less than temporal length; hence discarding this file-running_person10_running_d3_uncomp.csv\n",
            "num of samples from vid seq-Walking_person04_walking_d4_uncomp.csv: 47\n",
            "num of samples from vid seq-handwaving_person02_handwaving_d2_uncomp.csv: 47\n",
            "num of samples from vid seq-Walking_person04_walking_d3_uncomp.csv: 47\n",
            "num of samples from vid seq-handwaving_person13_handwaving_d2_uncomp.csv: 47\n",
            "num of samples from vid seq-handwaving_person05_handwaving_d1_uncomp.csv: 47\n",
            "num of samples from vid seq-Walking_person10_walking_d1_uncomp.csv: 47\n",
            "num of samples from vid seq-handwaving_person05_handwaving_d2_uncomp.csv: 47\n",
            "num of frames is less than temporal length; hence discarding this file-boxing_person11_boxing_d1_uncomp.csv\n",
            "num of samples from vid seq-boxing_person08_boxing_d2_uncomp.csv: 47\n",
            "num of frames is less than temporal length; hence discarding this file-Handclapping_person08_handclapping_d2_uncomp.csv\n",
            "num of samples from vid seq-handwaving_person08_handwaving_d1_uncomp.csv: 47\n",
            "num of samples from vid seq-handwaving_person10_handwaving_d2_uncomp.csv: 47\n",
            "num of samples from vid seq-Walking_person15_walking_d3_uncomp.csv: 47\n",
            "num of frames is less than temporal length; hence discarding this file-handwaving_person13_handwaving_d3_uncomp.csv\n",
            "num of samples from vid seq-Walking_person15_walking_d4_uncomp.csv: 47\n",
            "num of samples from vid seq-Walking_person10_walking_d2_uncomp.csv: 47\n",
            "num of samples from vid seq-Walking_person21_walking_d1_uncomp.csv: 47\n",
            "num of samples from vid seq-jogging_person13_jogging_d2_uncomp.csv: 47\n",
            "num of samples from vid seq-Walking_person21_walking_d2_uncomp.csv: 47\n",
            "num of samples from vid seq-Walking_person18_walking_d4_uncomp.csv: 47\n",
            "num of samples from vid seq-Walking_person05_walking_d1_uncomp.csv: 47\n",
            "num of samples from vid seq-handwaving_person07_handwaving_d3_uncomp.csv: 47\n",
            "num of samples from vid seq-Handclapping_person14_handclapping_d4_uncomp.csv: 47\n",
            "num of samples from vid seq-Walking_person21_walking_d3_uncomp.csv: 47\n",
            "num of samples from vid seq-handwaving_person15_handwaving_d4_uncomp.csv: 47\n",
            "num of samples from vid seq-Walking_person07_walking_d2_uncomp.csv: 47\n",
            "num of samples from vid seq-Walking_person07_walking_d3_uncomp.csv: 47\n",
            "num of samples from vid seq-jogging_person18_jogging_d2_uncomp.csv: 47\n",
            "num of samples from vid seq-Handclapping_person08_handclapping_d3_uncomp.csv: 47\n",
            "num of frames is less than temporal length; hence discarding this file-jogging_person19_jogging_d1_uncomp.csv\n",
            "num of samples from vid seq-Walking_person10_walking_d3_uncomp.csv: 47\n",
            "num of samples from vid seq-Walking_person18_walking_d3_uncomp.csv: 47\n",
            "the exception:  \n",
            "end of data generator\n",
            "Total number of test samples: 1786\n"
          ]
        }
      ]
    },
    {
      "cell_type": "markdown",
      "source": [
        ""
      ],
      "metadata": {
        "id": "97thMXg4tjv2"
      }
    },
    {
      "cell_type": "code",
      "source": [
        "#Shuffle the dataset\n",
        "def shuffle_data(samples):\n",
        "    data = shuffle(samples,random_state=2)\n",
        "    return data\n",
        "def preprocess_image(img):\n",
        "    img = cv2.resize(img,(224,224))\n",
        "    img = img/255\n",
        "    return img"
      ],
      "metadata": {
        "id": "F-cwuM_3tkWA"
      },
      "execution_count": null,
      "outputs": []
    },
    {
      "cell_type": "code",
      "source": [
        "def data_generator(data,batch_size=10,temporal_padding='same',shuffle=True):              \n",
        "    \"\"\"\n",
        "    Yields the next training batch.\n",
        "    data is an array [[img1_filename,img2_filename...,img16_filename],label1], [image2_filename,label2],...].\n",
        "    \"\"\"\n",
        "    num_samples = len(data)\n",
        "    if shuffle:\n",
        "        data = shuffle_data(data)\n",
        "    while True:   \n",
        "        for offset in range(0, num_samples, batch_size):\n",
        "            print ('startring index: ', offset) \n",
        "            # Get the samples you'll use in this batch\n",
        "            batch_samples = data[offset:offset+batch_size]\n",
        "            # Initialise X_train and y_train arrays for this batch\n",
        "            X_train = []\n",
        "            y_train = []\n",
        "            # For each example\n",
        "            for batch_sample in batch_samples: # Loop over every batch\n",
        "                # Load image (X)\n",
        "                x = batch_sample[0]\n",
        "                y = batch_sample[1]\n",
        "                temp_data_list = []\n",
        "                for img in x:\n",
        "                    try:\n",
        "                        img = cv2.imread(img)\n",
        "                        #apply any kind of preprocessing here\n",
        "                        #img = cv2.cvtColor(img,cv2.COLOR_BGR2GRAY)\n",
        "                        img = preprocess_image(img)\n",
        "                        temp_data_list.append(img)\n",
        "\n",
        "                    except Exception as e:\n",
        "                        print (e)\n",
        "                        print ('error reading file: ',img)                      \n",
        "                # Read label (y)\n",
        "                #label = label_names[y]\n",
        "                # Add example to arrays\n",
        "                X_train.append(temp_data_list)\n",
        "                y_train.append(y)\n",
        "    \n",
        "            # Make sure they're numpy arrays (as opposed to lists)\n",
        "            X_train = np.array(X_train)\n",
        "            #X_train = np.rollaxis(X_train,1,4)\n",
        "            y_train = np.array(y_train)\n",
        "            # convert to one hot encoding for training keras model\n",
        "            y_train = np_utils.to_categorical(y_train, 3)\n",
        "    \n",
        "            # yield the next training batch            \n",
        "            yield X_train, y_train"
      ],
      "metadata": {
        "id": "vYmyKzzdt5UL"
      },
      "execution_count": null,
      "outputs": []
    },
    {
      "cell_type": "markdown",
      "source": [
        "create a generator object with training data\n"
      ],
      "metadata": {
        "id": "yHh6SqESt9Rg"
      }
    },
    {
      "cell_type": "code",
      "source": [
        "train_generator = data_generator(train_data,batch_size=10,shuffle=True)\n"
      ],
      "metadata": {
        "id": "DeAwBba5t-_o"
      },
      "execution_count": null,
      "outputs": []
    },
    {
      "cell_type": "code",
      "source": [
        "x,y = next(train_generator)\n",
        "print ('x shape: ',x.shape)\n",
        "print ('y shape: ',y.shape)"
      ],
      "metadata": {
        "id": "AUca6Y9_uCVQ",
        "colab": {
          "base_uri": "https://localhost:8080/",
          "height": 363
        },
        "outputId": "2d3233b9-e666-48d0-dbae-e9c7356ed9b9"
      },
      "execution_count": null,
      "outputs": [
        {
          "output_type": "stream",
          "name": "stdout",
          "text": [
            "startring index:  0\n"
          ]
        },
        {
          "output_type": "error",
          "ename": "IndexError",
          "evalue": "ignored",
          "traceback": [
            "\u001b[0;31m---------------------------------------------------------------------------\u001b[0m",
            "\u001b[0;31mIndexError\u001b[0m                                Traceback (most recent call last)",
            "\u001b[0;32m<ipython-input-67-03951275e453>\u001b[0m in \u001b[0;36m<module>\u001b[0;34m()\u001b[0m\n\u001b[0;32m----> 1\u001b[0;31m \u001b[0mx\u001b[0m\u001b[0;34m,\u001b[0m\u001b[0my\u001b[0m \u001b[0;34m=\u001b[0m \u001b[0mnext\u001b[0m\u001b[0;34m(\u001b[0m\u001b[0mtrain_generator\u001b[0m\u001b[0;34m)\u001b[0m\u001b[0;34m\u001b[0m\u001b[0;34m\u001b[0m\u001b[0m\n\u001b[0m\u001b[1;32m      2\u001b[0m \u001b[0mprint\u001b[0m \u001b[0;34m(\u001b[0m\u001b[0;34m'x shape: '\u001b[0m\u001b[0;34m,\u001b[0m\u001b[0mx\u001b[0m\u001b[0;34m.\u001b[0m\u001b[0mshape\u001b[0m\u001b[0;34m)\u001b[0m\u001b[0;34m\u001b[0m\u001b[0;34m\u001b[0m\u001b[0m\n\u001b[1;32m      3\u001b[0m \u001b[0mprint\u001b[0m \u001b[0;34m(\u001b[0m\u001b[0;34m'y shape: '\u001b[0m\u001b[0;34m,\u001b[0m\u001b[0my\u001b[0m\u001b[0;34m.\u001b[0m\u001b[0mshape\u001b[0m\u001b[0;34m)\u001b[0m\u001b[0;34m\u001b[0m\u001b[0;34m\u001b[0m\u001b[0m\n",
            "\u001b[0;32m<ipython-input-65-6943b2b05e06>\u001b[0m in \u001b[0;36mdata_generator\u001b[0;34m(data, batch_size, temporal_padding, shuffle)\u001b[0m\n\u001b[1;32m     43\u001b[0m             \u001b[0my_train\u001b[0m \u001b[0;34m=\u001b[0m \u001b[0mnp\u001b[0m\u001b[0;34m.\u001b[0m\u001b[0marray\u001b[0m\u001b[0;34m(\u001b[0m\u001b[0my_train\u001b[0m\u001b[0;34m)\u001b[0m\u001b[0;34m\u001b[0m\u001b[0;34m\u001b[0m\u001b[0m\n\u001b[1;32m     44\u001b[0m             \u001b[0;31m# convert to one hot encoding for training keras model\u001b[0m\u001b[0;34m\u001b[0m\u001b[0;34m\u001b[0m\u001b[0;34m\u001b[0m\u001b[0m\n\u001b[0;32m---> 45\u001b[0;31m             \u001b[0my_train\u001b[0m \u001b[0;34m=\u001b[0m \u001b[0mnp_utils\u001b[0m\u001b[0;34m.\u001b[0m\u001b[0mto_categorical\u001b[0m\u001b[0;34m(\u001b[0m\u001b[0my_train\u001b[0m\u001b[0;34m,\u001b[0m \u001b[0;36m3\u001b[0m\u001b[0;34m)\u001b[0m\u001b[0;34m\u001b[0m\u001b[0;34m\u001b[0m\u001b[0m\n\u001b[0m\u001b[1;32m     46\u001b[0m \u001b[0;34m\u001b[0m\u001b[0m\n\u001b[1;32m     47\u001b[0m             \u001b[0;31m# yield the next training batch\u001b[0m\u001b[0;34m\u001b[0m\u001b[0;34m\u001b[0m\u001b[0;34m\u001b[0m\u001b[0m\n",
            "\u001b[0;32m/usr/local/lib/python3.7/dist-packages/keras/utils/np_utils.py\u001b[0m in \u001b[0;36mto_categorical\u001b[0;34m(y, num_classes, dtype)\u001b[0m\n\u001b[1;32m     69\u001b[0m   \u001b[0mn\u001b[0m \u001b[0;34m=\u001b[0m \u001b[0my\u001b[0m\u001b[0;34m.\u001b[0m\u001b[0mshape\u001b[0m\u001b[0;34m[\u001b[0m\u001b[0;36m0\u001b[0m\u001b[0;34m]\u001b[0m\u001b[0;34m\u001b[0m\u001b[0;34m\u001b[0m\u001b[0m\n\u001b[1;32m     70\u001b[0m   \u001b[0mcategorical\u001b[0m \u001b[0;34m=\u001b[0m \u001b[0mnp\u001b[0m\u001b[0;34m.\u001b[0m\u001b[0mzeros\u001b[0m\u001b[0;34m(\u001b[0m\u001b[0;34m(\u001b[0m\u001b[0mn\u001b[0m\u001b[0;34m,\u001b[0m \u001b[0mnum_classes\u001b[0m\u001b[0;34m)\u001b[0m\u001b[0;34m,\u001b[0m \u001b[0mdtype\u001b[0m\u001b[0;34m=\u001b[0m\u001b[0mdtype\u001b[0m\u001b[0;34m)\u001b[0m\u001b[0;34m\u001b[0m\u001b[0;34m\u001b[0m\u001b[0m\n\u001b[0;32m---> 71\u001b[0;31m   \u001b[0mcategorical\u001b[0m\u001b[0;34m[\u001b[0m\u001b[0mnp\u001b[0m\u001b[0;34m.\u001b[0m\u001b[0marange\u001b[0m\u001b[0;34m(\u001b[0m\u001b[0mn\u001b[0m\u001b[0;34m)\u001b[0m\u001b[0;34m,\u001b[0m \u001b[0my\u001b[0m\u001b[0;34m]\u001b[0m \u001b[0;34m=\u001b[0m \u001b[0;36m1\u001b[0m\u001b[0;34m\u001b[0m\u001b[0;34m\u001b[0m\u001b[0m\n\u001b[0m\u001b[1;32m     72\u001b[0m   \u001b[0moutput_shape\u001b[0m \u001b[0;34m=\u001b[0m \u001b[0minput_shape\u001b[0m \u001b[0;34m+\u001b[0m \u001b[0;34m(\u001b[0m\u001b[0mnum_classes\u001b[0m\u001b[0;34m,\u001b[0m\u001b[0;34m)\u001b[0m\u001b[0;34m\u001b[0m\u001b[0;34m\u001b[0m\u001b[0m\n\u001b[1;32m     73\u001b[0m   \u001b[0mcategorical\u001b[0m \u001b[0;34m=\u001b[0m \u001b[0mnp\u001b[0m\u001b[0;34m.\u001b[0m\u001b[0mreshape\u001b[0m\u001b[0;34m(\u001b[0m\u001b[0mcategorical\u001b[0m\u001b[0;34m,\u001b[0m \u001b[0moutput_shape\u001b[0m\u001b[0;34m)\u001b[0m\u001b[0;34m\u001b[0m\u001b[0;34m\u001b[0m\u001b[0m\n",
            "\u001b[0;31mIndexError\u001b[0m: index 5 is out of bounds for axis 1 with size 3"
          ]
        }
      ]
    },
    {
      "cell_type": "code",
      "source": [
        "y #label"
      ],
      "metadata": {
        "id": "XqV7keWUuGcp"
      },
      "execution_count": null,
      "outputs": []
    },
    {
      "cell_type": "markdown",
      "metadata": {
        "id": "Ytc8suTIMN8y"
      },
      "source": [
        "#### Visualize the frames and analyze the object in each frame. (1 point)\n",
        "\n",
        "* Plot the frames of each class per row (6 rows)\n",
        "* Plot the title as label on each subplot"
      ]
    },
    {
      "cell_type": "code",
      "source": [
        "#Let's visualize the first sample\n",
        "x_0=x[2]\n",
        "y_0=y[2]\n",
        "print('x_0 shape: ',x_0.shape)\n",
        "print('y_0 shape: ',y_0.shape)"
      ],
      "metadata": {
        "id": "MzqAxzg1uPG7"
      },
      "execution_count": null,
      "outputs": []
    },
    {
      "cell_type": "code",
      "source": [
        "num_of_images=16\n",
        "fig=plt.figure(figsize=(8,8))\t\n",
        "plt.title(\"one sample with {} frames ; activity:{}\".format(num_of_images,activity))\n",
        "subplot_num = int(np.ceil(np.sqrt(num_of_images)))\n",
        "for i in range(int(num_of_images)):\n",
        "    ax = fig.add_subplot(subplot_num, subplot_num, i+1)\n",
        "    #ax.imshow(output_image[0,:,:,i],interpolation='nearest' ) #to see the first filter\n",
        "    ax.imshow(x_0[i,:,:,::-1])\n",
        "    plt.xticks([])\n",
        "    plt.yticks([])\n",
        "    plt.tight_layout()\n",
        "plt.show()"
      ],
      "metadata": {
        "id": "Y9IQ9ktOuYfH"
      },
      "execution_count": null,
      "outputs": []
    },
    {
      "cell_type": "markdown",
      "metadata": {
        "id": "QleRUjGgtwTP"
      },
      "source": [
        "### Create the Neural Network (4 points)\n",
        "\n",
        "We can build the model in several ways. We can use a well-known model that we inject in time distributed layer, or we can build our own.\n",
        "\n",
        "With custom ConvNet each input image of the sequence must pass to a convolutional network. The goal is to train that model for each frame and then decide the class to infer.\n",
        "\n",
        "* Use ConvNet and Time distributed to detect features.\n",
        "* Inject the Time distributed output to GRU or LSTM to treat as a time series.\n",
        "* Apply a DenseNet to take the decision and classify."
      ]
    },
    {
      "cell_type": "markdown",
      "metadata": {
        "id": "xVY2FVVDnATG"
      },
      "source": [
        "##### Build the ConvNet for the feature extraction, GRU LSTM layers as a time series and Dense layers for classification"
      ]
    },
    {
      "cell_type": "code",
      "metadata": {
        "id": "lNMnU1vdC8Ws"
      },
      "source": [
        "import keras\n",
        "from keras import applications\n",
        "from keras.preprocessing.image import ImageDataGenerator\n",
        "from keras import optimizers\n",
        "from keras.models import Sequential, Model \n",
        "from keras.layers import *\n",
        "from keras.callbacks import ModelCheckpoint, LearningRateScheduler, TensorBoard, EarlyStopping"
      ],
      "execution_count": null,
      "outputs": []
    },
    {
      "cell_type": "markdown",
      "metadata": {
        "id": "qsHHkUwkDEvN"
      },
      "source": [
        "understanding the input size of the model:\n",
        "Keras provides ConvLSTM2D for ConvLSTM,it takes 5D tensor as the input and based on the channel argument position there are two ways to provide inputs.\n",
        "1 sample consist of sequence of 70 images (equal to the seq_len) and each image is 120×120 (img_height, img_width) and 3 channel (RGB)"
      ]
    },
    {
      "cell_type": "code",
      "metadata": {
        "id": "wCMrXMVhMCDd"
      },
      "source": [
        "NUM_FEATURES = 1440"
      ],
      "execution_count": null,
      "outputs": []
    },
    {
      "cell_type": "code",
      "metadata": {
        "id": "itcmu40ZLwQF"
      },
      "source": [
        "def get_sequence_model():\n",
        "    class_vocab = label_processor.get_vocabulary()\n",
        "\n",
        "    frame_features_input = keras.Input((seq_len, NUM_FEATURES))\n",
        "    mask_input = keras.Input((MAX_SEQ_LENGTH,), dtype=\"bool\")\n",
        "\n",
        "    # Refer to the following tutorial to understand the significance of using `mask`:\n",
        "    # https://keras.io/api/layers/recurrent_layers/gru/\n",
        "    x = keras.layers.GRU(16, return_sequences=True)(\n",
        "        frame_features_input, mask=mask_input\n",
        "    )\n",
        "    x = keras.layers.GRU(8)(x)\n",
        "    x = keras.layers.Dropout(0.4)(x)\n",
        "    x = keras.layers.Dense(8, activation=\"relu\")(x)\n",
        "    output = keras.layers.Dense(len(class_vocab), activation=\"softmax\")(x)\n",
        "\n",
        "    rnn_model = keras.Model([frame_features_input, mask_input], output)\n",
        "\n",
        "    adam = Adam(learning_rate=0.0001)\n",
        "    rnn_model.compile(\n",
        "        loss=\"sparse_categorical_crossentropy\", optimizer=adam, metrics=[\"accuracy\"]\n",
        "    )\n",
        "    return rnn_model"
      ],
      "execution_count": null,
      "outputs": []
    },
    {
      "cell_type": "code",
      "metadata": {
        "id": "G1kHGAqLUlB0"
      },
      "source": [
        "model = Sequential()\n",
        "model.add(ConvLSTM2D(filters = 64, kernel_size = (3, 3), return_sequences = False, data_format = \"channels_last\", input_shape = (seq_len, img_height, img_width, 3)))\n",
        "model.add(Dropout(0.2))\n",
        "model.add(Flatten())\n",
        "model.add(Dense(512, activation=\"relu\"))\n",
        "model.add(Dense(256, activation=\"relu\"))\n",
        "model.add(Dropout(0.3))\n",
        "model.add(Dense(6, activation = \"softmax\"))"
      ],
      "execution_count": null,
      "outputs": []
    },
    {
      "cell_type": "code",
      "metadata": {
        "id": "TECai24ZLj8Z"
      },
      "source": [
        ""
      ],
      "execution_count": null,
      "outputs": []
    },
    {
      "cell_type": "markdown",
      "metadata": {
        "id": "Gb7WwwV-EMWE"
      },
      "source": [
        "ConvLSTM based model design\n",
        "In the ConvLSTM2D we are giving inputs of shape (70, 160, 120, 3) and the entire set of samples will be divided based on input shape.setting return_sequnce=False, because of this ConvLSTM will give output only after the last timestamp and not for every timestamp"
      ]
    },
    {
      "cell_type": "code",
      "metadata": {
        "colab": {
          "base_uri": "https://localhost:8080/"
        },
        "id": "D87zjYd2E4YX",
        "outputId": "0f705f58-5892-43e3-d7da-07933e9027c4"
      },
      "source": [
        "model.summary()"
      ],
      "execution_count": null,
      "outputs": [
        {
          "output_type": "stream",
          "name": "stdout",
          "text": [
            "Model: \"sequential\"\n",
            "_________________________________________________________________\n",
            " Layer (type)                Output Shape              Param #   \n",
            "=================================================================\n",
            " conv_lstm2d (ConvLSTM2D)    (None, 118, 118, 64)      154624    \n",
            "                                                                 \n",
            " dropout (Dropout)           (None, 118, 118, 64)      0         \n",
            "                                                                 \n",
            " flatten (Flatten)           (None, 891136)            0         \n",
            "                                                                 \n",
            " dense (Dense)               (None, 512)               456262144 \n",
            "                                                                 \n",
            " dense_1 (Dense)             (None, 256)               131328    \n",
            "                                                                 \n",
            " dropout_1 (Dropout)         (None, 256)               0         \n",
            "                                                                 \n",
            " dense_2 (Dense)             (None, 6)                 1542      \n",
            "                                                                 \n",
            "=================================================================\n",
            "Total params: 456,549,638\n",
            "Trainable params: 456,549,638\n",
            "Non-trainable params: 0\n",
            "_________________________________________________________________\n"
          ]
        }
      ]
    },
    {
      "cell_type": "code",
      "metadata": {
        "colab": {
          "base_uri": "https://localhost:8080/",
          "height": 865
        },
        "id": "n6KNeMMQFZ9r",
        "outputId": "7d3ae4bf-f7c3-4065-c10b-8f01d617ca03"
      },
      "source": [
        "from keras.utils.vis_utils import plot_model\n",
        "plot_model(model,to_file='cnn_lstm.png',show_shapes=True)\n",
        "from IPython.display import Image\n",
        "Image(\"cnn_lstm.png\")"
      ],
      "execution_count": null,
      "outputs": [
        {
          "output_type": "execute_result",
          "data": {
            "image/png": "[encoded data removed]",
            "text/plain": [
              "<IPython.core.display.Image object>"
            ]
          },
          "metadata": {},
          "execution_count": 23
        }
      ]
    },
    {
      "cell_type": "markdown",
      "metadata": {
        "id": "xcYlSojgwIrb"
      },
      "source": [
        "#### Setup the parameters and train the model with epochs, batch wise \n",
        "\n",
        "* Use train data to fit the model and test data for validation\n",
        "* Configure batch size and epochs\n",
        "* Plot the loss of train and test data"
      ]
    },
    {
      "cell_type": "code",
      "metadata": {
        "colab": {
          "base_uri": "https://localhost:8080/",
          "height": 450
        },
        "id": "Qio5NncheuOE",
        "outputId": "e0a36712-5d8c-4130-9b82-4f67549ad69d"
      },
      "source": [
        "opt = tf.keras.optimizers.SGD(learning_rate=0.001)\n",
        "model.compile(loss='categorical_crossentropy', optimizer=opt, metrics=[\"accuracy\"])\n",
        " \n",
        "earlystop = EarlyStopping(patience=7)\n",
        "callbacks = [earlystop]\n",
        " \n",
        "history = model.fit(x = X_train, y = y_train, epochs=40, batch_size = 5 , shuffle=True, validation_split=0.2, callbacks=callbacks)"
      ],
      "execution_count": null,
      "outputs": [
        {
          "output_type": "stream",
          "name": "stdout",
          "text": [
            "Epoch 1/40\n"
          ]
        },
        {
          "output_type": "error",
          "ename": "ResourceExhaustedError",
          "evalue": "ignored",
          "traceback": [
            "\u001b[0;31m---------------------------------------------------------------------------\u001b[0m",
            "\u001b[0;31mResourceExhaustedError\u001b[0m                    Traceback (most recent call last)",
            "\u001b[0;32m<ipython-input-24-472102d5b017>\u001b[0m in \u001b[0;36m<module>\u001b[0;34m()\u001b[0m\n\u001b[1;32m      5\u001b[0m \u001b[0mcallbacks\u001b[0m \u001b[0;34m=\u001b[0m \u001b[0;34m[\u001b[0m\u001b[0mearlystop\u001b[0m\u001b[0;34m]\u001b[0m\u001b[0;34m\u001b[0m\u001b[0;34m\u001b[0m\u001b[0m\n\u001b[1;32m      6\u001b[0m \u001b[0;34m\u001b[0m\u001b[0m\n\u001b[0;32m----> 7\u001b[0;31m \u001b[0mhistory\u001b[0m \u001b[0;34m=\u001b[0m \u001b[0mmodel\u001b[0m\u001b[0;34m.\u001b[0m\u001b[0mfit\u001b[0m\u001b[0;34m(\u001b[0m\u001b[0mx\u001b[0m \u001b[0;34m=\u001b[0m \u001b[0mX_train\u001b[0m\u001b[0;34m,\u001b[0m \u001b[0my\u001b[0m \u001b[0;34m=\u001b[0m \u001b[0my_train\u001b[0m\u001b[0;34m,\u001b[0m \u001b[0mepochs\u001b[0m\u001b[0;34m=\u001b[0m\u001b[0;36m40\u001b[0m\u001b[0;34m,\u001b[0m \u001b[0mbatch_size\u001b[0m \u001b[0;34m=\u001b[0m \u001b[0;36m5\u001b[0m \u001b[0;34m,\u001b[0m \u001b[0mshuffle\u001b[0m\u001b[0;34m=\u001b[0m\u001b[0;32mTrue\u001b[0m\u001b[0;34m,\u001b[0m \u001b[0mvalidation_split\u001b[0m\u001b[0;34m=\u001b[0m\u001b[0;36m0.2\u001b[0m\u001b[0;34m,\u001b[0m \u001b[0mcallbacks\u001b[0m\u001b[0;34m=\u001b[0m\u001b[0mcallbacks\u001b[0m\u001b[0;34m)\u001b[0m\u001b[0;34m\u001b[0m\u001b[0;34m\u001b[0m\u001b[0m\n\u001b[0m",
            "\u001b[0;32m/usr/local/lib/python3.7/dist-packages/keras/utils/traceback_utils.py\u001b[0m in \u001b[0;36merror_handler\u001b[0;34m(*args, **kwargs)\u001b[0m\n\u001b[1;32m     65\u001b[0m     \u001b[0;32mexcept\u001b[0m \u001b[0mException\u001b[0m \u001b[0;32mas\u001b[0m \u001b[0me\u001b[0m\u001b[0;34m:\u001b[0m  \u001b[0;31m# pylint: disable=broad-except\u001b[0m\u001b[0;34m\u001b[0m\u001b[0;34m\u001b[0m\u001b[0m\n\u001b[1;32m     66\u001b[0m       \u001b[0mfiltered_tb\u001b[0m \u001b[0;34m=\u001b[0m \u001b[0m_process_traceback_frames\u001b[0m\u001b[0;34m(\u001b[0m\u001b[0me\u001b[0m\u001b[0;34m.\u001b[0m\u001b[0m__traceback__\u001b[0m\u001b[0;34m)\u001b[0m\u001b[0;34m\u001b[0m\u001b[0;34m\u001b[0m\u001b[0m\n\u001b[0;32m---> 67\u001b[0;31m       \u001b[0;32mraise\u001b[0m \u001b[0me\u001b[0m\u001b[0;34m.\u001b[0m\u001b[0mwith_traceback\u001b[0m\u001b[0;34m(\u001b[0m\u001b[0mfiltered_tb\u001b[0m\u001b[0;34m)\u001b[0m \u001b[0;32mfrom\u001b[0m \u001b[0;32mNone\u001b[0m\u001b[0;34m\u001b[0m\u001b[0;34m\u001b[0m\u001b[0m\n\u001b[0m\u001b[1;32m     68\u001b[0m     \u001b[0;32mfinally\u001b[0m\u001b[0;34m:\u001b[0m\u001b[0;34m\u001b[0m\u001b[0;34m\u001b[0m\u001b[0m\n\u001b[1;32m     69\u001b[0m       \u001b[0;32mdel\u001b[0m \u001b[0mfiltered_tb\u001b[0m\u001b[0;34m\u001b[0m\u001b[0;34m\u001b[0m\u001b[0m\n",
            "\u001b[0;32m/usr/local/lib/python3.7/dist-packages/tensorflow/python/eager/execute.py\u001b[0m in \u001b[0;36mquick_execute\u001b[0;34m(op_name, num_outputs, inputs, attrs, ctx, name)\u001b[0m\n\u001b[1;32m     57\u001b[0m     \u001b[0mctx\u001b[0m\u001b[0;34m.\u001b[0m\u001b[0mensure_initialized\u001b[0m\u001b[0;34m(\u001b[0m\u001b[0;34m)\u001b[0m\u001b[0;34m\u001b[0m\u001b[0;34m\u001b[0m\u001b[0m\n\u001b[1;32m     58\u001b[0m     tensors = pywrap_tfe.TFE_Py_Execute(ctx._handle, device_name, op_name,\n\u001b[0;32m---> 59\u001b[0;31m                                         inputs, attrs, num_outputs)\n\u001b[0m\u001b[1;32m     60\u001b[0m   \u001b[0;32mexcept\u001b[0m \u001b[0mcore\u001b[0m\u001b[0;34m.\u001b[0m\u001b[0m_NotOkStatusException\u001b[0m \u001b[0;32mas\u001b[0m \u001b[0me\u001b[0m\u001b[0;34m:\u001b[0m\u001b[0;34m\u001b[0m\u001b[0;34m\u001b[0m\u001b[0m\n\u001b[1;32m     61\u001b[0m     \u001b[0;32mif\u001b[0m \u001b[0mname\u001b[0m \u001b[0;32mis\u001b[0m \u001b[0;32mnot\u001b[0m \u001b[0;32mNone\u001b[0m\u001b[0;34m:\u001b[0m\u001b[0;34m\u001b[0m\u001b[0;34m\u001b[0m\u001b[0m\n",
            "\u001b[0;31mResourceExhaustedError\u001b[0m:  OOM when allocating tensor with shape[5,118,118,64] and type float on /job:localhost/replica:0/task:0/device:GPU:0 by allocator GPU_0_bfc\n\t [[{{node Func/sequential/conv_lstm2d/while/body/_1/input/_789-0-0-TransposeNCHWToNHWC-LayoutOptimizer}}]]\nHint: If you want to see a list of allocated tensors when OOM happens, add report_tensor_allocations_upon_oom to RunOptions for current allocation info. This isn't available when running in Eager mode.\n [Op:__inference_train_function_3650]"
          ]
        }
      ]
    },
    {
      "cell_type": "code",
      "metadata": {
        "id": "OAKAXQ1PVCe_"
      },
      "source": [
        "# Note: There will be a high memory requirement for the training steps below. \n",
        "# You should work on a GPU/TPU based runtime. See 'Change Runtime' in Colab\n",
        "# Training time for each epoch could be ~30 mins\n",
        "# To save and re-load your model later, see the reference below:\n",
        "# https://colab.research.google.com/github/tensorflow/docs/blob/master/site/en/tutorials/keras/save_and_load.ipynb\n",
        "\n",
        "# YOUR CODE HERE"
      ],
      "execution_count": null,
      "outputs": []
    },
    {
      "cell_type": "markdown",
      "metadata": {
        "id": "uuIG5DHUOAkm"
      },
      "source": [
        "### Use pre-trained model for feature extraction (3 points)\n",
        "\n",
        "To create a deep learning network for video classification:\n",
        "\n",
        "* Convert videos to sequences of feature vectors using a pretrained convolutional neural network, such as VGG16, to extract features from each frame.\n",
        "\n",
        "* Train an LSTM network on the sequences to predict the video labels.\n",
        "\n",
        "* Assemble a network that classifies videos directly by combining layers from both networks.\n",
        "\n",
        "Hint: [VGG-16 CNN and LSTM](https://riptutorial.com/keras/example/29812/vgg-16-cnn-and-lstm-for-video-classification)"
      ]
    },
    {
      "cell_type": "markdown",
      "metadata": {
        "id": "wqCpO1LO_4S1"
      },
      "source": [
        "#### Load and fine-tune the pre-trained model"
      ]
    },
    {
      "cell_type": "code",
      "metadata": {
        "id": "Y20WHpNlIl3h"
      },
      "source": [
        "from keras.applications.vgg16 import VGG16\n",
        "from keras.models import Model\n",
        "from keras.layers import Dense, Input\n",
        "from keras.layers.pooling import GlobalAveragePooling2D\n",
        "from keras.layers.recurrent import LSTM\n",
        "from keras.layers.wrappers import TimeDistributed\n",
        "from tensorflow.keras.optimizers import Nadam"
      ],
      "execution_count": null,
      "outputs": []
    },
    {
      "cell_type": "code",
      "metadata": {
        "colab": {
          "base_uri": "https://localhost:8080/"
        },
        "id": "1dHAXlFkISNM",
        "outputId": "7d365437-89ec-404b-fb2a-9668150597f5"
      },
      "source": [
        "frames=70\n",
        "channels=3\n",
        "rows=120\n",
        "columns=120\n",
        "classes= 6\n",
        "\n",
        "\n",
        "video = Input(shape=(frames,\n",
        "                     rows,\n",
        "                     columns, channels))\n",
        "cnn_base = VGG16(input_shape=(rows,columns,channels),weights=None,include_top=False)\n",
        "\n",
        "cnn_out = GlobalAveragePooling2D()(cnn_base.output)\n",
        "print(cnn_base.summary())\n",
        "print(\"----------------------------------\")\n",
        "cnn = Model(inputs=cnn_base.input, outputs=cnn_out)\n",
        "cnn.trainable =False\n",
        "print(cnn.summary())\n",
        "print(\"----------------------------------\")\n",
        "\n",
        "encoded_frames = TimeDistributed(cnn)(video)\n",
        "print(encoded_frames)\n",
        "encoded_sequence = LSTM(256)(encoded_frames)\n",
        "# Create the dropout layers\n",
        "dropout1 = Dropout(0.2)(encoded_sequence)\n",
        "#flatten=Flatten()\n",
        "hidden_layer = Dense(units=1024, activation=\"relu\")(dropout1)\n",
        "dropout2 = Dropout(0.3)(hidden_layer)\n",
        "hidden_layer1 = Dense(units=512, activation=\"relu\")(dropout2)\n",
        "hidden_layer2 = Dense(units=256, activation=\"relu\")(hidden_layer1)\n",
        "hidden_layer3 = Dense(units=6, activation=\"relu\")(hidden_layer2)\n",
        "outputs = Dense(units=classes, activation=\"softmax\")(hidden_layer2)\n",
        "model = Model([video], outputs)\n",
        "model.summary()\n",
        "\n",
        "optimizer = Nadam(learning_rate=0.002,beta_1=0.9,beta_2=0.999,epsilon=1e-08,schedule_decay=0.004)\n",
        "model.compile(loss=\"sparse_categorical_crossentropy\",\n",
        "              optimizer=optimizer,\n",
        "              metrics=[\"categorical_accuracy\"]) "
      ],
      "execution_count": null,
      "outputs": [
        {
          "output_type": "stream",
          "name": "stdout",
          "text": [
            "Model: \"vgg16\"\n",
            "_________________________________________________________________\n",
            " Layer (type)                Output Shape              Param #   \n",
            "=================================================================\n",
            " input_22 (InputLayer)       [(None, 120, 120, 3)]     0         \n",
            "                                                                 \n",
            " block1_conv1 (Conv2D)       (None, 120, 120, 64)      1792      \n",
            "                                                                 \n",
            " block1_conv2 (Conv2D)       (None, 120, 120, 64)      36928     \n",
            "                                                                 \n",
            " block1_pool (MaxPooling2D)  (None, 60, 60, 64)        0         \n",
            "                                                                 \n",
            " block2_conv1 (Conv2D)       (None, 60, 60, 128)       73856     \n",
            "                                                                 \n",
            " block2_conv2 (Conv2D)       (None, 60, 60, 128)       147584    \n",
            "                                                                 \n",
            " block2_pool (MaxPooling2D)  (None, 30, 30, 128)       0         \n",
            "                                                                 \n",
            " block3_conv1 (Conv2D)       (None, 30, 30, 256)       295168    \n",
            "                                                                 \n",
            " block3_conv2 (Conv2D)       (None, 30, 30, 256)       590080    \n",
            "                                                                 \n",
            " block3_conv3 (Conv2D)       (None, 30, 30, 256)       590080    \n",
            "                                                                 \n",
            " block3_pool (MaxPooling2D)  (None, 15, 15, 256)       0         \n",
            "                                                                 \n",
            " block4_conv1 (Conv2D)       (None, 15, 15, 512)       1180160   \n",
            "                                                                 \n",
            " block4_conv2 (Conv2D)       (None, 15, 15, 512)       2359808   \n",
            "                                                                 \n",
            " block4_conv3 (Conv2D)       (None, 15, 15, 512)       2359808   \n",
            "                                                                 \n",
            " block4_pool (MaxPooling2D)  (None, 7, 7, 512)         0         \n",
            "                                                                 \n",
            " block5_conv1 (Conv2D)       (None, 7, 7, 512)         2359808   \n",
            "                                                                 \n",
            " block5_conv2 (Conv2D)       (None, 7, 7, 512)         2359808   \n",
            "                                                                 \n",
            " block5_conv3 (Conv2D)       (None, 7, 7, 512)         2359808   \n",
            "                                                                 \n",
            " block5_pool (MaxPooling2D)  (None, 3, 3, 512)         0         \n",
            "                                                                 \n",
            "=================================================================\n",
            "Total params: 14,714,688\n",
            "Trainable params: 14,714,688\n",
            "Non-trainable params: 0\n",
            "_________________________________________________________________\n",
            "None\n",
            "----------------------------------\n",
            "Model: \"model_15\"\n",
            "_________________________________________________________________\n",
            " Layer (type)                Output Shape              Param #   \n",
            "=================================================================\n",
            " input_22 (InputLayer)       [(None, 120, 120, 3)]     0         \n",
            "                                                                 \n",
            " block1_conv1 (Conv2D)       (None, 120, 120, 64)      1792      \n",
            "                                                                 \n",
            " block1_conv2 (Conv2D)       (None, 120, 120, 64)      36928     \n",
            "                                                                 \n",
            " block1_pool (MaxPooling2D)  (None, 60, 60, 64)        0         \n",
            "                                                                 \n",
            " block2_conv1 (Conv2D)       (None, 60, 60, 128)       73856     \n",
            "                                                                 \n",
            " block2_conv2 (Conv2D)       (None, 60, 60, 128)       147584    \n",
            "                                                                 \n",
            " block2_pool (MaxPooling2D)  (None, 30, 30, 128)       0         \n",
            "                                                                 \n",
            " block3_conv1 (Conv2D)       (None, 30, 30, 256)       295168    \n",
            "                                                                 \n",
            " block3_conv2 (Conv2D)       (None, 30, 30, 256)       590080    \n",
            "                                                                 \n",
            " block3_conv3 (Conv2D)       (None, 30, 30, 256)       590080    \n",
            "                                                                 \n",
            " block3_pool (MaxPooling2D)  (None, 15, 15, 256)       0         \n",
            "                                                                 \n",
            " block4_conv1 (Conv2D)       (None, 15, 15, 512)       1180160   \n",
            "                                                                 \n",
            " block4_conv2 (Conv2D)       (None, 15, 15, 512)       2359808   \n",
            "                                                                 \n",
            " block4_conv3 (Conv2D)       (None, 15, 15, 512)       2359808   \n",
            "                                                                 \n",
            " block4_pool (MaxPooling2D)  (None, 7, 7, 512)         0         \n",
            "                                                                 \n",
            " block5_conv1 (Conv2D)       (None, 7, 7, 512)         2359808   \n",
            "                                                                 \n",
            " block5_conv2 (Conv2D)       (None, 7, 7, 512)         2359808   \n",
            "                                                                 \n",
            " block5_conv3 (Conv2D)       (None, 7, 7, 512)         2359808   \n",
            "                                                                 \n",
            " block5_pool (MaxPooling2D)  (None, 3, 3, 512)         0         \n",
            "                                                                 \n",
            " global_average_pooling2d_10  (None, 512)              0         \n",
            "  (GlobalAveragePooling2D)                                       \n",
            "                                                                 \n",
            "=================================================================\n",
            "Total params: 14,714,688\n",
            "Trainable params: 0\n",
            "Non-trainable params: 14,714,688\n",
            "_________________________________________________________________\n",
            "None\n",
            "----------------------------------\n",
            "KerasTensor(type_spec=TensorSpec(shape=(None, 70, 512), dtype=tf.float32, name=None), name='time_distributed_10/Reshape_1:0', description=\"created by layer 'time_distributed_10'\")\n",
            "Model: \"model_16\"\n",
            "_________________________________________________________________\n",
            " Layer (type)                Output Shape              Param #   \n",
            "=================================================================\n",
            " input_21 (InputLayer)       [(None, 70, 120, 120, 3)  0         \n",
            "                             ]                                   \n",
            "                                                                 \n",
            " time_distributed_10 (TimeDi  (None, 70, 512)          14714688  \n",
            " stributed)                                                      \n",
            "                                                                 \n",
            " lstm_10 (LSTM)              (None, 256)               787456    \n",
            "                                                                 \n",
            " dropout_19 (Dropout)        (None, 256)               0         \n",
            "                                                                 \n",
            " dense_32 (Dense)            (None, 1024)              263168    \n",
            "                                                                 \n",
            " dropout_20 (Dropout)        (None, 1024)              0         \n",
            "                                                                 \n",
            " dense_33 (Dense)            (None, 512)               524800    \n",
            "                                                                 \n",
            " dense_34 (Dense)            (None, 256)               131328    \n",
            "                                                                 \n",
            " dense_36 (Dense)            (None, 6)                 1542      \n",
            "                                                                 \n",
            "=================================================================\n",
            "Total params: 16,422,982\n",
            "Trainable params: 1,708,294\n",
            "Non-trainable params: 14,714,688\n",
            "_________________________________________________________________\n"
          ]
        }
      ]
    },
    {
      "cell_type": "code",
      "metadata": {
        "colab": {
          "base_uri": "https://localhost:8080/",
          "height": 976
        },
        "id": "5nPOlUx6Z-Lf",
        "outputId": "dc0ef30b-1b14-4924-d578-5e8f1d3a7e35"
      },
      "source": [
        "from keras.utils.vis_utils import plot_model\n",
        "plot_model(model,to_file='vgg.png',show_shapes=True)\n",
        "from IPython.display import Image\n",
        "Image(\"vgg.png\")"
      ],
      "execution_count": null,
      "outputs": [
        {
          "output_type": "execute_result",
          "data": {
            "image/png": "[encoded data removed]",
            "text/plain": [
              "<IPython.core.display.Image object>"
            ]
          },
          "metadata": {},
          "execution_count": 40
        }
      ]
    },
    {
      "cell_type": "code",
      "metadata": {
        "colab": {
          "base_uri": "https://localhost:8080/"
        },
        "id": "H2VsZLJSFGlf",
        "outputId": "3a439d08-621a-4214-e817-05cc36795065"
      },
      "source": [
        "opt = tf.keras.optimizers.SGD(learning_rate=0.001)\n",
        "model.compile(loss='categorical_crossentropy', optimizer=opt, metrics=[\"accuracy\"])\n",
        " \n",
        "earlystop = EarlyStopping(patience=7)\n",
        "callbacks = [earlystop]\n",
        " \n",
        "history = model.fit(x = X_train, y = y_train, epochs=40, batch_size = 8 , shuffle=True, validation_split=0.2, callbacks=callbacks)"
      ],
      "execution_count": null,
      "outputs": [
        {
          "output_type": "stream",
          "name": "stdout",
          "text": [
            "Epoch 1/40\n",
            "48/48 [==============================] - 133s 3s/step - loss: 1.7761 - accuracy: 0.2219 - val_loss: 1.8917 - val_accuracy: 0.0000e+00\n",
            "Epoch 2/40\n",
            "48/48 [==============================] - 89s 2s/step - loss: 1.7664 - accuracy: 0.1958 - val_loss: 1.9607 - val_accuracy: 0.0000e+00\n",
            "Epoch 3/40\n",
            "48/48 [==============================] - 88s 2s/step - loss: 1.7470 - accuracy: 0.2141 - val_loss: 2.0262 - val_accuracy: 0.0000e+00\n",
            "Epoch 4/40\n",
            "48/48 [==============================] - 88s 2s/step - loss: 1.7421 - accuracy: 0.1958 - val_loss: 2.0928 - val_accuracy: 0.0000e+00\n",
            "Epoch 5/40\n",
            "48/48 [==============================] - 89s 2s/step - loss: 1.7288 - accuracy: 0.2089 - val_loss: 2.1566 - val_accuracy: 0.0000e+00\n",
            "Epoch 6/40\n",
            "48/48 [==============================] - 88s 2s/step - loss: 1.7216 - accuracy: 0.2115 - val_loss: 2.2219 - val_accuracy: 0.0000e+00\n",
            "Epoch 7/40\n",
            "48/48 [==============================] - 89s 2s/step - loss: 1.7143 - accuracy: 0.2141 - val_loss: 2.2857 - val_accuracy: 0.0000e+00\n",
            "Epoch 8/40\n",
            "48/48 [==============================] - 88s 2s/step - loss: 1.7040 - accuracy: 0.2507 - val_loss: 2.3490 - val_accuracy: 0.0000e+00\n"
          ]
        }
      ]
    },
    {
      "cell_type": "code",
      "metadata": {
        "id": "QhFb7AeA_2rg",
        "colab": {
          "base_uri": "https://localhost:8080/",
          "height": 1000
        },
        "outputId": "9ed72861-82f3-4f8c-a81c-4b924f1b2ec6"
      },
      "source": [
        " earlystop = EarlyStopping(patience=7)\n",
        "callbacks = [earlystop]\n",
        "history = model.fit(x = X_train, y = y_train, epochs=40, batch_size = 8 , shuffle=True, validation_split=0.2, callbacks=callbacks)"
      ],
      "execution_count": null,
      "outputs": [
        {
          "output_type": "stream",
          "name": "stdout",
          "text": [
            "Epoch 1/40\n"
          ]
        },
        {
          "output_type": "error",
          "ename": "InvalidArgumentError",
          "evalue": "ignored",
          "traceback": [
            "\u001b[0;31m---------------------------------------------------------------------------\u001b[0m",
            "\u001b[0;31mInvalidArgumentError\u001b[0m                      Traceback (most recent call last)",
            "\u001b[0;32m<ipython-input-26-139fffd59bee>\u001b[0m in \u001b[0;36m<module>\u001b[0;34m()\u001b[0m\n\u001b[1;32m      1\u001b[0m \u001b[0mearlystop\u001b[0m \u001b[0;34m=\u001b[0m \u001b[0mEarlyStopping\u001b[0m\u001b[0;34m(\u001b[0m\u001b[0mpatience\u001b[0m\u001b[0;34m=\u001b[0m\u001b[0;36m7\u001b[0m\u001b[0;34m)\u001b[0m\u001b[0;34m\u001b[0m\u001b[0;34m\u001b[0m\u001b[0m\n\u001b[1;32m      2\u001b[0m \u001b[0mcallbacks\u001b[0m \u001b[0;34m=\u001b[0m \u001b[0;34m[\u001b[0m\u001b[0mearlystop\u001b[0m\u001b[0;34m]\u001b[0m\u001b[0;34m\u001b[0m\u001b[0;34m\u001b[0m\u001b[0m\n\u001b[0;32m----> 3\u001b[0;31m \u001b[0mhistory\u001b[0m \u001b[0;34m=\u001b[0m \u001b[0mmodel\u001b[0m\u001b[0;34m.\u001b[0m\u001b[0mfit\u001b[0m\u001b[0;34m(\u001b[0m\u001b[0mx\u001b[0m \u001b[0;34m=\u001b[0m \u001b[0mX_train\u001b[0m\u001b[0;34m,\u001b[0m \u001b[0my\u001b[0m \u001b[0;34m=\u001b[0m \u001b[0my_train\u001b[0m\u001b[0;34m,\u001b[0m \u001b[0mepochs\u001b[0m\u001b[0;34m=\u001b[0m\u001b[0;36m40\u001b[0m\u001b[0;34m,\u001b[0m \u001b[0mbatch_size\u001b[0m \u001b[0;34m=\u001b[0m \u001b[0;36m8\u001b[0m \u001b[0;34m,\u001b[0m \u001b[0mshuffle\u001b[0m\u001b[0;34m=\u001b[0m\u001b[0;32mTrue\u001b[0m\u001b[0;34m,\u001b[0m \u001b[0mvalidation_split\u001b[0m\u001b[0;34m=\u001b[0m\u001b[0;36m0.2\u001b[0m\u001b[0;34m,\u001b[0m \u001b[0mcallbacks\u001b[0m\u001b[0;34m=\u001b[0m\u001b[0mcallbacks\u001b[0m\u001b[0;34m)\u001b[0m\u001b[0;34m\u001b[0m\u001b[0;34m\u001b[0m\u001b[0m\n\u001b[0m",
            "\u001b[0;32m/usr/local/lib/python3.7/dist-packages/keras/utils/traceback_utils.py\u001b[0m in \u001b[0;36merror_handler\u001b[0;34m(*args, **kwargs)\u001b[0m\n\u001b[1;32m     65\u001b[0m     \u001b[0;32mexcept\u001b[0m \u001b[0mException\u001b[0m \u001b[0;32mas\u001b[0m \u001b[0me\u001b[0m\u001b[0;34m:\u001b[0m  \u001b[0;31m# pylint: disable=broad-except\u001b[0m\u001b[0;34m\u001b[0m\u001b[0;34m\u001b[0m\u001b[0m\n\u001b[1;32m     66\u001b[0m       \u001b[0mfiltered_tb\u001b[0m \u001b[0;34m=\u001b[0m \u001b[0m_process_traceback_frames\u001b[0m\u001b[0;34m(\u001b[0m\u001b[0me\u001b[0m\u001b[0;34m.\u001b[0m\u001b[0m__traceback__\u001b[0m\u001b[0;34m)\u001b[0m\u001b[0;34m\u001b[0m\u001b[0;34m\u001b[0m\u001b[0m\n\u001b[0;32m---> 67\u001b[0;31m       \u001b[0;32mraise\u001b[0m \u001b[0me\u001b[0m\u001b[0;34m.\u001b[0m\u001b[0mwith_traceback\u001b[0m\u001b[0;34m(\u001b[0m\u001b[0mfiltered_tb\u001b[0m\u001b[0;34m)\u001b[0m \u001b[0;32mfrom\u001b[0m \u001b[0;32mNone\u001b[0m\u001b[0;34m\u001b[0m\u001b[0;34m\u001b[0m\u001b[0m\n\u001b[0m\u001b[1;32m     68\u001b[0m     \u001b[0;32mfinally\u001b[0m\u001b[0;34m:\u001b[0m\u001b[0;34m\u001b[0m\u001b[0;34m\u001b[0m\u001b[0m\n\u001b[1;32m     69\u001b[0m       \u001b[0;32mdel\u001b[0m \u001b[0mfiltered_tb\u001b[0m\u001b[0;34m\u001b[0m\u001b[0;34m\u001b[0m\u001b[0m\n",
            "\u001b[0;32m/usr/local/lib/python3.7/dist-packages/tensorflow/python/eager/execute.py\u001b[0m in \u001b[0;36mquick_execute\u001b[0;34m(op_name, num_outputs, inputs, attrs, ctx, name)\u001b[0m\n\u001b[1;32m     57\u001b[0m     \u001b[0mctx\u001b[0m\u001b[0;34m.\u001b[0m\u001b[0mensure_initialized\u001b[0m\u001b[0;34m(\u001b[0m\u001b[0;34m)\u001b[0m\u001b[0;34m\u001b[0m\u001b[0;34m\u001b[0m\u001b[0m\n\u001b[1;32m     58\u001b[0m     tensors = pywrap_tfe.TFE_Py_Execute(ctx._handle, device_name, op_name,\n\u001b[0;32m---> 59\u001b[0;31m                                         inputs, attrs, num_outputs)\n\u001b[0m\u001b[1;32m     60\u001b[0m   \u001b[0;32mexcept\u001b[0m \u001b[0mcore\u001b[0m\u001b[0;34m.\u001b[0m\u001b[0m_NotOkStatusException\u001b[0m \u001b[0;32mas\u001b[0m \u001b[0me\u001b[0m\u001b[0;34m:\u001b[0m\u001b[0;34m\u001b[0m\u001b[0;34m\u001b[0m\u001b[0m\n\u001b[1;32m     61\u001b[0m     \u001b[0;32mif\u001b[0m \u001b[0mname\u001b[0m \u001b[0;32mis\u001b[0m \u001b[0;32mnot\u001b[0m \u001b[0;32mNone\u001b[0m\u001b[0;34m:\u001b[0m\u001b[0;34m\u001b[0m\u001b[0;34m\u001b[0m\u001b[0m\n",
            "\u001b[0;31mInvalidArgumentError\u001b[0m:  logits and labels must have the same first dimension, got logits shape [8,6] and labels shape [48]\n\t [[node sparse_categorical_crossentropy/SparseSoftmaxCrossEntropyWithLogits/SparseSoftmaxCrossEntropyWithLogits\n (defined at /usr/local/lib/python3.7/dist-packages/keras/backend.py:5114)\n]] [Op:__inference_train_function_19802]\n\nErrors may have originated from an input operation.\nInput Source operations connected to node sparse_categorical_crossentropy/SparseSoftmaxCrossEntropyWithLogits/SparseSoftmaxCrossEntropyWithLogits:\nIn[0] sparse_categorical_crossentropy/Reshape_1 (defined at /usr/local/lib/python3.7/dist-packages/keras/backend.py:5109)\t\nIn[1] sparse_categorical_crossentropy/Reshape (defined at /usr/local/lib/python3.7/dist-packages/keras/backend.py:3561)\n\nOperation defined at: (most recent call last)\n>>>   File \"/usr/lib/python3.7/runpy.py\", line 193, in _run_module_as_main\n>>>     \"__main__\", mod_spec)\n>>> \n>>>   File \"/usr/lib/python3.7/runpy.py\", line 85, in _run_code\n>>>     exec(code, run_globals)\n>>> \n>>>   File \"/usr/local/lib/python3.7/dist-packages/ipykernel_launcher.py\", line 16, in <module>\n>>>     app.launch_new_instance()\n>>> \n>>>   File \"/usr/local/lib/python3.7/dist-packages/traitlets/config/application.py\", line 846, in launch_instance\n>>>     app.start()\n>>> \n>>>   File \"/usr/local/lib/python3.7/dist-packages/ipykernel/kernelapp.py\", line 499, in start\n>>>     self.io_loop.start()\n>>> \n>>>   File \"/usr/local/lib/python3.7/dist-packages/tornado/platform/asyncio.py\", line 132, in start\n>>>     self.asyncio_loop.run_forever()\n>>> \n>>>   File \"/usr/lib/python3.7/asyncio/base_events.py\", line 541, in run_forever\n>>>     self._run_once()\n>>> \n>>>   File \"/usr/lib/python3.7/asyncio/base_events.py\", line 1786, in _run_once\n>>>     handle._run()\n>>> \n>>>   File \"/usr/lib/python3.7/asyncio/events.py\", line 88, in _run\n>>>     self._context.run(self._callback, *self._args)\n>>> \n>>>   File \"/usr/local/lib/python3.7/dist-packages/tornado/platform/asyncio.py\", line 122, in _handle_events\n>>>     handler_func(fileobj, events)\n>>> \n>>>   File \"/usr/local/lib/python3.7/dist-packages/tornado/stack_context.py\", line 300, in null_wrapper\n>>>     return fn(*args, **kwargs)\n>>> \n>>>   File \"/usr/local/lib/python3.7/dist-packages/zmq/eventloop/zmqstream.py\", line 452, in _handle_events\n>>>     self._handle_recv()\n>>> \n>>>   File \"/usr/local/lib/python3.7/dist-packages/zmq/eventloop/zmqstream.py\", line 481, in _handle_recv\n>>>     self._run_callback(callback, msg)\n>>> \n>>>   File \"/usr/local/lib/python3.7/dist-packages/zmq/eventloop/zmqstream.py\", line 431, in _run_callback\n>>>     callback(*args, **kwargs)\n>>> \n>>>   File \"/usr/local/lib/python3.7/dist-packages/tornado/stack_context.py\", line 300, in null_wrapper\n>>>     return fn(*args, **kwargs)\n>>> \n>>>   File \"/usr/local/lib/python3.7/dist-packages/ipykernel/kernelbase.py\", line 283, in dispatcher\n>>>     return self.dispatch_shell(stream, msg)\n>>> \n>>>   File \"/usr/local/lib/python3.7/dist-packages/ipykernel/kernelbase.py\", line 233, in dispatch_shell\n>>>     handler(stream, idents, msg)\n>>> \n>>>   File \"/usr/local/lib/python3.7/dist-packages/ipykernel/kernelbase.py\", line 399, in execute_request\n>>>     user_expressions, allow_stdin)\n>>> \n>>>   File \"/usr/local/lib/python3.7/dist-packages/ipykernel/ipkernel.py\", line 208, in do_execute\n>>>     res = shell.run_cell(code, store_history=store_history, silent=silent)\n>>> \n>>>   File \"/usr/local/lib/python3.7/dist-packages/ipykernel/zmqshell.py\", line 537, in run_cell\n>>>     return super(ZMQInteractiveShell, self).run_cell(*args, **kwargs)\n>>> \n>>>   File \"/usr/local/lib/python3.7/dist-packages/IPython/core/interactiveshell.py\", line 2718, in run_cell\n>>>     interactivity=interactivity, compiler=compiler, result=result)\n>>> \n>>>   File \"/usr/local/lib/python3.7/dist-packages/IPython/core/interactiveshell.py\", line 2822, in run_ast_nodes\n>>>     if self.run_code(code, result):\n>>> \n>>>   File \"/usr/local/lib/python3.7/dist-packages/IPython/core/interactiveshell.py\", line 2882, in run_code\n>>>     exec(code_obj, self.user_global_ns, self.user_ns)\n>>> \n>>>   File \"<ipython-input-26-139fffd59bee>\", line 3, in <module>\n>>>     history = model.fit(x = X_train, y = y_train, epochs=40, batch_size = 8 , shuffle=True, validation_split=0.2, callbacks=callbacks)\n>>> \n>>>   File \"/usr/local/lib/python3.7/dist-packages/keras/utils/traceback_utils.py\", line 64, in error_handler\n>>>     return fn(*args, **kwargs)\n>>> \n>>>   File \"/usr/local/lib/python3.7/dist-packages/keras/engine/training.py\", line 1216, in fit\n>>>     tmp_logs = self.train_function(iterator)\n>>> \n>>>   File \"/usr/local/lib/python3.7/dist-packages/keras/engine/training.py\", line 878, in train_function\n>>>     return step_function(self, iterator)\n>>> \n>>>   File \"/usr/local/lib/python3.7/dist-packages/keras/engine/training.py\", line 867, in step_function\n>>>     outputs = model.distribute_strategy.run(run_step, args=(data,))\n>>> \n>>>   File \"/usr/local/lib/python3.7/dist-packages/keras/engine/training.py\", line 860, in run_step\n>>>     outputs = model.train_step(data)\n>>> \n>>>   File \"/usr/local/lib/python3.7/dist-packages/keras/engine/training.py\", line 810, in train_step\n>>>     y, y_pred, sample_weight, regularization_losses=self.losses)\n>>> \n>>>   File \"/usr/local/lib/python3.7/dist-packages/keras/engine/compile_utils.py\", line 201, in __call__\n>>>     loss_value = loss_obj(y_t, y_p, sample_weight=sw)\n>>> \n>>>   File \"/usr/local/lib/python3.7/dist-packages/keras/losses.py\", line 141, in __call__\n>>>     losses = call_fn(y_true, y_pred)\n>>> \n>>>   File \"/usr/local/lib/python3.7/dist-packages/keras/losses.py\", line 245, in call\n>>>     return ag_fn(y_true, y_pred, **self._fn_kwargs)\n>>> \n>>>   File \"/usr/local/lib/python3.7/dist-packages/keras/losses.py\", line 1738, in sparse_categorical_crossentropy\n>>>     y_true, y_pred, from_logits=from_logits, axis=axis)\n>>> \n>>>   File \"/usr/local/lib/python3.7/dist-packages/keras/backend.py\", line 5114, in sparse_categorical_crossentropy\n>>>     labels=target, logits=output)\n>>> "
          ]
        }
      ]
    },
    {
      "cell_type": "markdown",
      "metadata": {
        "id": "UBMJM0U9_00u"
      },
      "source": [
        "#### Setup the parameters and train the model with epochs, batch wise\n",
        "\n",
        "* Use train data to fit the model and test data for validation\n",
        "* Configure batch size and epochs\n",
        "* Plot the loss of train and test data"
      ]
    },
    {
      "cell_type": "code",
      "metadata": {
        "id": "YpJlYHcIBuyk"
      },
      "source": [
        "# YOUR CODE HERE"
      ],
      "execution_count": null,
      "outputs": []
    },
    {
      "cell_type": "markdown",
      "metadata": {
        "id": "owOW-XyZb792"
      },
      "source": [
        "### Report Analysis\n",
        "\n",
        "* Discuss on FPS, Number of frames and duration of each video\n",
        "* Analyze the impact of the LSTM, GRU and TimeDistributed layers\n",
        "* Discuss about the model convergence using pre-trained and ConvNet\n",
        "* *Additional Reading*: Read and discuss about the use of Conv3D in video classification"
      ]
    }
  ]
}