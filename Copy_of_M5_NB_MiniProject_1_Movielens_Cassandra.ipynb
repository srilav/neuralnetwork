{
  "nbformat": 4,
  "nbformat_minor": 5,
  "metadata": {
    "kernelspec": {
      "display_name": "Python 3",
      "language": "python",
      "name": "python3"
    },
    "language_info": {
      "codemirror_mode": {
        "name": "ipython",
        "version": 3
      },
      "file_extension": ".py",
      "mimetype": "text/x-python",
      "name": "python",
      "nbconvert_exporter": "python",
      "pygments_lexer": "ipython3",
      "version": "3.9.2"
    },
    "colab": {
      "name": "Copy of M5_NB_MiniProject_1_Movielens_Cassandra.ipynb",
      "provenance": [],
      "collapsed_sections": [],
      "include_colab_link": true
    }
  },
  "cells": [
    {
      "cell_type": "markdown",
      "metadata": {
        "id": "view-in-github",
        "colab_type": "text"
      },
      "source": [
        "<a href=\"https://colab.research.google.com/github/srilav/neuralnetwork/blob/main/Copy_of_M5_NB_MiniProject_1_Movielens_Cassandra.ipynb\" target=\"_parent\"><img src=\"https://colab.research.google.com/assets/colab-badge.svg\" alt=\"Open In Colab\"/></a>"
      ]
    },
    {
      "cell_type": "markdown",
      "metadata": {
        "id": "UGX-JCC0Kfj_"
      },
      "source": [
        "# Advanced Certification Program in Computational Data Science\n",
        "## A program by IISc and TalentSprint\n",
        "### Mini-Project: Movielens data querying and analysis using NoSQL Database"
      ],
      "id": "UGX-JCC0Kfj_"
    },
    {
      "cell_type": "markdown",
      "metadata": {
        "id": "nKwRLuRawuMm"
      },
      "source": [
        "## Problem Statement"
      ],
      "id": "nKwRLuRawuMm"
    },
    {
      "cell_type": "markdown",
      "metadata": {
        "id": "GcfsHAkQKicm"
      },
      "source": [
        "Using the Cassandra NoSQL database, explore the **Movielens** dataset and build a movie recommendation engine"
      ],
      "id": "GcfsHAkQKicm"
    },
    {
      "cell_type": "markdown",
      "metadata": {
        "id": "solid-northeast"
      },
      "source": [
        "## Learning Objectives"
      ],
      "id": "solid-northeast"
    },
    {
      "cell_type": "markdown",
      "metadata": {
        "id": "automated-grass"
      },
      "source": [
        "At the end of the mini-project, you will be able to :\n",
        "\n",
        "* understand the concepts of NoSQL platforms\n",
        "* implement the database connectivity using Cassandra\n",
        "* create and insert data to the database \n",
        "* perform querying, retrieving and analyzing the data from database"
      ],
      "id": "automated-grass"
    },
    {
      "cell_type": "markdown",
      "metadata": {
        "id": "danish-guard"
      },
      "source": [
        "### Dataset"
      ],
      "id": "danish-guard"
    },
    {
      "cell_type": "markdown",
      "metadata": {
        "id": "ei4RdaJXKrsQ"
      },
      "source": [
        "The dataset chosen for this mini-project is [Movielens Dataset](https://movielens.org/). The dataset describes movies and ratings from Movielens. It contains movies from year 1919 to 2000 of total 3883 movies. There are 6040 users who have rated one or more than one movie of total 1000209 ratings collected. Movielens is maintained by members of GroupLens Research at the University of Minnesota. There are 3 datasets given, and they are:\n",
        "\n",
        "1. `data_movie.csv` that contains movies information:\n",
        "\n",
        "* MovieId\n",
        "* Title\n",
        "* Genres\n",
        "\n",
        "2. `data_rating.csv` that contains ratings of movies by users:\n",
        "\n",
        "* UserId\n",
        "* MovieId\n",
        "* Rating\n",
        "\n",
        "3. `data_users.csv` that contains users information:\n",
        "\n",
        "* UserId\n",
        "* Age\n",
        "* Gender"
      ],
      "id": "ei4RdaJXKrsQ"
    },
    {
      "cell_type": "markdown",
      "metadata": {
        "id": "color-conference"
      },
      "source": [
        "## Information"
      ],
      "id": "color-conference"
    },
    {
      "cell_type": "markdown",
      "metadata": {
        "id": "included-advocate"
      },
      "source": [
        "#### NoSQL platforms\n",
        "\n",
        "A NoSQL database provides a mechanism for storage and retrieval of data that is modeled in a form other than the tabular relations used in relational databases.\n",
        "\n",
        "**Cassandra** \n",
        "\n",
        "Apache Cassandra is a free and open-source, distributed, wide-column store, NoSQL database management system designed to handle large amounts of data across many commodity servers, providing high availability with no single point of failure. It is a NOSQL database developed by Facebook. It is a great database that allows you to effectively run queries on large amount of structured and semi structured data.\n",
        "\n",
        "To know when you have to choose Cassandra as your database of choice, you need to have an understanding of CAP Theorem.\n",
        "\n",
        "CAP theorem states that it is impossible for a distributed system to satisfy all three of these guarantees together, you need to leave one out.\n",
        "\n",
        "- C is Consistency, means all nodes have the same data at the same time\n",
        "- P is partition tolerance, means that in case of failure the system continues to operate\n",
        "- A is availability , make sure every request receives a response\n",
        "\n",
        "![img](https://developer.ibm.com/developer/default/tutorials/ba-set-up-apache-cassandra-architecture/images/figure1.png)"
      ],
      "id": "included-advocate"
    },
    {
      "cell_type": "markdown",
      "metadata": {
        "id": "circular-ireland"
      },
      "source": [
        "### Components of Cassandra\n",
        "\n",
        "There are following components in the Cassandra\n",
        "\n",
        "![img](https://www.guru99.com/images/cassandra/021116_0524_CassandraAr1.png)\n",
        "\n",
        "**Node**\n",
        "Node is the place where data is stored. It is the basic component of Cassandra.\n",
        "\n",
        "**Data Center**\n",
        "A collection of nodes are called data center. Many nodes are categorized as a data center.\n",
        "\n",
        "**Cluster**\n",
        "The cluster is the collection of many data centers.\n",
        "\n",
        "**Commit Log**\n",
        "Every write operation is written to Commit Log. Commit log is used for crash recovery.\n",
        "\n",
        "**Mem-table**\n",
        "After data written in Commit log, data is written in Mem-table. Data is written in Mem-table temporarily.\n",
        "\n",
        "**SSTable**\n",
        "When Mem-table reaches a certain threshold, data is flushed to an SSTable disk file."
      ],
      "id": "circular-ireland"
    },
    {
      "cell_type": "markdown",
      "metadata": {
        "id": "emotional-michael"
      },
      "source": [
        "### Data Replication\n",
        "\n",
        "As hardware problem can occur or link can be down at any time during data process, a solution is required to provide a backup when the problem has occurred. So data is replicated for assuring no single point of failure.\n",
        "\n",
        "Cassandra places replicas of data on different nodes based on these two factors.\n",
        "- Where to place next replica is determined by the Replication Strategy.\n",
        "- While the total number of replicas placed on different nodes is determined by the Replication Factor.\n",
        "\n",
        "One Replication factor means that there is only a single copy of data while three replication factor means that there are three copies of the data on three different nodes."
      ],
      "id": "emotional-michael"
    },
    {
      "cell_type": "markdown",
      "metadata": {
        "id": "ndQNKsjS7c04"
      },
      "source": [
        "## Grading = 10 Points"
      ],
      "id": "ndQNKsjS7c04"
    },
    {
      "cell_type": "markdown",
      "metadata": {
        "id": "developed-value"
      },
      "source": [
        "**Install the cassandra-driver**"
      ],
      "id": "developed-value"
    },
    {
      "cell_type": "code",
      "metadata": {
        "id": "contrary-saturday",
        "colab": {
          "base_uri": "https://localhost:8080/"
        },
        "outputId": "7179a2e3-964a-47db-bf9d-b56c0b5e5bd6"
      },
      "source": [
        "!pip install cassandra-driver"
      ],
      "id": "contrary-saturday",
      "execution_count": null,
      "outputs": [
        {
          "output_type": "stream",
          "name": "stdout",
          "text": [
            "Collecting cassandra-driver\n",
            "  Downloading cassandra_driver-3.25.0-cp37-cp37m-manylinux1_x86_64.whl (3.8 MB)\n",
            "\u001b[K     |████████████████████████████████| 3.8 MB 7.7 MB/s \n",
            "\u001b[?25hCollecting geomet<0.3,>=0.1\n",
            "  Downloading geomet-0.2.1.post1-py3-none-any.whl (18 kB)\n",
            "Requirement already satisfied: six>=1.9 in /usr/local/lib/python3.7/dist-packages (from cassandra-driver) (1.15.0)\n",
            "Requirement already satisfied: click in /usr/local/lib/python3.7/dist-packages (from geomet<0.3,>=0.1->cassandra-driver) (7.1.2)\n",
            "Installing collected packages: geomet, cassandra-driver\n",
            "Successfully installed cassandra-driver-3.25.0 geomet-0.2.1.post1\n"
          ]
        }
      ]
    },
    {
      "cell_type": "markdown",
      "metadata": {
        "id": "recorded-feelings"
      },
      "source": [
        "#### Importing Necessary Packages"
      ],
      "id": "recorded-feelings"
    },
    {
      "cell_type": "code",
      "metadata": {
        "id": "million-maintenance"
      },
      "source": [
        "import pandas as pd\n",
        "import cassandra\n",
        "from cassandra.cluster import Cluster\n",
        "from cassandra.auth import PlainTextAuthProvider\n",
        "from matplotlib import pyplot as plt"
      ],
      "id": "million-maintenance",
      "execution_count": null,
      "outputs": []
    },
    {
      "cell_type": "code",
      "metadata": {
        "id": "further-cowboy",
        "colab": {
          "base_uri": "https://localhost:8080/"
        },
        "outputId": "a1d0ec08-ed19-4af9-fff8-2b522419a9d2"
      },
      "source": [
        "print(cassandra.__version__)"
      ],
      "id": "further-cowboy",
      "execution_count": null,
      "outputs": [
        {
          "output_type": "stream",
          "name": "stdout",
          "text": [
            "3.25.0\n"
          ]
        }
      ]
    },
    {
      "cell_type": "markdown",
      "metadata": {
        "id": "governmental-front"
      },
      "source": [
        "### Database connection (2 points)\n",
        "\n",
        "**Astra Datastax login:** Please refer to this [document](https://cdn.iisc.talentsprint.com/CDS/DB_Connect_Docs/Datastax_Connect.pdf) for account creation on DataStax \n",
        "\n",
        "**Connect the database and create keyspace:**\n",
        "\n",
        "* Download Secure Connect Bundle zip file from Datastax [connect](https://docs.datastax.com/en/astra/docs/obtaining-database-credentials.html) section. Follow the instructions on the page\n",
        "* Upload the `Secure-connect-XXXX.zip` file, which is downloaded from datastax.\n",
        "* Generate the token and save the credentials from settings section.\n",
        "    - Hint: Select role as `admin-user` and generate token\n",
        "* Using the credentials generated in settings, specify the `client Id` and `Client Secret` to the variables below."
      ],
      "id": "governmental-front"
    },
    {
      "cell_type": "code",
      "metadata": {
        "id": "accompanied-husband",
        "colab": {
          "resources": {
            "http://localhost:8080/nbextensions/google.colab/files.js": {
              "data": "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",
              "ok": true,
              "headers": [
                [
                  "content-type",
                  "application/javascript"
                ]
              ],
              "status": 200,
              "status_text": ""
            }
          },
          "base_uri": "https://localhost:8080/",
          "height": 110
        },
        "outputId": "e9003f6f-082b-4126-c7dc-9cb7defa3a4b"
      },
      "source": [
        "from google.colab import files\n",
        "files.upload()"
      ],
      "id": "accompanied-husband",
      "execution_count": null,
      "outputs": [
        {
          "output_type": "display_data",
          "data": {
            "text/html": [
              "\n",
              "     <input type=\"file\" id=\"files-c33ac979-99c6-4ccd-86a3-1e4284411b26\" name=\"files[]\" multiple disabled\n",
              "        style=\"border:none\" />\n",
              "     <output id=\"result-c33ac979-99c6-4ccd-86a3-1e4284411b26\">\n",
              "      Upload widget is only available when the cell has been executed in the\n",
              "      current browser session. Please rerun this cell to enable.\n",
              "      </output>\n",
              "      <script src=\"/nbextensions/google.colab/files.js\"></script> "
            ],
            "text/plain": [
              "<IPython.core.display.HTML object>"
            ]
          },
          "metadata": {}
        },
        {
          "output_type": "stream",
          "name": "stdout",
          "text": [
            "Saving secure-connect-cds.zip to secure-connect-cds.zip\n"
          ]
        },
        {
          "output_type": "execute_result",
          "data": {
            "text/plain": [
              "{'secure-connect-cds.zip': b'PK\\x03\\x04\\x14\\x00\\x08\\x00\\x08\\x00\\x91\\x1d/T\\x00\\x00\\x00\\x00\\x00\\x00\\x00\\x00\\x00\\x00\\x00\\x00\\x06\\x00\\t\\x00ca.crtUT\\x05\\x00\\x01#C\\xe2ad\\x94\\xcd\\x92\\xba8\\x14\\xc5\\xf7<\\xc5\\xec\\xad)\\x01?\\x90\\xc5\\x7fq\\x03!\\x80\\x06\\r\\xf2\\x15w\\x82\\x1a\\xc4\\x06\\x15i\\x02>\\xfdT\\xdb\\x9b\\xa9\\x99,O\\xa5~\\xf7\\x9c\\xba\\xb7\\xce\\xdf?\\x0fa\\xe2\\x05\\x7fY8\\x8c<\\xc7\\xb3 \\xc2\\x1fU\\xa1\\x9egw\\xb6e\\xc1c\\x14 =\\x04\\xc2\\xb3P\\x13K\\x9bq\\x7f}?xe_\\x04\\xc0\\xf0\\x061\\x90\\xe77\\xdeP\\xb8\\x11\\xd0b\\x8cJj%\\t\\x1d\\x14\\xeb\\r>\\x12A\\x82@Dp\\x0b\\x10\\r\\x99\\xc4\\x82\\xdb\\tc.\\x96]\\xc4\\xd3\\x85\\xca\\xf7\\xc8\\xce\\x893\\xf2\\x08\\x87\\x14V\\x1f\\x80UR/$\\x8e\\xaa\\xf0$Py&\\x06\\xbb\\x02\\xfa\\x0bzE(\\x0e^\\xf9,\\xb9\\xd1=\\x97>|`6\\x1e\\xb4\\x8a\\xef\\x177~]\\x94\\xc5,\\x1c\\xf9^\\x93Em\\xde\\x94M\\x1d\\x96\\'\\xe2\\xbcO\\xc4\\x99o\\xea\\xa0\\xcf#8;R\\x1di\\x04\\x03\\xad`\\xa46\\xd6\\xa9\\xed\\x1f\\x1d\\xa9\\xbe\\xff\\xabQ\\xf7\\xf5\\xef\\x08<\\x82\\xaf$\\xa2\\xec%-\\xf6\\x99\\xeaa\\xe9\\xdb,\\xc21E\\xdeo\\xee\\x81nb\\xdd\\xf9>\\x11,\\x98>\\x94E\\x8d\\x07\\x05G\\xb0\\xfb\\x05\\xdc#\\x0b\\x7f\\xdcD?n(\\x9bK\\xfb\\xd7\\xfe\\x06\\xcb\\xc4\\xce\\x89\\xa9\\x1dl\\\\S\\x8b}`0\\xd0\\x13\\xd7\\xf1\\xb7r \\xde7\\xcf\\x02\\xb5\\xa8qW\\xb8~\\x7f\\xb0\\x167\\x9e\\x85?9\\xcb\\xb3\\xb5\\xa8r]\\x95B\\xe0+\\x05\\x95X\\xfb\\'\\xd9{\\xf9\\xccf\\x18\\x01\\x8b\\x01\\xe6\\x1eRl\\t?\\x1f\\xd6p\\xf7\\x100{\\xbdm\\x1e\\xb2\\xa0\\x86\\x0b\\xc7t\\xdb7\\x17t+0\\xdf\\x18R\\xa2\\xee\\xd1\\x9d\\x83b~,2\\xaa\\xd5Q{\\x17\\xfa\\xca\\\\\\x0fBy\\xc5\\x0c\\x8b\\xd36\\xd2\\xf1%\\xbc\\xeeg\\xcf\\xb2\\xdd\\xe5\\x87\\xc6\\x98\\x9c3\\x1e\\x81\\xd1Df\\x9c\\xcd\\x86\\xa6\\xd9\\xc9\\xab\\x88\\xa0\\xc6\\xec\\xc4\\xfa\\xcb\\x14\\xb2\\xa3\\xd1NH\\xf9@w\\xe5y\\x9fZ;\\xd5\\xcf\\xf0\\xa9k;X\\xad\\x13\\xfb\\x99\\x92A4\\xcd#\\n\\xd2\\xdc\\xa9\\x11\\xae\\xac\\x9a\\xe8\\xa69\\xcd\\x1d\\x91\\x92Z\\xf4\\xb0\\xa9J\\x99\\xba\\x10\\x8f\\xd1\\xec\\xe5*e\\xa8\\xa9\\x93\\xb8\\xed8YZ\\xa0\\xc2[[\\xb5r2\\xaa\\xdd\\xa5\\xf0J\\xb2v\\xfbj\\xdb\\x15\\xddE4\\x95\\xfdX\\\\\\xae\\xdf\\xee\\xb2\\xf7\\xf1\\xd9}m\\xd7\\xab^l\\xfd\\xf5R\\x19P\\x94\\x1f\\xd3\\xea\\x02\\xbb\\xa7\\x07\\xed\\xc3J\\x9do\\x81\\xdb\\xf8\\x1d55\\xaf\\r\\xa3\\x0eg\\xb4\\xaa.;\\x87Ndk\\xd1G\\xb6\\xdf\\x06Mm\\xe8z\\xff\\xb0\\xc6\\xea\\xad\\xe5\\x8a4\\xf3\\xe4\\xe4q\\x95\\xe0\\xae?\\xf9\\xef\\xb5\\xcb\\x19\\x9f\\xc2\\xe4\\xd5\\x05IM\\x0f\\x1a\\xd5\\x82w\\x08\\x82\"\\x00R\\xb1\\n\\x01\\x85\\xf9\\xcf\\x1aO\\xb6\\xc4h*\\x19V@zVi\\xc3\\xe9\\xe7\\x16\\xdc}\\x8c\\x9d\\nb$D\\x8b\\x04v\\x10+l\\x10\\xdc[K\\x8e\\x10\\x8b]\\x90X\\xda\\x92\\xdbI\\xa8F\\xc0\\xdc)\\x82X*\\xf0CzC\\x80\\xc4\\xedY\\xde\\xae\\xc4\\x94*\\x02\\xf6r\\x00\\xb6\\x160\\x0c\\x89/\\x97\\xa7$\\xf2c\\x97,\\xc74>\\xecdz\\xbaizx\\xfcv\\x06\\xd7\\x9cL\\x94\\x18i\\xcbK\\xaf\\xcaM0\\x1a+\\x14\\xf0\"\\x99&y\\xf0\\x9c\\xb2r\\xac\\xdff2=\\xeciW\\xb7\\xbe\\xd4\\xa7_\\xc9\\xfcjt\"\\xa1\\x89s;\\x06;|v:w\\xbbQ\\xd4\"\\xf5\\xebd9~;_iJ\\xaa\\xe3avw-\\xd8\\x98 \\xc5|X\\xa6\\xac\\xee\\xe8\\xbd=\\x9f\\x8aG\\xb8\\x87-i\\xcc2\\x9bx\\xf4\\xdc\\x84\\xce|\\x8b\\xbd\\xd5W\\xa7\\x10\\xcdx\\'\\xe4H\\xa3\\xf2`L\\xb7\\xee\\xdb\\xf1z\\x91-\\xc6\\xe6\\xf9e\\xbeB\\x94\\x11\\x15\\xaa\\xe0\\x85\\x88\\xce\\xae\\xbb\\x89\\x9a]\\x8f&\"}_\\xdd\\x9ep\\x19\\xe4c>\\xb7\\x94\\xf4X$\\xaf<O\\x9d\\xb6\\x98\\xb4g^o/\\xf5}\\\\\\xe5\\x9a\\xf3UOE\\x96\\xect;\\xaf(\\x97n\\xb6\\x08\\xd7\\xfd\\xae\\xd3\\xf7\\xcc\\xd8\\xe8\\xd7L\\x1c\\x8f\\xdaq>\\x11\\xa6r\\xf0\\x87i<\\x0b\\x1dw}vr\\xf9\\x087\\x8ek\\xa83\\x07\\xb4TW\\xb5\\x99I\\xafu\\xbb\\xbf\\\\\\x1b\\xf7\\xca\\xf6\\xe3$\\xc5\\xf6\\xcb\\xd8\\xcd5\\xf9\\xe7\\x8f\\xf2iD\\x1c\\xd8\\xffk\\xc9\\x7f\\x02\\x00\\x00\\xff\\xffPK\\x07\\x08\\xd2\\x87\\x16\\xe6\\xe8\\x03\\x00\\x00A\\x05\\x00\\x00PK\\x03\\x04\\x14\\x00\\x08\\x00\\x08\\x00\\x91\\x1d/T\\x00\\x00\\x00\\x00\\x00\\x00\\x00\\x00\\x00\\x00\\x00\\x00\\x03\\x00\\t\\x00keyUT\\x05\\x00\\x01#C\\xe2al\\xd57\\x12\\xa3Z\\x02\\x85\\xe1\\x9cUtNM!<\\x84\\x17#<\\x08\\'L\\x86GXqq\\x82\\xd5Ou\\xc7\\xef\\xa4\\'\\xf9\\xb3\\xef\\x7f\\x7f\\'\\xc8\\x8af\\xff\\xf1|\\xf0\\xe7\\xe5io\\x10\\xc8\\x7f\\x0c9\\xf9\\xf7 \\x96\\xa6\\xc9\\xf3\\xa9\\t\\x00\\x18\"pe@_\\x8f\\xaf\\x94L\\x05q\\r\\x85\\xf0\\xa9\\x1a\\xa9\\x9c\\xa7\\xb9\\x83?\\xc7\\xa6\\x07\\x06&M\\x9f\\x08\\xbf[K\\xd3\\xc271\\x0b\\x84\\x04\\xe2\\xdf,]\\xee\\x14t\\xba\\x8b\\xf5\\xc0\\njL\\xc2\\xc5\\xfa\\xe3{\\xb0\\x8ai\\xc1\\xfc\\r\\x1a\\x85K\\xd6\\xb9W\\x99O\\x15@}\\x95\\x9ciy\\n\\x9cy0\\xe1G\\xd3\\x01d`\\xdb\\xd7\\x9c\\xee\\xeaW\\xbe\\x1di\\xd5?\\xac\\x00B\\x7f\\xd2\\xc4\\xe3GQ\\x858\\x8b(\\xaa\\xda\\xa2\\xde\\xf2\\x8b7Mr\\x13G\\x92\\x92\\xe2\\xb6&h\\x9eHv\\xd2b\\xe0\\x88\\xc3\\x8f\\xac,i\\xef\\xeea\\xfd~\\x84\\x9d\\xfb\\x04z.\\x06C\\xb4\\xe8\\xda\\xc4\\x9bn)\\xcc\\x8aA\\x9co\\xa1\\x8d\\xc5\\x05\\x8e~\\xabk\\xb5O+T\\x1a\\xb0\\x18\\xa1\\xad=\\x90\\xe3\\x15\\xdc\\xa7Z~w&\\xbf\\x85yI\\x04\\x8a\\x9bW\\x14=\\x993&\\xb7\\xf5\\xdcP\\x97\\xfe\\x857\\x85\\xe5\\x9d\\xcf\\\\\\t\\x11\\xc25\\xe5\\x82\\xdc\\xd1\\xfd\\x01\\xc3\\xda\\xe2\\x04HUH\\xe8\\x81q_\\x81\\xb4\\xb9&;\\x1auT;\\x17\\xc60\\xe0\\x8f7\\x1e\\xfd\\x16GV\\xf7\\xf9\\xd4$\\xe0\\x02\\x01\\xcc\\x9a\\x00$w9\\xd8)O\\x88\\xb6,0\\x87EF\"\\xea\\xf1\\x86\\xd5\\x18\\xb9m1\\xd2976\\xe3\\x89I\\x10Hw\\x9dn\\xba\\x15Z\\xbb\\x91\\x9f/\\xbc\\xea\\xa8\\x0f\\xbc\\x0b\\xfd!y\\x98\\x87^\\x93M\\x9c\\xbf\\xc7\\x8byC\\xe4\\xf92G\\xf1\\xf9\\xe9\\xf8-\\xf8\\x14\\x98\\xb0,\\xe2\\xfe\\x8d\\xcd\\xfe\\xb5\\xff^\\x15K\\xe9,\\xf4\\xf5\\xd7\"\\x8b\\xd9\\x116\\xb4k\\x19)\\xe5\\x9a\\x8e\\xd3\\xc6\\xc40ja\\x06I\\x0ea\\xdd\\xe7C\\xa9\\xa3xdw\\xd4\\xc8\\x9c\\xa5%\\x8f\\x8b<(\\x11\\xb5\\x0e\\xaf\\xf4\\xd7\\xefP\\x08j,}\\xec\\xa0R\\xcb\\xa5\\xac\\xa3!6\\xca\\x92P?0\\xa6\\xd4*\\xd5-\\xa4\\xa99\\x8f/\\xb8\\x18\\xe2\\xe9\\xe9\\x87\\x01d\\xf4\\x8b2\\x83\\xdcsus\\x8e\\x15\\xf2\\xdc_\\x9a!\\xc87\\xcc*\\xe2\\xa0!\\xe8#\\x83Z\\x07\\xaa\\xf3\\xb0%\\x11\\x19bd\\x10\\x86\\x8d\\x8c\\x9a\\xe0\\xca\\xc88c+\\x11-\\xad\\x93C\\x81\\x08\\xe5jng\\xb7Y<\\x15\\x13u\\x1b\\x0b\\xa8,\\xe1t\\xea\\xe0\\xbb%\"cE;Z6\\x88\\xc2\\x9eP|D\\x92\\x84\\xd9\\x0fz\\xb1Id\\x80y!w]5H\\x96\\xb6v\\xc7\\xda\\xb3\\x8f5\\xc4\\x94%n\\xaeK\\xa3\\xceZJ\\xd2\\xef2\\xa1\\xa3\\xf8\\xdcb\\xf4=\\xbbl\\x1dU!\\x02\\x95\\x90>\\x0eK\\xc5\\xe9 \\x99x\\x9e\\x17,T\\xa8\\xe7<\\x0c\\xe8J\\xc8\\xbd\\x9bO{\\xb3\\xd4\\xf7\\xf0\\xb6%,\\x13\\x00\\x8a~\\x9f2\\x07\\x1f\\x85\\'\\xf3\\xb7\\xebc\\xd8\\x81\\x98~u.\\x05-\\xbe\\xf0ZwHM\\xd3\\xfc\\xc7\\xd2?\\xb0\\xe1\\'\\xad\\xbcHU\\xa9\\x1f5\\xb1\\xc9jq\\xb8tR\\xb3s\\x13\\x8b}\\ro,\\xfe\\x153e\\xa9!\\xdb\\x82\\xd5b\\x00Ycs\\xf8\\x1d\\xcd-^u\\x1e}\\xfb\\r\\xb6\\xb8\\xa3\\x08\\x9eIDi(\\x1e&\\x90_\\x9a\\xf6\\x8c\\xd4\\xd3\\xc4/\\xd67N\\xa5)c\\xfc\\xb5\\xcc\\xa5\\x84()\\xbd{p];1\\xf8\\xba\\xf37y\\xbb\\x94l\\xf3\\xb6[.\\xa1\\xecG\\xd4\\xfd\\xae^\\xed\\xdd>\\xf5L\\x94v\\xbb\\xa5\\xf3}\\xbf:\\xcaY\\x12\\xe73N(\\x1e\\x05HHT\\xa0S\\xfcq,]\\xb5\\xac\\xc9\\xc7\\x8e\\x0f\\x89YM\\xc5\\r\\xddr\\xb5H:\\xfc\\x0c\\xc2\\xa8\\x84b\\x93\\x80\\xb9\\x1a\\x8b\\xe4\\xbe\\xbaP\\x85\\xe4\\x06\\x7f\\xf2\\x10\\x00\\xfe\\x8d\\xd8(G^9qk\\x1f\\x91}d\\x9d\\xabn\\xf9o\\x13\\xbc\\x80l\\xe9m\\xeb\\xf1\\xc3|\\x8f\\xba|\\xa8\\xbd~\\xb5\\xe3\\x98%\\xb7o\\x85y\\x96\\xcad\\x9f\\xab\\xf5\\xca\\xe1&\\xb2\\xf1\\x9a\\x19jC&\\x02\\xaf\\xdf\\xaa\\x1a\\xc7\\x04\\xc1X5y>Z\\xc6X\\xc2e %\\\\\\xf2\\xc9S\\x17\\x13\\xbe\\xe3u\\xaex=\\xb8\\x947l\\xda\\t[\\xd7)\\xe2\\x19\\x19s\\x1eN$]W\\xa2Q\\xeaZ\\xb1\\xee\\xd6\\xc0\\xe5\\xae!4\\xae\\xd4>\\xd8\\xe9\\xf2\\xf9v/\\xbf_r\\x84\\xb6\\x18\\xc2\\xbd\\x8a\\x9f\\xbb\\xea${\\x8e\\xef\\xdc\\xd8=\\xbe\\x1b\\x027\\x10\\xb1eD\\xb7\\xd9\\x9e\\xb2\\xe4\\x1c\\x90P\\xbc_E}wgs\\x90:gwl\\x9ar\\xf3\\n9\\x93h\\x1cI\\xea\\x9d\\xfb\\xf4\\xc6\\x8c\\xe1\\xde\\xa5\\xf9\\x06\\x04\\\\\\x10\\xdf\\x02\\x99\\xea)W\\xe8Y\\x85\\xb8\\x948~H.>P\\x19\\x1e\\x93\\xf1n$\\xc3\\xef\\x00\\xb9\\xfe\\xbe\\xcdR\\xda\\x8b\\xb7\\xfe\\x0b\\xba\\x86*{ok\\x1cp\\x9c\\xc9\\xbc\\xf4\\x88\\xe5\\x8d\\xb9\\xf47YP\\x84t$\\xe4\\xe3\\x8av\\x0c\\xc4\\'!b[Y\\xbaG4\\n\\xb5\\xb6GIi\\xba\\xe2\\xb5s\\x92\\x9d\\x8aTu\\x94\\x94m[\\xc3(\\x9b\"\\xb2\\x90\\xb3qv\\x91;\\x19\\xa8\\x83\\x9b\\x85\\xc9\\xc0QD\\xcd\\x03\\x1a\\x0e\\xfct{\\xf8S\\xd3\\xfcV\\xe6YI\\xcd\\n\\xc7\\xcf7z\\xa2\\x9f\\x92\\xd9\\xe6U0\\xa72\\x9b?\\x1c\\xb2\\x92\\\\\\x86_\\x00\\xc5\\xf4\\x9c\\x04Ro\\xc4N\\xa9r(0v\\x1d\\x9c\\xb1`\\xe1\\xfa\\xc79\\xd6\\'4\\xfb<\\x8bF-\\x8c\\x86\\xcd\\xb5\\x90\\x7f\\xa4\\xc8\\xb6\\xf4\\xdf\\xd4\\xfc?\\x00\\x00\\xff\\xffPK\\x07\\x08\\xd2\\xf8\\xe6\\xe0\\x05\\x05\\x00\\x00\\x8b\\x06\\x00\\x00PK\\x03\\x04\\x14\\x00\\x08\\x00\\x08\\x00\\x91\\x1d/T\\x00\\x00\\x00\\x00\\x00\\x00\\x00\\x00\\x00\\x00\\x00\\x00\\x04\\x00\\t\\x00certUT\\x05\\x00\\x01#C\\xe2a\\x8c\\x94M\\xaf\\xb2>\\x1e\\x86\\xf7|\\x8a\\xd9\\x93\\x89\\x80\\x88\\xb2\\xec\\x1bP\\xb5hyQ\\xcb\\xee\\xf0\\xf2\\x80\\xa0\\xa0\"\\x16\\xf8\\xf4\\x93s\\xcef2\\x93\\xfc\\xf3t\\xf5\\xcb\\x9d\\xe6j\\x9b\\\\\\xbd\\xff\\xfd\\xbd q\\xa9\\xff/D\\x82\\x88:\\x14\\x81\\x88\\xfc\\xa4\\n\\xa3\\x94p\\x8c\\x10\\x98\\xae%\\x90\\x14\\x82\\x92\"\\xd8v\\x12s\\xb1\\xddu\\t\\xad>\\x99\\x0f8\\xd9C\\x0ed1\\x93=\\x03\\x8d\\x0b\\xf4\\x98\\xc0\\x8a\\xa1\\xd3\\x89\\x8d\\n\\x9a\\xc1\\x16\\x96\\xfe\\t\\x822\\x02\\x8d\\x0fY\\xc0%)\\x05>q\\xee\\x11\\xf9\\x8e\\xc4y\\xa5\\x89\\x10\\xe2\\xd4u&\\x11\\x91\\x80\\x81\\xcd\\x0f\\x00U\\x8c\\x06\\xae\\xa3)\\xe2\\xe4k\\xe2R\\x8e\\xb8\\x06\\xec\\x17\\xd4G0\\xf6\\xfbtyjX(\\xe4\\x16\\xfc\\xc00\\x19\\xf5Z\\x84\\xabF\\\\WU\\xb6\\x0c&\\x11\\xea2\\xbb\\xdb\\x8d\\xb2\\xbf\\x07U\\xee:s\\xee:\\xe6\\xfe\\xee\\x7f\\xd2\\x08\\x14\\x8e\\xd4&V\\x83\\x91El\\xf4\\xebx\\xe5G\\xce\\x97#\\xb5\\xf9\\x7f3F\\xdd\\x97\\xc2x/\\x11\\xff9\\xc5%r{\\x8a\\xff\\xeb\\x9d\\x082\\xc452:\\x18\\x84\\xbf\\xb7\\xcb\"\\xa4\\xfbU\\xda\\x06\\x15%~/.\\xdbJa\\x01\\x91X\\xfe\\x00vDVD\\\\\\x82*^\\x06U\\x81\\xc9\\x81\\x01\\xf9\\x0b\\x1a\\x99\\xc3\\x8d\\xf1\\x93\\x9f\\xf9x\\xaaa\\xfc\\x0bcQt\\xf6{\\xe5\\xeb|\\x1ard\\xea\\x07\\xdc\\xac\\x12\\xec7\\xc9U\\xd3\\xfd\\x1a\\xe8\\xfb\\x88\\xcb\\xc4%oQ\\x93%\\x0b\\xf5\\xab\\xa8\\x93\\x86\\xe1\\xbc9\\xe0F\\x8a(~\\x8b\\x8b\\xff\\x10\\xa1>+\\xe9\\xf2\\xa4}a2$.\\x1d\\xc4\\xc5\\xd7\\xb2\\xfb\\xf7\\xech\\xdf\\xb3\\xb8\\x94\\x830\\xec7\\xa3\\x14\\xd2\\x1a\\xf8\\xb0l\\x9eUsum\\xa9A\\xc0\\x89\\x03\\xc0\\x01)\\x80o\\xc0\\xf7\\x06T\\xee\\x10\\xe0\\x04\\xac&\\xed\\x81E\\x9b\\x19\\xd3-\\x83\\xd7\\xa2\\xc4y\\xd7v\\xf5k<\\xf8\\xab\\x9b\\xf5\\x12e#\\xe08\\xd3$\\xc9\\xc2\\xfd\\x82\\x81\\xd8P\\xc2y\\xbd\\xca\\x07\\xf3u\\xa8\\xa7u\\x00z\\xf0g\\x81u\\xf4\\xe7\\x1a\\x06\\xaf\\xe2\\xb2\\x82\\xfb\\xf1FM\\x1d39\\x14_\\xa1\\x99\\x01\\xef\\x98o\\xf6,p_\\x9d\\rZ\\xfdS\\xd6@\\xb9\\xad\\xabc\\x97\\x0c\\xde\\x83\\xcc\\x07\\xdco\\xafk\\x08\\xe2\\xb0\\xa5\\xe83\\x9af\\x86:\\xa4\\xaa\\x9e\\x8f\\xb6\\x95\\xfd\\x0c\\xda\\x96\\x94\\x973v\\x13\\xdd\\xa7\\x90\\x06hY\\xe3\\xe7NW\\x0e\\xf6}M0=\\xd5\\x1a\\x1bG\\xc3OCC\\x95\\xcf\\x9deTj_^\\xde[\\xe6Z\\xfd\\xe2\\xa5\\xdb\\xd5\\xcb_\\\\2]}\\x14S\\xefK\\x16\\xbb%x\\xeeb\\x9fj\\xca\\xe7\\x18\\xcd\\xd2\\xcb\\x1f\\x83\\x95\\xce\\xb0{\\nhn\\xba^U\\xa5%/\\xcbw/\\xdf*_\\x8d\\xf1l.\\xd2:\\xb4&a\\xc4\\xaf>\\xd9D\\xe9a\\x1b\\xde\\x16\\x8b*\\x93@)2\\xac~\\x16\\x9b\\x07\\\\\\xfa\\x9b\\xf2\\xebSzw\\xaf\\xe6\\xaf\\xcb+\\xb2?\\'\\xfd<>\\x0f\\xc4\\x1b:I1\\xe0\\x00v\\xa6\\x9b1\\xea&\\x0c\\x98\\xdf~\\xe4X\\x12\\xa8,$\\'@R\\xaf\\xc4 \\xff\\x16\\xc4\\x0bc\\xe2\\xd4 \\x86e\\xf9\\x82%q \\xcf0(\\x05\\xddI\\x01!\\x8f= \\x89\\xc4\\xdf\\x9f-\\xd0\\x0e\\x10dD\\x81\\x9c  \\xb9\\xcb\\x9c\\xf2\\x87Jx\\x100\\xa2\\xa2o\\xcb\\xfeF2\\xe5\\x9f,\\xfb\\x1b\\xc9\\x14\\x064\\x17\\x85O7\\xa4\\xe9\\x12s\\x02\\x91\\x8c\\x010)\\x04\\x1c\\xec\\xc7\\xe2\\xcd\\x1c\\x03\\xc4\\xae\\xbe|\\x0f\\xed\\'{\\x8c\\x1e\\x82\\xb7\\xfb\\xecr\\x8a\"\\xdb\\xa6\\xd6C\\xdd(\\xd7\\xe3\\xd2=\\xf3\\xfa\\xe6y\\xfd<<\\xa1\\xca\\xfc\\xc54k\\xcb\\xf1\\xa3~\\xaa\\xd9p\\x8d\\xbe\\xc1F\\xd1Xy|\\x9c\\x86\\xaa\\xdb\\xdf\\xac)6\\x16\\x83w\\x05\\xea\\xe3t<F\\x81\\x12\\xfcQ\\xbd%\\xd9u\\xe5\\xfd+]\\x17$\\x7f\\xb6pX\\rz>\\x98\\xb1}\\xf3\\xfc\\xf7\\xf1\\xf6p\\xd1\\xfd=n\\xb3Cv~|\\x0c\\xebd\\x95t2\\xdb)n\\xde\\xc5\\x195\\xca\\xfd\\xa5:\\'\\xb5\\xda5\\xee\\x04o\\x87Kmh\\xf3r\\xfb\\xf5\\xdc\\xdd\\xd7\\x9d\\xed\\xdf\\x8b\\xb0:\\xe8\\xec\\xba\\xb6\\xdbUu\\\\\\x8c\\xa9\\xf1.\\xed4\\xef\\xb4#c{+\\x19>}\\xa0$\\xc7V5\\x8d\\xb3\\xdb\\xad\\n\\xeb\\xb1\\xc3KhM\\t\\xcfo*\\xb6\\xdbiN\\x13;\\xbd=\\xa3mZ\\xa1V\\xa8hq\\xae\\x0f\\xc4-/h\\xf2-<\\xaf\\xaa\\xad\\x15\\xce\\xcafb\\xd1\\xb6\\xe7u?\\xe8\\xed\\xb0\\x8d\\xaf\\xd6\\x1c\\xa3\\xe5\\xe5%\\xa8\\xf9\\xda\\x9d\\x8b\\xfd\\xb8V\\xd5\\xabV\\xad\\xbb\\xf5X\\xe9\\xb5%\\n\\xe5\\xa7\\xcc\\x89\\x8f\\xff\\xbf\\xe0\\xff\\x13\\x00\\x00\\xff\\xffPK\\x07\\x08\\xf8J?36\\x04\\x00\\x00\\xfd\\x05\\x00\\x00PK\\x03\\x04\\x14\\x00\\x08\\x00\\x08\\x00\\x91\\x1d/T\\x00\\x00\\x00\\x00\\x00\\x00\\x00\\x00\\x00\\x00\\x00\\x00\\x0c\\x00\\t\\x00identity.jksUT\\x05\\x00\\x01#C\\xe2a\\x8c\\x94yp\\x13W\\x9e\\xc7e0\\xec\\xd0\\x06\\x83\\xf1\\xe0L`\\x82\\r\\xd8\\x0e\\x83\\x96\\xd5}\\x855\\xd0\\x97Z-\\xb9[jI-\\xa9e\\x0e[\\x87\\xd5\\xbae]-\\x893\\x9c\\xc6\\x1c!\\t\\x90\\x00\\x05\\x861\\xc31\\xac\\xc3`\\xc2\\x02\\x13b\\xb3\\x15s\\x84#&`\\x925\\x98\\x9b\\x81\\xe12\\x13\\x18\\x82\\x19c\\xd8\\xb2\\xf9gk\\xb7j*\\xaf\\xeaU\\xfd\\xeaW\\xaf>\\xef\\xbd\\xaa\\xcf\\xef\\xfb\\xfa\\xf1\\xeb\\xc7<\\x1eo\\x00\\x8f\\xc7\\xcb\\xea\\xdf\\x83\\x9d\\x01\\xaf;\\x14\\xe7\\xf1\\xb2\\xe6W\\xfc\\x00\\x9f\\xe2\\xf1\\xb2\\xdf\\x08\\x17e\\xf7\\x08s\\x07\\x03\\xfc\\xc1Y\\xd9Y\\x93\\x06\\xe4ee\\r\\xe2e/\\xca\\xbe\\xf7\\xbc\\xbb=(\\x18z\\xf5\\xf0\\xbb\\xb6\\xcf\\x1e\\x95(NEV3\\x8d\\n\\x99W\\xc3Ke\\xcf\\xb7\\xa6\\x8bnl\\xe8Y\\xb2\\xff\\xc0\\xec\\xe1\\xd3\\xde\\x9f7\\xc4\\xb5\\xa4lgN\\xb7(Z\\xeb[\\xbf\\xa6\\xda\\xb8p\\xf3\\xf0[\\x17.6U6\\xdf\\xdd\\xb5:o\\xfc\\xf0\\x91\\xc2\\xe5\\x8b?[~\\xa4\\xae\\xe1\\xc5\\xde\\xa18\\xcen\\xde`\\x98\\x1b\\xf6\\xd6\\x97\\xb5\\xe7\\xab5\\x17\\xd5\\xb3\\xe7;\\xeb\\xd1/\\xe2\\xeb\\xf6\\x08}\\xf7Fo\\x9a\\xff\\xfe\\xeegwG\\x8d\\xa8/Q\\xce;\\x94\\xcac\\xae\\xe7\\x1f\\xad\\x00\\xae\\xaf\\xe8<0hE\\xfb\\xdf\\xef[\\xa1\\xe3J\\xd7\\xf0\\xea/\\xbe{y\\xc3?g\\xd8\\xc95\\xdf\\xec\\xbai\\xf8\\xdb_\\xb5\\xaf+\\n_\\xae]K\\xe6\\x85F\\x13\\r\\xbc\\x82!\\xc9?\\xad?\\xf1z\\xc4O\\xe2\\xed\\x05]\\x8b\\x9a\\xc7f]\\x16>\\x19em\\xcc)\\x9bE\\xbb|\\xc7G\\xaa\\xb0O\\xd8\\x16<\\xbbv\\xfe\\xcf\\xa5\\x1d\\xadw\\x1bNO\\x0ft\\x1c\\xaa\\xcf\\x92\\xd1\\xe7.%_Y\\xeb\\xa9\\x1ei\\xcf\\xa1\\xd2\\xbf\\x95\\xddz`\\xc8\\xd5E\\x89\\xff\\xeeXYxlf\\xef\\xf6\\xee\\x99[\\xba\\x06\\x97\\xfe\\xe6t\\xc5P\\x9fSN\\xec\\xb9X\\xf4\\xb4+rb\\xda\\x9b\\xfc\\x86bSKv\\xd3Rv\\xae\\xe5\\xb7\\x87G\\xeck^\\xfe\\x8e\\xea\\xa7\\xefn\\xfd\\xbc\\xb69z\\xcc\\x9a\\x15\\x1e[\\xb0\\xf4I\\xc9~eAS\\xef7\\xe3\\xb3\\n7\\xa9\\xec\\xb6\\xee\\xc3\\x86\\xa7\\xbb\\x87\\x9d\\xadx\\xf0\\xddCO\\xfc/\\xdb\\x8b\\x0e\\x1ao\\xce\\xdc\\xb2c\\x81{\\x82\\xe0\\x05\\xbc\\xb8\\xb5\\xba\\xf3\\xf8\\x92\\x07\\xd1\\xc2\\xcd\\x03\\x99\\xb23\\x13\\'\\xd7\\x8d\\xc8\\xdb\\xfb\\xa5\\xee\\xa4p&zw\\xd5\\x99\\x16`a\\x8f\\xb2\\xf9d\\xa9\\xed\\\\\\xcf^h\\xe5\\xe7\\x16\\xfd\\x91u\\xd3CH\\xb4{|\\xdd\\xefoWV\\xdf8\\xa6\\xfcq\\xc1\\xd5\\xe7\\xe7\\x1eH\\xf9\\x15\\xef\\xc4_\\xd4\\x9eo\\xfa(\\x00m>\\xdb\\xfc\\xb4\\xbb}\\xcd\\xee\\x89%B`ye\\xa3i\\xf9\\xd3!\\xc50\\xbbpL\\xcb\\x8a\\xeb\\xd6\\xef{\\xaf\\xdc\\xcf)\\xb9w\\xbb \\xff\\xddY\\xda\\x82\\xa6\\x97#\\xf6]\\xddv\\x85\\xd9\\xd5\\x93(\\\\\\xd3u\\xcc0\\xfd\\xfc\\xb8\\xbb\\x8f\\xe9\\x9e\\xd37\\x15\\xdb6\\x9f\\x9dT1\\xaah\\xf4\\xe8\\x85K\\x1f\\x9c\\t}4\\x86\\x84md\\xb83D\\x1fI/\\x18\\xf7~I\\xed\\xf1\\xdf\\xcdi\\x9cu\\xca\\xe0})\\xcb\\x8do\\xd8\\x1d\\xb8\\xb5g\\xc1Y\\xdd\\xe4\\xeeK\\xb2\\x1d\\xfe\\xc3?%f\\xcc\\xb9a\\xdfhE\\xef\\x06_|<\\xf1\\xe9\\xa5-\\xb3\\xe7}\\xf6\\xed\\xef\\x0b\\x07<c\\xfeX\\xaa\\x9cV\\xf9^tJW\\xbc\\xad\\xe7\\xf1\\xf7\\xac\\xea\\xc2\\xd6\\xcf\\xebV?\\xf8\\xc6\\xb6\\xf5\\x83?\\xcd\\xed\\xe80\\xe4\\x7fM\\x18\\x0e}\\xa0\\xa4\\xa0\\xf9\\xdbf\\xd5\\xb1o\\x8eN\\xb1\\x95U\\x07\\xfe\\xady\\xa0k#\\xf6; \\xfc\\xaa]T\\xb4\\xf9\\xcb\\xaa\\x95\\xd3\\xc7\\xb5,X\\xb2)\\xeb\\xfbG\\xda\\x7f\\x9f \\xecy\\xde\\xfbe\\xd9\\xeca\\xbd\\xcbo\\x9b\\xd5\\r\\x95;\\xbbgl\\xf2$.\\xd7\\x8e\\xdf\\xe7\\xae\\xe3\\xfd\\xf0\\xc3\\xa7\\xba\\xdc9\\xc6\\xe2\\xc3\\x1b\\x06k\\x80\\x06\\xe5\\xee\\x95*Rk8z_\\x86\\x1e\\xe0m\\xfa\\xaf\\x7f\\xb1\\x85G\\xb6\\xe8*\\xda\\x8e\\xc1\\x9dt\\xdb\\xbdQ?\\x96\\x0cdEx\\xed\\xd9\\xf33\\x0eL\\x99\\xbc\\xfd\\xc5\\xc8kcy`kz\\xdaT{N\\xdd\\xf2-eX\\xf0\\xdb;S\\xf3\\xc6\\x1ezt)7\\xf4\\xca\\xb7\\xe6\\xdb\\xb6\\xc8\\xb4KGd\\xc7>\\x1e\\xd11\\xad\\x11-\\xfd\\xf3F\\xe2\\xe7U\\xad\\xdb?\\xef-=\\x9a\\xe5\\xf9\\xa4m\\x1c\\xa0aO\\xcd}\\xf3\\xab\\xa5\\xcf\\x9bv\\x84\\xd6z\\x07\\x1d\\x00\\xedO;\\xf3&\\xb5v\\x92\\xbf}\\x190L\\x1c5\\xe3\\x1a8j\\xc0\\xc3;\\xe9\\x9e\\x8a\\xff<\\x03\\x9e\\xe0\\xb5M\\x8f\\xbd\\xce\\xf9\\xba\\xf8\\xf2oN\\x0e\\x7foR\\xe9\\xc6\\xc3{:\\xfe\\xe1\\xd8\\x91\\x7fb\\xe8\\xfa\\xca\\x82\\xa6\\x02\\xc3\\x1d\\xf5\\xafs;\\\\\\xc3\\x0cc\\x9a7?\\xfcCl\\xce\\xe4/T\\xabk{\\x9e\\x90\\x9f.\\xbe3\\xf0\\\\EX\\xbc+,R,\\xda\\xd9\\xf2i\\xde\\x84{\\xbc\\xaa\\xa1\\xedc\\xb0Y\\xffx\\xf5\\xce\\xbb\\xaf\\x96\\xe6\\x88\\xda2\\x7f\\xf9uY\\xc9\\x98\\xeaq_\\'s\\x86\\xbc\\xd4\\xfaob\\xef\\xd5\\xdf\\xcf3Lt.\\xa8\\xda\\xe6\\xfd\\xc0\\x84\\x8f|x\\x9e\\x8e5\\x96-\\xfe\\xc3\\x8c\\xe2\\x89\\x7f\\xffj\\xf8\\xdck\\xafNM\\xed*\\xf3\\x1d\\x1c\\xf4\\xab\\xdc{\\xb9\\x07\\xd91\\xe7\\x87m\\xd2v\\xe6\\xf9\\xae^\\xbb\\x18Y\\xb3\\xa2p\\x18\\x1d\\xe2\\x17\\x8fZ\\xd4\\xf4l\\x82N\\xb0\\xc1\\xb5\\xee\\xc4\\x9f\\xbb\\xca:\\xe8)\\xc8\\xbaxK\\xeb\\xee\\x9auU\\r\\x8d\\xf0\\xd6|\\xe7\\x15|\\x8a\\xffq\\xe7Y\\x7fNns\\xf5\\xd49\\xadG\\x0e\\x15JN\\xac<\\xbe\\xec\\xe3e\\xc5E\\x91\\x8d\\xfb%9;k\\xbb\\x05W\\x1a\\'\\x87s{}\\xfae\\xb6)5\\x85\\x17\\xe6\\r\\xafiXU\\xa9O\\x06\\xdbCHO\\xf0\\xaceF\\xd3\\xc6\\x1f\\x9f|t\\xea\\xee\\xd6\\x13\\xd2GU\\xd0\\xb6\\xd0\\'\\x16\\xc2\\xb5x\\xc7\\x83\\xfaY\\x0b\\xc6=J\\xdd\\x0e\\xcf\\x8d\\xb9\\xdc\\x1f\\x92ib\\xe1\\xfa\\xe7C\\xffu\\xdf\\xe5W\\xe4=H\\x04\\xfc\\xc7\\xc2y;\\x0b\\x9e\\xf5L\\x982\\xfb\\xe0\\xf4\\x8e\\xbd\\x1b\\x07`]%\\xcbzf\\xf7~5\\xa4\\xec\\xaf\\xa1\\xa2\\xfa\\xe3\\xa9\\xca\\r\\xdb\\x15\\x17\\xba\\xe4w\\x8a\\xbf\\xda\\xd3\\x9a\\x9a\\xf0\\xe1\\xfe\\xd3k\\xa9[\\xd0\\xb2\\x8c\\xf5\\x80/\\x93\\xe1\\xfdq\\xd5\\xfd:~\\x7f,f\\xdbdB\\x15\\x8f7\\xa8wr\\xdf\\x82P\\x0c\\'\\x8b`\\xd4h\\xc6\\xd58\\x0c\\x9a\\xd1\\xfe.@\\xe08J!0\\x0c\\xa6\\xbd\\x1e\\x90\\xc3!\\xd0\\x83\\xc3P(\\xcc!\\x14\\xa3\\xd5\\x85\\xed8\\x9bt\\x92 \\x85\\x96C\\x14\\xc8\\xb93h9\\x01\\xfa1PD\\xa3\\x10K\\xc0\\x16\\x0b\\x91\\x02\\xe0\\x0c\\xa8\\x85<\\xa4\\x05\\x02=f\\xd0OB\\x84\\x91\\xe2P\\x0f\\x83X(J\\x83rq3c\\x95\\t\\x19\\x13\\x8480u\\x9a1\\xa3F\\x02T\\xf6\\x03`\\x96\\xc0\\x8d\\x98Z\\x080\\x16R\\xc8\\xd8<)\\xc4\\x07\\x12oA13D\\x931\\x87\\xc4\\xe2\\'L\\x0c\\xa7\\x05\\xfba\\x08\\x9a\\x12\\xf9\\x18\\x93\\xcc\\xcfxe\\xacSbL3&\\x11\\xe7\\x0c\\xaa\\xfc@y\\xd0\\xc8\\xba0u\\xc6\\x85\\xa9\\xa5\\xe5A2\\xe90\\x83n5\\'L\\x13>0E\\x98\\x89\\x14\\xe9\\xa3e\\xa4Y]\\xa5\\xe6\\x84\\x99\\xff\\xdb#p,\\n\\x10T\\x8c\\x83\\xa9\\xfe[0\\x94\\xd3Z\\xe8\\xff\\xf5O\\x18\"`J\\x88\\xa6\\xd4\\x08hz\\xfb:\\xa7\\x19\\x16\\x91\\xac#ddq\\x94\\x8c16-\\x0b\\x10F\\x94C\\xb8~\\x80\\x0e\\xe5X\\x94\\xb1\\x19YZbd\\xdd\\x08\\xaa\\'@\\xee-(E\\xa8)q*\\xe9\\xb2R)\\x8b\\x0f\\xa2\\xdf\\xc2\\x08\\xb3\\xd9J\\xc6\\x80*\\xab%\\xe1\\x82\\xa5\"=\\xe2\\x97\\xd9\\x11\\xd2o\\xf7\\nE\\xa4\\x0f\\x14\\x95\\x9b)\\xce\\x8e\\xa1q\\xc6\\x87J\\x08\\x93\\xc8\\xcb\\xf8\\xec~\\x02q\\xf9\\xf5\\x88\\x9fc\\xcct\\x9c\\xb1\\x91\\x11\\xc6$\\xca\\x00\\x0e\\x89EX\\x85\\xa0\\t;\\x86\\'\\x18\\x1b)t\\x06\\xfbj\\xb5\\xb0\\xaffl\\x9e\\x04#V\\xc5\\t\\x1c\\x87p\\x1fHB\\x1e\\x7f\\r\\xeb\\xf7b*N\\x08\\x81\\x14\\xaa\\x06A=\\x0c\\x80\\x94\\x12\\xec;\\x00{t0H\\xa1\\xa0,-\\x8c L\\xc8)N\\x07\\x9c\\x90\\xd7\\xedA\\\\\\xe1P\\xd8\\x17M\\xe9IY@\\x1ee<~\\x06Jep\\xbb\\xddi*\\x17\\x10 -\\x06L\\x19\\x85\\xcc\\x95\\x90F\\xf5\\xbe\\xb4\\xc2\\x08\\xc6\\xc0j\\x01\"\\x82\\xab\\xbd&c\\xd4m\\x93A\\xe5\\xa9\\x00.\\x15!\\x04\\x97pW\\x99\\xa4NPcp)\\xcb\\t#\\x16\\r\\xab\\xc0\\x90(\\xe9\\xf1\\x81@@\\xc1\\x1a\\xc2\\xf6\\x84&\\x82f\\xf4HL\\xebU@ m\\n\\xe1p2%\\x95:\\xe10\\xcc\\xe7kHX\\xcb\\xaaj\\x8c\\xa1\\x10\\xea\\xb1Y\\x11\\xcc.\"q\\x087\\xc2\\x12\\x1fR\\xa3\\x13\\x01zUP\\x81\"\\xb8\\xc5\\'$R)1\\xe90\\x89\\xf9\\\\\\x8dN.f\\xf91\\x8f-\\xae%0yL\\x10\\x15\\xa9\\xd8()\\xb09E\\xfc\\x88;\\x1d#9\\x82\\xc6<`\\x8d\\x8e&q!\\x904\\x983\\x9c\\xc6\\x15I\\xc8\\x1d\\x19(\\\\\\xc3@Re8\\xc6\\xe7sr\\xce&\\x89\\xc7\\xb88\\x9f\\x92\\xa5\\xe8\\x8cT\\xe0\\xf0\\x99\\xe4iFLGcv\\xa5\\xd9\\xa1\\xd7\\x9a\\x02\\x02\\x01\\xeb\\xe4@\\xc0\\xedD\\xf8I\\x812\\x02IH\\xa5\\xa7*\\xe9\\xd1\\x045>*j\\x8b\\x9aUI\\x8b\\xc8\\x9a\\xaa\\xd1\\xa3\\x9aD\\x98\\xc3\\x11\\x90\\x02\\xa1\\xb0\\x14s\\x128f\\'@i\\x9f\\x1f.\\x84C!@\\xc0Q(\\xc8\\xe1\\x1a\\x0f\\x02\\xba\\xfa\\x04\\xd1\\x98hT\\xed\\x03i\\xc8\\xe3\\x89B\\x1eT\\rQN\\x04\\xf40\\xb8\\x8ec \\x88\\xa25 \\x87rH\\xdf\\xb0\\x19\\x85z\\x08t\\xa2\\x00D\\xa10\\xc8Q\\x18\\xa1\\xf6\\xf4SQ\\xcah$P>\\xdcg\\xd9/\\x91\\x0c\\xf8g\\x96\\xfd\\x12\\xc9\\x00\\x02\\x14b\\xb0\\xa9\\x063\\xe1\\x0e\\tB\\xa1\\x10\\xcc\\xd1 (\\xc5!\\x90\\x02\\xcbS\\xee8\\xa1\\x16\\x834&\\x92\\xc4\\x13\\xa1\\xa43\\x92\\xd2\\xc0P \\x98\\xc1(\\x1c6\\xabT\\xb8<\\xc2W\\x02^\\x83\\x04\\xb3R\\xbe\\x80F\\x13\\xcb$j >A\\n\\xd2\\x19\\xa1$\\x95\\xe4\\'\\xd9\\x8c\\x18\\x13\\xc7\\xfc\\x88\\xd8\\xed\\x97\\xbbhC:\\xc1\\x86\\xcb\\x03\\xf24-\\x16$4^\\x90\\x1f\\xb1\\x18\\x0cf#`\\xac\\xe6k$\\xa8.\\xec\\tV9\\x14n\\xd4U\\x13\\x82\\x12\\xb2\\x84\\xc8\\x95\\x90\\xd2\\xaa\\x80\\x86\\x8c\\x1b\\x02\\x11\\x0c\\x0e\\xc6SZ\\xa7\\xdei\\x8d$\\xc5r\\x8b\\xdc\\x83\\xa7\\xa5\\xa14\\xed\\x8f\\xbb\\xad\\xb0\\x1f\\x08F\\xf9j\\x0b\\x9f\\xd5\\xf9\\xb14\\x14\\xd0\\xdb|baF\\xa2\\xad\\xaa\\xd1\\x05\\x15a\\x15\\x19t\\x9bX\\xbd\\x88\\xf0*T!\\x19k\\x10\\xa4\\x1c\\xe2\\xb8G\\xe5p\\x85\\x85\\x06\\x82(\\x97\\xdb\\x13\\xc9\\x98\\x11\\xb0\\x1bB|\\xa9\\xd8\\x8a\\x85enyD\\x87H y\\xdaN\\xb9\\x02|D\\x15Jg\\x1cv\\x95#Pc\\xd6:X8\\xc4\\xf0a\\x81\\xd5\\xa7G1\\x8f\\rN\\x93r$#c\\xb5rS\\x06P\\xa6\\t\\xb36F\\xf9b\\tQ(\\xa1\\xa5\\xbd\\xf2\\x0c\\rKlQ\\x06\\x97FuVwyJ\\xc1\\xe7{\\x85\\xac\"\\xacH\\xb1\"\\x9f\\x9cq\\x03\\xfda\\x8e\\x92\\xc8\\xff\\x0f\\xf8\\xeb\\xedm{\\x87$\\xd4\\xa9\\x9cT\\xd1\\xdc\\xd3\\x83\\xc2\\xe4\\x87\\'M\\xf9\\xff\\x13\\x00\\x00\\xff\\xffPK\\x07\\x08\\xea\\x17A\\x19P\\n\\x00\\x00B\\x0b\\x00\\x00PK\\x03\\x04\\x14\\x00\\x08\\x00\\x08\\x00\\x91\\x1d/T\\x00\\x00\\x00\\x00\\x00\\x00\\x00\\x00\\x00\\x00\\x00\\x00\\x0e\\x00\\t\\x00trustStore.jksUT\\x05\\x00\\x01#C\\xe2ad\\x94\\xbb\\xae\\xeb\\xc6\\x19\\x85u\\x82$\\x05S\\xe5\\r\\xd2\\xa4\\x12\\x02\\x91\\xd4\\x85bq\\x80\\xfcC\\x0eo\\xd2P\\x1a\\x8aW\\xa5\\x12)i(j\\x93\\x92(n\\x0e\\xa9\"~\\x04\\x17~\\r\\xc3\\xbd\\xdf\\xc0\\x80\\x0bw\\xee\\xec\\x170\\x8e\\x1f\\xe1\\xc0\\xd8\\xda\\x8daO3\\xc0\\xc2\\xe0\\x9b\\xb5\\xf0\\xffX\\x9f?}\\xfe4\\x18\\x0c\\xfe2\\x18\\x0c><\\xef\\xbf\\xd7\\x87\\xf2\\xd2\\x1c\\x06\\x83\\x0f\\xff\\xff\\xdf\\x8f\\xdaw\\x83\\xbf\\xc6SQ\\x1d\\x0c\\xfe\\x06\\xffy;\\x08\\x9b\\xb6\\xfb/\\r{\\xbem\\xd8\\x1a\\xf8\\xf8\\xa9\\n\\xc4\\xb6\\xf5F\\xd74\\xb8\\xf6\\x0c\\xb8\\x8d\\x80\\xd9\\x1a\\xaa\\x02\\xae\\xd3\\xc4Y\\\\\\xb6v\\xdef.P\\xbcD\\x14\\xf8\\xe1\\x81\\x97\\x04\\xce&H\\x01F9\\xd1\\xc2\\x90t\\x82\\xf6\\x00\\x0717D\\xc0|8\\xbb\\x88x\\x94c\\x96\\xe8!\\xa5\\x16\\xe6\\x8d\\x9fDS1\\xd9 =5\\x8d>\\xf1\\xb1G`\\xfe\\x04h9\\xb1=\\xd3\\x10\\x85$t\\xc5$f\\x9d^\\x00y\\x07\\xdd}\\x14\\xb8\\xf7t\\x1c\\x9e\\xc9&\\xe1\\x0e<a:\\xee\\xa4\"\\xd9L\\xcf\\xc9i\\x9agc\\xafO6\\x12\\xcfJ\\xf5,,K/\\xdf\\x9b\\xc6co\\x1a\\x93e\\xe9\\xb6\\xa9\\x0f\\x07\\x83\\x8b=\\xf1\\xa1#\\x05\\xf4D\\xc72\\xd1\\x9d\\x9d\\xc1\\xc5\\xc7\\x1f5b\\xdd\\x7f\\x1f!\\xf1\\xe1%\\xf4\\t\\xbds\\x8d>\\x7f\\xb51wt\\xea\\xe3\\x80 \\xfb=wG\\x96\\x81l\\xbc\\xeeM\\xcc\\xa8\\xdc\\xe5Y\\x89;\\x01\\xfb\\xb0~\\x07\\\\|\\r?\\xdd\\xf8on\\x08\\x9dp\\xfd\\xdd\\xfe\\x12\\xf3POMU\\xda\\xea\\xb8$\\x1a}\\xc2\\xa0#\\xfbD\\xc6\\xaf\\xc2\\xd6\\xb4_\\x93\\xd8\\x15\\xb3\\x127\\x99\\xe5\\xb4[mzNb\\xef-g~\\xd0\\xa6E*\\x8b\\x9c1|\" \\x9a\\xda\\xe6fn\\xect\\xacS\\x8c\\x80\\x06\\x00\\x13\\x1b\\t:\\x87\\xb7\\x07\\x0b\\xb8\\xd8\\x08\\xa8\\xbeXUW\\x9e\\x11\\xc5\\x82]\\xb4j\\xab#:g8Y*\\x9c\\xa3\\xe6\\xda\\x1c\\xdcl\\xb2\\xcbb\"\\x95~}a\\xf2\\\\]tL\\xb8\\x07\\x14\\xb3\\xfd\\xca\\x97\\xf1\\xd1;m\\xc6\\xb7\\xbc^\\xa7\\xdbJ\\x19\\x1e\\xe2\\xc4\\x07\\xa5\\xf2\\xd5 \\x1ewU\\xb5\\xe6\\'\\xe6C\\x89\\xe9\\x9e\\xb6\\xc7\\x11\\xc4;\\xa5\\x1e\\x9a\\xf9\\x15]\\x84\\xdbe\\xa4\\xadE\\'\\xc6\\xfb\\xa6n`\\xbe\\x08\\xf5[dv\\xac\\xaa\\xae\\xbe\\x1b\\xa5F\\x89p\\xa1\\x95\\xa6\\xac\\xaa\\xa3\\xd4`\\x91Y\\xb2\\x16\\x96E\\xce#\\x0b\\x82\\xde\\x1f\\xdf-!\\xf7$q\\x18\\xd4Mb\\xce4\\x10\\xe1!\\xcdk>\\xec\\xc5\\xe6\\x98\\xd9\\xb9\\xb9\\xb0\\xdab\\xd5d\\xcd\\x91U\\x85~\\x9d\\x1eO\\xaf\\xd6\\xacu\\xf0\\xc1\\xba\\xaf\\x16\\xf3\\x96\\xad\\x9c\\xc5L\\xe8\\x90\\x9f\\xee\\xa2\\xe2\\x08\\xeb\\x9b\\r\\xf5U\\x8b\\x8cW\\x86\\xeb\\xe0\\xe1WeR*J\\xe9\\x8dIQ\\x1c\\xd7\\x06\\x19\\xf2Z#\\xd7x\\xb3r\\xabR\\x91\\xe5\\xf6\\xaa\\xf5\\xc5CJ\\x05\\xae\\xa6\\xe1\\xdeND\\x137\\xed\\xdey,\\xac\\x84&#\\x18\\xde\\x1b7,\\xc9V\"\\x92\\xfb\\xf0\\x80\\x11\\x04`\\x16\\xb4@@`\\xf26\\xc6\\xbd\\xce1\\x1aq\\x8a\\x05\\xe0\\xb6\\x96\\xeb\\xb0\\x7f\\xdb\\x05k\\x13`\\xa3\\x80\\x001V#\\x86\\rD3\\x1dXb/x\\x82\\x10\\r,\\xe0\\x98\\xeb<\\xd1CO\\xf4\\x81Z#\\x04\\x01\\x17\\xe0\\x8d\\xf4\\x00\\x17\\xb1\\xf3-?\\x9fL\\x95\\x8b\\x08\\xe8\\xdd\\x00Xi@1\\x84\\x0e\\x9f\\xedC\\xdf\\t,s\\xd6G\\xc1v\\xcd\\xa3\\xfdY\\x92\\xbd\\xdd\\xab\\xd1Y\\xeap(\\x04H\\x9a\\x1d[\\x91/\\xdd^\\x99#7\\xc9\\xc2Q\\x98\\xba\\xb7\\x11\\xcd\\xfb\\xf2\\xa1\\x86\\xa3\\xed\\x864e\\xedpy\\xf4\\x12NNJ\\xc3B\\x12\\x1a\\xe7\\x9d\\xbb\\xc6\\x07\\xa3\\xb1VKA\\xcc\"\\xa7\\x0cg\\xfd\\xab\\xf1\\x12Ef\\xb1\\xdb\\x8e/\\x96\\x06K\\x158\\x9bt\\xb3\\x88\\x96\\r\\xb9\\xd4\\x87}v\\xf56\\xb02+5\\x8f\\x8769T\\x9e1Ya{\\xfe\\xd2\\x08\\xa6\\xa4<BsG\\xfc|\\xab\\x8cV\\xd6\\xc3\\xb0[\\x16O\\xfb\\xea\\xf6\\xa2\\xde=\\x14\\x9b\"\\x14\\xee\\x1d\\x992=\\xad\\x87b|\\xda\\xa9\\xc8l\\xdb\\xe2|\\x83c\\xc7\\xaf\\x93\\x89&D\\xbb,\\xbc\\xa7id\\xd4\\xd9\\xb0>$\\xe5\\xeaX^\\xfay*\\x19/\\xe5\\x88\\xc5\\xe1Z\\xd6\\xd3\\x82$\\xdc\\x8a\\xa7\\xde\\xa2]7\\xf2\\x86*K\\xf9\\x14\\xb3\\xddN\\xdaM\\x86L\\x15\\xb6N7\\n\\xc6\\x9ea-\\x0eF\\xca\\xaf\\xde\\xd2\\xb0\\x14ql\\x80\\x14\\xc9\\xa24V\\xc9\\xa9\\xac7\\xc7Se\\x9d\\xe8\\xa6\\x1fFX\\xbf+\\xeb\\x89\\xc4?~\\x14\\x9e\\x8d\\x88]\\xfdO-\\xb9\\xfc\\xe9\\xbf\\xbf|\\xfa\\xc7\\xd7\\xbf\\xfe\\xf0\\xc57\\xff\\xfe\\xfe\\xab\\x9f\\xbf\\xfdrL\\xfe\\xf9[\\x00\\x00\\x00\\xff\\xffPK\\x07\\x08O\\x9d\\x9d3L\\x04\\x00\\x00\\x7f\\x05\\x00\\x00PK\\x03\\x04\\x14\\x00\\x08\\x00\\x08\\x00\\x91\\x1d/T\\x00\\x00\\x00\\x00\\x00\\x00\\x00\\x00\\x00\\x00\\x00\\x00\\x0b\\x00\\t\\x00config.jsonUT\\x05\\x00\\x01#C\\xe2al\\x91QO\\xf20\\x14\\x86\\xef\\xf9\\x15d\\xd7\\xdf\\xfauH\\xd9\\xe6\\x1dN\\x13Q4K4xi\\xce\\xda\\x12\\xe6\\xc6\\n=\\x87\\xc1b\\xfc\\xef\\xa60\\xb3-z\\xfb\\xbc\\xefyNz\\xfa9\\x1a\\x8f\\xbd\\x8dA\\xf2\\xae\\xc7\\x9e\\x88\\xe2X]\\xa9\\xb5/f\\\\\\xf8S\\xae\\xc0\\xcf\\x820\\xf0\\xb3l\\xa6x\\xa8\\xa2\\x98\\x83\\xf0\\x01s\\xf0\\xd1\\x1ch\\x130\\x951@\\xb2\\xc0\\x14\\x10 \\xc1\\x89I\\xb3\\xf5\\xfe9\\xe7\\xceX\\xe7\\x9c\\xc4<\\xe2g \\xf7\\xe5{\\x07\\xa7\\x933,t\\x83;\\x90\\xdam\\xdf\\x9a:\\xd7\\xa5\\xae\\xf0\"(\\x8d\\x84\\xf26qIo\\xe5%\\x93\\x90hKK#\\x81rS\\xb9\\n\\xfb/\\x81IK\\xde\\x8fv\\x18\\x16\\xbai\\'\\x7f\\xcf\\xe9\\xde\\xd4\\x0b\\x19\\xab\\x87y\\xaetE95\\xec\\xa3\\xc0a/\\x05\\xc4\\xa3\\xb1\\xca\\xf5\\xf8\"\\r\\x9f\\xf6\\xd3@\\xac\\x1e\\x96\\xd0\\xbc\\xdeW\\x97*\\xd9\\x03\\xd2\\x1f\\xd2\\x8ew\\xda\\x8e\\xf5\\xc5\\xa7u$\\x16\\x98\\x84\\xbb\\xf9[\\xcdU\\x1a\\xaf\\xdaw`=4\\xba\\x1fh/\\xbf>\\xb9\\xeb\\xf4%\\xf6f)\\xea9\\x9f\\xa5q2\\xb9;\\x16\\x8f\\xcf\\xde\\xe8k\\xf4\\x1d\\x00\\x00\\xff\\xffPK\\x07\\x08\\x00\\x91A\\xb2\\x19\\x01\\x00\\x00\\xfb\\x01\\x00\\x00PK\\x03\\x04\\x14\\x00\\x08\\x00\\x08\\x00\\x91\\x1d/T\\x00\\x00\\x00\\x00\\x00\\x00\\x00\\x00\\x00\\x00\\x00\\x00\\x07\\x00\\t\\x00cqlshrcUT\\x05\\x00\\x01#C\\xe2a4\\xcaAn\\x021\\x0c@\\xd1\\xbdO\\xe1\\x0b$\\xcdP\\x06\\x98\\xc5\\xdc\\xa0\\xbbv\\x87Xxb#\"BR\\xd9\\x1eTn_A\\xd5\\xe5\\xffz\\xc7\\xdc[\\x93\\xec\\xa5\\xb7\\x13\\\\\\xbay\\xa3\\x9b\\xe0\\x8c\\xe3a\\x9a\\xf8\\x9d\\xcfa\\xdc\\xa51l\\x13SX\\x86\\xfd\\x10\\x96e\\xc7i\\xcf\\x87)\\xd1\\x18\\xc8\\n\\x05\\xeb\\xab_\\x86\\xc8K$s\\xa5\\xc8\\xe4dN?1\\xf7\\x1b|wu\\x9cq3\\xa5\\xed\\x06\\xcc*\\xce\\xe8\\xba\\n\\xc0\\xd1\\xac\\x9e\\xe0N\\xb50\\xb9\\xfc\\xef,\\xea\\xe7R\\x9f\\x1d\\xdf2\\xc5\\xac\\x0e\\xab\\x89^\\xe5\\xf1ZWy\\xbc\\xfa\\xe9\\xfe\\x8c\\xa8\\xc3]\\xd4Jo8\\xe3\\xd7\\xc7\\xe7o\\x00\\x00\\x00\\xff\\xffPK\\x07\\x08\\x9d\\x1d\\x83\\x92\\xa9\\x00\\x00\\x00\\xd1\\x00\\x00\\x00PK\\x03\\x04\\x14\\x00\\x08\\x00\\x08\\x00\\x91\\x1d/T\\x00\\x00\\x00\\x00\\x00\\x00\\x00\\x00\\x00\\x00\\x00\\x00\\x08\\x00\\t\\x00cert.pfxUT\\x05\\x00\\x01#C\\xe2a\\x00g\\x0e\\x98\\xf10\\x82\\x0ec\\x02\\x01\\x030\\x82\\x0e/\\x06\\t*\\x86H\\x86\\xf7\\r\\x01\\x07\\x01\\xa0\\x82\\x0e \\x04\\x82\\x0e\\x1c0\\x82\\x0e\\x180\\x82\\x08\\xcf\\x06\\t*\\x86H\\x86\\xf7\\r\\x01\\x07\\x06\\xa0\\x82\\x08\\xc00\\x82\\x08\\xbc\\x02\\x01\\x000\\x82\\x08\\xb5\\x06\\t*\\x86H\\x86\\xf7\\r\\x01\\x07\\x010\\x1c\\x06\\n*\\x86H\\x86\\xf7\\r\\x01\\x0c\\x01\\x060\\x0e\\x04\\x08\\xc1URZ\\xb0\\xc8\\xa3\\xbc\\x02\\x02\\x08\\x00\\x80\\x82\\x08\\x88k\\xca$\\x07\\x94*\\xc4\\xa7\\xe4/\\x7f\\xe2\\xf4@\\xd5\\xac\\x1f\\xbe\\xb0gf\\x05\\xe0\\xa1\\x8c\\x0e\\x14\\xc9\\x95\\xd7\\xca-\\xc7O\\xea\\xce\\xc2\\xc7\\x19\\x94\\xf6\\xda,\\xf4\\x03\\xe4\\xf9\\x8e\\xbfI\\xa3\\xf1m/\\x1f\\xb3C\\xcf\\xecc\\xda\\xaf\\xad;\\x90\\x0ep\\xf0\\x83^7\\xab_(0mk\\x05\\xaf\\xa2\\xd9\\xd1\\n&\\xdf\\xf9\\x89\\x85\\x8d\\x8d\\x1b\\xf3\\xe7\\xbc\\x83+R^\\xb0\\xac\\xac\\xb0\\xf5\\x84+\\xbe=\\x9c\\x95\\x8f\\xb7\\r\\x91\\x9f%\\x04E|\\x13\\x11W\\xec`\\x8a\\xff\\x8b\\xaf\\x8b\\xec~\\x8f\\x15\\xdd\\x88\\xa8IFc\\xe4\\x04\\xb5,\\xf4\\xcat/\\xa6\\x03\\x1b3/\\xa4\\x1a\\xef\\xb1=\\x02B\\x82T\\xbeQ\\xbf\\x7f\\xd0k\\xdc\\xd0\\x97x`\\x15Q\\xac\\xf0\\xe6aE\\x99{\\x94\\x13zP/\\x1cs\\xbc}(\\x13\\x8f5\\x9f\\x9e\\x94\\xf4\\xb9\\xb6\\xba\\x81\\xba|\\x15@s\\xd7\\xa1Aw\\xf6b\\x98\\xc6\\x8c\\x015\\x97V\\xce-\\r&u\\x18\\xf4)Fs\\n\\xe4\\x81\\xb8\\xda\\xeb\\xaa\\n\\x02\\xc7\\xc5m\\xa6by\\xe37\\xce\\x84\\xcfP\\xbf1\\xfbzHp\\x8b\\xf6\\xf5E7\\x8a\\xd8\\'B754\\xdf\\x13\\xcc@\\xc0\\xc0RB\\x1f+\\x18\\x8b2\\xda\\xc0O\\xd4W\\x08?\\xb4\\xbc\\xc9\\xa5\\x8eU\\xcb\\x12\\xc0f\\xfa\\xe2\\xbd\\xd5\\r\\xfexF\\x9c\\xd6\\x8dK\\x13z\\xf06\\xce\\xb8]\\x99.\\xdc\\xf8V\\xe3H\\xa1>\\xb3F\\x00;t\\xf8\\xbb\\x90{\\x0fY\\xe4\\xd1\\x18\\x85h\\xcb\\x11\\x84\\x01\\xa0\\xdd\\xd5<\\x1d\\xa8\\xabKp\\xdd\\x14\\x98\\xed+\\xfa\\xba}d\\x98\\x185E\\xbe/\\x87\\xb2+\\xd9\\x8c\\xab\\xac\\xda\\x9c\\x1bYR\\xed\\x8f\\x1c\\xb5\\nAOc\\x02(t\\xd2}y\\xc5\\x86\\xbcU}]6\\x83\\x12\\x0fV\\x1c9Y\\x0fr\\xa4B\\xff\\x98f9\\n\\xd6Lx|\\x0c\\x8bi\\xdf\\x03\\xfe \\xb6W\\x93\\x13\\x96\\xc9\\xeae\\xf4\\xaa\\x8b\\x99-\\x1c\\xc4\\xcf\\x82#v~\\x84\\xd9\\xc5\\x037\\xe6\\xf3e!V86\\xa8\\xc3\\xf8\\xdc\\xf1}&\\xc7\"!~\\xb6\\x7f\\x19\\xd68<\\x0c\\x02\\xaf\\xa7\\x90H\\x9a\\xf405\\x16\\x14\\x80Jw\\xb9\\xd4\\xde\\xa45\\xc5\\xe1\\xab\\xcf)g\\xb7~\\xf2\\x0eg\\xa2w\\xfd\\xd6\\x0bG\\xfc\\xc6\\xa4U\\xca\\xb8\\x92\\x89K\\xeaU\\xdedt\\xedG\\x869\\xf1W\\xae\\xe7\\xf4\\x06v\\x14\\xe1\\xae\\x0c8Y\\xff+\\xc9\\xa1\\x00s\\xfb:e]#\\x14Q\\xfd\\x17\\xa9\\x00-\\xdd\\x04\\x9bNb\\xe3\\xac\\x87\\xfb\\x8a\\xfa\\xd9n_!\\x1f\\x9bKe];\\xf1(\\x83I\\xdfnw\\xb3\\x1c\\xe2r\\x92H\\x7f\\xa0\\x031K\\xba\\xb0U\\xec0\\xe2\\x8d\\xe2\\xb3\\x83\\xcb/>\\xf6\\xbf\\x90\\x8f\\xae<\\xfa\\xe6\\xb4\\xd9\\xaf\\xcfQ4\\xf7t\\x03\\x18\\xe3\\n\\x1b\\xb9\\xa8-\\xd0\\xee\\xe4\\xc1\\xd4h\\xb1\\x8bv\\xb6\\xcd\\x05z\\x97\\xc4x\\xbe,JY\\xa9\\x80\\xcfs\\xbf\\xda\\xdfF\\xd3L\\xa9\\xf2v\\xdc\\x80M\\xd1y\\x1b\\x12\"Z\\xd1\\xb49\\xb8\\xc1\"9\\xc4\\x9f\\x1a\\x89\\x9a\\x85\\x04\\xb3\\xdc\\xf6\\x96\\x90\\xab\\xc3\\x15\\x13\\xa1\\xa6\\xd28\\xf2Mp\\xfb\\xdb\\x9c\\x87\\xaa)\\x18R@\\t\\x07\\xf9\\x88N\\xad\\x92\\xadw*\\xce\\xdb]}\\t\\xc5\\x1b\\x0c\\xa8\\xda\\x1b\\x12\\xb02\\xd4\\xe7\\xc1\\x19\\x9aod\\xb1\\x08\\x1f\\xab\\x18D\\'\\'\\xaa\\xb7\\x05\\x1f \\xf61h\\xc3w\\xd8\\xda\\xdc[nr\\x14\\xb2v\\xfc\\x81\\xcf\\x08\\x0b\\xc9\"\\xd0mZ\\xaa\\x11\\xd4^\\xd4%$\\x11\\x98\\xe6\\x11\\xd1m\\x01\\x1fz;\\xe5q$j\\n\\xff\\xefU\\x92\\xae\\x81\\x9e\\xcf\\xd7L\\xe5\\x7f\\xf5P\\xcd8\\xea\\x1bx;N\\x90g\\xdd\\x19\\x0e\\x0b\\x1a\\xdd;p\\xce\\x1a\\xf2cr\\xb1\\xa30\\xc6\\xee\\x15u\\xd2\\x03\\xe8\\xaa\\xf1\\xdafq~\\xdb\\xdc\\xa5G\\xc9\\xd6\\xb7\\xd2\\xe3S\\n+M`\\x0f\\xadD\\xbf\\xbf\\x12a8<\\tQZ\\xe3\\x90\\xa1\\xfe\\xf0{8\\xdb\\xd1:A\\xfcg\\xb1<\\x9d\\xc6L\\x97\\xb09\\x1b\\x01\\xe4\\xc5\\xbbdJ\\xcfe\\x0c\\x90\\xbb\\xca\\xf0.\\xb7\\xedB\\xd5\\xf1\\xd9\\xe9\\xd0\\xe2\\xe7\\x14\\x01\\x98\\x8eC\\x85\\x85@G\\xde\\x92\\xd0D\\xff\\x1d\\xd59\\x88\\xdf\\xc9Y\\xdfm\\x1d\\xf3\\xd6\\xb7\\x95\\xc5\\xa0\\x17YM})$](\\x8d?\\\\U \\xd3\\xd6\\x1ce\\xb1\\x07AC\\xdc\\xc8\\'\\x83\\xd2\\x0b_\\x85\\xa0(\\xf0\\x97\\x01\\x8b(\\x12\\xd7qS\\xc9\\xbf\\x82*EK\\xc5\\x13\\xc8l\\x81\\xe4s^\\xac\\x10;O\\xa2\\x1d\\x10q\\xcf\\xb3M\\xd6.\\xdc\\x04\\xb5\\xc6\"\\xbc\\xde\\x95\\x0b%\\x08.j\\xa8>P\\x16^,\\xce\\xd4\"=\\xc6=\\xa14\\n\\xc6\\xb5?\\x84\\xbf \\xb48v\\xaf\\xf8:\\x91ODY\\xc7\\x06\\xe4LZ\\xbf\\xf9\\xe2\\x853\\xa4\\xcd\\xb6\\x11\\x82\\xc7\\xffL?\\xb9\\xc0\\xb6\\xde\\\\j\\xb4\\x07\\x9f\\x90\\xfb\\x8f\\x00\\xfa\\xaf\\xb9\\x14n\\x99\\x03\\x9b(\\x83KQ\\xd0y\\xe0\\x0b\\xa9\\x90\\x95\\t\\xbd\\xd5\\xccQ0\\x15\\xe9F\\t\\xa9#\\x85\\xa7\\xae\\x17l!\\x80\\x86\\xd8G\\x9a\\xcd\\xfeh\\xb2M\\xa5\\\\\\xd6\\xc1\\xc4^~\\x1bk\\xaaW\\x8dC\\xf6w\\xed\\xb8\\x85]\\xc6\\xe1G\\rC\\x92\\x88aA\\xdb7\\xe8\\x95\\xafi\\x85\\x02\\x89(/\\xbdL\\'\\xcd\\xf1r\\xd5\\x9dw\\xb0\\xce\\xd3\\x18Bo\\xffu\\xf9m\\xafk\\x86\\x12+\\x96c\\xb3R\\xdaA\\xdb\\xb4\\x8a\\xab\\x88\\xb9&\\xf2`\\x84v\\xf6#\\x7f\\xd4\\xdb\\xff3ri\\xec\\xeb\\xaa\\x84\\xadH\\xed\\x87t\\x07\\x1a\\x83y\\xe5\\x80\\xb4\\xbd\\xc8\\t\\x8d\\xf4z\\x08\\x12WE$\\xea\\xf8q\\xe05\\xa3\\n\\xcf\\xe5\\xb6>\\x8f|\\xa0E{\\xc0\\x18\\x99\\xddy\\xea\\xae\\nL\\xf1R\\xd8\\xfaO,|\\xa1M)j\\xe5\\xbf,\\xd5[7/\\xec0}\\x88\\x93\\x9b2\\xc7AZ|\\xf4;N\\xbb\\xc6<\\x94\\xac\\x93c\\xdf\\xb0Y\\x8cQ\\xdc\\x13\\xcb\\x1a\\x9b^\\xfe\\xeajf\\xc0]\\xe0\\xf6\\xb2\\x9f\\x84|\\x97\\xa1Z\\x8c\\xee\\x96\\xc8\\x14V\\xaf!\\xb5\\xad\\twn\\xea\\xb7\\xf7\\x94\\x02\\x83w\\x96\\xfd\\xfe\\x86\\x85\\xff1\\xda\\x8e\\x88\\xecO9KYk\\x01\\xef\\x03d\\x1c\\x14\\xe6\\xfa\\x1b\\x84\\xe4\\x975\\xf7Vi)\\xb7\\xebG\\xff\\xf6\\xc7\\xb4\\xfc`\\x8a\\x0b\\xddZ\\xdc\\xe9`\\x9b\\xa8!\\xe9j\\xd0E%D}\\x06\\xe74\\xad^\\xaa\\xdb\\x80[\\xcf2\\xba\\xb7/\\xe22\\xfe.\\xc7}\\x8e\\xa1F6z\\xea=\\x8bb.\\xe4\\x1fBR\\r\\xf49\\x98\\x9b@\\xb2\\xd1D\\xb7\\'\\x19^\\x04\\xeeU\\xad\\'.Kmx\\xd4\\x9e!\\x8d\\xf4\\xc7\\xb4\\x0e<iqy\\x1a\\xbf\\xd3\\x19\\xd3\\xea\\x16\\xbc\\xad\\xf4\\x80\\xcf\\x91Q\\xd8\\xb4\\x12\\xf2\\xbcM\\x7fz\\x8a\\xaen]\\xe5\\xc7z\\xdf\\x0f\\x889\\x02\\xa3\\xfc5\\x91A\\x99\\xd7\\x15p\\xf1\\xc7 CHt)\\xde\\x9b\\n\\xd3|\\xcdpR\\xca\\xc8&a\\x0e\\xe6\\xcaX\\x80\\x9e\\xd3\\x00\\xb0G\\x97\\x11aT\\x95\\nl\\x90\\x06\\xce\\x1d\\x85\\x06$\\x1c>u;\\x9e\\xae\\x96\\xc3\\xd7;U\\xad\\x91\\x9c\\xed\\xa9\\xac\\xec\\xb7rf\\xcd\\xf7\\xff\\xc1\\x87v\\xf6\\x1604\\xf3\\x1b\\x99\\x7f\\x14\\xee}<\\xd1\\xda7i\\xc4x\\x96m\\x9e\\x1fpi0\\xcf\\xd8k\\xb0\\xb6 \\xffM\\xd9U\\xfe$0+\\xd2\\x9f\\xad\\xaf\\xf5|.\\xe1L@\\xffw-\\x96\\xd0-\"\\xafT\\xfa\\x9d,\\xa0\\x9bR+\\xbcB\\x9b3tR\\xe0q\\xf7UJu\\xaa\\xf2?c\\xacb\\x99#\\xbc\\xb6\\xe4\\x0fJ\\xae\\x06\\xa5\\xcc\"T\\xde5\\x82D.\\x186+(\\xaf\\x14\\xa6eS\\xe3\\x14)8[\\x06[\\x89\\x06T\\x1a@\\xd6+\\xe0\\xc7Rq\\x98i6\\x13\\x1e!`\\x07\\xe2\\xb1\\x11\\xd8\\xc9\\x00`ho>\\x1e\\xda\\x1b\\xee\\xccu\"mV\\t\\xaaZ\\xcfI\\xe7\\xd1\\x82\\xaa\\xd9%\\\\\\xd0\\xd0\\xe80\\xf4\\xe6\\xf6\\xae\\xb0\\xe1\\x81vs%w\\xc9cn\\xd4\\x9em5^wk\\xb2\\x82\\x05\\xb1\\xbe\\x88\\xe9\\xaeB\\xf7\\xf38i$\\x9e\\xdd\\xf8cE\\x96\\xea\\x9eE\\xf5\\xa7R\\x98\\xe3\\x99\\x1dU\\xc0~\\xad\\x15\\xc3\\xb2E\\xdf\\tF\\x89 ]\\xcf\\x91\\xb4\\x1bJC\\x9b\\x80\\xcd]\\xe1\\x14\\xd4\\xe2\\x87B\\x9bES\\xeb\\x1a\\x9bRr\\xad\\r\\xfb\\xb7\\xed\\x87\\x0e\\xd9\\x12\\x7f$\\xa6\\x92\\xbd.6\\x95\\x9dk.\\xba\\x85\\x1e@mVH?\\x0b=\\xa5L\\x16\\x96k\\x87Vx\\xcb\\xf4\\x89\\xefk\\x81\\xf9\\xf4\\x14\\xcb\\r\\xf5DB\\xe5\\xc5\\xfe\\xf7\\xce\\xc7\\xd0\\xd3.|$3B\\xe8\\xf7\\xadS\\x860(\\x89\\x87A\\x02\\x17zW\\xc2\\xbb\\xabb\\xe1\\xfd\\x10\\xb6\\xc3\\x00-I\\n\\r\\x86J\\x90\\x98 \\x99\\tz<\\x1b\\x15a3\\xdf\\xfc\\xad\\x86#7\\x8fE2\\x92\\xbe\\x92\\x96\\x16=\\xef\\xf9mz\\xbco]\\xd4O{\\xf0\\xbc{\\x15\\x88\\xa9\\x96x\\x1a|4H\\xe3\\xd5\\xc5\\xb8%\\xf8\\xc0\\x86\\x03\\xd3\\xff\\x81n\\xba\\x90\\xad}D\\xc5KN\\xc4G\\xfb\\xfb\\x1c\\x1d\\x19\\t\\x1d\\x95\\xf1c\\x00\\x84\\xdcH\\x91\\xb2\\xf5t\\x11\\xb77\\xb5X}\\xa9\\xb1\\xa5/\\x84]\\x00\\xa8\\xea\\x7f\\x1f\\xe2D\\x0c\\xb8N6]\\xfa,X\\x93\\xf1\\x85\\xbeu\\x0b.`zO;6\\xc9\\x9e\\x0cy\\x91i[\\x8e\\x06\\x99\\xd2`QG\\xee-\\xe5F\\xe2S\\xae\\xba\\xa5\\x1b<\\xe4\\xaa\\xc6\\xa0\\x96\\xaaB`\\xd0;0\\xa9\\x90lo\\x0cyLu\\xef\\x94P\\x89m\\x93\\xb9^\\x89(#<\\x1cN\\x1e\\x9bq\\xa6\\xd9>\\xd3z\\x14\\x97\\xfa/x>\\xe2\\xa2a\\xb1\\x903x0\\x82\\x05A\\x06\\t*\\x86H\\x86\\xf7\\r\\x01\\x07\\x01\\xa0\\x82\\x052\\x04\\x82\\x05.0\\x82\\x05*0\\x82\\x05&\\x06\\x0b*\\x86H\\x86\\xf7\\r\\x01\\x0c\\n\\x01\\x02\\xa0\\x82\\x04\\xee0\\x82\\x04\\xea0\\x1c\\x06\\n*\\x86H\\x86\\xf7\\r\\x01\\x0c\\x01\\x030\\x0e\\x04\\x08OT\\xa2^\\xbc\\xa5|\\x1d\\x02\\x02\\x08\\x00\\x04\\x82\\x04\\xc8\\x15R\\x982\\xb2\\'\\xa0\\xd6\\\\\\xbe\\xf4\\x07\\xffY\\xed^TN\\xa0\\xe7\\xc6\\xb5\\xf2\\xa6\\x9b\\xb9&\\x8f\\xc1\\x1e\\xde\\x12w\\x00\\xfb\\x01bV\\xaf\\xea\\xc7\\xcf\\xa4\\xe2(6\\x02\\xe1\\xe1\\xf5\\x958D!\\xb5\\xb5q\\x12\\x8dt\\xfe\\x8an]\\xd4\\xb6!\\xb9V\\x8cFW\\xc20\\xc8nu\\xa2\\xbf\\x17\\xaa0\\xc0q?\"\\xef.\\x10\\x8d\\xd13\\n\\x07\\x11\\x90J\\x8c\\xee\\xd7\\x15\\xae\\x8ek\\x17Vn\\xc2)\\x04\\x84$T6\\xa8\\t\\x9a\\x97:\\xc1\\xc4n\\xeef\\xae\\x8f\\x1c\\x88\\xd1\\xeb=\\xd5 o\"C\\xbf\\xd9\\x96\\xb4\\xbe~E\\xa1\\x0b\\x9285\\xa8\\xe0\\x80\\xc2\\x013Q\\xf6K\\xa4\\x05q$\\x9f\\xe9\\xf6Y/\\x13K\\xa9\\xfb\\x02+\\x81\\x8f(e\\xa9\\xef\\xd5\\x01v%\\x1e\\\\\\xab*\\x1f\\x10\\xb2\\x98\\xd8mb\\x94o2Gh\\x91Lf\\xb5xO\\xb2\\x19\\xf8\\x1f<\\xd2\\xb7\\xc4\\xad)\\xceS\\x87o\\xa4\\x16\\xbcD\\xac*\\xf4\\x97XX\\x8a\\xa2\\xf4s/8\\x1ds{h\\xe1\\xc3\\x7f\\xb4\\x02\\x85\\x87m\\x1cY\\x18<d\\x0f \\x16\\x12h\\x1c7A\\xdaq\\x92\\xf1\\xecq\\x19\\x04QKh\\xc5\\x04\\x00\\xed\\xc6\\x13c\\x12\\xe1X\\x03>\\x19m\\xec\\xb9zov\\xaf\\xbaZaxc\\xf6\\x9a\\xd2\\xfc\\xff\\xbf\\x9fd\\x9f\\x0f\\xcaMqF\\xff\\xba\\xbeg\\xbc\\x92[\\xcc+\\xef$\\x92\\xf8*U\\xba\\xb7\\xaf\\xef\\x86\\x11M\\xcb\\x84\\x90f>\\xb1P\\xe4\\xbek)\\xcd\\x1a$\\x05i\\xe7\\x95t\\x98\\x10i\\x19\\xb0\\xfe\\xce\\xbdA\\x9fxn\\xa7=\\xf1\\xf6\\x9fW\\xceB\\xa7\\xe7>\\xdaK\\xb0\\xd6\\x00oeZ1\\x1c\\xcd\\x90\\x94106\\x04\"BD\\xe5\\xe7\\x19/\\xf7\\x8cD\\xa8\\xa1$\\x86\\xf0v\\xc1tz\\xed;\\xcb\\xd6\\x17cI\\xa2\\xe1\\xcb\\x9b#M\\xd0\\xff\\xf6\\x88\\xdd\\xdal\\x17\\xcc\\xb6V\\xb9\\x7f\\x87\\xf9\"g\\xce\\xfb\\xfb}\\x1d^i\\xea\\xc9\\n\\xaf\\xc6\\xe6\\x82r\\xf0\\x1c\\x08\\xee\\x1d\\x07U\\xf3\\xberj\\xe6\\xf27\\xb3\\xf3\\xd9R\\xd5>\\xad0M?\\xe8\\xf3\\r\\x8aO#\\x18ZT\\x05(\\xa6\\x0f\\xcb\\xba\\xc8\\xb13\\xf3r\\x1d\\xed\\x98\\x97E=bg\\xe5R>\\xe57\\xe9\\xdb\\x9f\\xae\\xa0i8s[S\\n\\xc6\\xd6\\xe5\\x19\\xc1s7\\xa5f\\xf1Z^\\xb8\\xf6\\xee\\xf0|{\\n\\xf3\\xdaOy\\xd6s\\x80\\xb2)\\x9bI^\\xde\\xa9X\\xe3\\xac\\xddVJ\\xf4\\xf5\\x05P\\x88:\\x16\\xc0\\xf9D\\xf5A_#\\xb8\\x82\\xf6t\\xa5{U\\xd4\\xe8r\\x87\\xbfag\\xa2\"c\\xdb\\x9fn\\x9e:\\xfaW/3\\xa0N[\\xd7\\x04\\xfd\\x1f\\xdc4M_\\x85\\xea\\xbd\\x17\\x8d\\x93AK\\xfd\\xe3q?\\x1b\\xb7\\xb0\\xb8\\xeer\\xe5}\\xd7\\xee\\x06\\x91\\x12\"7^`C\\xec\\xa8\\xf7\"\\x98\\xe4\\xff\\xf8\\x17n\\xb4\\xeb/\\xeb\\xe1Z\\xbeI\\x80\\xeb\\xad^\\xe34\\xd7o\\xfenHm\\xcddj(\\x1e\\x9a\\x7f\\x92\\x0cN\\x1c?1K;\\x97S:w\\xd5\\xda\\x13\\xda\\xf6\\x14\\x9f\\xdfp\\x93\\xa1\\xe6d<(\\xd3\\xd50\\xdd,9\\x06p\\xbaAh{\\xe8\\xbe\\xe6\\xa5\\x14\\xa8E\\x9be,1\\xb4\\xfc1\\xe0\\xb4Z\\x1f\\x8db\\xc7\\xb6\\x02\\xda\\xa5,\\x10\\x82\\t\\xb7,\\xaa\\x9e\\xff\\xa9H\\x8eD\\x84\\xb8a\\x07\\xbe\\t\\xfa-L\\xb8\\xc8op\\x82e\\x81\\x07Z\\x02\\x10\\xd7!\\x98\\xcdv\\'3R\\\\?W\\x06\\x9b\\xeeD\\x07\\x03\\x85\\xee\\xf9x\\xd4\\x9cCC\\xe0D\\xefz\\xe7\\xf8\\xe2\\x89\\xcf\\xc4\\xd9\\xdb\\x0c1\\xf0}\\x98\\x9bv\\xab<\\x90Hi@\\xb2\\x9c\\xb1\\x15\\xb5\\xee\\x02t\\xe6\\x96zi\\x1c\\x08\\xfd.3\\x08Mn\\xfb^&\\xc0d\\x97`\"\\x96\\xfb\\x16\\xa5\\xad\\xfc:\\xec\\xe5L\\xd9\\xd0\\xe6\\xbb\\xd4\\x039\\xb1\\xe4\\x94\\xf9\\xdcn\\x91\\xf3\\xf0\\x0b\\xd4\\xdf\\xe2\\x12\\xc2\\xa4\\xcb\\xd0\\xfbH#\\xef\\xa6*\\xc3}m\\r\\xf7\\xdf\\x128\\x1e\\xd0:F\\xba<zlE\\xc8J<\\xc2\\xd5\\x8a\\xfd\\xf0N5\\xc0\\xec\\x0f\\xad|\\xa8\\xd8$\\xdd\\x1do*\\xbeO\\x04\\x1aoFW\\x13\\xcf\\xdf\\xb6\\xf2iw\\xb5\\x14(m\\x18\\xd9\\x93\\x1e{K\\xe4\\xbf\\xa4\\x00:w7\\xd2\\x90\\xbcc\\xa4\\x9bUrl\\xbb\\xbbv\\xeee\\x1a\\xe72\\xd44\\xe3\\xd6\\x9d\\x8f\\x05K\\xfd\\xd5\\xaf\\x12k6\\xf9H\\x1eu\\x9a>\\x1f\\tv\\x19\\xa3 87\\xe8\\xadg!\\x00\\xca]\\x96\\xa0\\x97\\xe8W\\xb9\\x90\\xbcq\\xd79\\xbb\\x11\\xc4\\xe8g\\x08\\xa00(?\\xceR\\x8b\\xa96\\xbc~:\\xfbM\\x8ey\\x0eC\\xc1\\t\\xb2\\x9fo\\xf7P*e\\x986\\xb9zZ\\xcb1\\xcb\\xd2\\t\\xa1Bl\\x1b\\xb8sN\\xfb[T/ \\xe2\\xf8\\x82sqkL\\xcb>i\\x8c\\xae[bgk\\xd5\\xd9o\\x92<\\x1f\\xde\\x01\\xbe\\xd5\\xb4_\\xe9\\x0e\\xbf6\\xf2\\xcd\\xec\\xdb\\xc4/\\xff\\x90\\xfe\\xb8]\\xbdy:i<gE\\xcd\\xd8[\\xd9\\x9bN\\x10flO\\x14\\xb00+\\xe4{Dw\\xbf8/\\xe2e\\xdd\\x05\\x03.1\\x8dh76\\x08q\\xc4\\x80\\xab[\\x18\\xb8V\\xf6\\xc00V\\x98\\x0f\\xf8\\xa3*)K\\xee\\x07\\xb1\\xa2\\xc3\\x97\\xdf\\x87~F\\xe5\\x0c\\x1f\\xc2\\x86\\x9a\\xe2\\x9f\\xc3\\x19\\xc5,\\xa2\\xed\\x14{\\x1e$\\xe2\\xbfLZN\\x9b\\xa3K;]\\xb31%0#\\x06\\t*\\x86H\\x86\\xf7\\r\\x01\\t\\x151\\x16\\x04\\x14\\xef\\x11\\xa7<w\\x1bD\\x9f\\xc9\\xda\\xed\\xd9\\xec\\xdd\\x0f\\x02g\\xd6C\\xa20+0\\x1f0\\x07\\x06\\x05+\\x0e\\x03\\x02\\x1a\\x04\\x14\\xd3\\x06\\xdf\\xd54\\xd6\\xc3\\xed{\\xeaS\\xe3\\x19\\x1e\\x15\\xc5\\xed2\\x00M\\x04\\x08E1u\\x7fz.K\\xad\\x01\\x00\\x00\\xff\\xffPK\\x07\\x08\\x9c2>4q\\x0e\\x00\\x00g\\x0e\\x00\\x00PK\\x01\\x02\\x14\\x03\\x14\\x00\\x08\\x00\\x08\\x00\\x91\\x1d/T\\xd2\\x87\\x16\\xe6\\xe8\\x03\\x00\\x00A\\x05\\x00\\x00\\x06\\x00\\t\\x00\\x00\\x00\\x00\\x00\\x00\\x00\\x00\\x00\\x80\\x81\\x00\\x00\\x00\\x00ca.crtUT\\x05\\x00\\x01#C\\xe2aPK\\x01\\x02\\x14\\x03\\x14\\x00\\x08\\x00\\x08\\x00\\x91\\x1d/T\\xd2\\xf8\\xe6\\xe0\\x05\\x05\\x00\\x00\\x8b\\x06\\x00\\x00\\x03\\x00\\t\\x00\\x00\\x00\\x00\\x00\\x00\\x00\\x00\\x00\\x80\\x81%\\x04\\x00\\x00keyUT\\x05\\x00\\x01#C\\xe2aPK\\x01\\x02\\x14\\x03\\x14\\x00\\x08\\x00\\x08\\x00\\x91\\x1d/T\\xf8J?36\\x04\\x00\\x00\\xfd\\x05\\x00\\x00\\x04\\x00\\t\\x00\\x00\\x00\\x00\\x00\\x00\\x00\\x00\\x00\\x80\\x81d\\t\\x00\\x00certUT\\x05\\x00\\x01#C\\xe2aPK\\x01\\x02\\x14\\x03\\x14\\x00\\x08\\x00\\x08\\x00\\x91\\x1d/T\\xea\\x17A\\x19P\\n\\x00\\x00B\\x0b\\x00\\x00\\x0c\\x00\\t\\x00\\x00\\x00\\x00\\x00\\x00\\x00\\x00\\x00\\xa4\\x81\\xd5\\r\\x00\\x00identity.jksUT\\x05\\x00\\x01#C\\xe2aPK\\x01\\x02\\x14\\x03\\x14\\x00\\x08\\x00\\x08\\x00\\x91\\x1d/TO\\x9d\\x9d3L\\x04\\x00\\x00\\x7f\\x05\\x00\\x00\\x0e\\x00\\t\\x00\\x00\\x00\\x00\\x00\\x00\\x00\\x00\\x00\\xa4\\x81h\\x18\\x00\\x00trustStore.jksUT\\x05\\x00\\x01#C\\xe2aPK\\x01\\x02\\x14\\x03\\x14\\x00\\x08\\x00\\x08\\x00\\x91\\x1d/T\\x00\\x91A\\xb2\\x19\\x01\\x00\\x00\\xfb\\x01\\x00\\x00\\x0b\\x00\\t\\x00\\x00\\x00\\x00\\x00\\x00\\x00\\x00\\x00\\xa4\\x81\\xf9\\x1c\\x00\\x00config.jsonUT\\x05\\x00\\x01#C\\xe2aPK\\x01\\x02\\x14\\x03\\x14\\x00\\x08\\x00\\x08\\x00\\x91\\x1d/T\\x9d\\x1d\\x83\\x92\\xa9\\x00\\x00\\x00\\xd1\\x00\\x00\\x00\\x07\\x00\\t\\x00\\x00\\x00\\x00\\x00\\x00\\x00\\x00\\x00\\xa4\\x81T\\x1e\\x00\\x00cqlshrcUT\\x05\\x00\\x01#C\\xe2aPK\\x01\\x02\\x14\\x03\\x14\\x00\\x08\\x00\\x08\\x00\\x91\\x1d/T\\x9c2>4q\\x0e\\x00\\x00g\\x0e\\x00\\x00\\x08\\x00\\t\\x00\\x00\\x00\\x00\\x00\\x00\\x00\\x00\\x00\\xa4\\x81;\\x1f\\x00\\x00cert.pfxUT\\x05\\x00\\x01#C\\xe2aPK\\x05\\x06\\x00\\x00\\x00\\x00\\x08\\x00\\x08\\x00\\xf9\\x01\\x00\\x00\\xeb-\\x00\\x00\\x00\\x00'}"
            ]
          },
          "metadata": {},
          "execution_count": 4
        }
      ]
    },
    {
      "cell_type": "markdown",
      "metadata": {
        "id": "bulgarian-michael"
      },
      "source": [
        "set the `Secure connect bundle zip file` path and specify the `clientID` and `Client_Secret`"
      ],
      "id": "bulgarian-michael"
    },
    {
      "cell_type": "code",
      "metadata": {
        "id": "bearing-roads"
      },
      "source": [
        "# Enter the credentials below\n",
        "zip_path = '/content/secure-connect-cds.zip'\n",
        "Client_ID = 'bxdnQnZgYraNbdNpkDAFbDAi'\n",
        "Client_Secret = 'Wl+0XG+0.68L_GnNw-uq-rNM.ARmyGE-znzHHWzNfsXzmErULaYOB4rf,qFoMNJikupZ5eTJ-ygDOSqe1H+.FLPhRZrMBA12H+6gC1j,ZCPMRr1cnhq2TNsqTaethK9,'"
      ],
      "id": "bearing-roads",
      "execution_count": null,
      "outputs": []
    },
    {
      "cell_type": "markdown",
      "metadata": {
        "id": "u0GXrsCHK0H6"
      },
      "source": [
        "#### Create a Cluster instance to connect to your Astra database.\n",
        "\n",
        "You will typically have one instance of Cluster for each Cassandra cluster you want to interact with. Create a session object using the cluster.\n",
        "\n",
        "**Hint:** Refer Python documentation under Connect."
      ],
      "id": "u0GXrsCHK0H6"
    },
    {
      "cell_type": "code",
      "metadata": {
        "id": "personal-string"
      },
      "source": [
        "cloud_config= {\n",
        "        'secure_connect_bundle': zip_path\n",
        "}\n",
        "auth_provider = PlainTextAuthProvider(Client_ID, \n",
        "                                      Client_Secret)\n",
        "cluster = Cluster(cloud=cloud_config, auth_provider=auth_provider)\n",
        "session = cluster.connect()"
      ],
      "id": "personal-string",
      "execution_count": null,
      "outputs": []
    },
    {
      "cell_type": "markdown",
      "metadata": {
        "id": "sorted-modern"
      },
      "source": [
        "#### Verifying the database connection\n",
        "\n",
        "execute a simple query and verify the database connection"
      ],
      "id": "sorted-modern"
    },
    {
      "cell_type": "code",
      "metadata": {
        "id": "alike-alcohol",
        "colab": {
          "base_uri": "https://localhost:8080/"
        },
        "outputId": "680e6ea1-6d0f-463e-e0a1-6b49b3386216"
      },
      "source": [
        "# YOUR CODE HERE\n",
        "row = session.execute(\"select release_version from system.local\").one()\n",
        "if row:\n",
        "    print(row[0])\n",
        "else:\n",
        "    print(\"An error occurred.\")"
      ],
      "id": "alike-alcohol",
      "execution_count": null,
      "outputs": [
        {
          "output_type": "stream",
          "name": "stdout",
          "text": [
            "4.0.0.6816\n"
          ]
        }
      ]
    },
    {
      "cell_type": "markdown",
      "metadata": {
        "id": "earlier-cedar"
      },
      "source": [
        "#### Setting the Key Space\n",
        "\n",
        "A keyspace is the top-level database object that controls the replication for the object it contains at each datacenter in the cluster. Keyspaces contain tables, materialized views and user-defined types, functions and aggregates. Typically, a cluster has one keyspace per application. Since replication is controlled on a per-keyspace basis, store data with different replication requirements (at the same datacenter) in different keyspaces.\n",
        "\n",
        "Before creating tables and inserting data let's create and set the keyspace\n",
        "\n",
        "* we can create keyspace manually on Datastax dashboard or also using the CQL command. (use lowercase to avoid errors)\n",
        "\n",
        "    * [Hint](https://docs.datastax.com/en/cql-oss/3.x/cql/cql_reference/cqlCreateKeyspace.html)\n",
        "\n",
        "* once the keyspace is created successfully, set the keyspace using the command `set_keyspace()`"
      ],
      "id": "earlier-cedar"
    },
    {
      "cell_type": "code",
      "metadata": {
        "id": "complicated-decision"
      },
      "source": [
        "# YOUR CODE HERE\n",
        "try:\n",
        "  session.set_keyspace('movielens')\n",
        "except Exception as e:\n",
        "  print(e)"
      ],
      "id": "complicated-decision",
      "execution_count": null,
      "outputs": []
    },
    {
      "cell_type": "markdown",
      "metadata": {
        "id": "MwAu-oEU3KWP"
      },
      "source": [
        "### Insert the data into Database (1 point)\n",
        "\n",
        "To insert the data into database, we can create a table in keyspace and insert the data by using CQL command or we can directly upload the data on the datstax dashboard using [Astra Dataloader](https://docs.datastax.com/en/astra/docs/astra-data-loader.html)\n",
        "\n",
        "As there is huge amount of data, insertion of data using CQL commands may take time, preferable method is Astra Dataloader.\n",
        "\n",
        "* Download the below mentioned 3 datasets and upload to Datastax Astra dashboard using Astra Dataloader\n",
        "    * [data_movies](https://cdn.iisc.talentsprint.com/CDS/MiniProjects/data_movies.csv)\n",
        "    * [data_ratings](https://cdn.iisc.talentsprint.com/CDS/MiniProjects/data_ratings.csv)\n",
        "    * [data_users](https://cdn.iisc.talentsprint.com/CDS/MiniProjects/data_users.csv)\n",
        "    \n",
        "while uploading data using Datastax Astra dataloader you may encounter the below error message due to formatting issues or bulk data. In that case, click on upload button for second time for data upload. \n",
        "![img](https://cdn.iisc.talentsprint.com/CDS/MiniProjects/data_upload_error.JPG)\n",
        "\n",
        "Note: Cassandra also handles non-SQL data formats such as JSON (see [insert JSON data](https://docs.datastax.com/en/cql-oss/3.3/cql/cql_using/useInsertJSON.html)). However for the purpose of this Mini-project, we are using a tabular data format (.csv)."
      ],
      "id": "MwAu-oEU3KWP"
    },
    {
      "cell_type": "markdown",
      "metadata": {
        "id": "relevant-vacuum"
      },
      "source": [
        "### Querying the database (2 points)"
      ],
      "id": "relevant-vacuum"
    },
    {
      "cell_type": "markdown",
      "metadata": {
        "id": "OHtkA5P8gHku"
      },
      "source": [
        "* Select First 10 rows of the data_movies table\n",
        "* How many Users have watched the movie  `'Contact (1997)'` with MovieId = 1584\n",
        "* Select the count of teenage male users\n",
        "\n",
        "**Note:** For syntax related issues, try the **CQLConsole** on Datastax dashboard\n",
        "\n",
        "**Hint:** [CQL command for select](https://docs.datastax.com/en/cql-oss/3.3/cql/cql_using/useQueryColumnsSort.html)"
      ],
      "id": "OHtkA5P8gHku"
    },
    {
      "cell_type": "code",
      "metadata": {
        "id": "familiar-architecture",
        "colab": {
          "base_uri": "https://localhost:8080/"
        },
        "outputId": "5d3d71e9-2d9a-4df5-c873-9756585190ac"
      },
      "source": [
        "# YOUR CODE HERE\n",
        "query = 'SELECT * FROM movielens.data_movies LIMIT 10;'\n",
        "rows=session.execute(query)\n",
        "for row in rows:\n",
        "  print(row)"
      ],
      "id": "familiar-architecture",
      "execution_count": null,
      "outputs": [
        {
          "output_type": "stream",
          "name": "stdout",
          "text": [
            "Row(movieid=1879, title='Hanging Garden, The (1997)', genres='Drama')\n",
            "Row(movieid=2666, title='It Conquered the World (1956)', genres='Sci-Fi')\n",
            "Row(movieid=858, title='Godfather, The (1972)', genres='Action|Crime|Drama')\n",
            "Row(movieid=1693, title='Amistad (1997)', genres='Drama')\n",
            "Row(movieid=2909, title='Five Wives, Three Secretaries and Me (1998)', genres='Documentary')\n",
            "Row(movieid=2606, title='Idle Hands (1999)', genres='Comedy|Horror')\n",
            "Row(movieid=3211, title='Cry in the Dark, A (1988)', genres='Drama')\n",
            "Row(movieid=966, title='Walk in the Sun, A (1945)', genres='Drama')\n",
            "Row(movieid=2283, title='Sheltering Sky, The (1990)', genres='Drama')\n",
            "Row(movieid=1001, title=\"Associate, The (L'Associe)(1982)\", genres='Comedy')\n"
          ]
        }
      ]
    },
    {
      "cell_type": "code",
      "metadata": {
        "id": "younger-audit",
        "colab": {
          "base_uri": "https://localhost:8080/"
        },
        "outputId": "dd2b0c25-afde-46bf-e820-e86740593708"
      },
      "source": [
        "# YOUR CODE HERE \n",
        "query = 'SELECT * FROM movielens.data_ratings WHERE  movieId = 1584 ALLOW FILTERING;'\n",
        "rows=session.execute(query)\n",
        "print(f'number of Users who have watched the movie Contact (1997) = {len(rows._current_rows)}')"
      ],
      "id": "younger-audit",
      "execution_count": null,
      "outputs": [
        {
          "output_type": "stream",
          "name": "stdout",
          "text": [
            "number of Users who have watched the movie Contact (1997) = 1110\n"
          ]
        }
      ]
    },
    {
      "cell_type": "code",
      "metadata": {
        "id": "charged-demographic",
        "colab": {
          "base_uri": "https://localhost:8080/"
        },
        "outputId": "4a5797fc-55df-4cc3-98e2-70f9b53f5081"
      },
      "source": [
        "# YOUR CODE HERE\n",
        "rows = session.execute('SELECT userid FROM movielens.data_users WHERE gender=%s AND age >= 17 AND age <= 19 ' \\\n",
        "                           'ALLOW FILTERING;', ('M'))\n",
        "print(f'Count of teenage male users = {len(rows._current_rows)}')"
      ],
      "id": "charged-demographic",
      "execution_count": null,
      "outputs": [
        {
          "output_type": "stream",
          "name": "stdout",
          "text": [
            "Count of teenage male users = 805\n"
          ]
        }
      ]
    },
    {
      "cell_type": "markdown",
      "metadata": {
        "id": "sustainable-underwear"
      },
      "source": [
        "* Select the count of movies with Top rating from the entire ratings table"
      ],
      "id": "sustainable-underwear"
    },
    {
      "cell_type": "code",
      "metadata": {
        "id": "better-heath",
        "colab": {
          "base_uri": "https://localhost:8080/"
        },
        "outputId": "c57d10f8-f016-4e6e-ba1d-4ab38b59e4bc"
      },
      "source": [
        "# YOUR CODE HERE\n",
        "rows = session.execute('select count(movieid) from movielens.data_ratings where rating>4 ALLOW FILTERING;')\n",
        "try:\n",
        "  data = rows.one()\n",
        "  print(f'Count of movies with Top Rating is - {data[0]}')\n",
        "except Exception as e:\n",
        "  print(f\"Exception fetching top rated movies - {e}\")"
      ],
      "id": "better-heath",
      "execution_count": null,
      "outputs": [
        {
          "output_type": "stream",
          "name": "stdout",
          "text": [
            "Count of movies with Top Rating is - 226310\n"
          ]
        }
      ]
    },
    {
      "cell_type": "markdown",
      "metadata": {
        "id": "alleged-notebook"
      },
      "source": [
        "* Select the count of movies, ONLY in Comedy genre from the entire movies table"
      ],
      "id": "alleged-notebook"
    },
    {
      "cell_type": "code",
      "source": [
        "rows = session.execute(\"select count(genres) as comedy_count from movielens.data_movies where genres='Comedy' allow filtering;\")\n",
        "if rows:\n",
        "  print(f'Count of movies ONLY in Comedy genre: {rows.one().comedy_count}')"
      ],
      "metadata": {
        "colab": {
          "base_uri": "https://localhost:8080/"
        },
        "id": "3IadMhHQS4Q0",
        "outputId": "02bf65ac-0eb9-422b-ada1-ac3bef05b9cb"
      },
      "id": "3IadMhHQS4Q0",
      "execution_count": null,
      "outputs": [
        {
          "output_type": "stream",
          "name": "stdout",
          "text": [
            "Count of movies ONLY in Comedy genre: 521\n"
          ]
        }
      ]
    },
    {
      "cell_type": "markdown",
      "metadata": {
        "id": "afraid-france"
      },
      "source": [
        "### Visualizing the Data (2 points)\n",
        "\n",
        "Retrieve the data using CQL queries and visualize using matplotlib"
      ],
      "id": "afraid-france"
    },
    {
      "cell_type": "markdown",
      "metadata": {
        "id": "damaged-laugh"
      },
      "source": [
        "* Visualize the frequencies of movie genres from the entire data"
      ],
      "id": "damaged-laugh"
    },
    {
      "cell_type": "code",
      "metadata": {
        "id": "acquired-solid"
      },
      "source": [
        "# YOUR CODE HERE\n",
        "import itertools\n",
        "from collections import Counter\n",
        "\n",
        "def frequency_of_genres(session):\n",
        "  rows = session.execute('SELECT genres FROM movielens.data_movies ALLOW FILTERING;')\n",
        "  df = rows._current_rows\n",
        "  df = pd.DataFrame(df)\n",
        "  genres = []\n",
        "  for j in range(df.shape[0]):\n",
        "    genre = df.loc[:,\"genres\"][j].split(\"|\")\n",
        "    genres.append(genre)\n",
        "  merged_list = list(itertools.chain.from_iterable(genres))\n",
        "  counts = Counter(merged_list)\n",
        "  return counts\n",
        "  "
      ],
      "id": "acquired-solid",
      "execution_count": null,
      "outputs": []
    },
    {
      "cell_type": "code",
      "source": [
        "genres = frequency_of_genres(session)\n",
        "plt.figure(figsize=(20,20))\n",
        "plt.bar(genres.keys(), genres.values())\n",
        "plt.show()"
      ],
      "metadata": {
        "colab": {
          "base_uri": "https://localhost:8080/",
          "height": 926
        },
        "id": "fV4Sh1pzd32c",
        "outputId": "0dfa47a3-e17c-4bff-c0df-f9d1a3828f11"
      },
      "id": "fV4Sh1pzd32c",
      "execution_count": null,
      "outputs": [
        {
          "output_type": "display_data",
          "data": {
            "image/png": "[encoded data removed]",
            "text/plain": [
              "<Figure size 1440x1440 with 1 Axes>"
            ]
          },
          "metadata": {
            "needs_background": "light"
          }
        }
      ]
    },
    {
      "cell_type": "markdown",
      "metadata": {
        "id": "instant-immigration"
      },
      "source": [
        "* Visualize the bar plot showing no.of movies released in a particular year"
      ],
      "id": "instant-immigration"
    },
    {
      "cell_type": "code",
      "metadata": {
        "id": "theoretical-carol"
      },
      "source": [
        "# YOUR CODE HERE\n",
        "import re\n",
        "\n",
        "def frequency_of_movies(session):\n",
        "  rows = session.execute('SELECT title FROM movielens.data_movies ALLOW FILTERING;')\n",
        "  df = rows._current_rows\n",
        "  df = pd.DataFrame(df)\n",
        "  year_list = []\n",
        "  for j in range(df.shape[0]):\n",
        "    filtered_object = filter(lambda x: x != \"\",re.split('([\\w\\s,]*)\\((\\d{4})\\)',df.loc[:,\"title\"][j]))\n",
        "    name_and_year = list(filtered_object)\n",
        "    year = int(name_and_year[-1])\n",
        "    year_list.append(year)\n",
        "  counts = Counter(year_list)\n",
        "  return counts"
      ],
      "id": "theoretical-carol",
      "execution_count": null,
      "outputs": []
    },
    {
      "cell_type": "code",
      "source": [
        "#rows = session.execute('SELECT title FROM movielens.data_movies ALLOW FILTERING;')\n",
        "#df = rows._current_rows\n",
        "#df = pd.DataFrame(df)"
      ],
      "metadata": {
        "id": "kXMTQjEyV5_2"
      },
      "id": "kXMTQjEyV5_2",
      "execution_count": null,
      "outputs": []
    },
    {
      "cell_type": "code",
      "source": [
        "#df[\"title\"].str[-5:-1]"
      ],
      "metadata": {
        "colab": {
          "base_uri": "https://localhost:8080/"
        },
        "id": "neZXmQ6AWC7y",
        "outputId": "61c4ded9-b6e6-4b43-a665-133d14f1e9a0"
      },
      "id": "neZXmQ6AWC7y",
      "execution_count": null,
      "outputs": [
        {
          "output_type": "execute_result",
          "data": {
            "text/plain": [
              "0       1997\n",
              "1       1956\n",
              "2       1972\n",
              "3       1997\n",
              "4       1998\n",
              "        ... \n",
              "3878    1973\n",
              "3879    1987\n",
              "3880    1997\n",
              "3881    1988\n",
              "3882    1997\n",
              "Name: title, Length: 3883, dtype: object"
            ]
          },
          "metadata": {},
          "execution_count": 219
        }
      ]
    },
    {
      "cell_type": "code",
      "source": [
        "counts = frequency_of_movies(session)\n",
        "plt.figure(figsize=(20,20))\n",
        "plt.bar(counts.keys(), counts.values())\n",
        "plt.show()"
      ],
      "metadata": {
        "id": "iDl3Gca8kiM_"
      },
      "id": "iDl3Gca8kiM_",
      "execution_count": null,
      "outputs": []
    },
    {
      "cell_type": "markdown",
      "metadata": {
        "id": "pediatric-clothing"
      },
      "source": [
        "* Depict the plot of Age groups ratio who are active in watching movies"
      ],
      "id": "pediatric-clothing"
    },
    {
      "cell_type": "code",
      "metadata": {
        "id": "desirable-selection"
      },
      "source": [
        "# YOUR CODE HERE\n",
        "def age_group_frequency(session):\n",
        "  user = session.execute('select userid, age from movielens.data_users;')\n",
        "  rating = session.execute('select userid, rating from movielens.data_ratings;')\n",
        "  list_user = user._current_rows\n",
        "  list_rating = rating._current_rows\n",
        "  df_user = pd.DataFrame(list_user)\n",
        "  df_rating = pd.DataFrame(list_rating)\n",
        "  user_age_rating = pd.merge(df_user, df_rating, on='userid', how='outer')\n",
        "  user_age_rating.dropna(inplace=True)\n",
        "  bins= [0,12,19,30,40,50,60]\n",
        "  labels = ['pre-teen', 'teen','young adult','adult','middle aged','old']\n",
        "  user_age_rating['AgeGroup'] = pd.cut(user_age_rating['age'], bins=bins, labels=labels, right=False)\n",
        "  counts = Counter(user_age_rating['AgeGroup'])\n",
        "  return counts"
      ],
      "id": "desirable-selection",
      "execution_count": null,
      "outputs": []
    },
    {
      "cell_type": "code",
      "source": [
        "frequency = age_group_frequency(session)\n",
        "plt.figure(figsize=(8,8))\n",
        "plt.bar(frequency.keys(), frequency.values())\n",
        "plt.show()"
      ],
      "metadata": {
        "colab": {
          "base_uri": "https://localhost:8080/",
          "height": 483
        },
        "id": "OU_UDyQzCWfI",
        "outputId": "a0d646f5-8c58-4316-a000-8223fc9aad6f"
      },
      "id": "OU_UDyQzCWfI",
      "execution_count": null,
      "outputs": [
        {
          "output_type": "display_data",
          "data": {
            "image/png": "[encoded data removed]",
            "text/plain": [
              "<Figure size 576x576 with 1 Axes>"
            ]
          },
          "metadata": {
            "needs_background": "light"
          }
        }
      ]
    },
    {
      "cell_type": "markdown",
      "metadata": {
        "id": "extensive-billy"
      },
      "source": [
        "### Analyzing the Data (3 points)\n",
        "\n",
        "Analyzing the correlation between the movies records, implement a function to recommend movies based on search term"
      ],
      "id": "extensive-billy"
    },
    {
      "cell_type": "markdown",
      "metadata": {
        "id": "southeast-buffalo"
      },
      "source": [
        "* Retrieve all the data from ratings table"
      ],
      "id": "southeast-buffalo"
    },
    {
      "cell_type": "code",
      "metadata": {
        "id": "related-google"
      },
      "source": [
        "# YOUR CODE HERE\n",
        "\n",
        "def get_all_ratings(session):\n",
        "  movie_ratings = session.execute('select movieid, rating, userid from movielens.data_ratings;')\n",
        "  df = movie_ratings._current_rows\n",
        "  DF = pd.DataFrame(df)\n",
        "  return DF"
      ],
      "id": "related-google",
      "execution_count": null,
      "outputs": []
    },
    {
      "cell_type": "code",
      "source": [
        "get_all_ratings(session)"
      ],
      "metadata": {
        "colab": {
          "base_uri": "https://localhost:8080/",
          "height": 423
        },
        "id": "Fo5PizocI5LL",
        "outputId": "2d9924a0-141c-4743-e778-7cfeadff30e1"
      },
      "id": "Fo5PizocI5LL",
      "execution_count": null,
      "outputs": [
        {
          "output_type": "execute_result",
          "data": {
            "text/html": [
              "\n",
              "  <div id=\"df-fcaaa5d0-59de-416b-871e-5eb0025c3389\">\n",
              "    <div class=\"colab-df-container\">\n",
              "      <div>\n",
              "<style scoped>\n",
              "    .dataframe tbody tr th:only-of-type {\n",
              "        vertical-align: middle;\n",
              "    }\n",
              "\n",
              "    .dataframe tbody tr th {\n",
              "        vertical-align: top;\n",
              "    }\n",
              "\n",
              "    .dataframe thead th {\n",
              "        text-align: right;\n",
              "    }\n",
              "</style>\n",
              "<table border=\"1\" class=\"dataframe\">\n",
              "  <thead>\n",
              "    <tr style=\"text-align: right;\">\n",
              "      <th></th>\n",
              "      <th>movieid</th>\n",
              "      <th>rating</th>\n",
              "      <th>userid</th>\n",
              "    </tr>\n",
              "  </thead>\n",
              "  <tbody>\n",
              "    <tr>\n",
              "      <th>0</th>\n",
              "      <td>208</td>\n",
              "      <td>5</td>\n",
              "      <td>3902</td>\n",
              "    </tr>\n",
              "    <tr>\n",
              "      <th>1</th>\n",
              "      <td>1089</td>\n",
              "      <td>4</td>\n",
              "      <td>2741</td>\n",
              "    </tr>\n",
              "    <tr>\n",
              "      <th>2</th>\n",
              "      <td>1294</td>\n",
              "      <td>5</td>\n",
              "      <td>2691</td>\n",
              "    </tr>\n",
              "    <tr>\n",
              "      <th>3</th>\n",
              "      <td>1333</td>\n",
              "      <td>5</td>\n",
              "      <td>3428</td>\n",
              "    </tr>\n",
              "    <tr>\n",
              "      <th>4</th>\n",
              "      <td>531</td>\n",
              "      <td>4</td>\n",
              "      <td>3163</td>\n",
              "    </tr>\n",
              "    <tr>\n",
              "      <th>...</th>\n",
              "      <td>...</td>\n",
              "      <td>...</td>\n",
              "      <td>...</td>\n",
              "    </tr>\n",
              "    <tr>\n",
              "      <th>4995</th>\n",
              "      <td>1615</td>\n",
              "      <td>3</td>\n",
              "      <td>4312</td>\n",
              "    </tr>\n",
              "    <tr>\n",
              "      <th>4996</th>\n",
              "      <td>2527</td>\n",
              "      <td>3</td>\n",
              "      <td>2575</td>\n",
              "    </tr>\n",
              "    <tr>\n",
              "      <th>4997</th>\n",
              "      <td>1258</td>\n",
              "      <td>5</td>\n",
              "      <td>4750</td>\n",
              "    </tr>\n",
              "    <tr>\n",
              "      <th>4998</th>\n",
              "      <td>1036</td>\n",
              "      <td>3</td>\n",
              "      <td>655</td>\n",
              "    </tr>\n",
              "    <tr>\n",
              "      <th>4999</th>\n",
              "      <td>1442</td>\n",
              "      <td>3</td>\n",
              "      <td>1059</td>\n",
              "    </tr>\n",
              "  </tbody>\n",
              "</table>\n",
              "<p>5000 rows × 3 columns</p>\n",
              "</div>\n",
              "      <button class=\"colab-df-convert\" onclick=\"convertToInteractive('df-fcaaa5d0-59de-416b-871e-5eb0025c3389')\"\n",
              "              title=\"Convert this dataframe to an interactive table.\"\n",
              "              style=\"display:none;\">\n",
              "        \n",
              "  <svg xmlns=\"http://www.w3.org/2000/svg\" height=\"24px\"viewBox=\"0 0 24 24\"\n",
              "       width=\"24px\">\n",
              "    <path d=\"M0 0h24v24H0V0z\" fill=\"none\"/>\n",
              "    <path d=\"M18.56 5.44l.94 2.06.94-2.06 2.06-.94-2.06-.94-.94-2.06-.94 2.06-2.06.94zm-11 1L8.5 8.5l.94-2.06 2.06-.94-2.06-.94L8.5 2.5l-.94 2.06-2.06.94zm10 10l.94 2.06.94-2.06 2.06-.94-2.06-.94-.94-2.06-.94 2.06-2.06.94z\"/><path d=\"M17.41 7.96l-1.37-1.37c-.4-.4-.92-.59-1.43-.59-.52 0-1.04.2-1.43.59L10.3 9.45l-7.72 7.72c-.78.78-.78 2.05 0 2.83L4 21.41c.39.39.9.59 1.41.59.51 0 1.02-.2 1.41-.59l7.78-7.78 2.81-2.81c.8-.78.8-2.07 0-2.86zM5.41 20L4 18.59l7.72-7.72 1.47 1.35L5.41 20z\"/>\n",
              "  </svg>\n",
              "      </button>\n",
              "      \n",
              "  <style>\n",
              "    .colab-df-container {\n",
              "      display:flex;\n",
              "      flex-wrap:wrap;\n",
              "      gap: 12px;\n",
              "    }\n",
              "\n",
              "    .colab-df-convert {\n",
              "      background-color: #E8F0FE;\n",
              "      border: none;\n",
              "      border-radius: 50%;\n",
              "      cursor: pointer;\n",
              "      display: none;\n",
              "      fill: #1967D2;\n",
              "      height: 32px;\n",
              "      padding: 0 0 0 0;\n",
              "      width: 32px;\n",
              "    }\n",
              "\n",
              "    .colab-df-convert:hover {\n",
              "      background-color: #E2EBFA;\n",
              "      box-shadow: 0px 1px 2px rgba(60, 64, 67, 0.3), 0px 1px 3px 1px rgba(60, 64, 67, 0.15);\n",
              "      fill: #174EA6;\n",
              "    }\n",
              "\n",
              "    [theme=dark] .colab-df-convert {\n",
              "      background-color: #3B4455;\n",
              "      fill: #D2E3FC;\n",
              "    }\n",
              "\n",
              "    [theme=dark] .colab-df-convert:hover {\n",
              "      background-color: #434B5C;\n",
              "      box-shadow: 0px 1px 3px 1px rgba(0, 0, 0, 0.15);\n",
              "      filter: drop-shadow(0px 1px 2px rgba(0, 0, 0, 0.3));\n",
              "      fill: #FFFFFF;\n",
              "    }\n",
              "  </style>\n",
              "\n",
              "      <script>\n",
              "        const buttonEl =\n",
              "          document.querySelector('#df-fcaaa5d0-59de-416b-871e-5eb0025c3389 button.colab-df-convert');\n",
              "        buttonEl.style.display =\n",
              "          google.colab.kernel.accessAllowed ? 'block' : 'none';\n",
              "\n",
              "        async function convertToInteractive(key) {\n",
              "          const element = document.querySelector('#df-fcaaa5d0-59de-416b-871e-5eb0025c3389');\n",
              "          const dataTable =\n",
              "            await google.colab.kernel.invokeFunction('convertToInteractive',\n",
              "                                                     [key], {});\n",
              "          if (!dataTable) return;\n",
              "\n",
              "          const docLinkHtml = 'Like what you see? Visit the ' +\n",
              "            '<a target=\"_blank\" href=https://colab.research.google.com/notebooks/data_table.ipynb>data table notebook</a>'\n",
              "            + ' to learn more about interactive tables.';\n",
              "          element.innerHTML = '';\n",
              "          dataTable['output_type'] = 'display_data';\n",
              "          await google.colab.output.renderOutput(dataTable, element);\n",
              "          const docLink = document.createElement('div');\n",
              "          docLink.innerHTML = docLinkHtml;\n",
              "          element.appendChild(docLink);\n",
              "        }\n",
              "      </script>\n",
              "    </div>\n",
              "  </div>\n",
              "  "
            ],
            "text/plain": [
              "      movieid  rating  userid\n",
              "0         208       5    3902\n",
              "1        1089       4    2741\n",
              "2        1294       5    2691\n",
              "3        1333       5    3428\n",
              "4         531       4    3163\n",
              "...       ...     ...     ...\n",
              "4995     1615       3    4312\n",
              "4996     2527       3    2575\n",
              "4997     1258       5    4750\n",
              "4998     1036       3     655\n",
              "4999     1442       3    1059\n",
              "\n",
              "[5000 rows x 3 columns]"
            ]
          },
          "metadata": {},
          "execution_count": 204
        }
      ]
    },
    {
      "cell_type": "markdown",
      "metadata": {
        "id": "continent-travel"
      },
      "source": [
        "* Create a movie matrix by applying pivot table with the above retrieved ratings data\n",
        "\n",
        "* use `pd.pivot_table` with index = `userid`, columns = `movieid` and Values = `rating`\n",
        "\n",
        " **Hint:** create a dataframe with above retrieved ratings data to apply pivot table"
      ],
      "id": "continent-travel"
    },
    {
      "cell_type": "code",
      "metadata": {
        "id": "prospective-polls"
      },
      "source": [
        "# YOUR CODE HERE\n",
        "def get_ratings_pivot_table(session):\n",
        "    ratings_df = get_all_ratings(session)\n",
        "    pivot_table = ratings_df.pivot_table(values='rating',\n",
        "                                 index='userid',\n",
        "                                 columns='movieid',\n",
        "                                 fill_value=0)\n",
        "    return pivot_table"
      ],
      "id": "prospective-polls",
      "execution_count": null,
      "outputs": []
    },
    {
      "cell_type": "code",
      "source": [
        "get_ratings_pivot_table(session)"
      ],
      "metadata": {
        "colab": {
          "base_uri": "https://localhost:8080/",
          "height": 519
        },
        "id": "O-Fw6G3iJRZk",
        "outputId": "7b5fb60b-e481-4b5e-b197-e83c7390758b"
      },
      "id": "O-Fw6G3iJRZk",
      "execution_count": null,
      "outputs": [
        {
          "output_type": "execute_result",
          "data": {
            "text/html": [
              "\n",
              "  <div id=\"df-65f46f6f-17b6-4f24-a0d6-1be0cb9e66c1\">\n",
              "    <div class=\"colab-df-container\">\n",
              "      <div>\n",
              "<style scoped>\n",
              "    .dataframe tbody tr th:only-of-type {\n",
              "        vertical-align: middle;\n",
              "    }\n",
              "\n",
              "    .dataframe tbody tr th {\n",
              "        vertical-align: top;\n",
              "    }\n",
              "\n",
              "    .dataframe thead th {\n",
              "        text-align: right;\n",
              "    }\n",
              "</style>\n",
              "<table border=\"1\" class=\"dataframe\">\n",
              "  <thead>\n",
              "    <tr style=\"text-align: right;\">\n",
              "      <th>movieid</th>\n",
              "      <th>1</th>\n",
              "      <th>2</th>\n",
              "      <th>3</th>\n",
              "      <th>4</th>\n",
              "      <th>5</th>\n",
              "      <th>6</th>\n",
              "      <th>7</th>\n",
              "      <th>8</th>\n",
              "      <th>9</th>\n",
              "      <th>10</th>\n",
              "      <th>11</th>\n",
              "      <th>12</th>\n",
              "      <th>13</th>\n",
              "      <th>14</th>\n",
              "      <th>15</th>\n",
              "      <th>16</th>\n",
              "      <th>17</th>\n",
              "      <th>19</th>\n",
              "      <th>20</th>\n",
              "      <th>21</th>\n",
              "      <th>22</th>\n",
              "      <th>23</th>\n",
              "      <th>24</th>\n",
              "      <th>25</th>\n",
              "      <th>29</th>\n",
              "      <th>30</th>\n",
              "      <th>32</th>\n",
              "      <th>34</th>\n",
              "      <th>35</th>\n",
              "      <th>36</th>\n",
              "      <th>38</th>\n",
              "      <th>39</th>\n",
              "      <th>41</th>\n",
              "      <th>42</th>\n",
              "      <th>44</th>\n",
              "      <th>45</th>\n",
              "      <th>47</th>\n",
              "      <th>48</th>\n",
              "      <th>50</th>\n",
              "      <th>52</th>\n",
              "      <th>...</th>\n",
              "      <th>3835</th>\n",
              "      <th>3836</th>\n",
              "      <th>3837</th>\n",
              "      <th>3841</th>\n",
              "      <th>3844</th>\n",
              "      <th>3847</th>\n",
              "      <th>3859</th>\n",
              "      <th>3861</th>\n",
              "      <th>3862</th>\n",
              "      <th>3863</th>\n",
              "      <th>3868</th>\n",
              "      <th>3869</th>\n",
              "      <th>3872</th>\n",
              "      <th>3873</th>\n",
              "      <th>3877</th>\n",
              "      <th>3882</th>\n",
              "      <th>3889</th>\n",
              "      <th>3893</th>\n",
              "      <th>3895</th>\n",
              "      <th>3896</th>\n",
              "      <th>3897</th>\n",
              "      <th>3898</th>\n",
              "      <th>3900</th>\n",
              "      <th>3911</th>\n",
              "      <th>3915</th>\n",
              "      <th>3916</th>\n",
              "      <th>3917</th>\n",
              "      <th>3919</th>\n",
              "      <th>3921</th>\n",
              "      <th>3925</th>\n",
              "      <th>3926</th>\n",
              "      <th>3927</th>\n",
              "      <th>3929</th>\n",
              "      <th>3930</th>\n",
              "      <th>3932</th>\n",
              "      <th>3936</th>\n",
              "      <th>3947</th>\n",
              "      <th>3948</th>\n",
              "      <th>3949</th>\n",
              "      <th>3952</th>\n",
              "    </tr>\n",
              "    <tr>\n",
              "      <th>userid</th>\n",
              "      <th></th>\n",
              "      <th></th>\n",
              "      <th></th>\n",
              "      <th></th>\n",
              "      <th></th>\n",
              "      <th></th>\n",
              "      <th></th>\n",
              "      <th></th>\n",
              "      <th></th>\n",
              "      <th></th>\n",
              "      <th></th>\n",
              "      <th></th>\n",
              "      <th></th>\n",
              "      <th></th>\n",
              "      <th></th>\n",
              "      <th></th>\n",
              "      <th></th>\n",
              "      <th></th>\n",
              "      <th></th>\n",
              "      <th></th>\n",
              "      <th></th>\n",
              "      <th></th>\n",
              "      <th></th>\n",
              "      <th></th>\n",
              "      <th></th>\n",
              "      <th></th>\n",
              "      <th></th>\n",
              "      <th></th>\n",
              "      <th></th>\n",
              "      <th></th>\n",
              "      <th></th>\n",
              "      <th></th>\n",
              "      <th></th>\n",
              "      <th></th>\n",
              "      <th></th>\n",
              "      <th></th>\n",
              "      <th></th>\n",
              "      <th></th>\n",
              "      <th></th>\n",
              "      <th></th>\n",
              "      <th></th>\n",
              "      <th></th>\n",
              "      <th></th>\n",
              "      <th></th>\n",
              "      <th></th>\n",
              "      <th></th>\n",
              "      <th></th>\n",
              "      <th></th>\n",
              "      <th></th>\n",
              "      <th></th>\n",
              "      <th></th>\n",
              "      <th></th>\n",
              "      <th></th>\n",
              "      <th></th>\n",
              "      <th></th>\n",
              "      <th></th>\n",
              "      <th></th>\n",
              "      <th></th>\n",
              "      <th></th>\n",
              "      <th></th>\n",
              "      <th></th>\n",
              "      <th></th>\n",
              "      <th></th>\n",
              "      <th></th>\n",
              "      <th></th>\n",
              "      <th></th>\n",
              "      <th></th>\n",
              "      <th></th>\n",
              "      <th></th>\n",
              "      <th></th>\n",
              "      <th></th>\n",
              "      <th></th>\n",
              "      <th></th>\n",
              "      <th></th>\n",
              "      <th></th>\n",
              "      <th></th>\n",
              "      <th></th>\n",
              "      <th></th>\n",
              "      <th></th>\n",
              "      <th></th>\n",
              "      <th></th>\n",
              "    </tr>\n",
              "  </thead>\n",
              "  <tbody>\n",
              "    <tr>\n",
              "      <th>1</th>\n",
              "      <td>0</td>\n",
              "      <td>0</td>\n",
              "      <td>0</td>\n",
              "      <td>0</td>\n",
              "      <td>0</td>\n",
              "      <td>0</td>\n",
              "      <td>0</td>\n",
              "      <td>0</td>\n",
              "      <td>0</td>\n",
              "      <td>0</td>\n",
              "      <td>0</td>\n",
              "      <td>0</td>\n",
              "      <td>0</td>\n",
              "      <td>0</td>\n",
              "      <td>0</td>\n",
              "      <td>0</td>\n",
              "      <td>0</td>\n",
              "      <td>0</td>\n",
              "      <td>0</td>\n",
              "      <td>0</td>\n",
              "      <td>0</td>\n",
              "      <td>0</td>\n",
              "      <td>0</td>\n",
              "      <td>0</td>\n",
              "      <td>0</td>\n",
              "      <td>0</td>\n",
              "      <td>0</td>\n",
              "      <td>0</td>\n",
              "      <td>0</td>\n",
              "      <td>0</td>\n",
              "      <td>0</td>\n",
              "      <td>0</td>\n",
              "      <td>0</td>\n",
              "      <td>0</td>\n",
              "      <td>0</td>\n",
              "      <td>0</td>\n",
              "      <td>0</td>\n",
              "      <td>0</td>\n",
              "      <td>0</td>\n",
              "      <td>0</td>\n",
              "      <td>...</td>\n",
              "      <td>0</td>\n",
              "      <td>0</td>\n",
              "      <td>0</td>\n",
              "      <td>0</td>\n",
              "      <td>0</td>\n",
              "      <td>0</td>\n",
              "      <td>0</td>\n",
              "      <td>0</td>\n",
              "      <td>0</td>\n",
              "      <td>0</td>\n",
              "      <td>0</td>\n",
              "      <td>0</td>\n",
              "      <td>0</td>\n",
              "      <td>0</td>\n",
              "      <td>0</td>\n",
              "      <td>0</td>\n",
              "      <td>0</td>\n",
              "      <td>0</td>\n",
              "      <td>0</td>\n",
              "      <td>0</td>\n",
              "      <td>0</td>\n",
              "      <td>0</td>\n",
              "      <td>0</td>\n",
              "      <td>0</td>\n",
              "      <td>0</td>\n",
              "      <td>0</td>\n",
              "      <td>0</td>\n",
              "      <td>0</td>\n",
              "      <td>0</td>\n",
              "      <td>0</td>\n",
              "      <td>0</td>\n",
              "      <td>0</td>\n",
              "      <td>0</td>\n",
              "      <td>0</td>\n",
              "      <td>0</td>\n",
              "      <td>0</td>\n",
              "      <td>0</td>\n",
              "      <td>0</td>\n",
              "      <td>0</td>\n",
              "      <td>0</td>\n",
              "    </tr>\n",
              "    <tr>\n",
              "      <th>3</th>\n",
              "      <td>0</td>\n",
              "      <td>0</td>\n",
              "      <td>0</td>\n",
              "      <td>0</td>\n",
              "      <td>0</td>\n",
              "      <td>0</td>\n",
              "      <td>0</td>\n",
              "      <td>0</td>\n",
              "      <td>0</td>\n",
              "      <td>0</td>\n",
              "      <td>0</td>\n",
              "      <td>0</td>\n",
              "      <td>0</td>\n",
              "      <td>0</td>\n",
              "      <td>0</td>\n",
              "      <td>0</td>\n",
              "      <td>0</td>\n",
              "      <td>0</td>\n",
              "      <td>0</td>\n",
              "      <td>0</td>\n",
              "      <td>0</td>\n",
              "      <td>0</td>\n",
              "      <td>0</td>\n",
              "      <td>0</td>\n",
              "      <td>0</td>\n",
              "      <td>0</td>\n",
              "      <td>0</td>\n",
              "      <td>0</td>\n",
              "      <td>0</td>\n",
              "      <td>0</td>\n",
              "      <td>0</td>\n",
              "      <td>0</td>\n",
              "      <td>0</td>\n",
              "      <td>0</td>\n",
              "      <td>0</td>\n",
              "      <td>0</td>\n",
              "      <td>0</td>\n",
              "      <td>0</td>\n",
              "      <td>0</td>\n",
              "      <td>0</td>\n",
              "      <td>...</td>\n",
              "      <td>0</td>\n",
              "      <td>0</td>\n",
              "      <td>0</td>\n",
              "      <td>0</td>\n",
              "      <td>0</td>\n",
              "      <td>0</td>\n",
              "      <td>0</td>\n",
              "      <td>0</td>\n",
              "      <td>0</td>\n",
              "      <td>0</td>\n",
              "      <td>0</td>\n",
              "      <td>0</td>\n",
              "      <td>0</td>\n",
              "      <td>0</td>\n",
              "      <td>0</td>\n",
              "      <td>0</td>\n",
              "      <td>0</td>\n",
              "      <td>0</td>\n",
              "      <td>0</td>\n",
              "      <td>0</td>\n",
              "      <td>0</td>\n",
              "      <td>0</td>\n",
              "      <td>0</td>\n",
              "      <td>0</td>\n",
              "      <td>0</td>\n",
              "      <td>0</td>\n",
              "      <td>0</td>\n",
              "      <td>0</td>\n",
              "      <td>0</td>\n",
              "      <td>0</td>\n",
              "      <td>0</td>\n",
              "      <td>0</td>\n",
              "      <td>0</td>\n",
              "      <td>0</td>\n",
              "      <td>0</td>\n",
              "      <td>0</td>\n",
              "      <td>0</td>\n",
              "      <td>0</td>\n",
              "      <td>0</td>\n",
              "      <td>0</td>\n",
              "    </tr>\n",
              "    <tr>\n",
              "      <th>10</th>\n",
              "      <td>0</td>\n",
              "      <td>0</td>\n",
              "      <td>0</td>\n",
              "      <td>0</td>\n",
              "      <td>0</td>\n",
              "      <td>0</td>\n",
              "      <td>0</td>\n",
              "      <td>0</td>\n",
              "      <td>0</td>\n",
              "      <td>0</td>\n",
              "      <td>0</td>\n",
              "      <td>0</td>\n",
              "      <td>0</td>\n",
              "      <td>0</td>\n",
              "      <td>0</td>\n",
              "      <td>0</td>\n",
              "      <td>0</td>\n",
              "      <td>0</td>\n",
              "      <td>0</td>\n",
              "      <td>0</td>\n",
              "      <td>0</td>\n",
              "      <td>0</td>\n",
              "      <td>0</td>\n",
              "      <td>0</td>\n",
              "      <td>0</td>\n",
              "      <td>0</td>\n",
              "      <td>0</td>\n",
              "      <td>0</td>\n",
              "      <td>0</td>\n",
              "      <td>0</td>\n",
              "      <td>0</td>\n",
              "      <td>0</td>\n",
              "      <td>0</td>\n",
              "      <td>0</td>\n",
              "      <td>0</td>\n",
              "      <td>0</td>\n",
              "      <td>0</td>\n",
              "      <td>0</td>\n",
              "      <td>0</td>\n",
              "      <td>0</td>\n",
              "      <td>...</td>\n",
              "      <td>0</td>\n",
              "      <td>0</td>\n",
              "      <td>0</td>\n",
              "      <td>0</td>\n",
              "      <td>0</td>\n",
              "      <td>0</td>\n",
              "      <td>0</td>\n",
              "      <td>0</td>\n",
              "      <td>0</td>\n",
              "      <td>0</td>\n",
              "      <td>0</td>\n",
              "      <td>0</td>\n",
              "      <td>0</td>\n",
              "      <td>0</td>\n",
              "      <td>0</td>\n",
              "      <td>0</td>\n",
              "      <td>0</td>\n",
              "      <td>0</td>\n",
              "      <td>0</td>\n",
              "      <td>0</td>\n",
              "      <td>0</td>\n",
              "      <td>0</td>\n",
              "      <td>0</td>\n",
              "      <td>0</td>\n",
              "      <td>0</td>\n",
              "      <td>0</td>\n",
              "      <td>0</td>\n",
              "      <td>0</td>\n",
              "      <td>0</td>\n",
              "      <td>0</td>\n",
              "      <td>0</td>\n",
              "      <td>0</td>\n",
              "      <td>0</td>\n",
              "      <td>0</td>\n",
              "      <td>0</td>\n",
              "      <td>0</td>\n",
              "      <td>0</td>\n",
              "      <td>0</td>\n",
              "      <td>0</td>\n",
              "      <td>0</td>\n",
              "    </tr>\n",
              "    <tr>\n",
              "      <th>13</th>\n",
              "      <td>0</td>\n",
              "      <td>0</td>\n",
              "      <td>0</td>\n",
              "      <td>0</td>\n",
              "      <td>0</td>\n",
              "      <td>0</td>\n",
              "      <td>0</td>\n",
              "      <td>0</td>\n",
              "      <td>0</td>\n",
              "      <td>0</td>\n",
              "      <td>0</td>\n",
              "      <td>0</td>\n",
              "      <td>0</td>\n",
              "      <td>0</td>\n",
              "      <td>0</td>\n",
              "      <td>0</td>\n",
              "      <td>0</td>\n",
              "      <td>0</td>\n",
              "      <td>0</td>\n",
              "      <td>0</td>\n",
              "      <td>0</td>\n",
              "      <td>0</td>\n",
              "      <td>0</td>\n",
              "      <td>0</td>\n",
              "      <td>0</td>\n",
              "      <td>0</td>\n",
              "      <td>0</td>\n",
              "      <td>0</td>\n",
              "      <td>0</td>\n",
              "      <td>0</td>\n",
              "      <td>0</td>\n",
              "      <td>0</td>\n",
              "      <td>0</td>\n",
              "      <td>0</td>\n",
              "      <td>0</td>\n",
              "      <td>0</td>\n",
              "      <td>0</td>\n",
              "      <td>0</td>\n",
              "      <td>0</td>\n",
              "      <td>0</td>\n",
              "      <td>...</td>\n",
              "      <td>0</td>\n",
              "      <td>0</td>\n",
              "      <td>0</td>\n",
              "      <td>0</td>\n",
              "      <td>0</td>\n",
              "      <td>0</td>\n",
              "      <td>0</td>\n",
              "      <td>0</td>\n",
              "      <td>0</td>\n",
              "      <td>0</td>\n",
              "      <td>0</td>\n",
              "      <td>0</td>\n",
              "      <td>0</td>\n",
              "      <td>0</td>\n",
              "      <td>0</td>\n",
              "      <td>0</td>\n",
              "      <td>0</td>\n",
              "      <td>0</td>\n",
              "      <td>0</td>\n",
              "      <td>0</td>\n",
              "      <td>0</td>\n",
              "      <td>0</td>\n",
              "      <td>0</td>\n",
              "      <td>0</td>\n",
              "      <td>0</td>\n",
              "      <td>0</td>\n",
              "      <td>0</td>\n",
              "      <td>0</td>\n",
              "      <td>0</td>\n",
              "      <td>0</td>\n",
              "      <td>0</td>\n",
              "      <td>0</td>\n",
              "      <td>0</td>\n",
              "      <td>0</td>\n",
              "      <td>0</td>\n",
              "      <td>0</td>\n",
              "      <td>0</td>\n",
              "      <td>0</td>\n",
              "      <td>0</td>\n",
              "      <td>0</td>\n",
              "    </tr>\n",
              "    <tr>\n",
              "      <th>17</th>\n",
              "      <td>0</td>\n",
              "      <td>0</td>\n",
              "      <td>0</td>\n",
              "      <td>0</td>\n",
              "      <td>0</td>\n",
              "      <td>0</td>\n",
              "      <td>0</td>\n",
              "      <td>0</td>\n",
              "      <td>0</td>\n",
              "      <td>0</td>\n",
              "      <td>0</td>\n",
              "      <td>0</td>\n",
              "      <td>0</td>\n",
              "      <td>0</td>\n",
              "      <td>0</td>\n",
              "      <td>0</td>\n",
              "      <td>0</td>\n",
              "      <td>0</td>\n",
              "      <td>0</td>\n",
              "      <td>0</td>\n",
              "      <td>0</td>\n",
              "      <td>0</td>\n",
              "      <td>0</td>\n",
              "      <td>0</td>\n",
              "      <td>0</td>\n",
              "      <td>0</td>\n",
              "      <td>0</td>\n",
              "      <td>0</td>\n",
              "      <td>0</td>\n",
              "      <td>0</td>\n",
              "      <td>0</td>\n",
              "      <td>0</td>\n",
              "      <td>0</td>\n",
              "      <td>0</td>\n",
              "      <td>0</td>\n",
              "      <td>0</td>\n",
              "      <td>0</td>\n",
              "      <td>0</td>\n",
              "      <td>0</td>\n",
              "      <td>0</td>\n",
              "      <td>...</td>\n",
              "      <td>0</td>\n",
              "      <td>0</td>\n",
              "      <td>0</td>\n",
              "      <td>0</td>\n",
              "      <td>0</td>\n",
              "      <td>0</td>\n",
              "      <td>0</td>\n",
              "      <td>0</td>\n",
              "      <td>0</td>\n",
              "      <td>0</td>\n",
              "      <td>0</td>\n",
              "      <td>0</td>\n",
              "      <td>0</td>\n",
              "      <td>0</td>\n",
              "      <td>0</td>\n",
              "      <td>0</td>\n",
              "      <td>0</td>\n",
              "      <td>0</td>\n",
              "      <td>0</td>\n",
              "      <td>0</td>\n",
              "      <td>0</td>\n",
              "      <td>0</td>\n",
              "      <td>0</td>\n",
              "      <td>0</td>\n",
              "      <td>0</td>\n",
              "      <td>0</td>\n",
              "      <td>0</td>\n",
              "      <td>0</td>\n",
              "      <td>0</td>\n",
              "      <td>0</td>\n",
              "      <td>0</td>\n",
              "      <td>4</td>\n",
              "      <td>0</td>\n",
              "      <td>0</td>\n",
              "      <td>0</td>\n",
              "      <td>0</td>\n",
              "      <td>0</td>\n",
              "      <td>0</td>\n",
              "      <td>0</td>\n",
              "      <td>0</td>\n",
              "    </tr>\n",
              "    <tr>\n",
              "      <th>...</th>\n",
              "      <td>...</td>\n",
              "      <td>...</td>\n",
              "      <td>...</td>\n",
              "      <td>...</td>\n",
              "      <td>...</td>\n",
              "      <td>...</td>\n",
              "      <td>...</td>\n",
              "      <td>...</td>\n",
              "      <td>...</td>\n",
              "      <td>...</td>\n",
              "      <td>...</td>\n",
              "      <td>...</td>\n",
              "      <td>...</td>\n",
              "      <td>...</td>\n",
              "      <td>...</td>\n",
              "      <td>...</td>\n",
              "      <td>...</td>\n",
              "      <td>...</td>\n",
              "      <td>...</td>\n",
              "      <td>...</td>\n",
              "      <td>...</td>\n",
              "      <td>...</td>\n",
              "      <td>...</td>\n",
              "      <td>...</td>\n",
              "      <td>...</td>\n",
              "      <td>...</td>\n",
              "      <td>...</td>\n",
              "      <td>...</td>\n",
              "      <td>...</td>\n",
              "      <td>...</td>\n",
              "      <td>...</td>\n",
              "      <td>...</td>\n",
              "      <td>...</td>\n",
              "      <td>...</td>\n",
              "      <td>...</td>\n",
              "      <td>...</td>\n",
              "      <td>...</td>\n",
              "      <td>...</td>\n",
              "      <td>...</td>\n",
              "      <td>...</td>\n",
              "      <td>...</td>\n",
              "      <td>...</td>\n",
              "      <td>...</td>\n",
              "      <td>...</td>\n",
              "      <td>...</td>\n",
              "      <td>...</td>\n",
              "      <td>...</td>\n",
              "      <td>...</td>\n",
              "      <td>...</td>\n",
              "      <td>...</td>\n",
              "      <td>...</td>\n",
              "      <td>...</td>\n",
              "      <td>...</td>\n",
              "      <td>...</td>\n",
              "      <td>...</td>\n",
              "      <td>...</td>\n",
              "      <td>...</td>\n",
              "      <td>...</td>\n",
              "      <td>...</td>\n",
              "      <td>...</td>\n",
              "      <td>...</td>\n",
              "      <td>...</td>\n",
              "      <td>...</td>\n",
              "      <td>...</td>\n",
              "      <td>...</td>\n",
              "      <td>...</td>\n",
              "      <td>...</td>\n",
              "      <td>...</td>\n",
              "      <td>...</td>\n",
              "      <td>...</td>\n",
              "      <td>...</td>\n",
              "      <td>...</td>\n",
              "      <td>...</td>\n",
              "      <td>...</td>\n",
              "      <td>...</td>\n",
              "      <td>...</td>\n",
              "      <td>...</td>\n",
              "      <td>...</td>\n",
              "      <td>...</td>\n",
              "      <td>...</td>\n",
              "      <td>...</td>\n",
              "    </tr>\n",
              "    <tr>\n",
              "      <th>6035</th>\n",
              "      <td>0</td>\n",
              "      <td>0</td>\n",
              "      <td>0</td>\n",
              "      <td>0</td>\n",
              "      <td>0</td>\n",
              "      <td>0</td>\n",
              "      <td>0</td>\n",
              "      <td>0</td>\n",
              "      <td>0</td>\n",
              "      <td>0</td>\n",
              "      <td>0</td>\n",
              "      <td>0</td>\n",
              "      <td>0</td>\n",
              "      <td>0</td>\n",
              "      <td>0</td>\n",
              "      <td>0</td>\n",
              "      <td>0</td>\n",
              "      <td>0</td>\n",
              "      <td>0</td>\n",
              "      <td>0</td>\n",
              "      <td>0</td>\n",
              "      <td>0</td>\n",
              "      <td>0</td>\n",
              "      <td>0</td>\n",
              "      <td>0</td>\n",
              "      <td>0</td>\n",
              "      <td>0</td>\n",
              "      <td>0</td>\n",
              "      <td>0</td>\n",
              "      <td>0</td>\n",
              "      <td>0</td>\n",
              "      <td>0</td>\n",
              "      <td>0</td>\n",
              "      <td>0</td>\n",
              "      <td>0</td>\n",
              "      <td>0</td>\n",
              "      <td>0</td>\n",
              "      <td>0</td>\n",
              "      <td>0</td>\n",
              "      <td>0</td>\n",
              "      <td>...</td>\n",
              "      <td>0</td>\n",
              "      <td>0</td>\n",
              "      <td>0</td>\n",
              "      <td>0</td>\n",
              "      <td>0</td>\n",
              "      <td>0</td>\n",
              "      <td>0</td>\n",
              "      <td>0</td>\n",
              "      <td>0</td>\n",
              "      <td>0</td>\n",
              "      <td>0</td>\n",
              "      <td>0</td>\n",
              "      <td>0</td>\n",
              "      <td>0</td>\n",
              "      <td>0</td>\n",
              "      <td>0</td>\n",
              "      <td>0</td>\n",
              "      <td>0</td>\n",
              "      <td>0</td>\n",
              "      <td>0</td>\n",
              "      <td>0</td>\n",
              "      <td>0</td>\n",
              "      <td>0</td>\n",
              "      <td>0</td>\n",
              "      <td>0</td>\n",
              "      <td>0</td>\n",
              "      <td>0</td>\n",
              "      <td>0</td>\n",
              "      <td>0</td>\n",
              "      <td>0</td>\n",
              "      <td>0</td>\n",
              "      <td>0</td>\n",
              "      <td>0</td>\n",
              "      <td>0</td>\n",
              "      <td>0</td>\n",
              "      <td>0</td>\n",
              "      <td>0</td>\n",
              "      <td>0</td>\n",
              "      <td>0</td>\n",
              "      <td>0</td>\n",
              "    </tr>\n",
              "    <tr>\n",
              "      <th>6036</th>\n",
              "      <td>0</td>\n",
              "      <td>0</td>\n",
              "      <td>0</td>\n",
              "      <td>0</td>\n",
              "      <td>0</td>\n",
              "      <td>0</td>\n",
              "      <td>0</td>\n",
              "      <td>0</td>\n",
              "      <td>0</td>\n",
              "      <td>0</td>\n",
              "      <td>0</td>\n",
              "      <td>0</td>\n",
              "      <td>0</td>\n",
              "      <td>0</td>\n",
              "      <td>0</td>\n",
              "      <td>0</td>\n",
              "      <td>0</td>\n",
              "      <td>0</td>\n",
              "      <td>0</td>\n",
              "      <td>0</td>\n",
              "      <td>0</td>\n",
              "      <td>0</td>\n",
              "      <td>0</td>\n",
              "      <td>0</td>\n",
              "      <td>0</td>\n",
              "      <td>0</td>\n",
              "      <td>0</td>\n",
              "      <td>0</td>\n",
              "      <td>0</td>\n",
              "      <td>0</td>\n",
              "      <td>0</td>\n",
              "      <td>0</td>\n",
              "      <td>0</td>\n",
              "      <td>0</td>\n",
              "      <td>0</td>\n",
              "      <td>0</td>\n",
              "      <td>0</td>\n",
              "      <td>0</td>\n",
              "      <td>0</td>\n",
              "      <td>0</td>\n",
              "      <td>...</td>\n",
              "      <td>0</td>\n",
              "      <td>0</td>\n",
              "      <td>0</td>\n",
              "      <td>0</td>\n",
              "      <td>0</td>\n",
              "      <td>0</td>\n",
              "      <td>0</td>\n",
              "      <td>0</td>\n",
              "      <td>0</td>\n",
              "      <td>0</td>\n",
              "      <td>0</td>\n",
              "      <td>0</td>\n",
              "      <td>0</td>\n",
              "      <td>0</td>\n",
              "      <td>0</td>\n",
              "      <td>0</td>\n",
              "      <td>0</td>\n",
              "      <td>0</td>\n",
              "      <td>0</td>\n",
              "      <td>0</td>\n",
              "      <td>0</td>\n",
              "      <td>0</td>\n",
              "      <td>0</td>\n",
              "      <td>0</td>\n",
              "      <td>0</td>\n",
              "      <td>0</td>\n",
              "      <td>0</td>\n",
              "      <td>0</td>\n",
              "      <td>0</td>\n",
              "      <td>0</td>\n",
              "      <td>0</td>\n",
              "      <td>0</td>\n",
              "      <td>0</td>\n",
              "      <td>0</td>\n",
              "      <td>0</td>\n",
              "      <td>0</td>\n",
              "      <td>0</td>\n",
              "      <td>0</td>\n",
              "      <td>0</td>\n",
              "      <td>0</td>\n",
              "    </tr>\n",
              "    <tr>\n",
              "      <th>6037</th>\n",
              "      <td>0</td>\n",
              "      <td>0</td>\n",
              "      <td>0</td>\n",
              "      <td>0</td>\n",
              "      <td>0</td>\n",
              "      <td>0</td>\n",
              "      <td>0</td>\n",
              "      <td>0</td>\n",
              "      <td>0</td>\n",
              "      <td>0</td>\n",
              "      <td>0</td>\n",
              "      <td>0</td>\n",
              "      <td>0</td>\n",
              "      <td>0</td>\n",
              "      <td>0</td>\n",
              "      <td>0</td>\n",
              "      <td>0</td>\n",
              "      <td>0</td>\n",
              "      <td>0</td>\n",
              "      <td>0</td>\n",
              "      <td>0</td>\n",
              "      <td>0</td>\n",
              "      <td>0</td>\n",
              "      <td>0</td>\n",
              "      <td>0</td>\n",
              "      <td>0</td>\n",
              "      <td>0</td>\n",
              "      <td>0</td>\n",
              "      <td>0</td>\n",
              "      <td>0</td>\n",
              "      <td>0</td>\n",
              "      <td>0</td>\n",
              "      <td>0</td>\n",
              "      <td>0</td>\n",
              "      <td>0</td>\n",
              "      <td>0</td>\n",
              "      <td>0</td>\n",
              "      <td>0</td>\n",
              "      <td>0</td>\n",
              "      <td>0</td>\n",
              "      <td>...</td>\n",
              "      <td>0</td>\n",
              "      <td>0</td>\n",
              "      <td>0</td>\n",
              "      <td>0</td>\n",
              "      <td>0</td>\n",
              "      <td>0</td>\n",
              "      <td>0</td>\n",
              "      <td>0</td>\n",
              "      <td>0</td>\n",
              "      <td>0</td>\n",
              "      <td>0</td>\n",
              "      <td>0</td>\n",
              "      <td>0</td>\n",
              "      <td>0</td>\n",
              "      <td>0</td>\n",
              "      <td>0</td>\n",
              "      <td>0</td>\n",
              "      <td>0</td>\n",
              "      <td>0</td>\n",
              "      <td>0</td>\n",
              "      <td>0</td>\n",
              "      <td>0</td>\n",
              "      <td>0</td>\n",
              "      <td>0</td>\n",
              "      <td>0</td>\n",
              "      <td>0</td>\n",
              "      <td>0</td>\n",
              "      <td>0</td>\n",
              "      <td>0</td>\n",
              "      <td>0</td>\n",
              "      <td>0</td>\n",
              "      <td>0</td>\n",
              "      <td>0</td>\n",
              "      <td>0</td>\n",
              "      <td>0</td>\n",
              "      <td>0</td>\n",
              "      <td>0</td>\n",
              "      <td>0</td>\n",
              "      <td>0</td>\n",
              "      <td>0</td>\n",
              "    </tr>\n",
              "    <tr>\n",
              "      <th>6039</th>\n",
              "      <td>0</td>\n",
              "      <td>0</td>\n",
              "      <td>0</td>\n",
              "      <td>0</td>\n",
              "      <td>0</td>\n",
              "      <td>0</td>\n",
              "      <td>0</td>\n",
              "      <td>0</td>\n",
              "      <td>0</td>\n",
              "      <td>0</td>\n",
              "      <td>0</td>\n",
              "      <td>0</td>\n",
              "      <td>0</td>\n",
              "      <td>0</td>\n",
              "      <td>0</td>\n",
              "      <td>0</td>\n",
              "      <td>0</td>\n",
              "      <td>0</td>\n",
              "      <td>0</td>\n",
              "      <td>0</td>\n",
              "      <td>0</td>\n",
              "      <td>0</td>\n",
              "      <td>0</td>\n",
              "      <td>0</td>\n",
              "      <td>0</td>\n",
              "      <td>0</td>\n",
              "      <td>0</td>\n",
              "      <td>0</td>\n",
              "      <td>0</td>\n",
              "      <td>0</td>\n",
              "      <td>0</td>\n",
              "      <td>0</td>\n",
              "      <td>0</td>\n",
              "      <td>0</td>\n",
              "      <td>0</td>\n",
              "      <td>0</td>\n",
              "      <td>0</td>\n",
              "      <td>0</td>\n",
              "      <td>0</td>\n",
              "      <td>0</td>\n",
              "      <td>...</td>\n",
              "      <td>0</td>\n",
              "      <td>0</td>\n",
              "      <td>0</td>\n",
              "      <td>0</td>\n",
              "      <td>0</td>\n",
              "      <td>0</td>\n",
              "      <td>0</td>\n",
              "      <td>0</td>\n",
              "      <td>0</td>\n",
              "      <td>0</td>\n",
              "      <td>0</td>\n",
              "      <td>0</td>\n",
              "      <td>0</td>\n",
              "      <td>0</td>\n",
              "      <td>0</td>\n",
              "      <td>0</td>\n",
              "      <td>0</td>\n",
              "      <td>0</td>\n",
              "      <td>0</td>\n",
              "      <td>0</td>\n",
              "      <td>0</td>\n",
              "      <td>0</td>\n",
              "      <td>0</td>\n",
              "      <td>0</td>\n",
              "      <td>0</td>\n",
              "      <td>0</td>\n",
              "      <td>0</td>\n",
              "      <td>0</td>\n",
              "      <td>0</td>\n",
              "      <td>0</td>\n",
              "      <td>0</td>\n",
              "      <td>0</td>\n",
              "      <td>0</td>\n",
              "      <td>0</td>\n",
              "      <td>0</td>\n",
              "      <td>0</td>\n",
              "      <td>0</td>\n",
              "      <td>0</td>\n",
              "      <td>0</td>\n",
              "      <td>0</td>\n",
              "    </tr>\n",
              "    <tr>\n",
              "      <th>6040</th>\n",
              "      <td>0</td>\n",
              "      <td>0</td>\n",
              "      <td>0</td>\n",
              "      <td>0</td>\n",
              "      <td>0</td>\n",
              "      <td>0</td>\n",
              "      <td>0</td>\n",
              "      <td>0</td>\n",
              "      <td>0</td>\n",
              "      <td>0</td>\n",
              "      <td>0</td>\n",
              "      <td>0</td>\n",
              "      <td>0</td>\n",
              "      <td>0</td>\n",
              "      <td>0</td>\n",
              "      <td>0</td>\n",
              "      <td>0</td>\n",
              "      <td>0</td>\n",
              "      <td>0</td>\n",
              "      <td>0</td>\n",
              "      <td>0</td>\n",
              "      <td>0</td>\n",
              "      <td>0</td>\n",
              "      <td>0</td>\n",
              "      <td>0</td>\n",
              "      <td>0</td>\n",
              "      <td>0</td>\n",
              "      <td>0</td>\n",
              "      <td>0</td>\n",
              "      <td>0</td>\n",
              "      <td>0</td>\n",
              "      <td>0</td>\n",
              "      <td>0</td>\n",
              "      <td>0</td>\n",
              "      <td>0</td>\n",
              "      <td>0</td>\n",
              "      <td>0</td>\n",
              "      <td>0</td>\n",
              "      <td>0</td>\n",
              "      <td>0</td>\n",
              "      <td>...</td>\n",
              "      <td>0</td>\n",
              "      <td>0</td>\n",
              "      <td>0</td>\n",
              "      <td>0</td>\n",
              "      <td>0</td>\n",
              "      <td>0</td>\n",
              "      <td>0</td>\n",
              "      <td>0</td>\n",
              "      <td>0</td>\n",
              "      <td>0</td>\n",
              "      <td>0</td>\n",
              "      <td>0</td>\n",
              "      <td>0</td>\n",
              "      <td>0</td>\n",
              "      <td>0</td>\n",
              "      <td>0</td>\n",
              "      <td>0</td>\n",
              "      <td>0</td>\n",
              "      <td>0</td>\n",
              "      <td>0</td>\n",
              "      <td>0</td>\n",
              "      <td>0</td>\n",
              "      <td>0</td>\n",
              "      <td>0</td>\n",
              "      <td>0</td>\n",
              "      <td>0</td>\n",
              "      <td>0</td>\n",
              "      <td>0</td>\n",
              "      <td>0</td>\n",
              "      <td>0</td>\n",
              "      <td>0</td>\n",
              "      <td>0</td>\n",
              "      <td>0</td>\n",
              "      <td>0</td>\n",
              "      <td>0</td>\n",
              "      <td>0</td>\n",
              "      <td>0</td>\n",
              "      <td>0</td>\n",
              "      <td>0</td>\n",
              "      <td>0</td>\n",
              "    </tr>\n",
              "  </tbody>\n",
              "</table>\n",
              "<p>2674 rows × 1770 columns</p>\n",
              "</div>\n",
              "      <button class=\"colab-df-convert\" onclick=\"convertToInteractive('df-65f46f6f-17b6-4f24-a0d6-1be0cb9e66c1')\"\n",
              "              title=\"Convert this dataframe to an interactive table.\"\n",
              "              style=\"display:none;\">\n",
              "        \n",
              "  <svg xmlns=\"http://www.w3.org/2000/svg\" height=\"24px\"viewBox=\"0 0 24 24\"\n",
              "       width=\"24px\">\n",
              "    <path d=\"M0 0h24v24H0V0z\" fill=\"none\"/>\n",
              "    <path d=\"M18.56 5.44l.94 2.06.94-2.06 2.06-.94-2.06-.94-.94-2.06-.94 2.06-2.06.94zm-11 1L8.5 8.5l.94-2.06 2.06-.94-2.06-.94L8.5 2.5l-.94 2.06-2.06.94zm10 10l.94 2.06.94-2.06 2.06-.94-2.06-.94-.94-2.06-.94 2.06-2.06.94z\"/><path d=\"M17.41 7.96l-1.37-1.37c-.4-.4-.92-.59-1.43-.59-.52 0-1.04.2-1.43.59L10.3 9.45l-7.72 7.72c-.78.78-.78 2.05 0 2.83L4 21.41c.39.39.9.59 1.41.59.51 0 1.02-.2 1.41-.59l7.78-7.78 2.81-2.81c.8-.78.8-2.07 0-2.86zM5.41 20L4 18.59l7.72-7.72 1.47 1.35L5.41 20z\"/>\n",
              "  </svg>\n",
              "      </button>\n",
              "      \n",
              "  <style>\n",
              "    .colab-df-container {\n",
              "      display:flex;\n",
              "      flex-wrap:wrap;\n",
              "      gap: 12px;\n",
              "    }\n",
              "\n",
              "    .colab-df-convert {\n",
              "      background-color: #E8F0FE;\n",
              "      border: none;\n",
              "      border-radius: 50%;\n",
              "      cursor: pointer;\n",
              "      display: none;\n",
              "      fill: #1967D2;\n",
              "      height: 32px;\n",
              "      padding: 0 0 0 0;\n",
              "      width: 32px;\n",
              "    }\n",
              "\n",
              "    .colab-df-convert:hover {\n",
              "      background-color: #E2EBFA;\n",
              "      box-shadow: 0px 1px 2px rgba(60, 64, 67, 0.3), 0px 1px 3px 1px rgba(60, 64, 67, 0.15);\n",
              "      fill: #174EA6;\n",
              "    }\n",
              "\n",
              "    [theme=dark] .colab-df-convert {\n",
              "      background-color: #3B4455;\n",
              "      fill: #D2E3FC;\n",
              "    }\n",
              "\n",
              "    [theme=dark] .colab-df-convert:hover {\n",
              "      background-color: #434B5C;\n",
              "      box-shadow: 0px 1px 3px 1px rgba(0, 0, 0, 0.15);\n",
              "      filter: drop-shadow(0px 1px 2px rgba(0, 0, 0, 0.3));\n",
              "      fill: #FFFFFF;\n",
              "    }\n",
              "  </style>\n",
              "\n",
              "      <script>\n",
              "        const buttonEl =\n",
              "          document.querySelector('#df-65f46f6f-17b6-4f24-a0d6-1be0cb9e66c1 button.colab-df-convert');\n",
              "        buttonEl.style.display =\n",
              "          google.colab.kernel.accessAllowed ? 'block' : 'none';\n",
              "\n",
              "        async function convertToInteractive(key) {\n",
              "          const element = document.querySelector('#df-65f46f6f-17b6-4f24-a0d6-1be0cb9e66c1');\n",
              "          const dataTable =\n",
              "            await google.colab.kernel.invokeFunction('convertToInteractive',\n",
              "                                                     [key], {});\n",
              "          if (!dataTable) return;\n",
              "\n",
              "          const docLinkHtml = 'Like what you see? Visit the ' +\n",
              "            '<a target=\"_blank\" href=https://colab.research.google.com/notebooks/data_table.ipynb>data table notebook</a>'\n",
              "            + ' to learn more about interactive tables.';\n",
              "          element.innerHTML = '';\n",
              "          dataTable['output_type'] = 'display_data';\n",
              "          await google.colab.output.renderOutput(dataTable, element);\n",
              "          const docLink = document.createElement('div');\n",
              "          docLink.innerHTML = docLinkHtml;\n",
              "          element.appendChild(docLink);\n",
              "        }\n",
              "      </script>\n",
              "    </div>\n",
              "  </div>\n",
              "  "
            ],
            "text/plain": [
              "movieid  1     2     3     4     5     6     ...  3932  3936  3947  3948  3949  3952\n",
              "userid                                       ...                                    \n",
              "1           0     0     0     0     0     0  ...     0     0     0     0     0     0\n",
              "3           0     0     0     0     0     0  ...     0     0     0     0     0     0\n",
              "10          0     0     0     0     0     0  ...     0     0     0     0     0     0\n",
              "13          0     0     0     0     0     0  ...     0     0     0     0     0     0\n",
              "17          0     0     0     0     0     0  ...     0     0     0     0     0     0\n",
              "...       ...   ...   ...   ...   ...   ...  ...   ...   ...   ...   ...   ...   ...\n",
              "6035        0     0     0     0     0     0  ...     0     0     0     0     0     0\n",
              "6036        0     0     0     0     0     0  ...     0     0     0     0     0     0\n",
              "6037        0     0     0     0     0     0  ...     0     0     0     0     0     0\n",
              "6039        0     0     0     0     0     0  ...     0     0     0     0     0     0\n",
              "6040        0     0     0     0     0     0  ...     0     0     0     0     0     0\n",
              "\n",
              "[2674 rows x 1770 columns]"
            ]
          },
          "metadata": {},
          "execution_count": 216
        }
      ]
    },
    {
      "cell_type": "markdown",
      "metadata": {
        "id": "surgical-level"
      },
      "source": [
        "* Define a function named `recommend_movies()` which will take a movieid as argument and return the top 5 similar movieid's\n",
        "\n",
        "    * Considering the argument (movieid) as search item collect the particular row data\n",
        "    \n",
        "    * Using movie matrix calculate correlation between movie search Item data and all the remaining data\n",
        "    \n",
        "        * Hint: [corr_with()](https://pandas.pydata.org/docs/reference/api/pandas.DataFrame.corrwith.html)\n",
        "        \n",
        "    * Sort the result by ascending order and return the top 5 items"
      ],
      "id": "surgical-level"
    },
    {
      "cell_type": "code",
      "metadata": {
        "id": "excellent-perth"
      },
      "source": [
        "def recommend_movie(movieId):\n",
        "    # YOUR CODE HERE"
      ],
      "id": "excellent-perth",
      "execution_count": null,
      "outputs": []
    },
    {
      "cell_type": "markdown",
      "metadata": {
        "id": "afraid-ivory"
      },
      "source": [
        "* write a query to get MovieId of a Title (your choice) and the result MovieId as a search item by calling the above defined function"
      ],
      "id": "afraid-ivory"
    },
    {
      "cell_type": "code",
      "metadata": {
        "id": "damaged-starter"
      },
      "source": [
        "# YOUR CODE HERE"
      ],
      "id": "damaged-starter",
      "execution_count": null,
      "outputs": []
    },
    {
      "cell_type": "markdown",
      "metadata": {
        "id": "altered-testimony"
      },
      "source": [
        "* Now taking the resulf of top 5 items (MovieId's) write a query to retrieve the Movie title from movies table"
      ],
      "id": "altered-testimony"
    },
    {
      "cell_type": "code",
      "metadata": {
        "id": "knowing-keyboard"
      },
      "source": [
        "# YOUR CODE HERE"
      ],
      "id": "knowing-keyboard",
      "execution_count": null,
      "outputs": []
    }
  ]
}